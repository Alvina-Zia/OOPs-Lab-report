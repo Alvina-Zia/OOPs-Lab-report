{
 "cells": [
  {
   "cell_type": "markdown",
   "id": "ebb0a15e-ec80-448a-bebe-f30ec20dccc6",
   "metadata": {},
   "source": [
    "<h2 align=\"center\"><b><i><u>Name: Alvina Zia</u></i></b></h2 align=\"center\">\n",
    "<h2 align=\"center\"><b><i><u>Reg no: 23jzele0504</u></i></b></h2 align=\"center\">\n",
    "<h2 align=\"center\"><b><i><u>Semester: 3rd(section A)</u></i></b></h2 align=\"center\">\n",
    "<h2 align=\"center\"><b><i><u>Subject: OOPs & Data Structure</u></i></b></h2 align=\"center\">\n",
    "<h2 align=\"center\"><b><i><u>Lab: Lab no 03(lab work task)</u></i></b></h2 align=\"center\">\n",
    "<h2 align=\"center\"><b><i><u>Submitted to: Sir Irshad-ullah</u></i></b></h2 align=\"center\">"
   ]
  },
  {
   "cell_type": "markdown",
   "id": "7a4a9b92-1ad9-43bf-a1a6-1250a416ef76",
   "metadata": {},
   "source": [
    "***"
   ]
  },
  {
   "cell_type": "markdown",
   "id": "651e0c28",
   "metadata": {},
   "source": [
    "# Lab practice\n",
    "# list"
   ]
  },
  {
   "cell_type": "markdown",
   "id": "138223dc",
   "metadata": {},
   "source": [
    "1\n",
    "Make a list of 5 any integers"
   ]
  },
  {
   "cell_type": "code",
   "execution_count": 15,
   "id": "a0c26393",
   "metadata": {},
   "outputs": [],
   "source": [
    "y=[12,13,14,15,16]"
   ]
  },
  {
   "cell_type": "code",
   "execution_count": 17,
   "id": "982b65a2",
   "metadata": {},
   "outputs": [
    {
     "data": {
      "text/plain": [
       "[12, 13, 14, 15, 16]"
      ]
     },
     "execution_count": 17,
     "metadata": {},
     "output_type": "execute_result"
    }
   ],
   "source": [
    "y"
   ]
  },
  {
   "cell_type": "markdown",
   "id": "f87b53b0",
   "metadata": {},
   "source": [
    "2\n",
    "Make a list that contains the student's name, the last four digits of the registration number as an integer, CGPA as a float, and a list that contains the GPA of all semesters. (Nested List)"
   ]
  },
  {
   "cell_type": "code",
   "execution_count": 20,
   "id": "38e8916e",
   "metadata": {},
   "outputs": [
    {
     "name": "stdout",
     "output_type": "stream",
     "text": [
      "Alvin\n",
      "504\n",
      "3.94\n",
      "[3.96, 3.94, 4.0, 3.94, 3.96, 3.98, 3.96, 3.94]\n"
     ]
    }
   ],
   "source": [
    "student_info =  [\"Alvin\", 504, 3.94, [3.96, 3.94, 4.0, 3.94,3.96,3.98,3.96,3.94]]\n",
    "# Printing the nested list\n",
    "for student in student_info:\n",
    "    print(student)"
   ]
  },
  {
   "cell_type": "markdown",
   "id": "2767381c",
   "metadata": {},
   "source": [
    "3\n",
    " In the above list print the student's CGPA. (Index)"
   ]
  },
  {
   "cell_type": "code",
   "execution_count": 23,
   "id": "3d89c847",
   "metadata": {},
   "outputs": [
    {
     "data": {
      "text/plain": [
       "3.96"
      ]
     },
     "execution_count": 23,
     "metadata": {},
     "output_type": "execute_result"
    }
   ],
   "source": [
    "student_info[3][0]"
   ]
  },
  {
   "cell_type": "code",
   "execution_count": 25,
   "id": "fe758fc1",
   "metadata": {},
   "outputs": [
    {
     "data": {
      "text/plain": [
       "3.94"
      ]
     },
     "execution_count": 25,
     "metadata": {},
     "output_type": "execute_result"
    }
   ],
   "source": [
    "student_info[3][1]"
   ]
  },
  {
   "cell_type": "code",
   "execution_count": 27,
   "id": "3be943f3",
   "metadata": {},
   "outputs": [
    {
     "data": {
      "text/plain": [
       "4.0"
      ]
     },
     "execution_count": 27,
     "metadata": {},
     "output_type": "execute_result"
    }
   ],
   "source": [
    "student_info[3][2]"
   ]
  },
  {
   "cell_type": "code",
   "execution_count": 29,
   "id": "5fc35b17",
   "metadata": {},
   "outputs": [
    {
     "data": {
      "text/plain": [
       "3.94"
      ]
     },
     "execution_count": 29,
     "metadata": {},
     "output_type": "execute_result"
    }
   ],
   "source": [
    "student_info[3][3]"
   ]
  },
  {
   "cell_type": "code",
   "execution_count": 31,
   "id": "7dcf389a",
   "metadata": {},
   "outputs": [
    {
     "data": {
      "text/plain": [
       "3.96"
      ]
     },
     "execution_count": 31,
     "metadata": {},
     "output_type": "execute_result"
    }
   ],
   "source": [
    "student_info[3][4]"
   ]
  },
  {
   "cell_type": "code",
   "execution_count": 33,
   "id": "382cc06e",
   "metadata": {},
   "outputs": [
    {
     "data": {
      "text/plain": [
       "3.98"
      ]
     },
     "execution_count": 33,
     "metadata": {},
     "output_type": "execute_result"
    }
   ],
   "source": [
    "student_info[3][5]"
   ]
  },
  {
   "cell_type": "code",
   "execution_count": 35,
   "id": "57da1b15",
   "metadata": {},
   "outputs": [
    {
     "data": {
      "text/plain": [
       "3.96"
      ]
     },
     "execution_count": 35,
     "metadata": {},
     "output_type": "execute_result"
    }
   ],
   "source": [
    "student_info[3][6]"
   ]
  },
  {
   "cell_type": "code",
   "execution_count": 37,
   "id": "0e36bcd4",
   "metadata": {},
   "outputs": [
    {
     "data": {
      "text/plain": [
       "3.94"
      ]
     },
     "execution_count": 37,
     "metadata": {},
     "output_type": "execute_result"
    }
   ],
   "source": [
    "student_info[3][7]"
   ]
  },
  {
   "cell_type": "markdown",
   "id": "52ce1db5",
   "metadata": {},
   "source": [
    "4\n",
    "Print the list elements using the while loop and use the length function. (len)"
   ]
  },
  {
   "cell_type": "code",
   "execution_count": 40,
   "id": "b546752d",
   "metadata": {},
   "outputs": [],
   "source": [
    "student_info =  [\"Alvin\", 504, 3.94, [3.96, 3.94, 4.0, 3.94,3.96,3.98,3.96,3.94]]"
   ]
  },
  {
   "cell_type": "code",
   "execution_count": 42,
   "id": "1df497aa",
   "metadata": {},
   "outputs": [
    {
     "name": "stdout",
     "output_type": "stream",
     "text": [
      "Alvin\n",
      "504\n",
      "3.94\n",
      "[3.96, 3.94, 4.0, 3.94, 3.96, 3.98, 3.96, 3.94]\n"
     ]
    }
   ],
   "source": [
    "count = 0\n",
    "while count < 4:\n",
    "    print(student_info[count])\n",
    "    count += 1"
   ]
  },
  {
   "cell_type": "code",
   "execution_count": 44,
   "id": "e38b5ade",
   "metadata": {},
   "outputs": [
    {
     "data": {
      "text/plain": [
       "4"
      ]
     },
     "execution_count": 44,
     "metadata": {},
     "output_type": "execute_result"
    }
   ],
   "source": [
    "len(student_info)"
   ]
  },
  {
   "cell_type": "markdown",
   "id": "61c88593",
   "metadata": {},
   "source": [
    "5\n",
    "Access the list of all semester GPAs using negative indexing."
   ]
  },
  {
   "cell_type": "code",
   "execution_count": 47,
   "id": "65f564bd",
   "metadata": {},
   "outputs": [
    {
     "data": {
      "text/plain": [
       "3.94"
      ]
     },
     "execution_count": 47,
     "metadata": {},
     "output_type": "execute_result"
    }
   ],
   "source": [
    "student_info[3][-1]"
   ]
  },
  {
   "cell_type": "code",
   "execution_count": 49,
   "id": "eaa6513e",
   "metadata": {},
   "outputs": [
    {
     "data": {
      "text/plain": [
       "3.96"
      ]
     },
     "execution_count": 49,
     "metadata": {},
     "output_type": "execute_result"
    }
   ],
   "source": [
    "student_info[3][-2]"
   ]
  },
  {
   "cell_type": "code",
   "execution_count": 51,
   "id": "6006cf65",
   "metadata": {},
   "outputs": [
    {
     "data": {
      "text/plain": [
       "3.98"
      ]
     },
     "execution_count": 51,
     "metadata": {},
     "output_type": "execute_result"
    }
   ],
   "source": [
    "student_info[3][-3]"
   ]
  },
  {
   "cell_type": "code",
   "execution_count": 53,
   "id": "d0c9f186",
   "metadata": {},
   "outputs": [
    {
     "data": {
      "text/plain": [
       "3.96"
      ]
     },
     "execution_count": 53,
     "metadata": {},
     "output_type": "execute_result"
    }
   ],
   "source": [
    "student_info[3][-4]\n"
   ]
  },
  {
   "cell_type": "code",
   "execution_count": 55,
   "id": "96e3194b",
   "metadata": {},
   "outputs": [
    {
     "data": {
      "text/plain": [
       "3.94"
      ]
     },
     "execution_count": 55,
     "metadata": {},
     "output_type": "execute_result"
    }
   ],
   "source": [
    "student_info[3][-5]"
   ]
  },
  {
   "cell_type": "code",
   "execution_count": 57,
   "id": "abde37ca",
   "metadata": {},
   "outputs": [
    {
     "data": {
      "text/plain": [
       "4.0"
      ]
     },
     "execution_count": 57,
     "metadata": {},
     "output_type": "execute_result"
    }
   ],
   "source": [
    "student_info[3][-6]"
   ]
  },
  {
   "cell_type": "code",
   "execution_count": 59,
   "id": "1f2d0955",
   "metadata": {},
   "outputs": [
    {
     "data": {
      "text/plain": [
       "3.94"
      ]
     },
     "execution_count": 59,
     "metadata": {},
     "output_type": "execute_result"
    }
   ],
   "source": [
    "student_info[3][-7]"
   ]
  },
  {
   "cell_type": "code",
   "execution_count": 61,
   "id": "3ea0b3f5",
   "metadata": {},
   "outputs": [
    {
     "data": {
      "text/plain": [
       "3.96"
      ]
     },
     "execution_count": 61,
     "metadata": {},
     "output_type": "execute_result"
    }
   ],
   "source": [
    "student_info[3][-8]"
   ]
  },
  {
   "cell_type": "markdown",
   "id": "df707d8d",
   "metadata": {},
   "source": [
    "6\n",
    " Make a list of the first 20 integers using the range function."
   ]
  },
  {
   "cell_type": "code",
   "execution_count": 64,
   "id": "ea0febd2",
   "metadata": {},
   "outputs": [],
   "source": [
    "s=list(range(20))"
   ]
  },
  {
   "cell_type": "code",
   "execution_count": 66,
   "id": "761ca1cb",
   "metadata": {},
   "outputs": [
    {
     "name": "stdout",
     "output_type": "stream",
     "text": [
      "[0, 1, 2, 3, 4, 5, 6, 7, 8, 9, 10, 11, 12, 13, 14, 15, 16, 17, 18, 19]\n"
     ]
    }
   ],
   "source": [
    "print(s)"
   ]
  },
  {
   "cell_type": "markdown",
   "id": "9a4568f0",
   "metadata": {},
   "source": [
    "7\n",
    "Make a list of odd integers from 20 to 40 using the range function. "
   ]
  },
  {
   "cell_type": "code",
   "execution_count": 69,
   "id": "2247d413",
   "metadata": {},
   "outputs": [],
   "source": [
    "y=list(range(21,40,2))"
   ]
  },
  {
   "cell_type": "code",
   "execution_count": 71,
   "id": "ab7b9e6e",
   "metadata": {},
   "outputs": [
    {
     "data": {
      "text/plain": [
       "[21, 23, 25, 27, 29, 31, 33, 35, 37, 39]"
      ]
     },
     "execution_count": 71,
     "metadata": {},
     "output_type": "execute_result"
    }
   ],
   "source": [
    "y"
   ]
  },
  {
   "cell_type": "markdown",
   "id": "b9549803",
   "metadata": {},
   "source": [
    "8\n",
    "Consider the student list.Student = [Ibrahim, Husain, Irfan, Ayub, Usman]Use in and not in operators to ensure that the student is in the list or not."
   ]
  },
  {
   "cell_type": "code",
   "execution_count": 74,
   "id": "163cda54",
   "metadata": {},
   "outputs": [],
   "source": [
    "Student = [\"Ibrahim\", \"Husain\", \"Irfan\", \"Ayub\", \"Usman\"]"
   ]
  },
  {
   "cell_type": "code",
   "execution_count": 76,
   "id": "9795863e",
   "metadata": {},
   "outputs": [
    {
     "data": {
      "text/plain": [
       "True"
      ]
     },
     "execution_count": 76,
     "metadata": {},
     "output_type": "execute_result"
    }
   ],
   "source": [
    "\"Ibrahim\" in Student"
   ]
  },
  {
   "cell_type": "code",
   "execution_count": 78,
   "id": "b40973bc",
   "metadata": {},
   "outputs": [
    {
     "data": {
      "text/plain": [
       "True"
      ]
     },
     "execution_count": 78,
     "metadata": {},
     "output_type": "execute_result"
    }
   ],
   "source": [
    "\"Husain\" in Student"
   ]
  },
  {
   "cell_type": "code",
   "execution_count": 80,
   "id": "866902b8",
   "metadata": {},
   "outputs": [
    {
     "data": {
      "text/plain": [
       "False"
      ]
     },
     "execution_count": 80,
     "metadata": {},
     "output_type": "execute_result"
    }
   ],
   "source": [
    "\"Ayub\" not in Student"
   ]
  },
  {
   "cell_type": "markdown",
   "id": "af60aee5",
   "metadata": {},
   "source": [
    "9\n",
    "Print all the student lists in task 8 using the for loop."
   ]
  },
  {
   "cell_type": "code",
   "execution_count": 83,
   "id": "38841292",
   "metadata": {},
   "outputs": [],
   "source": [
    "Student = [\"Ibrahim\", \"Husain\", \"Irfan\", \"Ayub\", \"Usman\"]"
   ]
  },
  {
   "cell_type": "code",
   "execution_count": 85,
   "id": "0fe1a312",
   "metadata": {},
   "outputs": [
    {
     "name": "stdout",
     "output_type": "stream",
     "text": [
      "Ibrahim\n",
      "Husain\n",
      "Irfan\n",
      "Ayub\n",
      "Usman\n"
     ]
    }
   ],
   "source": [
    "for Student in Student:\n",
    "    print(Student)"
   ]
  },
  {
   "cell_type": "markdown",
   "id": "c3355f17",
   "metadata": {},
   "source": [
    "10\n",
    " Observe what is print, what is the first thing print, what the last thing print. Consider task 8 for the student list. Student [1:3] and student [2:4]"
   ]
  },
  {
   "cell_type": "code",
   "execution_count": 88,
   "id": "077f8c4e",
   "metadata": {},
   "outputs": [],
   "source": [
    "Student = [\"Ibrahim\", \"Husain\", \"Irfan\", \"Ayub\", \"Usman\"]"
   ]
  },
  {
   "cell_type": "code",
   "execution_count": 90,
   "id": "7941dc08",
   "metadata": {},
   "outputs": [
    {
     "data": {
      "text/plain": [
       "['Husain', 'Irfan']"
      ]
     },
     "execution_count": 90,
     "metadata": {},
     "output_type": "execute_result"
    }
   ],
   "source": [
    "Student[1:3]"
   ]
  },
  {
   "cell_type": "code",
   "execution_count": 92,
   "id": "079eb87b",
   "metadata": {},
   "outputs": [
    {
     "data": {
      "text/plain": [
       "['Irfan', 'Ayub']"
      ]
     },
     "execution_count": 92,
     "metadata": {},
     "output_type": "execute_result"
    }
   ],
   "source": [
    "Student[2:4]"
   ]
  },
  {
   "cell_type": "markdown",
   "id": "1725cf9a",
   "metadata": {},
   "source": [
    "11\n",
    "Make an appropriate list and use and demonstrate the use of the following mutatorMethods."
   ]
  },
  {
   "cell_type": "code",
   "execution_count": 95,
   "id": "0b672282",
   "metadata": {},
   "outputs": [],
   "source": [
    "Student = [\"Ibrahim\", \"Husain\", \"Irfan\", \"Ayub\", \"Usman\"]"
   ]
  },
  {
   "cell_type": "code",
   "execution_count": 97,
   "id": "981e3146",
   "metadata": {},
   "outputs": [],
   "source": [
    "Student.append(\"Ali\")"
   ]
  },
  {
   "cell_type": "code",
   "execution_count": 99,
   "id": "b75910e1",
   "metadata": {},
   "outputs": [
    {
     "data": {
      "text/plain": [
       "['Ibrahim', 'Husain', 'Irfan', 'Ayub', 'Usman', 'Ali']"
      ]
     },
     "execution_count": 99,
     "metadata": {},
     "output_type": "execute_result"
    }
   ],
   "source": [
    "Student"
   ]
  },
  {
   "cell_type": "code",
   "execution_count": 101,
   "id": "944832c8",
   "metadata": {},
   "outputs": [],
   "source": [
    "Student.extend([\"a\",\"b\",\"x\"])"
   ]
  },
  {
   "cell_type": "code",
   "execution_count": 103,
   "id": "3dfc68c3",
   "metadata": {},
   "outputs": [
    {
     "data": {
      "text/plain": [
       "['Ibrahim', 'Husain', 'Irfan', 'Ayub', 'Usman', 'Ali', 'a', 'b', 'x']"
      ]
     },
     "execution_count": 103,
     "metadata": {},
     "output_type": "execute_result"
    }
   ],
   "source": [
    "Student"
   ]
  },
  {
   "cell_type": "code",
   "execution_count": 105,
   "id": "e37d4ae9",
   "metadata": {},
   "outputs": [],
   "source": [
    "Student.insert(2,\"jill\")"
   ]
  },
  {
   "cell_type": "code",
   "execution_count": 107,
   "id": "a16c0861",
   "metadata": {},
   "outputs": [
    {
     "data": {
      "text/plain": [
       "['Ibrahim', 'Husain', 'jill', 'Irfan', 'Ayub', 'Usman', 'Ali', 'a', 'b', 'x']"
      ]
     },
     "execution_count": 107,
     "metadata": {},
     "output_type": "execute_result"
    }
   ],
   "source": [
    "Student"
   ]
  },
  {
   "cell_type": "code",
   "execution_count": 109,
   "id": "9706c5d5",
   "metadata": {},
   "outputs": [],
   "source": [
    "Student.remove(\"Ayub\")"
   ]
  },
  {
   "cell_type": "code",
   "execution_count": 111,
   "id": "236b500c",
   "metadata": {},
   "outputs": [
    {
     "data": {
      "text/plain": [
       "['Ibrahim', 'Husain', 'jill', 'Irfan', 'Usman', 'Ali', 'a', 'b', 'x']"
      ]
     },
     "execution_count": 111,
     "metadata": {},
     "output_type": "execute_result"
    }
   ],
   "source": [
    "Student"
   ]
  },
  {
   "cell_type": "code",
   "execution_count": 113,
   "id": "c2459758",
   "metadata": {},
   "outputs": [
    {
     "data": {
      "text/plain": [
       "'x'"
      ]
     },
     "execution_count": 113,
     "metadata": {},
     "output_type": "execute_result"
    }
   ],
   "source": [
    "Student.pop()"
   ]
  },
  {
   "cell_type": "code",
   "execution_count": 115,
   "id": "33bb1d13",
   "metadata": {},
   "outputs": [
    {
     "data": {
      "text/plain": [
       "['Ibrahim', 'Husain', 'jill', 'Irfan', 'Usman', 'Ali', 'a', 'b']"
      ]
     },
     "execution_count": 115,
     "metadata": {},
     "output_type": "execute_result"
    }
   ],
   "source": [
    "Student"
   ]
  },
  {
   "cell_type": "markdown",
   "id": "b7953b67",
   "metadata": {},
   "source": [
    "12\n",
    "Use list inducing in the following nested list and access each and every element. x = [\"a\", [\"bb\", [\"ccc\", \"ddd\"], \"ee\", \"ff\"], \"g\", [\"hh\", \"ii\"], \"j\"]"
   ]
  },
  {
   "cell_type": "code",
   "execution_count": 118,
   "id": "b55c115f",
   "metadata": {},
   "outputs": [],
   "source": [
    "x = [\"a\", [\"bb\", [\"ccc\", \"ddd\"], \"ee\", \"ff\"], \"g\", [\"hh\", \"ii\"], \"j\"]"
   ]
  },
  {
   "cell_type": "code",
   "execution_count": 120,
   "id": "faefdc8d",
   "metadata": {},
   "outputs": [
    {
     "data": {
      "text/plain": [
       "'a'"
      ]
     },
     "execution_count": 120,
     "metadata": {},
     "output_type": "execute_result"
    }
   ],
   "source": [
    "x[0]"
   ]
  },
  {
   "cell_type": "code",
   "execution_count": 122,
   "id": "7b69f59a",
   "metadata": {},
   "outputs": [
    {
     "data": {
      "text/plain": [
       "['bb', ['ccc', 'ddd'], 'ee', 'ff']"
      ]
     },
     "execution_count": 122,
     "metadata": {},
     "output_type": "execute_result"
    }
   ],
   "source": [
    "x[1]"
   ]
  },
  {
   "cell_type": "code",
   "execution_count": 124,
   "id": "3dc47593",
   "metadata": {},
   "outputs": [
    {
     "data": {
      "text/plain": [
       "'g'"
      ]
     },
     "execution_count": 124,
     "metadata": {},
     "output_type": "execute_result"
    }
   ],
   "source": [
    "x[2]"
   ]
  },
  {
   "cell_type": "code",
   "execution_count": 126,
   "id": "ecdc22d0",
   "metadata": {},
   "outputs": [
    {
     "data": {
      "text/plain": [
       "['hh', 'ii']"
      ]
     },
     "execution_count": 126,
     "metadata": {},
     "output_type": "execute_result"
    }
   ],
   "source": [
    "x[3]"
   ]
  },
  {
   "cell_type": "code",
   "execution_count": 128,
   "id": "3fe83356",
   "metadata": {},
   "outputs": [
    {
     "data": {
      "text/plain": [
       "'j'"
      ]
     },
     "execution_count": 128,
     "metadata": {},
     "output_type": "execute_result"
    }
   ],
   "source": [
    "x[4]"
   ]
  },
  {
   "cell_type": "code",
   "execution_count": 130,
   "id": "b33ff442",
   "metadata": {},
   "outputs": [
    {
     "data": {
      "text/plain": [
       "'bb'"
      ]
     },
     "execution_count": 130,
     "metadata": {},
     "output_type": "execute_result"
    }
   ],
   "source": [
    "x[1][0]"
   ]
  },
  {
   "cell_type": "code",
   "execution_count": 132,
   "id": "e753cd75",
   "metadata": {},
   "outputs": [
    {
     "data": {
      "text/plain": [
       "'bb'"
      ]
     },
     "execution_count": 132,
     "metadata": {},
     "output_type": "execute_result"
    }
   ],
   "source": [
    "x[1][0]"
   ]
  },
  {
   "cell_type": "code",
   "execution_count": 134,
   "id": "98005f77",
   "metadata": {},
   "outputs": [
    {
     "data": {
      "text/plain": [
       "['ccc', 'ddd']"
      ]
     },
     "execution_count": 134,
     "metadata": {},
     "output_type": "execute_result"
    }
   ],
   "source": [
    "x[1][1]"
   ]
  },
  {
   "cell_type": "code",
   "execution_count": 136,
   "id": "6d869ba3",
   "metadata": {},
   "outputs": [
    {
     "data": {
      "text/plain": [
       "'ee'"
      ]
     },
     "execution_count": 136,
     "metadata": {},
     "output_type": "execute_result"
    }
   ],
   "source": [
    "x[1][2]"
   ]
  },
  {
   "cell_type": "code",
   "execution_count": 138,
   "id": "94c94f2b",
   "metadata": {},
   "outputs": [
    {
     "data": {
      "text/plain": [
       "'ff'"
      ]
     },
     "execution_count": 138,
     "metadata": {},
     "output_type": "execute_result"
    }
   ],
   "source": [
    "x[1][3]"
   ]
  },
  {
   "cell_type": "code",
   "execution_count": 140,
   "id": "9256cedd",
   "metadata": {},
   "outputs": [
    {
     "data": {
      "text/plain": [
       "'hh'"
      ]
     },
     "execution_count": 140,
     "metadata": {},
     "output_type": "execute_result"
    }
   ],
   "source": [
    "x[3][0]"
   ]
  },
  {
   "cell_type": "code",
   "execution_count": 142,
   "id": "4d4d888d",
   "metadata": {},
   "outputs": [
    {
     "data": {
      "text/plain": [
       "'ii'"
      ]
     },
     "execution_count": 142,
     "metadata": {},
     "output_type": "execute_result"
    }
   ],
   "source": [
    "x[3][1]"
   ]
  },
  {
   "cell_type": "markdown",
   "id": "aa761317",
   "metadata": {},
   "source": [
    "# Tuple"
   ]
  },
  {
   "cell_type": "markdown",
   "id": "bd77d4d3",
   "metadata": {},
   "source": [
    "1\n",
    " Make a tuple containing first five letters of English. (definition)\n"
   ]
  },
  {
   "cell_type": "code",
   "execution_count": 162,
   "id": "7c8031dd",
   "metadata": {},
   "outputs": [],
   "source": [
    "h=(\"E\",\"N\",\"G\",\"L\",\"I\",\"S\",\"H\")"
   ]
  },
  {
   "cell_type": "code",
   "execution_count": 164,
   "id": "5d4bbc0a",
   "metadata": {},
   "outputs": [
    {
     "data": {
      "text/plain": [
       "('E', 'N', 'G', 'L', 'I', 'S', 'H')"
      ]
     },
     "execution_count": 164,
     "metadata": {},
     "output_type": "execute_result"
    }
   ],
   "source": [
    "h"
   ]
  },
  {
   "cell_type": "markdown",
   "id": "97337916",
   "metadata": {},
   "source": [
    "2\n",
    " Use the index to access the third and last element."
   ]
  },
  {
   "cell_type": "code",
   "execution_count": 167,
   "id": "369d6b81",
   "metadata": {},
   "outputs": [
    {
     "data": {
      "text/plain": [
       "'G'"
      ]
     },
     "execution_count": 167,
     "metadata": {},
     "output_type": "execute_result"
    }
   ],
   "source": [
    "h[2]"
   ]
  },
  {
   "cell_type": "code",
   "execution_count": 169,
   "id": "0ca57f69",
   "metadata": {},
   "outputs": [
    {
     "data": {
      "text/plain": [
       "'H'"
      ]
     },
     "execution_count": 169,
     "metadata": {},
     "output_type": "execute_result"
    }
   ],
   "source": [
    "h[6]"
   ]
  },
  {
   "cell_type": "markdown",
   "id": "41553a8b",
   "metadata": {},
   "source": [
    "3\n",
    "Make an appropriate list and tuple and use different operations that will show that list is \n",
    "mutable and tuple is immutable. "
   ]
  },
  {
   "cell_type": "code",
   "execution_count": 172,
   "id": "84edbe46",
   "metadata": {},
   "outputs": [],
   "source": [
    "y=[1,2,3,4,5,6]"
   ]
  },
  {
   "cell_type": "code",
   "execution_count": 174,
   "id": "4fd5ec24",
   "metadata": {},
   "outputs": [
    {
     "data": {
      "text/plain": [
       "[1, 2, 3, 4, 5, 6]"
      ]
     },
     "execution_count": 174,
     "metadata": {},
     "output_type": "execute_result"
    }
   ],
   "source": [
    "y"
   ]
  },
  {
   "cell_type": "code",
   "execution_count": 176,
   "id": "28a539a5",
   "metadata": {},
   "outputs": [],
   "source": [
    "y[2]=8"
   ]
  },
  {
   "cell_type": "code",
   "execution_count": 178,
   "id": "e940d0fa",
   "metadata": {},
   "outputs": [
    {
     "data": {
      "text/plain": [
       "[1, 2, 8, 4, 5, 6]"
      ]
     },
     "execution_count": 178,
     "metadata": {},
     "output_type": "execute_result"
    }
   ],
   "source": [
    "y"
   ]
  },
  {
   "cell_type": "code",
   "execution_count": 180,
   "id": "84245560",
   "metadata": {},
   "outputs": [],
   "source": [
    "y=(\"kill\",\"hill\",\"world\")"
   ]
  },
  {
   "cell_type": "code",
   "execution_count": 182,
   "id": "0a13f7c1",
   "metadata": {},
   "outputs": [
    {
     "ename": "TypeError",
     "evalue": "'tuple' object does not support item assignment",
     "output_type": "error",
     "traceback": [
      "\u001b[1;31m---------------------------------------------------------------------------\u001b[0m",
      "\u001b[1;31mTypeError\u001b[0m                                 Traceback (most recent call last)",
      "Cell \u001b[1;32mIn[182], line 1\u001b[0m\n\u001b[1;32m----> 1\u001b[0m y[\u001b[38;5;241m2\u001b[39m]\u001b[38;5;241m=\u001b[39m\u001b[38;5;241m2\u001b[39m\n",
      "\u001b[1;31mTypeError\u001b[0m: 'tuple' object does not support item assignment"
     ]
    }
   ],
   "source": [
    "y[2]=2"
   ]
  },
  {
   "cell_type": "markdown",
   "id": "dee37c83",
   "metadata": {},
   "source": [
    "4\n",
    "Make a tuple num = (1, 2, 3, 4)."
   ]
  },
  {
   "cell_type": "markdown",
   "id": "150f0531-7255-4054-976a-456beb0722cd",
   "metadata": {},
   "source": [
    " a. Observe the output num[2] = 9"
   ]
  },
  {
   "cell_type": "code",
   "execution_count": 186,
   "id": "d93d82c7",
   "metadata": {},
   "outputs": [],
   "source": [
    "num=(1,2,3,4)"
   ]
  },
  {
   "cell_type": "code",
   "execution_count": 188,
   "id": "182eacda",
   "metadata": {},
   "outputs": [
    {
     "ename": "TypeError",
     "evalue": "'tuple' object does not support item assignment",
     "output_type": "error",
     "traceback": [
      "\u001b[1;31m---------------------------------------------------------------------------\u001b[0m",
      "\u001b[1;31mTypeError\u001b[0m                                 Traceback (most recent call last)",
      "Cell \u001b[1;32mIn[188], line 1\u001b[0m\n\u001b[1;32m----> 1\u001b[0m num[\u001b[38;5;241m2\u001b[39m]\u001b[38;5;241m=\u001b[39m\u001b[38;5;241m9\u001b[39m\n",
      "\u001b[1;31mTypeError\u001b[0m: 'tuple' object does not support item assignment"
     ]
    }
   ],
   "source": [
    "num[2]=9"
   ]
  },
  {
   "cell_type": "markdown",
   "id": "af82b5e4",
   "metadata": {},
   "source": [
    "# Dictionaries"
   ]
  },
  {
   "cell_type": "markdown",
   "id": "7ffa7b05",
   "metadata": {},
   "source": [
    "1\n",
    "Consider the following structure and observe. Fd= { ‘one’: ‘aik’, , ‘three’: ‘teen’, ‘ten’ : ‘das’, ‘fifteen’ : ‘pandra’}\n"
   ]
  },
  {
   "cell_type": "code",
   "execution_count": 328,
   "id": "0460b648",
   "metadata": {},
   "outputs": [],
   "source": [
    " Fd= { 'one': 'aik',\n",
    "      'three': 'teen', \n",
    "      'ten' : 'das', \n",
    "      'fifteen' : 'pandra'}"
   ]
  },
  {
   "cell_type": "markdown",
   "id": "bbcbbe34-13ac-43ea-9d3b-aba1777c8d82",
   "metadata": {},
   "source": [
    " Bracket type"
   ]
  },
  {
   "cell_type": "code",
   "execution_count": 331,
   "id": "45816aa2",
   "metadata": {},
   "outputs": [
    {
     "data": {
      "text/plain": [
       "dict"
      ]
     },
     "execution_count": 331,
     "metadata": {},
     "output_type": "execute_result"
    }
   ],
   "source": [
    "type(Fd)"
   ]
  },
  {
   "cell_type": "code",
   "execution_count": 333,
   "id": "60ad716f",
   "metadata": {},
   "outputs": [
    {
     "name": "stdout",
     "output_type": "stream",
     "text": [
      "{'one': 'aik', 'three': 'teen', 'ten': 'das', 'fifteen': 'pandra'}\n"
     ]
    }
   ],
   "source": [
    "print(Fd)"
   ]
  },
  {
   "cell_type": "code",
   "execution_count": 335,
   "id": "a0f54c25",
   "metadata": {},
   "outputs": [
    {
     "data": {
      "text/plain": [
       "'aik'"
      ]
     },
     "execution_count": 335,
     "metadata": {},
     "output_type": "execute_result"
    }
   ],
   "source": [
    "Fd['one']"
   ]
  },
  {
   "cell_type": "code",
   "execution_count": 337,
   "id": "a68a0e3f",
   "metadata": {},
   "outputs": [
    {
     "data": {
      "text/plain": [
       "'das'"
      ]
     },
     "execution_count": 337,
     "metadata": {},
     "output_type": "execute_result"
    }
   ],
   "source": [
    "Fd['ten']"
   ]
  },
  {
   "cell_type": "code",
   "execution_count": 339,
   "id": "0d71defb",
   "metadata": {},
   "outputs": [],
   "source": [
    "del Fd['three'] "
   ]
  },
  {
   "cell_type": "code",
   "execution_count": 341,
   "id": "f023b827",
   "metadata": {},
   "outputs": [
    {
     "name": "stdout",
     "output_type": "stream",
     "text": [
      "{'one': 'aik', 'ten': 'das', 'fifteen': 'pandra'}\n"
     ]
    }
   ],
   "source": [
    "print(Fd)"
   ]
  },
  {
   "cell_type": "code",
   "execution_count": 342,
   "id": "b640fd9a",
   "metadata": {},
   "outputs": [
    {
     "data": {
      "text/plain": [
       "3"
      ]
     },
     "execution_count": 342,
     "metadata": {},
     "output_type": "execute_result"
    }
   ],
   "source": [
    " len(Fd)"
   ]
  },
  {
   "cell_type": "markdown",
   "id": "2cd7b9a8-85f0-450a-ae59-77849d06aff7",
   "metadata": {},
   "source": [
    "Use the key method and print the list of keys."
   ]
  },
  {
   "cell_type": "code",
   "execution_count": 346,
   "id": "f5d54dca",
   "metadata": {},
   "outputs": [
    {
     "data": {
      "text/plain": [
       "['one', 'ten', 'fifteen']"
      ]
     },
     "execution_count": 346,
     "metadata": {},
     "output_type": "execute_result"
    }
   ],
   "source": [
    "list(Fd.keys())"
   ]
  },
  {
   "cell_type": "markdown",
   "id": "a024c1ef-e2d2-4c3f-994a-d7281f60e187",
   "metadata": {},
   "source": [
    "Use the value function to print the list of values."
   ]
  },
  {
   "cell_type": "code",
   "execution_count": 349,
   "id": "d570ed4d",
   "metadata": {},
   "outputs": [
    {
     "data": {
      "text/plain": [
       "['aik', 'das', 'pandra']"
      ]
     },
     "execution_count": 349,
     "metadata": {},
     "output_type": "execute_result"
    }
   ],
   "source": [
    "list(Fd.values())"
   ]
  },
  {
   "cell_type": "markdown",
   "id": "5ac03d78-b6d1-4c0c-9d71-22573ffeec02",
   "metadata": {},
   "source": [
    "Observe the output of Fd.items()."
   ]
  },
  {
   "cell_type": "code",
   "execution_count": 352,
   "id": "edb504de",
   "metadata": {},
   "outputs": [
    {
     "data": {
      "text/plain": [
       "[('one', 'aik'), ('ten', 'das'), ('fifteen', 'pandra')]"
      ]
     },
     "execution_count": 352,
     "metadata": {},
     "output_type": "execute_result"
    }
   ],
   "source": [
    "list(Fd.items())"
   ]
  },
  {
   "cell_type": "markdown",
   "id": "e39ca22c-8ec4-4029-95be-83963f46fa10",
   "metadata": {},
   "source": [
    " Observe the output Fd.has_key(‘one) and Fd.has_key(‘two’) and think where such \n",
    "type of output will help and required."
   ]
  },
  {
   "cell_type": "code",
   "execution_count": 355,
   "id": "f17ee670",
   "metadata": {},
   "outputs": [],
   "source": [
    "Fd = {\n",
    "    'one': 'aik',\n",
    "    'three': 'teen',\n",
    "    'ten': 'das',\n",
    "    'fifteen': 'pandra'\n",
    "}"
   ]
  },
  {
   "cell_type": "code",
   "execution_count": 357,
   "id": "ca191a1d",
   "metadata": {},
   "outputs": [],
   "source": [
    "x='one' in Fd  \n",
    "y='two' in Fd    "
   ]
  },
  {
   "cell_type": "code",
   "execution_count": 359,
   "id": "532184d7",
   "metadata": {},
   "outputs": [
    {
     "name": "stdout",
     "output_type": "stream",
     "text": [
      "True\n",
      "False\n"
     ]
    }
   ],
   "source": [
    "print(x)  \n",
    "print(y)  "
   ]
  },
  {
   "cell_type": "markdown",
   "id": "4ef98173-241d-4ab3-bee6-2868f4e01afb",
   "metadata": {},
   "source": [
    " To copy the dictionary, one may use one of the following. Verify by printing copy \n",
    "and alias."
   ]
  },
  {
   "cell_type": "code",
   "execution_count": 362,
   "id": "58fe2ad7",
   "metadata": {},
   "outputs": [
    {
     "data": {
      "text/plain": [
       "{'one': 'aik', 'three': 'teen', 'ten': 'das', 'fifteen': 'pandra'}"
      ]
     },
     "execution_count": 362,
     "metadata": {},
     "output_type": "execute_result"
    }
   ],
   "source": [
    "Fd.copy()"
   ]
  },
  {
   "cell_type": "code",
   "execution_count": 364,
   "id": "96805d5d",
   "metadata": {},
   "outputs": [],
   "source": [
    "alias=Fd"
   ]
  },
  {
   "cell_type": "code",
   "execution_count": 366,
   "id": "06033b4d",
   "metadata": {},
   "outputs": [
    {
     "data": {
      "text/plain": [
       "{'one': 'aik', 'three': 'teen', 'ten': 'das', 'fifteen': 'pandra'}"
      ]
     },
     "execution_count": 366,
     "metadata": {},
     "output_type": "execute_result"
    }
   ],
   "source": [
    "alias"
   ]
  },
  {
   "cell_type": "code",
   "execution_count": 368,
   "id": "7d10759e",
   "metadata": {},
   "outputs": [],
   "source": [
    " alias['three'] = 3"
   ]
  },
  {
   "cell_type": "code",
   "execution_count": 370,
   "id": "4daf2f03",
   "metadata": {},
   "outputs": [
    {
     "data": {
      "text/plain": [
       "{'one': 'aik', 'three': 3, 'ten': 'das', 'fifteen': 'pandra'}"
      ]
     },
     "execution_count": 370,
     "metadata": {},
     "output_type": "execute_result"
    }
   ],
   "source": [
    "alias"
   ]
  },
  {
   "cell_type": "code",
   "execution_count": 372,
   "id": "9d63728d",
   "metadata": {},
   "outputs": [
    {
     "name": "stdout",
     "output_type": "stream",
     "text": [
      "The system cannot find the file specified.\n"
     ]
    }
   ],
   "source": [
    " copy['three'] = 3"
   ]
  },
  {
   "cell_type": "code",
   "execution_count": 374,
   "id": "4e0f2768",
   "metadata": {},
   "outputs": [
    {
     "name": "stdout",
     "output_type": "stream",
     "text": [
      "The syntax of the command is incorrect.\n"
     ]
    }
   ],
   "source": [
    "copy"
   ]
  },
  {
   "cell_type": "markdown",
   "id": "f8c29e10-081d-43a1-99f7-79da99e63d07",
   "metadata": {},
   "source": [
    "2  Make an appropriate dictionary and use the following built-in function and observe the \n",
    "result. "
   ]
  },
  {
   "cell_type": "code",
   "execution_count": 397,
   "id": "ee4efb91",
   "metadata": {},
   "outputs": [],
   "source": [
    "Fd = {\n",
    "    'one': 'aik',\n",
    "    'three': 'teen',\n",
    "    'ten': 'das',\n",
    "    'fifteen': 'pandra'\n",
    "}"
   ]
  },
  {
   "cell_type": "code",
   "execution_count": 399,
   "id": "d86c29ee",
   "metadata": {},
   "outputs": [],
   "source": [
    "Fd.clear()"
   ]
  },
  {
   "cell_type": "code",
   "execution_count": 401,
   "id": "f3c32865",
   "metadata": {},
   "outputs": [
    {
     "data": {
      "text/plain": [
       "{}"
      ]
     },
     "execution_count": 401,
     "metadata": {},
     "output_type": "execute_result"
    }
   ],
   "source": [
    "Fd"
   ]
  },
  {
   "cell_type": "code",
   "execution_count": 403,
   "id": "67ca9e5d",
   "metadata": {},
   "outputs": [
    {
     "name": "stdout",
     "output_type": "stream",
     "text": [
      "None\n"
     ]
    }
   ],
   "source": [
    "print(Fd.get('one'))"
   ]
  },
  {
   "cell_type": "code",
   "execution_count": 405,
   "id": "f74e04c5",
   "metadata": {},
   "outputs": [
    {
     "name": "stdout",
     "output_type": "stream",
     "text": [
      "dict_items([])\n"
     ]
    }
   ],
   "source": [
    "print(Fd.items())"
   ]
  },
  {
   "cell_type": "code",
   "execution_count": 407,
   "id": "c06ae611",
   "metadata": {},
   "outputs": [
    {
     "name": "stdout",
     "output_type": "stream",
     "text": [
      "dict_keys([])\n"
     ]
    }
   ],
   "source": [
    "print(Fd.keys())"
   ]
  },
  {
   "cell_type": "code",
   "execution_count": 409,
   "id": "94eec04b",
   "metadata": {},
   "outputs": [
    {
     "name": "stdout",
     "output_type": "stream",
     "text": [
      "dict_values([])\n"
     ]
    }
   ],
   "source": [
    "print(Fd.values())"
   ]
  },
  {
   "cell_type": "markdown",
   "id": "f8ce704b",
   "metadata": {},
   "source": [
    "# list comprehension"
   ]
  },
  {
   "cell_type": "markdown",
   "id": "1076192d",
   "metadata": {},
   "source": [
    "a;\n",
    "Consider the following code and print the square. \n",
    "squares = []\n",
    "for x in range(10):\n",
    " squares.append(x * x)"
   ]
  },
  {
   "cell_type": "code",
   "execution_count": 413,
   "id": "f0872d9f",
   "metadata": {},
   "outputs": [],
   "source": [
    "squares = []\n",
    "for x in range(10):\n",
    " squares.append(x * x)"
   ]
  },
  {
   "cell_type": "code",
   "execution_count": 415,
   "id": "935c3129",
   "metadata": {},
   "outputs": [
    {
     "data": {
      "text/plain": [
       "[0, 1, 4, 9, 16, 25, 36, 49, 64, 81]"
      ]
     },
     "execution_count": 415,
     "metadata": {},
     "output_type": "execute_result"
    }
   ],
   "source": [
    "squares"
   ]
  },
  {
   "cell_type": "markdown",
   "id": "79503676",
   "metadata": {},
   "source": [
    "b:\n",
    "Replace the above code with the following. Print the square. This sample one-line code is \n",
    "called list comprehension.\n",
    "squares = [x * x for x in range(10)]"
   ]
  },
  {
   "cell_type": "code",
   "execution_count": 418,
   "id": "a5964a61",
   "metadata": {},
   "outputs": [],
   "source": [
    "squares = [x * x for x in range(10)]"
   ]
  },
  {
   "cell_type": "code",
   "execution_count": 420,
   "id": "20ce17a5",
   "metadata": {},
   "outputs": [
    {
     "data": {
      "text/plain": [
       "[0, 1, 4, 9, 16, 25, 36, 49, 64, 81]"
      ]
     },
     "execution_count": 420,
     "metadata": {},
     "output_type": "execute_result"
    }
   ],
   "source": [
    "squares"
   ]
  },
  {
   "cell_type": "markdown",
   "id": "57c85448",
   "metadata": {},
   "source": [
    "c:\n",
    "Chane x*x by any function of x and observe the resulting list"
   ]
  },
  {
   "cell_type": "code",
   "execution_count": 423,
   "id": "2af6a048",
   "metadata": {},
   "outputs": [],
   "source": [
    "squares = [x **2 for x in range(10)]"
   ]
  },
  {
   "cell_type": "code",
   "execution_count": 425,
   "id": "6ade7550",
   "metadata": {},
   "outputs": [
    {
     "data": {
      "text/plain": [
       "[0, 1, 4, 9, 16, 25, 36, 49, 64, 81]"
      ]
     },
     "execution_count": 425,
     "metadata": {},
     "output_type": "execute_result"
    }
   ],
   "source": [
    "squares"
   ]
  },
  {
   "cell_type": "markdown",
   "id": "5425604d",
   "metadata": {},
   "source": [
    "d:\n",
    "List comprehensions can filter values based on some arbitrary condition that decides \n",
    "whether or not the resulting value becomes a part of the output list.\n",
    "even_squares = [x * x for x in range(10) if x % 2 == 0]\n",
    "1. The generalized syntax:\n",
    "values = [expression for item in collection if condition]"
   ]
  },
  {
   "cell_type": "code",
   "execution_count": 428,
   "id": "5fb12b30",
   "metadata": {},
   "outputs": [],
   "source": [
    "even_squares = [x * x for x in range(10) if x % 2 == 0]"
   ]
  },
  {
   "cell_type": "code",
   "execution_count": 430,
   "id": "24d924d5",
   "metadata": {},
   "outputs": [
    {
     "name": "stdout",
     "output_type": "stream",
     "text": [
      "[0, 4, 16, 36, 64]\n"
     ]
    }
   ],
   "source": [
    "print(even_squares)"
   ]
  },
  {
   "cell_type": "markdown",
   "id": "9dc50d02",
   "metadata": {},
   "source": [
    "e:\n",
    "This new list comprehension can be transformed into an equivalent for-loop:\n",
    "even_squares = []\n",
    "for x in range(10):\n",
    " if x % 2 == 0:\n",
    " even_squares.append(x * x)\n"
   ]
  },
  {
   "cell_type": "code",
   "execution_count": 441,
   "id": "bcfbf81d",
   "metadata": {},
   "outputs": [],
   "source": [
    "even_squares = []"
   ]
  },
  {
   "cell_type": "markdown",
   "id": "71c6dbc5",
   "metadata": {},
   "source": [
    "# dic comprehension\n",
    "1"
   ]
  },
  {
   "cell_type": "code",
   "execution_count": 444,
   "id": "c8566f19",
   "metadata": {},
   "outputs": [],
   "source": [
    "for x in range(10):\n",
    "     if x % 2 == 0:\n",
    "               even_squares.append(x * x)"
   ]
  },
  {
   "cell_type": "code",
   "execution_count": 446,
   "id": "76c11623",
   "metadata": {},
   "outputs": [
    {
     "data": {
      "text/plain": [
       "[0, 4, 16, 36, 64]"
      ]
     },
     "execution_count": 446,
     "metadata": {},
     "output_type": "execute_result"
    }
   ],
   "source": [
    "even_squares"
   ]
  },
  {
   "cell_type": "code",
   "execution_count": 448,
   "id": "fe236683",
   "metadata": {},
   "outputs": [
    {
     "data": {
      "text/plain": [
       "{0: 0, 1: 1, 2: 4, 3: 9, 4: 16}"
      ]
     },
     "execution_count": 448,
     "metadata": {},
     "output_type": "execute_result"
    }
   ],
   "source": [
    " { x: x * x for x in range(5) }"
   ]
  },
  {
   "cell_type": "markdown",
   "id": "4c6ddc8b-5e0c-407f-8407-5b55672ef2b5",
   "metadata": {},
   "source": [
    "2"
   ]
  },
  {
   "cell_type": "code",
   "execution_count": 280,
   "id": "f697400a",
   "metadata": {},
   "outputs": [
    {
     "name": "stdout",
     "output_type": "stream",
     "text": [
      "['Registration No', 'CLO1', 'CLO2', 'CLO3']\n",
      "['13KTELE0343', '8', '0', '14']\n",
      "['15KTELE0428', '16.5', '17.5', '20']\n",
      "['17KTELE0529', '16.5', '26.5', '17']\n",
      "['17KTELE0535', '14.5', '20.5', '21']\n",
      "['18JZELE0580', '8', '0', '0']\n",
      "['18KTELE0560', '13.5', '26', '20']\n",
      "['18KTELE0562', '27.5', '22.5', '12']\n",
      "['18KTELE0563', '18', '8.5', '6']\n",
      "['18KTELE0564', '27', '34', '23']\n",
      "['18KTELE0565', '20', '27.5', '16']\n",
      "['18KTELE0566', '19', '25.5', '19']\n",
      "['18KTELE0567', '25.5', '33.5', '19']\n",
      "['18KTELE0568', '19', '28', '3']\n",
      "['18KTELE0569', '8', '7.5', '5']\n",
      "['18KTELE0570', '15.5', '15.5', '8.5']\n",
      "['18KTELE0571', '20', '26.5', '14.5']\n",
      "['18KTELE0572', '25.5', '30', '1']\n",
      "['18KTELE0573', '22.5', '34', '13']\n",
      "['18KTELE0574', '20.5', '31', '17']\n",
      "['18KTELE0575', '18', '32.5', '14']\n",
      "['18KTELE0576', '21', '28.5', '15']\n",
      "['18KTELE0577', '26.5', '34.5', '25']\n",
      "['18KTELE0578', '17', '16.5', '7']\n",
      "['18KTELE0579', '22.5', '22.5', '10']\n",
      "['18KTELE0580', '23.5', '22', '21']\n",
      "['18KTELE0581', '23.5', '26', '19']\n",
      "['18KTELE0583', '24', '21', '16']\n",
      "['18KTELE0584', '19', '25', '17']\n",
      "['18KTELE0585', '17', '23', '18']\n",
      "['18KTELE0586', '19.5', '27', '18']\n",
      "['18KTELE0587', '24.5', '30', '21']\n",
      "['18KTELE0588', '30', '39', '18']\n"
     ]
    }
   ],
   "source": [
    "import csv\n",
    "with open(r'C:\\Users\\DELL\\Desktop\\UET\\2nd semester\\computer programming\\Result_CSV.csv', mode ='r')as file:\n",
    "    csvFile = csv.reader(file)\n",
    "    for lines in csvFile:\n",
    "        print(lines)"
   ]
  },
  {
   "cell_type": "code",
   "execution_count": null,
   "id": "6ff65722",
   "metadata": {},
   "outputs": [],
   "source": []
  },
  {
   "cell_type": "code",
   "execution_count": null,
   "id": "0528ed20-e0fe-425b-ba4a-9e2ce0604bbf",
   "metadata": {},
   "outputs": [],
   "source": []
  }
 ],
 "metadata": {
  "kernelspec": {
   "display_name": "Python 3 (ipykernel)",
   "language": "python",
   "name": "python3"
  },
  "language_info": {
   "codemirror_mode": {
    "name": "ipython",
    "version": 3
   },
   "file_extension": ".py",
   "mimetype": "text/x-python",
   "name": "python",
   "nbconvert_exporter": "python",
   "pygments_lexer": "ipython3",
   "version": "3.12.7"
  }
 },
 "nbformat": 4,
 "nbformat_minor": 5
}
