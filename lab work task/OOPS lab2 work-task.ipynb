{
 "cells": [
  {
   "cell_type": "markdown",
   "id": "3e5893e4-649f-4430-87d8-ca8e6201b226",
   "metadata": {},
   "source": [
    "<h2 align=\"center\"><b><i><u>Name: Alvina Zia</u></i></b></h2 align=\"center\">\n",
    "<h2 align=\"center\"><b><i><u>Reg no: 23jzele0504</u></i></b></h2 align=\"center\">\n",
    "<h2 align=\"center\"><b><i><u>Semester: 3rd(section A)</u></i></b></h2 align=\"center\">\n",
    "<h2 align=\"center\"><b><i><u>Subject: OOPs & Data Structure</u></i></b></h2 align=\"center\">\n",
    "<h2 align=\"center\"><b><i><u>Lab: Lab no 02(lab work task)</u></i></b></h2 align=\"center\">\n",
    "<h2 align=\"center\"><b><i><u>Submitted to: Sir Irshad-ullah</u></i></b></h2 align=\"center\">"
   ]
  },
  {
   "cell_type": "markdown",
   "id": "f74d8c45-a148-4038-8cd5-3c5c2a0e56a5",
   "metadata": {},
   "source": [
    "***"
   ]
  },
  {
   "cell_type": "markdown",
   "id": "876544a6",
   "metadata": {},
   "source": [
    "# Lab work tasks:"
   ]
  },
  {
   "cell_type": "markdown",
   "id": "84c3ebe0",
   "metadata": {},
   "source": [
    " Sting formatting:\n",
    " 1. Observe the output of the following if:\n",
    " errno = 50159747054 \n",
    "`name = 'Bob'"
   ]
  },
  {
   "cell_type": "markdown",
   "id": "b9c5d323",
   "metadata": {},
   "source": [
    "a. 'Hello, %s' % name"
   ]
  },
  {
   "cell_type": "code",
   "execution_count": 7,
   "id": "c577fe75",
   "metadata": {},
   "outputs": [],
   "source": [
    "errno = 50159747054 \n",
    "name = 'Bob'"
   ]
  },
  {
   "cell_type": "code",
   "execution_count": 9,
   "id": "b63582ce",
   "metadata": {},
   "outputs": [
    {
     "data": {
      "text/plain": [
       "'Hello, Bob'"
      ]
     },
     "execution_count": 9,
     "metadata": {},
     "output_type": "execute_result"
    }
   ],
   "source": [
    "'Hello, %s' % name"
   ]
  },
  {
   "cell_type": "markdown",
   "id": "1ddce4d0",
   "metadata": {},
   "source": [
    "b. 'Hey %s, there is a 0x%x error!' % (name, errno)\n"
   ]
  },
  {
   "cell_type": "code",
   "execution_count": 12,
   "id": "d8de3153",
   "metadata": {},
   "outputs": [],
   "source": [
    "errno = 50159747054 \n",
    "name = 'Bob'"
   ]
  },
  {
   "cell_type": "code",
   "execution_count": 14,
   "id": "56d8d7e3",
   "metadata": {},
   "outputs": [
    {
     "data": {
      "text/plain": [
       "'Hey Bob, there is a 0xbadc0ffee error!'"
      ]
     },
     "execution_count": 14,
     "metadata": {},
     "output_type": "execute_result"
    }
   ],
   "source": [
    "'Hey %s, there is a 0x%x error!' % (name, errno)"
   ]
  },
  {
   "cell_type": "markdown",
   "id": "3579854f",
   "metadata": {},
   "source": [
    "c. 'Hey %(name)s, there is a 0x%(errno)x error!' % { \"name\": name, \"errno\": errno }"
   ]
  },
  {
   "cell_type": "code",
   "execution_count": 17,
   "id": "c5f25433",
   "metadata": {},
   "outputs": [],
   "source": [
    "errno = 50159747054 \n",
    "name = 'Bob'"
   ]
  },
  {
   "cell_type": "code",
   "execution_count": 19,
   "id": "92682254",
   "metadata": {},
   "outputs": [
    {
     "data": {
      "text/plain": [
       "'Hey Bob, there is a 0xbadc0ffee error!'"
      ]
     },
     "execution_count": 19,
     "metadata": {},
     "output_type": "execute_result"
    }
   ],
   "source": [
    "'Hey %(name)s, there is a 0x%(errno)x error!' % { \"name\": name, \"errno\": errno }"
   ]
  },
  {
   "cell_type": "markdown",
   "id": "b27902c2",
   "metadata": {},
   "source": [
    "2. Observe the output of: (Mostly used)"
   ]
  },
  {
   "cell_type": "markdown",
   "id": "0a676e65",
   "metadata": {},
   "source": [
    "a. 'Hello, {}'.format(name)"
   ]
  },
  {
   "cell_type": "code",
   "execution_count": 20,
   "id": "9a3d4424",
   "metadata": {},
   "outputs": [
    {
     "data": {
      "text/plain": [
       "'Hello, Bob'"
      ]
     },
     "execution_count": 20,
     "metadata": {},
     "output_type": "execute_result"
    }
   ],
   "source": [
    "'Hello, {}'.format(name)"
   ]
  },
  {
   "cell_type": "markdown",
   "id": "f662e801",
   "metadata": {},
   "source": [
    "3. Observe the output of: (Recommended for Python 3.6+)"
   ]
  },
  {
   "cell_type": "markdown",
   "id": "fd8c4e60",
   "metadata": {},
   "source": [
    "a. f'Hello, {name}!'"
   ]
  },
  {
   "cell_type": "code",
   "execution_count": 25,
   "id": "7d0de576",
   "metadata": {},
   "outputs": [
    {
     "data": {
      "text/plain": [
       "'Hello, Bob!'"
      ]
     },
     "execution_count": 25,
     "metadata": {},
     "output_type": "execute_result"
    }
   ],
   "source": [
    "f'Hello, {name}!'"
   ]
  },
  {
   "cell_type": "markdown",
   "id": "61c8698c",
   "metadata": {},
   "source": [
    "4. Observe the output of:\n",
    "a. from string import Template\n",
    "t = Template('Hey, $name!')\n",
    "st.substitute(name=name)"
   ]
  },
  {
   "cell_type": "code",
   "execution_count": 28,
   "id": "b50dfd78",
   "metadata": {},
   "outputs": [],
   "source": [
    "from string import Template\n",
    "name = \"John\"\n",
    "t = Template('Hey, $name!')"
   ]
  },
  {
   "cell_type": "code",
   "execution_count": 30,
   "id": "89888e22",
   "metadata": {},
   "outputs": [],
   "source": [
    "output = t.substitute(name=name)"
   ]
  },
  {
   "cell_type": "code",
   "execution_count": 32,
   "id": "496c9f46",
   "metadata": {},
   "outputs": [
    {
     "name": "stdout",
     "output_type": "stream",
     "text": [
      "Hey, John!\n"
     ]
    }
   ],
   "source": [
    "print(output)"
   ]
  },
  {
   "cell_type": "markdown",
   "id": "c3f0b31b",
   "metadata": {},
   "source": [
    "b.\n",
    "templ_string = 'Hey $name, there is a    $error error!'\n",
    "Template(templ_string).substitute(name=name, error=hex(errno))\n"
   ]
  },
  {
   "cell_type": "code",
   "execution_count": 35,
   "id": "8f862c64",
   "metadata": {},
   "outputs": [
    {
     "data": {
      "text/plain": [
       "'Hey John, there is a 0xbadc0ffee error!'"
      ]
     },
     "execution_count": 35,
     "metadata": {},
     "output_type": "execute_result"
    }
   ],
   "source": [
    "templ_string = 'Hey $name, there is a $error error!'\n",
    "Template(templ_string).substitute(name=name, error=hex(errno))"
   ]
  },
  {
   "cell_type": "markdown",
   "id": "4a5ce63f",
   "metadata": {},
   "source": [
    "# Built-in Function:"
   ]
  },
  {
   "cell_type": "markdown",
   "id": "c9f5a08e",
   "metadata": {},
   "source": [
    "i. Use len() and find the length of three lists and two strings"
   ]
  },
  {
   "cell_type": "code",
   "execution_count": 39,
   "id": "995dfc68",
   "metadata": {},
   "outputs": [],
   "source": [
    "list1 = [1, 2, 3, 4, 5]"
   ]
  },
  {
   "cell_type": "code",
   "execution_count": 41,
   "id": "852eebda",
   "metadata": {},
   "outputs": [
    {
     "name": "stdout",
     "output_type": "stream",
     "text": [
      "5\n"
     ]
    }
   ],
   "source": [
    "print(len(list1))"
   ]
  },
  {
   "cell_type": "code",
   "execution_count": 43,
   "id": "96762b47",
   "metadata": {},
   "outputs": [],
   "source": [
    "list2 = [\"apple\", \"banana\", \"cherry\"]"
   ]
  },
  {
   "cell_type": "code",
   "execution_count": 45,
   "id": "684e9fc2",
   "metadata": {},
   "outputs": [
    {
     "name": "stdout",
     "output_type": "stream",
     "text": [
      "3\n"
     ]
    }
   ],
   "source": [
    "print(len(list2))"
   ]
  },
  {
   "cell_type": "code",
   "execution_count": 47,
   "id": "b47088de",
   "metadata": {},
   "outputs": [],
   "source": [
    "list3 = [True, False, True, False]"
   ]
  },
  {
   "cell_type": "code",
   "execution_count": 49,
   "id": "544a39be",
   "metadata": {},
   "outputs": [
    {
     "name": "stdout",
     "output_type": "stream",
     "text": [
      "4\n"
     ]
    }
   ],
   "source": [
    "print(len(list3))"
   ]
  },
  {
   "cell_type": "code",
   "execution_count": 51,
   "id": "86403641",
   "metadata": {},
   "outputs": [],
   "source": [
    "string1 = \"Hello\""
   ]
  },
  {
   "cell_type": "code",
   "execution_count": 53,
   "id": "cb2f973c",
   "metadata": {},
   "outputs": [
    {
     "name": "stdout",
     "output_type": "stream",
     "text": [
      "5\n"
     ]
    }
   ],
   "source": [
    "print(len(string1))"
   ]
  },
  {
   "cell_type": "code",
   "execution_count": 55,
   "id": "b1a1dc9e",
   "metadata": {},
   "outputs": [],
   "source": [
    "string2 = \"WorldCup\""
   ]
  },
  {
   "cell_type": "code",
   "execution_count": 57,
   "id": "0064cf56",
   "metadata": {},
   "outputs": [
    {
     "name": "stdout",
     "output_type": "stream",
     "text": [
      "8\n"
     ]
    }
   ],
   "source": [
    "print(len(string2))"
   ]
  },
  {
   "cell_type": "markdown",
   "id": "7a4012a8",
   "metadata": {},
   "source": [
    "ii. Use for three example .is_integer()."
   ]
  },
  {
   "cell_type": "code",
   "execution_count": 60,
   "id": "74c3ebf5",
   "metadata": {},
   "outputs": [],
   "source": [
    "# Example 1: Integer\n",
    "num1 = 5.0 "
   ]
  },
  {
   "cell_type": "code",
   "execution_count": 62,
   "id": "aeca2802",
   "metadata": {},
   "outputs": [
    {
     "name": "stdout",
     "output_type": "stream",
     "text": [
      "True\n"
     ]
    }
   ],
   "source": [
    "print(num1.is_integer())"
   ]
  },
  {
   "cell_type": "code",
   "execution_count": 64,
   "id": "dcddabb0",
   "metadata": {},
   "outputs": [],
   "source": [
    "# Example 2: Float\n",
    "num2 = 5.5  "
   ]
  },
  {
   "cell_type": "code",
   "execution_count": 66,
   "id": "4780ea26",
   "metadata": {},
   "outputs": [
    {
     "name": "stdout",
     "output_type": "stream",
     "text": [
      "False\n"
     ]
    }
   ],
   "source": [
    "print(num2.is_integer())"
   ]
  },
  {
   "cell_type": "code",
   "execution_count": 68,
   "id": "ee661552",
   "metadata": {},
   "outputs": [],
   "source": [
    "# Example 3: Negative number\n",
    "num3 = -10.0"
   ]
  },
  {
   "cell_type": "code",
   "execution_count": 70,
   "id": "21f06f43",
   "metadata": {},
   "outputs": [
    {
     "name": "stdout",
     "output_type": "stream",
     "text": [
      "True\n"
     ]
    }
   ],
   "source": [
    "print(num3.is_integer()) "
   ]
  },
  {
   "cell_type": "markdown",
   "id": "d425a549",
   "metadata": {},
   "source": [
    "iii. Use for three example .conjugate()"
   ]
  },
  {
   "cell_type": "code",
   "execution_count": 73,
   "id": "04c6c8bc",
   "metadata": {},
   "outputs": [],
   "source": [
    "# Example 1: Complex number\n",
    "num1 = 3 + 4j"
   ]
  },
  {
   "cell_type": "code",
   "execution_count": 75,
   "id": "191a436a",
   "metadata": {},
   "outputs": [
    {
     "name": "stdout",
     "output_type": "stream",
     "text": [
      "(3-4j)\n"
     ]
    }
   ],
   "source": [
    "print(num1.conjugate()) "
   ]
  },
  {
   "cell_type": "code",
   "execution_count": 77,
   "id": "44a0182a",
   "metadata": {},
   "outputs": [],
   "source": [
    "# Example 2: Real number\n",
    "num2 = 5  "
   ]
  },
  {
   "cell_type": "code",
   "execution_count": 79,
   "id": "17d8278d",
   "metadata": {},
   "outputs": [
    {
     "name": "stdout",
     "output_type": "stream",
     "text": [
      "5\n"
     ]
    }
   ],
   "source": [
    "print(num2.conjugate())"
   ]
  },
  {
   "cell_type": "code",
   "execution_count": 81,
   "id": "870dc81e",
   "metadata": {},
   "outputs": [],
   "source": [
    "# Example 3: Negative complex number\n",
    "num3 = -2 - 6j"
   ]
  },
  {
   "cell_type": "code",
   "execution_count": 83,
   "id": "1476cca6",
   "metadata": {},
   "outputs": [
    {
     "name": "stdout",
     "output_type": "stream",
     "text": [
      "(-2+6j)\n"
     ]
    }
   ],
   "source": [
    "print(num3.conjugate()) "
   ]
  },
  {
   "cell_type": "markdown",
   "id": "50b9d247",
   "metadata": {},
   "source": [
    "# FUNCTION"
   ]
  },
  {
   "cell_type": "markdown",
   "id": "7aa80fef",
   "metadata": {},
   "source": [
    "Define a function that will take the name and registration number of a student and print it. Include appropriate docstrings."
   ]
  },
  {
   "cell_type": "markdown",
   "id": "13ca899e",
   "metadata": {},
   "source": [
    "a. The argument pass will like positional arguments."
   ]
  },
  {
   "cell_type": "code",
   "execution_count": 92,
   "id": "f2e2a8e9",
   "metadata": {},
   "outputs": [],
   "source": [
    "def student(name, reg_no):\n",
    "    \"\"\" Prints student information (positional arguments).\"\"\"\n",
    "    print(f\"Name: {name}, reg_no: {reg_no}\")"
   ]
  },
  {
   "cell_type": "code",
   "execution_count": 94,
   "id": "277b414b",
   "metadata": {},
   "outputs": [
    {
     "name": "stdout",
     "output_type": "stream",
     "text": [
      "Name: Alvina, reg_no: 0504\n"
     ]
    }
   ],
   "source": [
    "student('Alvina','0504')"
   ]
  },
  {
   "cell_type": "markdown",
   "id": "0c76df81",
   "metadata": {},
   "source": [
    "b. The arguments passing will like keyword arguments."
   ]
  },
  {
   "cell_type": "code",
   "execution_count": 97,
   "id": "346d274a",
   "metadata": {},
   "outputs": [],
   "source": [
    "def student(**kwargs):\n",
    "    \"\"\"Prints student information.\"\"\"\n",
    "    print(f\"Name: {kwargs['name']}, reg_no: {kwargs['reg_no']}\")"
   ]
  },
  {
   "cell_type": "code",
   "execution_count": 99,
   "id": "6144c006",
   "metadata": {},
   "outputs": [
    {
     "name": "stdout",
     "output_type": "stream",
     "text": [
      "Name: alvina, reg_no: 0504\n"
     ]
    }
   ],
   "source": [
    "student(name=\"alvina\",reg_no=\"0504\")"
   ]
  },
  {
   "cell_type": "markdown",
   "id": "a527e8b6",
   "metadata": {},
   "source": [
    "c. The arguments passing will like default arguments. "
   ]
  },
  {
   "cell_type": "code",
   "execution_count": 102,
   "id": "cb51204d",
   "metadata": {},
   "outputs": [],
   "source": [
    "def student(name=\"alvina\", reg_no=\"0504\"):\n",
    "    \"\"\"Prints student information.\"\"\"\n",
    "    print(f\"Name is: {name}, reg_no: {reg_no}\")"
   ]
  },
  {
   "cell_type": "code",
   "execution_count": 104,
   "id": "b579f000",
   "metadata": {},
   "outputs": [
    {
     "name": "stdout",
     "output_type": "stream",
     "text": [
      "Name is: alvina, reg_no: 0504\n"
     ]
    }
   ],
   "source": [
    "student()"
   ]
  },
  {
   "cell_type": "markdown",
   "id": "e1e1260a",
   "metadata": {},
   "source": [
    "d. Pass the arguments of one style to the other."
   ]
  },
  {
   "cell_type": "code",
   "execution_count": 107,
   "id": "ebc2dc70-3df6-41bb-8788-649abc2fb049",
   "metadata": {},
   "outputs": [],
   "source": [
    "args=(\"alvina\",504)  #Passing positional arguments to a function that accepts keyword arguments"
   ]
  },
  {
   "cell_type": "code",
   "execution_count": 109,
   "id": "620d88b3",
   "metadata": {},
   "outputs": [
    {
     "name": "stdout",
     "output_type": "stream",
     "text": [
      "Name is: alvina, reg_no: 504\n"
     ]
    }
   ],
   "source": [
    "student(*args)"
   ]
  },
  {
   "cell_type": "markdown",
   "id": "99588605",
   "metadata": {},
   "source": [
    "e. Passing less number of arguments and check the error message. "
   ]
  },
  {
   "cell_type": "code",
   "execution_count": 112,
   "id": "13280b3b-a5eb-4095-a440-241a50dcbd20",
   "metadata": {},
   "outputs": [],
   "source": [
    "def student(name, reg_no):\n",
    "    \"\"\"Prints student information.\"\"\"\n",
    "    print(f\"Name is: {name}, reg_no: {reg_no}\")"
   ]
  },
  {
   "cell_type": "code",
   "execution_count": 114,
   "id": "3965bdbd",
   "metadata": {},
   "outputs": [
    {
     "ename": "TypeError",
     "evalue": "student() missing 1 required positional argument: 'reg_no'",
     "output_type": "error",
     "traceback": [
      "\u001b[1;31m---------------------------------------------------------------------------\u001b[0m",
      "\u001b[1;31mTypeError\u001b[0m                                 Traceback (most recent call last)",
      "Cell \u001b[1;32mIn[114], line 1\u001b[0m\n\u001b[1;32m----> 1\u001b[0m student(\u001b[38;5;124m\"\u001b[39m\u001b[38;5;124mAlvina\u001b[39m\u001b[38;5;124m\"\u001b[39m)\n",
      "\u001b[1;31mTypeError\u001b[0m: student() missing 1 required positional argument: 'reg_no'"
     ]
    }
   ],
   "source": [
    "student(\"Alvina\")"
   ]
  },
  {
   "cell_type": "markdown",
   "id": "f32dd434",
   "metadata": {},
   "source": [
    "f. Verify that whether positional argument follows keyword argument"
   ]
  },
  {
   "cell_type": "code",
   "execution_count": 117,
   "id": "d4d58328",
   "metadata": {},
   "outputs": [
    {
     "ename": "SyntaxError",
     "evalue": "positional argument follows keyword argument (1394901539.py, line 1)",
     "output_type": "error",
     "traceback": [
      "\u001b[1;36m  Cell \u001b[1;32mIn[117], line 1\u001b[1;36m\u001b[0m\n\u001b[1;33m    print_student_info_kw(name=\"John\", \"S101\")\u001b[0m\n\u001b[1;37m                                             ^\u001b[0m\n\u001b[1;31mSyntaxError\u001b[0m\u001b[1;31m:\u001b[0m positional argument follows keyword argument\n"
     ]
    }
   ],
   "source": [
    " print_student_info_kw(name=\"John\", \"S101\")"
   ]
  },
  {
   "cell_type": "markdown",
   "id": "3ef47e9d-c454-42e7-97fd-bb3d225ba3cf",
   "metadata": {},
   "source": [
    "question no ii"
   ]
  },
  {
   "cell_type": "markdown",
   "id": "3edabad2",
   "metadata": {},
   "source": [
    "Define a function that will take the parameters as current and resistance and will output the voltage across the resistance. Include appropriate docstrings."
   ]
  },
  {
   "cell_type": "markdown",
   "id": "f175453c",
   "metadata": {},
   "source": [
    "a. The argument pass will like positional arguments. "
   ]
  },
  {
   "cell_type": "code",
   "execution_count": 178,
   "id": "89821da9",
   "metadata": {},
   "outputs": [],
   "source": [
    "def voltage(current, resistance):\n",
    "    \"\"\"Calculates voltage across a resistance.\"\"\"\n",
    "    return current * resistance"
   ]
  },
  {
   "cell_type": "code",
   "execution_count": 180,
   "id": "ffd3acc8",
   "metadata": {},
   "outputs": [
    {
     "data": {
      "text/plain": [
       "12"
      ]
     },
     "execution_count": 180,
     "metadata": {},
     "output_type": "execute_result"
    }
   ],
   "source": [
    "voltage(3,4)"
   ]
  },
  {
   "cell_type": "markdown",
   "id": "1be687b6",
   "metadata": {},
   "source": [
    "b. The arguments passing will like keyword arguments."
   ]
  },
  {
   "cell_type": "code",
   "execution_count": 183,
   "id": "46deceee",
   "metadata": {
    "scrolled": true
   },
   "outputs": [],
   "source": [
    "def voltage(current,resistance):\n",
    "    \"\"\"Calculates voltage across a resistance.\"\"\"\n",
    "    return current * resistance"
   ]
  },
  {
   "cell_type": "code",
   "execution_count": 185,
   "id": "d4e98ca1",
   "metadata": {},
   "outputs": [
    {
     "data": {
      "text/plain": [
       "6"
      ]
     },
     "execution_count": 185,
     "metadata": {},
     "output_type": "execute_result"
    }
   ],
   "source": [
    "voltage(current=3,resistance=2)"
   ]
  },
  {
   "cell_type": "markdown",
   "id": "9ae0edb6",
   "metadata": {},
   "source": [
    "c. The arguments passing will like default arguments."
   ]
  },
  {
   "cell_type": "code",
   "execution_count": 188,
   "id": "845c74d0",
   "metadata": {},
   "outputs": [],
   "source": [
    "def voltage(current=4, resistance=10):\n",
    "    \"\"\"Calculates voltage across a resistance.\"\"\"\n",
    "    return current * resistance"
   ]
  },
  {
   "cell_type": "code",
   "execution_count": 190,
   "id": "e52b379a",
   "metadata": {},
   "outputs": [
    {
     "data": {
      "text/plain": [
       "40"
      ]
     },
     "execution_count": 190,
     "metadata": {},
     "output_type": "execute_result"
    }
   ],
   "source": [
    "voltage() "
   ]
  },
  {
   "cell_type": "markdown",
   "id": "354f6b64",
   "metadata": {},
   "source": [
    "d. Pass the arguments of one style to the other."
   ]
  },
  {
   "cell_type": "code",
   "execution_count": 193,
   "id": "de1d45b4",
   "metadata": {},
   "outputs": [],
   "source": [
    "def voltage(current, resistance):  #Passing Positional Arguments to Keyword Arguments\n",
    "    \"\"\"Passing Positional Arguments to Keyword Arguments.\"\"\"\n",
    "    return current*resistance"
   ]
  },
  {
   "cell_type": "code",
   "execution_count": 195,
   "id": "e45d5ff0",
   "metadata": {},
   "outputs": [],
   "source": [
    "args = (2, 8)"
   ]
  },
  {
   "cell_type": "code",
   "execution_count": 197,
   "id": "b1ffe42a",
   "metadata": {},
   "outputs": [
    {
     "data": {
      "text/plain": [
       "16"
      ]
     },
     "execution_count": 197,
     "metadata": {},
     "output_type": "execute_result"
    }
   ],
   "source": [
    "voltage(*args) "
   ]
  },
  {
   "cell_type": "markdown",
   "id": "e72120e6",
   "metadata": {},
   "source": [
    "e. Passing less number of arguments and check the error message."
   ]
  },
  {
   "cell_type": "code",
   "execution_count": 200,
   "id": "64df5261",
   "metadata": {},
   "outputs": [],
   "source": [
    "def voltage(current, resistance):\n",
    "    \"\"\"Passing Less Number of Arguments.\"\"\"\n",
    "    return current * resistance"
   ]
  },
  {
   "cell_type": "code",
   "execution_count": 202,
   "id": "3c6189e2",
   "metadata": {},
   "outputs": [
    {
     "ename": "TypeError",
     "evalue": "voltage() missing 1 required positional argument: 'resistance'",
     "output_type": "error",
     "traceback": [
      "\u001b[1;31m---------------------------------------------------------------------------\u001b[0m",
      "\u001b[1;31mTypeError\u001b[0m                                 Traceback (most recent call last)",
      "Cell \u001b[1;32mIn[202], line 1\u001b[0m\n\u001b[1;32m----> 1\u001b[0m voltage(\u001b[38;5;241m2\u001b[39m)\n",
      "\u001b[1;31mTypeError\u001b[0m: voltage() missing 1 required positional argument: 'resistance'"
     ]
    }
   ],
   "source": [
    "voltage(2)"
   ]
  },
  {
   "cell_type": "markdown",
   "id": "31054b96",
   "metadata": {},
   "source": [
    "f. Verify that whether positional argument follows keyword argument."
   ]
  },
  {
   "cell_type": "code",
   "execution_count": 205,
   "id": "43de4837",
   "metadata": {},
   "outputs": [],
   "source": [
    "def voltage(current, resistance):\n",
    "    \"\"\"Verify that whether positional argument follows keyword argument.\"\"\"\n",
    "    return current * resistance"
   ]
  },
  {
   "cell_type": "code",
   "execution_count": 207,
   "id": "3a99ddc7",
   "metadata": {},
   "outputs": [
    {
     "ename": "SyntaxError",
     "evalue": "positional argument follows keyword argument (2598358350.py, line 1)",
     "output_type": "error",
     "traceback": [
      "\u001b[1;36m  Cell \u001b[1;32mIn[207], line 1\u001b[1;36m\u001b[0m\n\u001b[1;33m    voltage(current=2, 10)\u001b[0m\n\u001b[1;37m                         ^\u001b[0m\n\u001b[1;31mSyntaxError\u001b[0m\u001b[1;31m:\u001b[0m positional argument follows keyword argument\n"
     ]
    }
   ],
   "source": [
    "voltage(current=2, 10)"
   ]
  },
  {
   "cell_type": "markdown",
   "id": "588c763c-0ce9-43c4-a608-1cb60dd091bb",
   "metadata": {},
   "source": [
    "question no iii"
   ]
  },
  {
   "cell_type": "markdown",
   "id": "43fa959a",
   "metadata": {},
   "source": [
    "Define a function with name charge_from_solar and pass the state of charge (SOC) to thefunction. If SOC is less than 20% display charging if it is above 90% do nothing and return and if it is in between display that battery will be charge and there is --- % of charge in the battery. Include appropriate docstrings. Print the doc string. Also add annotation to the function parameters and return type. "
   ]
  },
  {
   "cell_type": "code",
   "execution_count": 211,
   "id": "559c084d",
   "metadata": {},
   "outputs": [],
   "source": [
    "def charge_from_solar(soc: float) -> None:\n",
    "    \"\"\"\n",
    "    Checks the state of charge (SOC) of a battery and displays messages \n",
    "    based on its level.\n",
    "    \"\"\"\n",
    "    if soc < 20:\n",
    "        print(\"Charging...\")\n",
    "    elif soc > 90:\n",
    "        return\n",
    "    else:\n",
    "        print(f\"Battery will be charged, and there is {soc}% of charge in the battery.\")\n"
   ]
  },
  {
   "cell_type": "code",
   "execution_count": 213,
   "id": "a4a1fc25",
   "metadata": {},
   "outputs": [
    {
     "name": "stdout",
     "output_type": "stream",
     "text": [
      "Charging...\n",
      "None\n"
     ]
    }
   ],
   "source": [
    "print(charge_from_solar(15))"
   ]
  },
  {
   "cell_type": "code",
   "execution_count": 215,
   "id": "cb0db437-5aec-4942-99fe-ab9e93d46b92",
   "metadata": {},
   "outputs": [
    {
     "name": "stdout",
     "output_type": "stream",
     "text": [
      "None\n"
     ]
    }
   ],
   "source": [
    "print(charge_from_solar(95))"
   ]
  },
  {
   "cell_type": "code",
   "execution_count": 217,
   "id": "1d292d7b-311b-4d4d-ae31-b4b1a7c4116a",
   "metadata": {},
   "outputs": [
    {
     "name": "stdout",
     "output_type": "stream",
     "text": [
      "Battery will be charged, and there is 65% of charge in the battery.\n",
      "None\n"
     ]
    }
   ],
   "source": [
    "print(charge_from_solar(65))"
   ]
  },
  {
   "cell_type": "markdown",
   "id": "75fbce76",
   "metadata": {},
   "source": [
    "question no iv:"
   ]
  },
  {
   "cell_type": "markdown",
   "id": "f5170d00",
   "metadata": {},
   "source": [
    "Define three function. Function one name is resistance which will return a list of five resistances. The second function name is voltage which will return a list of voltage across each of these resisters. Include appropriate docstrings. Print the doc string. Also add annotation to the function parameters and return type.a. Pass these two lists to a third function name current which will calculate the current flowing through each resister and will return that list to the main program. The main program will print all the three lists in well formatting. b. In part a return the data in tuple. c. Return the data from current function as dictionary with keys current_1 to current_5. "
   ]
  },
  {
   "cell_type": "code",
   "execution_count": 334,
   "id": "70006af6",
   "metadata": {},
   "outputs": [],
   "source": [
    "def resistance() -> list[float]:\n",
    "    \"\"\"\n",
    "    Returns a list of five resistance values.\n",
    "    \"\"\"\n",
    "    return [10.0, 20.0, 30.0, 40.0, 50.0]\n",
    "\n",
    "def voltage() -> list[float]:\n",
    "    \"\"\"\n",
    "    Returns a list of five voltage values.\n",
    "    \"\"\"\n",
    "    return [100.0, 120.0, 110.0, 130.0, 140.0]\n",
    "\n",
    "def current(resistances: list[float], voltages: list[float]) -> dict[str, float]:\n",
    "    \"\"\"\n",
    "    Calculates the current flowing through each resistor.\n",
    "    \"\"\"\n",
    "    currents = {}\n",
    "    for i in range(len(resistances)):\n",
    "        currents[f'current_{i+1}'] = voltages[i] / resistances[i]\n",
    "    return currents"
   ]
  },
  {
   "cell_type": "code",
   "execution_count": 336,
   "id": "7228a2ea-ca8c-43f1-8f99-ce74b4d9b8d9",
   "metadata": {},
   "outputs": [
    {
     "name": "stdout",
     "output_type": "stream",
     "text": [
      "\n",
      "    Returns a list of five resistance values.\n",
      "    \n"
     ]
    }
   ],
   "source": [
    "print(resistance.__doc__)"
   ]
  },
  {
   "cell_type": "code",
   "execution_count": 338,
   "id": "574353ff-853a-4277-9f54-5de78832cba3",
   "metadata": {},
   "outputs": [
    {
     "name": "stdout",
     "output_type": "stream",
     "text": [
      "\n",
      "    Returns a list of five voltage values.\n",
      "    \n"
     ]
    }
   ],
   "source": [
    "print(voltage.__doc__)"
   ]
  },
  {
   "cell_type": "code",
   "execution_count": 340,
   "id": "3c6639d7-b801-4087-a9de-916b43598791",
   "metadata": {},
   "outputs": [
    {
     "name": "stdout",
     "output_type": "stream",
     "text": [
      "\n",
      "    Calculates the current flowing through each resistor.\n",
      "    \n"
     ]
    }
   ],
   "source": [
    "print(current.__doc__)"
   ]
  },
  {
   "cell_type": "code",
   "execution_count": 342,
   "id": "85eac2ab-206c-4419-9e70-82f4c5782133",
   "metadata": {},
   "outputs": [],
   "source": [
    "r = resistance()"
   ]
  },
  {
   "cell_type": "code",
   "execution_count": 344,
   "id": "83b38246-9417-4302-ac60-5103b0d85114",
   "metadata": {},
   "outputs": [
    {
     "name": "stdout",
     "output_type": "stream",
     "text": [
      "Resistances:\n",
      "R1: 10.0 ohms\n",
      "R2: 20.0 ohms\n",
      "R3: 30.0 ohms\n",
      "R4: 40.0 ohms\n",
      "R5: 50.0 ohms\n"
     ]
    }
   ],
   "source": [
    "print(\"Resistances:\")\n",
    "for i, resistance in enumerate(resistances):\n",
    "    print(f\"R{i+1}: {resistance} ohms\")"
   ]
  },
  {
   "cell_type": "code",
   "execution_count": 346,
   "id": "7fc1b240-bfd5-44b9-9422-9ffcc2caed5d",
   "metadata": {},
   "outputs": [],
   "source": [
    " v = voltage()"
   ]
  },
  {
   "cell_type": "code",
   "execution_count": 348,
   "id": "a9557e34-b7ff-464d-95ee-6a4d7664bd4e",
   "metadata": {},
   "outputs": [
    {
     "name": "stdout",
     "output_type": "stream",
     "text": [
      "\n",
      "Voltages:\n",
      "V1: 100.0 volts\n",
      "V2: 120.0 volts\n",
      "V3: 110.0 volts\n",
      "V4: 130.0 volts\n",
      "V5: 140.0 volts\n"
     ]
    }
   ],
   "source": [
    "print(\"\\nVoltages:\")\n",
    "for i, voltage in enumerate(voltages):\n",
    "    print(f\"V{i+1}: {voltage} volts\")"
   ]
  },
  {
   "cell_type": "code",
   "execution_count": 350,
   "id": "8184234d-1339-4144-ab9d-a298795fe7eb",
   "metadata": {},
   "outputs": [],
   "source": [
    "c = current(resistances, voltages)"
   ]
  },
  {
   "cell_type": "code",
   "execution_count": 352,
   "id": "35418ee2-79cc-41fd-9ded-e91929f6a78b",
   "metadata": {},
   "outputs": [
    {
     "name": "stdout",
     "output_type": "stream",
     "text": [
      "\n",
      "Currents:\n",
      "current_1: 10.0 amps\n",
      "current_2: 6.0 amps\n",
      "current_3: 3.6666666666666665 amps\n",
      "current_4: 3.25 amps\n",
      "current_5: 2.8 amps\n"
     ]
    }
   ],
   "source": [
    "print(\"\\nCurrents:\")\n",
    "for key, value in currents.items():\n",
    "    print(f\"{key}: {value} amps\")"
   ]
  },
  {
   "cell_type": "markdown",
   "id": "a9bcb1f4",
   "metadata": {},
   "source": [
    "question no v:"
   ]
  },
  {
   "cell_type": "markdown",
   "id": "50e7a19f",
   "metadata": {},
   "source": [
    "Define a function with name series. The function will take a list or tuple of resisters. The function will return the net resistance. Note that your function must be capable for any number of resisters. Note: Use elegant approach. Include appropriate docstrings. Print the doc string. Also add annotation to the function parameters and return type. In addition, display annotation usingspecial dunder attribute of the function called __annotations__."
   ]
  },
  {
   "cell_type": "code",
   "execution_count": 405,
   "id": "070bd1aa",
   "metadata": {},
   "outputs": [],
   "source": [
    "from typing import Union, List, Tuple\n",
    "def series(resistors) -> float:\n",
    "    \"\"\"Calculate the net resistance of a series circuit.\"\"\"\n",
    "    return sum(resistors)"
   ]
  },
  {
   "cell_type": "code",
   "execution_count": 407,
   "id": "9b8ece3a",
   "metadata": {},
   "outputs": [],
   "source": [
    "resistors = [10, 20, 30, 40, 50] # Test the function"
   ]
  },
  {
   "cell_type": "code",
   "execution_count": 409,
   "id": "f401166d-3a01-4279-b041-a9e57edb0e1c",
   "metadata": {},
   "outputs": [
    {
     "name": "stdout",
     "output_type": "stream",
     "text": [
      "Rt: 150\n"
     ]
    }
   ],
   "source": [
    "print(\"Rt:\", series(resistors))"
   ]
  },
  {
   "cell_type": "code",
   "execution_count": 411,
   "id": "03dd1f56-0bbc-48da-9224-e2f2be32ecb3",
   "metadata": {},
   "outputs": [
    {
     "name": "stdout",
     "output_type": "stream",
     "text": [
      "Calculate the net resistance of a series circuit.\n"
     ]
    }
   ],
   "source": [
    "print(series.__doc__)# Print the docstring"
   ]
  },
  {
   "cell_type": "code",
   "execution_count": 413,
   "id": "6b50ecab-60c0-4b6f-b2fc-ac2b57beb689",
   "metadata": {},
   "outputs": [
    {
     "name": "stdout",
     "output_type": "stream",
     "text": [
      "{'return': <class 'float'>}\n"
     ]
    }
   ],
   "source": [
    "print(series.__annotations__) # Print the function annotations"
   ]
  },
  {
   "cell_type": "markdown",
   "id": "405e47ec",
   "metadata": {},
   "source": [
    "question no vi:"
   ]
  },
  {
   "cell_type": "markdown",
   "id": "53b39862",
   "metadata": {},
   "source": [
    "Define a function with name parallel. The function will take a list or tuple of resisters. The function will return the net resistance. Note that your function must be capable for any number of resisters. Note: Use elegant approach. Include appropriate docstrings. Print the doc string. Also add annotation to the function parameters and return type. In addition, display annotation usingspecial dunder attribute of the function called __annotations__.\n"
   ]
  },
  {
   "cell_type": "code",
   "execution_count": 417,
   "id": "2aa43f9c",
   "metadata": {},
   "outputs": [],
   "source": [
    "from typing import Union, List, Tuple\n",
    "def parallel(resistors) -> float:\n",
    "    \"\"\"Calculate the net resistance of a parallel circuit.\"\"\"\n",
    "    return 1 / sum(1 / r for r in resistors)"
   ]
  },
  {
   "cell_type": "code",
   "execution_count": 421,
   "id": "bce255bf-48b9-4077-85ec-85f7a78f364c",
   "metadata": {},
   "outputs": [],
   "source": [
    "resistors =[10, 20, 30, 40, 90] # Test the function"
   ]
  },
  {
   "cell_type": "code",
   "execution_count": 423,
   "id": "37860226",
   "metadata": {},
   "outputs": [
    {
     "name": "stdout",
     "output_type": "stream",
     "text": [
      "Rt: 4.556962025316456\n"
     ]
    }
   ],
   "source": [
    "print(\"Rt:\", parallel(resistors))"
   ]
  },
  {
   "cell_type": "code",
   "execution_count": 425,
   "id": "e0c23b48-ca17-4c68-afeb-9f6cc4532fed",
   "metadata": {},
   "outputs": [
    {
     "name": "stdout",
     "output_type": "stream",
     "text": [
      "Calculate the net resistance of a parallel circuit.\n"
     ]
    }
   ],
   "source": [
    "print(parallel.__doc__)# Print the docstring"
   ]
  },
  {
   "cell_type": "code",
   "execution_count": 427,
   "id": "d86b66df-1e5b-4165-9170-5b356c9a8d27",
   "metadata": {},
   "outputs": [
    {
     "name": "stdout",
     "output_type": "stream",
     "text": [
      "{'return': <class 'float'>}\n"
     ]
    }
   ],
   "source": [
    "print(parallel.__annotations__) # Display annotations"
   ]
  },
  {
   "cell_type": "markdown",
   "id": "24e86616",
   "metadata": {},
   "source": [
    "question no vii:"
   ]
  },
  {
   "cell_type": "markdown",
   "id": "1c202db9",
   "metadata": {},
   "source": [
    "Define a function with name series. The function will take resisters values and use *args for tuple packing. The function will return the net resistance. Note that your function must be capable for any number of resisters. Note: Use elegant approach. Include appropriate docstrings. Also addannotation to the function parameters and return type. In addition, display annotation usingspecial dunder attribute of the function called __annotations__."
   ]
  },
  {
   "cell_type": "code",
   "execution_count": 482,
   "id": "af0accaa",
   "metadata": {},
   "outputs": [],
   "source": [
    "from typing import Union, List, Tuple\n",
    "def series(*resistors) -> float:\n",
    "    \"\"\"Calculate the net resistance of a series circuit.\"\"\"\n",
    "    return sum(resistors)"
   ]
  },
  {
   "cell_type": "code",
   "execution_count": 484,
   "id": "6e10e082",
   "metadata": {},
   "outputs": [],
   "source": [
    "# Test the function\n",
    "R=(10, 20, 30, 40, 50)"
   ]
  },
  {
   "cell_type": "code",
   "execution_count": 486,
   "id": "92695c42",
   "metadata": {},
   "outputs": [
    {
     "name": "stdout",
     "output_type": "stream",
     "text": [
      "RT: 190\n"
     ]
    }
   ],
   "source": [
    "print(\"RT:\",series(*resistors) )"
   ]
  },
  {
   "cell_type": "code",
   "execution_count": 488,
   "id": "db59af23-2f1b-4b18-a945-2ce43b90f96a",
   "metadata": {},
   "outputs": [
    {
     "name": "stdout",
     "output_type": "stream",
     "text": [
      "Calculate the net resistance of a series circuit.\n"
     ]
    }
   ],
   "source": [
    "# Print the docstring\n",
    "print(series.__doc__)"
   ]
  },
  {
   "cell_type": "code",
   "execution_count": 490,
   "id": "64bdc5a8-7b22-40e5-81e5-1ead2a64db49",
   "metadata": {},
   "outputs": [
    {
     "name": "stdout",
     "output_type": "stream",
     "text": [
      "{'return': <class 'float'>}\n"
     ]
    }
   ],
   "source": [
    "# Print the function annotations\n",
    "print(series.__annotations__)"
   ]
  },
  {
   "cell_type": "markdown",
   "id": "10d0cde1",
   "metadata": {},
   "source": [
    "question no viii:"
   ]
  },
  {
   "cell_type": "markdown",
   "id": "7e06bda4",
   "metadata": {},
   "source": [
    "Define a function with name parallel. The function will take resisters values and use *argsfor tuple packing. The function will return the net resistance. Note that your function must be capable for any number of resisters. Note: Use elegant approach. Include appropriate docstrings. Print the doc string. Also add annotation to the function parameters and return type. In addition, display annotation using special dunder attribute of the function called __annotations__."
   ]
  },
  {
   "cell_type": "code",
   "execution_count": 494,
   "id": "d5c72a30",
   "metadata": {},
   "outputs": [],
   "source": [
    "from typing import Union, List, Tuple\n",
    "def parallel(*resistors) -> float:\n",
    "    \"\"\"Calculate the net resistance of a parallel circuit.\"\"\"\n",
    "    return 1 / sum(1 / r for r in resistors)"
   ]
  },
  {
   "cell_type": "code",
   "execution_count": 496,
   "id": "7dfe876c-faaf-4b8f-ae7f-6519bcc62deb",
   "metadata": {},
   "outputs": [],
   "source": [
    "# Test the function\n",
    "R =(10, 20, 30, 40, 90)"
   ]
  },
  {
   "cell_type": "code",
   "execution_count": 500,
   "id": "fd414197-8cab-4c13-9eb4-f62b003961f4",
   "metadata": {},
   "outputs": [
    {
     "name": "stdout",
     "output_type": "stream",
     "text": [
      "RT: 4.556962025316456\n"
     ]
    }
   ],
   "source": [
    "print(\"RT:\", parallel(*resistors))"
   ]
  },
  {
   "cell_type": "code",
   "execution_count": 502,
   "id": "22b51052-46f1-4c12-bfe5-74760630b2d3",
   "metadata": {},
   "outputs": [
    {
     "name": "stdout",
     "output_type": "stream",
     "text": [
      "Calculate the net resistance of a parallel circuit.\n"
     ]
    }
   ],
   "source": [
    "# Print the docstring\n",
    "print(parallel.__doc__)"
   ]
  },
  {
   "cell_type": "code",
   "execution_count": 504,
   "id": "3f8dc4f4-c570-4c21-804e-036e2ce6edc2",
   "metadata": {},
   "outputs": [
    {
     "name": "stdout",
     "output_type": "stream",
     "text": [
      "{'return': <class 'float'>}\n"
     ]
    }
   ],
   "source": [
    "# Display annotations\n",
    "print(parallel.__annotations__)"
   ]
  },
  {
   "cell_type": "markdown",
   "id": "967029a4",
   "metadata": {},
   "source": [
    "question no ix:"
   ]
  },
  {
   "cell_type": "markdown",
   "id": "a4663711",
   "metadata": {},
   "source": [
    "Consider a scenario in which you receive the data of battery SOC (% age), solar generation (Kw) and market price (per unit in rupees) from a hybrid solar inverter that are connected with green meter in a list or tuple like [60, 2, 60] or (60, 2, 60). Design a function that will print these values in a well format. Note use the tuple or list unpacking. Include appropriate docstrings. Print the doc string. Also add annotation to the function parameters and return type. In addition, display annotation using special dunder attribute of the function called __annotations__."
   ]
  },
  {
   "cell_type": "code",
   "execution_count": 524,
   "id": "d7464e9d",
   "metadata": {},
   "outputs": [],
   "source": [
    "def hybrid_inverter(data) -> None:\n",
    "    \"\"\"Prints the hybrid solar inverter data in a well-formatted manner.\"\"\"\n",
    "    soc, solar_generation, market_price = data\n",
    "    print(\"Hybrid Solar Inverter Data:\")\n",
    "    print(f\"Battery SOC: {soc}%\")\n",
    "    print(f\"Solar Generation: {solar_generation} Kw\")\n",
    "    print(f\"Market Price: {market_price} rupees/unit\")\n"
   ]
  },
  {
   "cell_type": "code",
   "execution_count": 526,
   "id": "33926f8a-5266-4f02-b76e-271e907e3e28",
   "metadata": {},
   "outputs": [
    {
     "name": "stdout",
     "output_type": "stream",
     "text": [
      "Prints the hybrid solar inverter data in a well-formatted manner.\n"
     ]
    }
   ],
   "source": [
    "print(hybrid_inverter.__doc__)"
   ]
  },
  {
   "cell_type": "code",
   "execution_count": 528,
   "id": "43d6bd39-3e2c-4523-bc43-6fa01e12ad0b",
   "metadata": {},
   "outputs": [
    {
     "name": "stdout",
     "output_type": "stream",
     "text": [
      "{'return': None}\n"
     ]
    }
   ],
   "source": [
    "print(hybrid_inverter.__annotations__)"
   ]
  },
  {
   "cell_type": "code",
   "execution_count": 530,
   "id": "7d855a5e-ac42-4fe6-bf9f-d4ec96d846e4",
   "metadata": {},
   "outputs": [],
   "source": [
    "data_tuple = (60, 2, 6)"
   ]
  },
  {
   "cell_type": "code",
   "execution_count": 532,
   "id": "d8081846-89a3-407b-a6fb-00896c1e946e",
   "metadata": {},
   "outputs": [
    {
     "name": "stdout",
     "output_type": "stream",
     "text": [
      "Hybrid Solar Inverter Data:\n",
      "Battery SOC: 60%\n",
      "Solar Generation: 2 Kw\n",
      "Market Price: 6 rupees/unit\n"
     ]
    }
   ],
   "source": [
    "hybrid_inverter(data_tuple)"
   ]
  },
  {
   "cell_type": "code",
   "execution_count": 534,
   "id": "cb0b3116-be92-4c75-b459-ec41995f9d63",
   "metadata": {},
   "outputs": [],
   "source": [
    "data_list = [60, 20, 600]"
   ]
  },
  {
   "cell_type": "code",
   "execution_count": 536,
   "id": "981cf1bf-de7a-4021-ab0a-e5d339dac71d",
   "metadata": {},
   "outputs": [
    {
     "name": "stdout",
     "output_type": "stream",
     "text": [
      "Hybrid Solar Inverter Data:\n",
      "Battery SOC: 60%\n",
      "Solar Generation: 20 Kw\n",
      "Market Price: 600 rupees/unit\n"
     ]
    }
   ],
   "source": [
    "hybrid_inverter(data_list)"
   ]
  },
  {
   "cell_type": "markdown",
   "id": "96c399dc",
   "metadata": {},
   "source": [
    "question no x:"
   ]
  },
  {
   "cell_type": "markdown",
   "id": "d065363d",
   "metadata": {},
   "source": [
    "The more elegant approach is to pass dictionary and use dictionary unpacking. Consider a scenario in which you receive the data of battery SOC (% age), solar generation (Kw) and market price (per unit in rupees) from a hybrid solar inverter that are connected with green meter in a dictionary like {‘SOC’: 60, ‘solar generation’: 2, ‘price’: 60}. Design a function that will receivethis dictionary and print these values in a well format. Include appropriate docstrings. Also addannotation to the function parameters and return type. In addition, display annotation using special dunder attribute of the function called __annotations__."
   ]
  },
  {
   "cell_type": "code",
   "execution_count": 546,
   "id": "864cc7ad",
   "metadata": {},
   "outputs": [],
   "source": [
    "def hybrid_inverter(data) -> None:\n",
    "    \"\"\"Prints the hybrid solar inverter data in a well-formatted manner.\"\"\"\n",
    "    SOC, solar_generation, price = data.values()\n",
    "\n",
    "    print(\"Hybrid Solar Inverter Data:\")\n",
    "    print(f\"Battery SOC: {SOC}%\")\n",
    "    print(f\"Solar Generation: {solar_generation} Kw\")\n",
    "    print(f\"Market Price: {price} rupees/unit\")\n"
   ]
  },
  {
   "cell_type": "code",
   "execution_count": 548,
   "id": "e79ac8f7-56de-4001-8fe3-5dd1bc20f0a6",
   "metadata": {},
   "outputs": [
    {
     "name": "stdout",
     "output_type": "stream",
     "text": [
      "Prints the hybrid solar inverter data in a well-formatted manner.\n"
     ]
    }
   ],
   "source": [
    "# Print the docstring\n",
    "print(hybrid_inverter.__doc__)"
   ]
  },
  {
   "cell_type": "code",
   "execution_count": 550,
   "id": "da27ed24-9f77-48fe-81d7-cd0fd28d4b0e",
   "metadata": {},
   "outputs": [
    {
     "name": "stdout",
     "output_type": "stream",
     "text": [
      "{'return': None}\n"
     ]
    }
   ],
   "source": [
    "# Print the annotation\n",
    "print(hybrid_inverter.__annotations__)"
   ]
  },
  {
   "cell_type": "code",
   "execution_count": 552,
   "id": "d6a9d8bd-247b-4738-818b-df71078545fa",
   "metadata": {},
   "outputs": [
    {
     "name": "stdout",
     "output_type": "stream",
     "text": [
      "Hybrid Solar Inverter Data:\n",
      "Battery SOC: 60%\n",
      "Solar Generation: 2 Kw\n",
      "Market Price: 6 rupees/unit\n"
     ]
    }
   ],
   "source": [
    "data = {'SOC': 60, 'solar_generation': 2, 'price': 6}\n",
    "hybrid_inverter(data)"
   ]
  },
  {
   "cell_type": "markdown",
   "id": "e34c4888",
   "metadata": {},
   "source": [
    "question no xi:"
   ]
  },
  {
   "cell_type": "markdown",
   "id": "e537b042",
   "metadata": {},
   "source": [
    "Change the scenario while keep the more elegant approach of pass dictionary and use dictionary packing. Consider a scenario in which you receive the data of battery SOC (% age), solar generation (Kw) and market price (per unit in rupees) from a hybrid solar inverter that are connected with green meter in a dictionary like {‘SOC’: 60, ‘solar generation’: 2, ‘price’: 60}. Let you pass these value in a function call like solar (SOC = 60, solar generation = 2, price = 60). Design a function that will receive these argument as a dictionary and print these values in a well format. Include appropriate docstrings. Also add annotation to the function parameters and return type. In addition, display annotation using special dunder attribute of the function called __annotations__."
   ]
  },
  {
   "cell_type": "code",
   "execution_count": 556,
   "id": "8584a8a3-2014-45df-b798-a01d0e2dcb57",
   "metadata": {},
   "outputs": [],
   "source": [
    "def solar(**data) -> None:\n",
    "    \"\"\"Prints the hybrid solar inverter data in a well-formatted manner.\"\"\"\n",
    "    SOC = data['SOC']\n",
    "    solar_generation = data['solar_generation']\n",
    "    market_price = data['price']\n",
    "\n",
    "    print(\"Hybrid Solar Inverter Data:\")\n",
    "    print(f\"Battery SOC: {SOC}%\")\n",
    "    print(f\"Solar Generation: {solar_generation} Kw\")\n",
    "    print(f\"Market Price: {market_price} rupees/unit\")"
   ]
  },
  {
   "cell_type": "code",
   "execution_count": 558,
   "id": "1869e8b9-0ad2-4e43-b083-da4a23403ace",
   "metadata": {},
   "outputs": [
    {
     "name": "stdout",
     "output_type": "stream",
     "text": [
      "Prints the hybrid solar inverter data in a well-formatted manner.\n"
     ]
    }
   ],
   "source": [
    "# Print the docstring\n",
    "print(solar.__doc__)"
   ]
  },
  {
   "cell_type": "code",
   "execution_count": 560,
   "id": "8c889c71-6170-4a57-87cc-40434b867926",
   "metadata": {},
   "outputs": [
    {
     "name": "stdout",
     "output_type": "stream",
     "text": [
      "{'return': None}\n"
     ]
    }
   ],
   "source": [
    "# Print the function annotations\n",
    "print(solar.__annotations__)"
   ]
  },
  {
   "cell_type": "code",
   "execution_count": 562,
   "id": "3609c44b-0b3f-4fa6-9d07-fe5b6295e103",
   "metadata": {},
   "outputs": [
    {
     "name": "stdout",
     "output_type": "stream",
     "text": [
      "Hybrid Solar Inverter Data:\n",
      "Battery SOC: 60%\n",
      "Solar Generation: 2 Kw\n",
      "Market Price: 60 rupees/unit\n"
     ]
    }
   ],
   "source": [
    "solar(SOC=60, solar_generation=2, price=60)"
   ]
  },
  {
   "cell_type": "markdown",
   "id": "711a62ca",
   "metadata": {},
   "source": [
    "xii"
   ]
  },
  {
   "cell_type": "markdown",
   "id": "cffcc38f",
   "metadata": {},
   "source": [
    "Understand the functions given below by run, modify and also design different scenarios."
   ]
  },
  {
   "cell_type": "code",
   "execution_count": 566,
   "id": "985956a3",
   "metadata": {},
   "outputs": [
    {
     "name": "stdout",
     "output_type": "stream",
     "text": [
      "a = 1\n",
      "b = 2\n",
      "args = ('foo', 'bar', 'baz', 'qux')\n",
      "kwargs = {'x': 100, 'y': 200, 'z': 300}\n"
     ]
    }
   ],
   "source": [
    "def f(a, b, *args, **kwargs):\n",
    " print(F'a = {a}')\n",
    " print(F'b = {b}')\n",
    " print(F'args = {args}')\n",
    " print(F'kwargs = {kwargs}')\n",
    "f(1, 2, 'foo', 'bar', 'baz', 'qux', x=100, y=200, z=300)\n"
   ]
  },
  {
   "cell_type": "code",
   "execution_count": 568,
   "id": "d9116586",
   "metadata": {},
   "outputs": [
    {
     "name": "stdout",
     "output_type": "stream",
     "text": [
      "1\n",
      "2\n",
      "3\n",
      "4\n",
      "5\n",
      "6\n",
      "8\n",
      "9\n",
      "7\n"
     ]
    }
   ],
   "source": [
    "def f(*args):\n",
    " for i in args:\n",
    "    print(i)\n",
    "a = [1, 2, 3]\n",
    "t = (4, 5, 6)\n",
    "s = {7, 8, 9}\n",
    "5\n",
    "f(*a, *t, *s)"
   ]
  },
  {
   "cell_type": "code",
   "execution_count": 570,
   "id": "0427b93c",
   "metadata": {},
   "outputs": [
    {
     "name": "stdout",
     "output_type": "stream",
     "text": [
      "a -> 1\n",
      "b -> 2\n",
      "x -> 3\n",
      "y -> 4\n"
     ]
    }
   ],
   "source": [
    "def f(**kwargs):\n",
    " for k, v in kwargs.items():\n",
    "    print(k, '->', v)\n",
    "d1 = {'a': 1, 'b': 2}\n",
    "d2 = {'x': 3, 'y': 4}\n",
    "f(**d1, **d2)"
   ]
  },
  {
   "cell_type": "code",
   "execution_count": 572,
   "id": "df8d0c1e",
   "metadata": {},
   "outputs": [
    {
     "name": "stdout",
     "output_type": "stream",
     "text": [
      "1\n",
      "2\n",
      "3\n",
      "4\n",
      "5\n",
      "6\n"
     ]
    }
   ],
   "source": [
    "def f(*args):\n",
    " for i in args:\n",
    "    print(i)\n",
    "f(*[1, 2, 3], *[4, 5, 6])"
   ]
  },
  {
   "cell_type": "code",
   "execution_count": 574,
   "id": "d4aa78e8",
   "metadata": {},
   "outputs": [
    {
     "name": "stdout",
     "output_type": "stream",
     "text": [
      "a -> 1\n",
      "b -> 2\n",
      "x -> 3\n",
      "y -> 4\n"
     ]
    }
   ],
   "source": [
    "def f(**kwargs):\n",
    " for k, v in kwargs.items():\n",
    "    print(k, '->', v)\n",
    "f(**{'a': 1, 'b': 2}, **{'x': 3, 'y': 4})\n"
   ]
  },
  {
   "cell_type": "code",
   "execution_count": 576,
   "id": "a4bff7a2",
   "metadata": {},
   "outputs": [
    {
     "name": "stdout",
     "output_type": "stream",
     "text": [
      "1 foo\n"
     ]
    },
    {
     "data": {
      "text/plain": [
       "{'a': int, 'b': str, 'return': float}"
      ]
     },
     "execution_count": 576,
     "metadata": {},
     "output_type": "execute_result"
    }
   ],
   "source": [
    "def f(a: int, b: str) -> float:\n",
    " print(a, b)\n",
    " return(3.5)\n",
    "6\n",
    "f(1, 'foo')\n",
    "f.__annotations__\n"
   ]
  },
  {
   "cell_type": "code",
   "execution_count": 578,
   "id": "b61d1150",
   "metadata": {},
   "outputs": [
    {
     "name": "stdout",
     "output_type": "stream",
     "text": [
      "12 baz\n"
     ]
    },
    {
     "data": {
      "text/plain": [
       "3.5"
      ]
     },
     "execution_count": 578,
     "metadata": {},
     "output_type": "execute_result"
    }
   ],
   "source": [
    "#If you want to assign a default value to a parameter that has an annotation, then the default value goes after the annotation:\n",
    "def f(a: int = 12, b: str = 'baz') -> float:\n",
    "    print(a, b)\n",
    "    return(3.5)\n",
    "f.__annotations__\n",
    "f()\n"
   ]
  },
  {
   "cell_type": "code",
   "execution_count": 580,
   "id": "40ae823d",
   "metadata": {},
   "outputs": [
    {
     "name": "stdout",
     "output_type": "stream",
     "text": [
      "foo 2.5\n"
     ]
    },
    {
     "data": {
      "text/plain": [
       "(1, 2, 3)"
      ]
     },
     "execution_count": 580,
     "metadata": {},
     "output_type": "execute_result"
    }
   ],
   "source": [
    "def f(a: int, b: str) -> float:\n",
    " print(a, b)\n",
    " return 1, 2, 3\n",
    "f('foo', 2.5)"
   ]
  },
  {
   "cell_type": "markdown",
   "id": "44b258d6",
   "metadata": {},
   "source": [
    "# Strings"
   ]
  },
  {
   "cell_type": "markdown",
   "id": "45d27057",
   "metadata": {},
   "source": [
    "ii: Use F-String for three string formatting."
   ]
  },
  {
   "cell_type": "code",
   "execution_count": 583,
   "id": "77bb95a3",
   "metadata": {},
   "outputs": [
    {
     "name": "stdout",
     "output_type": "stream",
     "text": [
      "My name is Alvin and I am 21 years old.\n"
     ]
    }
   ],
   "source": [
    "name = \"Alvin\"\n",
    "age = 21\n",
    "print(f\"My name is {name} and I am {age} years old.\")\n"
   ]
  },
  {
   "cell_type": "markdown",
   "id": "9ba43fed",
   "metadata": {},
   "source": [
    "iii: Use .capitalize() for three examples."
   ]
  },
  {
   "cell_type": "code",
   "execution_count": 586,
   "id": "36879b17",
   "metadata": {},
   "outputs": [
    {
     "name": "stdout",
     "output_type": "stream",
     "text": [
      "Hello\n"
     ]
    }
   ],
   "source": [
    "#Single-word string example 1:\n",
    "word = \"hello\"\n",
    "print(word.capitalize())\n"
   ]
  },
  {
   "cell_type": "code",
   "execution_count": 588,
   "id": "4755487a",
   "metadata": {},
   "outputs": [
    {
     "name": "stdout",
     "output_type": "stream",
     "text": [
      "This is an example\n"
     ]
    }
   ],
   "source": [
    "#Multi-word string example 2:\n",
    "sentence = \"this is an example\"\n",
    "print(sentence.capitalize())\n"
   ]
  },
  {
   "cell_type": "code",
   "execution_count": 590,
   "id": "8cad800a",
   "metadata": {},
   "outputs": [
    {
     "name": "stdout",
     "output_type": "stream",
     "text": [
      "This is an example\n"
     ]
    }
   ],
   "source": [
    "#Mixed-case string example 3:\n",
    "mixedCase = \"ThIs Is An ExAmPle\"\n",
    "print(mixedCase.capitalize())\n"
   ]
  },
  {
   "cell_type": "markdown",
   "id": "f7cbe2c1",
   "metadata": {},
   "source": [
    "iv:Use .format(*args, **kwargs) for five example formatting."
   ]
  },
  {
   "cell_type": "code",
   "execution_count": 593,
   "id": "26b16129",
   "metadata": {},
   "outputs": [
    {
     "name": "stdout",
     "output_type": "stream",
     "text": [
      "My name is John and I am 30 years old.\n"
     ]
    }
   ],
   "source": [
    "#example 1:\n",
    "name = \"John\"\n",
    "age = 30\n",
    "print(\"My name is {} and I am {} years old.\".format(name, age))\n"
   ]
  },
  {
   "cell_type": "code",
   "execution_count": 595,
   "id": "87e74afb",
   "metadata": {},
   "outputs": [
    {
     "name": "stdout",
     "output_type": "stream",
     "text": [
      "My name is Jane and I am 25 years old.\n"
     ]
    }
   ],
   "source": [
    "#example 2:\n",
    "person = {\"name\": \"Jane\", \"age\": 25}\n",
    "print(\"My name is {name} and I am {age} years old.\".format(**person))\n"
   ]
  },
  {
   "cell_type": "code",
   "execution_count": 597,
   "id": "c22e4df8",
   "metadata": {},
   "outputs": [
    {
     "name": "stdout",
     "output_type": "stream",
     "text": [
      "The numbers are 1, 2, and 3.\n"
     ]
    }
   ],
   "source": [
    "#example 3:\n",
    "\n",
    "print(\"The numbers are {}, {}, and {}.\".format(1, 2, 3))\n"
   ]
  },
  {
   "cell_type": "code",
   "execution_count": 599,
   "id": "ca29fbac",
   "metadata": {},
   "outputs": [
    {
     "name": "stdout",
     "output_type": "stream",
     "text": [
      "The value of pi is 3.14.\n"
     ]
    }
   ],
   "source": [
    "#example 4:\n",
    "pi = 3.14159265359\n",
    "print(\"The value of pi is {:.2f}.\".format(pi))"
   ]
  },
  {
   "cell_type": "code",
   "execution_count": 601,
   "id": "379c32f2",
   "metadata": {},
   "outputs": [
    {
     "name": "stdout",
     "output_type": "stream",
     "text": [
      "My name is Bob, I am 40 years old, and I live in New York.\n"
     ]
    }
   ],
   "source": [
    "#example 5:\n",
    "name = \"Bob\"\n",
    "age = 40\n",
    "city = \"New York\"\n",
    "print(\"My name is {}, I am {} years old, and I live in {}.\".format(name, age, city))"
   ]
  },
  {
   "cell_type": "markdown",
   "id": "c8331b58",
   "metadata": {},
   "source": [
    "v:Use .lower() for three examples. "
   ]
  },
  {
   "cell_type": "code",
   "execution_count": 605,
   "id": "e8a6c3c0",
   "metadata": {},
   "outputs": [
    {
     "name": "stdout",
     "output_type": "stream",
     "text": [
      "hello\n"
     ]
    }
   ],
   "source": [
    "#Simple String example 1:\n",
    "word = \"HELLO\"\n",
    "print(word.lower())\n"
   ]
  },
  {
   "cell_type": "code",
   "execution_count": 607,
   "id": "bb0b79d7",
   "metadata": {},
   "outputs": [
    {
     "name": "stdout",
     "output_type": "stream",
     "text": [
      "this is an example\n"
     ]
    }
   ],
   "source": [
    "#Mixed-Case String example 2:\n",
    "sentence = \"ThIs Is An ExAmPle\"\n",
    "print(sentence.lower())\n"
   ]
  },
  {
   "cell_type": "code",
   "execution_count": 609,
   "id": "1d05f35a",
   "metadata": {},
   "outputs": [
    {
     "name": "stdout",
     "output_type": "stream",
     "text": [
      "hello, world! 123\n"
     ]
    }
   ],
   "source": [
    "#String with Special Characters example 3:\n",
    "text = \"HELLO, WORLD! 123\"\n",
    "print(text.lower())\n"
   ]
  },
  {
   "cell_type": "markdown",
   "id": "abbd4efe",
   "metadata": {},
   "source": [
    "vi:Some method on string return true false and they are frequently use in different applications. Use .isdigit(),.islower(), and .isnumeric() in two example."
   ]
  },
  {
   "cell_type": "code",
   "execution_count": 619,
   "id": "677e647c",
   "metadata": {},
   "outputs": [
    {
     "name": "stdout",
     "output_type": "stream",
     "text": [
      "False\n",
      "True\n",
      "False\n"
     ]
    }
   ],
   "source": [
    "#Example 1\n",
    "string2 = \"hello world\"\n",
    "\n",
    "print(string2.isdigit())  # Output: True\n",
    "print(string2.islower())   # Output: False\n",
    "print(string2.isnumeric()) # Output: True"
   ]
  },
  {
   "cell_type": "code",
   "execution_count": 621,
   "id": "c24e5b6f",
   "metadata": {},
   "outputs": [
    {
     "name": "stdout",
     "output_type": "stream",
     "text": [
      "False\n",
      "False\n",
      "False\n"
     ]
    }
   ],
   "source": [
    "#Example 2\n",
    "password = \"Password123!\"\n",
    "print(password.islower()) # Output: False\n",
    "print(password.isdigit()) # Output: False\n",
    "print(password.isnumeric()) # Output: False\n"
   ]
  },
  {
   "cell_type": "markdown",
   "id": "6f2b1e0f",
   "metadata": {},
   "source": [
    "vii"
   ]
  },
  {
   "cell_type": "markdown",
   "id": "06a84cfd",
   "metadata": {},
   "source": [
    "Some other string operation required other methods. Use .split() for two example. "
   ]
  },
  {
   "cell_type": "markdown",
   "id": "ea8f7261",
   "metadata": {},
   "source": [
    "example 1"
   ]
  },
  {
   "cell_type": "code",
   "execution_count": 626,
   "id": "7b1f3e03",
   "metadata": {},
   "outputs": [],
   "source": [
    "sentence = \"Python is a powerful programming language\""
   ]
  },
  {
   "cell_type": "code",
   "execution_count": 628,
   "id": "b84aba54",
   "metadata": {},
   "outputs": [],
   "source": [
    "words = sentence.split()  # By default, splits by whitespace"
   ]
  },
  {
   "cell_type": "code",
   "execution_count": 630,
   "id": "8d34b7f6",
   "metadata": {},
   "outputs": [
    {
     "name": "stdout",
     "output_type": "stream",
     "text": [
      "['Python', 'is', 'a', 'powerful', 'programming', 'language']\n"
     ]
    }
   ],
   "source": [
    "print(words)"
   ]
  },
  {
   "cell_type": "markdown",
   "id": "b4cb751d",
   "metadata": {},
   "source": [
    "example 2"
   ]
  },
  {
   "cell_type": "code",
   "execution_count": 633,
   "id": "7b85f039",
   "metadata": {},
   "outputs": [],
   "source": [
    "csv_line = \"name,age,city\""
   ]
  },
  {
   "cell_type": "code",
   "execution_count": 635,
   "id": "749afcb6",
   "metadata": {},
   "outputs": [],
   "source": [
    "fields = csv_line.split(\",\")  # Splits by comma"
   ]
  },
  {
   "cell_type": "code",
   "execution_count": 637,
   "id": "89d72adb",
   "metadata": {},
   "outputs": [
    {
     "name": "stdout",
     "output_type": "stream",
     "text": [
      "['name', 'age', 'city']\n"
     ]
    }
   ],
   "source": [
    "print(fields)"
   ]
  },
  {
   "cell_type": "code",
   "execution_count": null,
   "id": "8e834b23-fe6e-448a-8d3e-6cb478dd41c6",
   "metadata": {},
   "outputs": [],
   "source": []
  },
  {
   "cell_type": "code",
   "execution_count": null,
   "id": "db1ab9b8-69c1-4334-b23e-2a7a25900bd6",
   "metadata": {},
   "outputs": [],
   "source": []
  }
 ],
 "metadata": {
  "kernelspec": {
   "display_name": "Python 3 (ipykernel)",
   "language": "python",
   "name": "python3"
  },
  "language_info": {
   "codemirror_mode": {
    "name": "ipython",
    "version": 3
   },
   "file_extension": ".py",
   "mimetype": "text/x-python",
   "name": "python",
   "nbconvert_exporter": "python",
   "pygments_lexer": "ipython3",
   "version": "3.12.7"
  }
 },
 "nbformat": 4,
 "nbformat_minor": 5
}
