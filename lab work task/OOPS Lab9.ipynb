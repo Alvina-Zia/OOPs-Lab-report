{
 "cells": [
  {
   "cell_type": "markdown",
   "id": "0d9f26c4-8450-4128-bdc0-2abca3b1b6d8",
   "metadata": {},
   "source": [
    "<h2 align=\"center\"><b><i><u>Name: Alvina Zia</u></i></b></h2 align=\"center\">\n",
    "<h2 align=\"center\"><b><i><u>Reg no: 23jzele0504</u></i></b></h2 align=\"center\">\n",
    "<h2 align=\"center\"><b><i><u>Semester: 3rd(section A)</u></i></b></h2 align=\"center\">\n",
    "<h2 align=\"center\"><b><i><u>Subject: OOPs & Data Structure</u></i></b></h2 align=\"center\">\n",
    "<h2 align=\"center\"><b><i><u>Lab: Lab no 09</u></i></b></h2 align=\"center\">\n",
    "<h2 align=\"center\"><b><i><u>Submitted to: Sir Irshad-ullah</u></i></b></h2 align=\"center\">"
   ]
  },
  {
   "cell_type": "markdown",
   "id": "a560f7e7-e536-49cf-91b0-ec3717a26b60",
   "metadata": {},
   "source": [
    "***"
   ]
  },
  {
   "cell_type": "markdown",
   "id": "fa32a353-0dee-4a95-9c99-f834176a6301",
   "metadata": {},
   "source": [
    "1.\tIt turns out that sometimes temporary secretaries are hired when there’s too much paperwork to do. The TemporarySecretary class performs the role of a Secretary in the context of the ProductivitySystem, but for payroll purposes, it’s an HourlyEmployee.\n",
    "a)\tDerive it from both Secretary and HourlyEmployee:"
   ]
  },
  {
   "cell_type": "code",
   "execution_count": 94,
   "id": "7629d227-5d9c-4420-a37f-e2cffbf18066",
   "metadata": {},
   "outputs": [],
   "source": [
    "class PayrollSystem:\n",
    "    def calculate_payroll(self, employees):\n",
    "        print(\"Calculating Payroll\")\n",
    "        print(\"===================\")\n",
    "        for employee in employees:\n",
    "            print(f\"Payroll for: {employee.id} - {employee.name}\")\n",
    "            print(f\"- Check amount: {employee.calculate_payroll()}\")\n",
    "            print(\"\")"
   ]
  },
  {
   "cell_type": "code",
   "execution_count": 96,
   "id": "891b52e1-500a-431f-a150-3d1c098390dd",
   "metadata": {},
   "outputs": [],
   "source": [
    "class Employee:\n",
    "    def __init__(self, id, name):\n",
    "        self.id = id\n",
    "        self.name = name\n",
    "\n",
    "class SalaryEmployee(Employee):\n",
    "    def __init__(self, id, name, weekly_salary):\n",
    "        super().__init__(id, name)\n",
    "        self.weekly_salary = weekly_salary\n",
    "\n",
    "    def calculate_payroll(self):\n",
    "        return self.weekly_salary\n",
    "\n",
    "class HourlyEmployee(Employee):\n",
    "    def __init__(self, id, name, hours_worked, hourly_rate):\n",
    "        super().__init__(id, name)\n",
    "        self.hours_worked = hours_worked\n",
    "        self.hourly_rate = hourly_rate\n",
    "\n",
    "    def calculate_payroll(self):\n",
    "        return self.hours_worked * self.hourly_rate\n",
    "\n",
    "class CommissionEmployee(SalaryEmployee):\n",
    "    def __init__(self, id, name, weekly_salary, commission):\n",
    "        super().__init__(id, name, weekly_salary)\n",
    "        self.commission = commission\n",
    "    def calculate_payroll(self):\n",
    "        fixed = super().calculate_payroll()\n",
    "        return fixed + self.commission"
   ]
  },
  {
   "cell_type": "code",
   "execution_count": 98,
   "id": "2b4a38e4-4e19-46e3-85b6-9f91d1fe9e6d",
   "metadata": {},
   "outputs": [],
   "source": [
    "class Manager(SalaryEmployee):\n",
    "    def work(self, hours):\n",
    "        print(f\"{self.name} screams and yells for {hours} hours.\")\n",
    "\n",
    "class Secretary(SalaryEmployee):\n",
    "    def work(self, hours):\n",
    "        print(f\"{self.name} expends {hours} hours doing office paperwork.\")\n",
    "\n",
    "class SalesPerson(CommissionEmployee):\n",
    "    def work(self, hours):\n",
    "        print(f\"{self.name} expends {hours} hours on the phone.\")\n",
    "\n",
    "class FactoryWorker(HourlyEmployee):\n",
    "    def work(self, hours):\n",
    "        print(f\"{self.name} manufactures gadgets for {hours} hours.\")"
   ]
  },
  {
   "cell_type": "code",
   "execution_count": 99,
   "id": "5ee6a443-c3f1-4eeb-b796-ad4aca13e854",
   "metadata": {},
   "outputs": [],
   "source": [
    "class ProductivitySystem:\n",
    "    def track(self, employees, hours):\n",
    "        print(\"Tracking Employee Productivity\")\n",
    "        print(\"==============================\")\n",
    "        for employee in employees:\n",
    "            employee.work(hours)\n",
    "        print(\"\")"
   ]
  },
  {
   "cell_type": "code",
   "execution_count": 100,
   "id": "1181681c-81b5-4cfb-a408-97086de3bb38",
   "metadata": {},
   "outputs": [],
   "source": [
    "class TemporarySecretary(Secretary, HourlyEmployee):\n",
    "    pass"
   ]
  },
  {
   "cell_type": "code",
   "execution_count": 101,
   "id": "f1542981-5c97-4047-9489-1a14b443f042",
   "metadata": {},
   "outputs": [
    {
     "ename": "TypeError",
     "evalue": "SalaryEmployee.__init__() takes 4 positional arguments but 5 were given",
     "output_type": "error",
     "traceback": [
      "\u001b[1;31m---------------------------------------------------------------------------\u001b[0m",
      "\u001b[1;31mTypeError\u001b[0m                                 Traceback (most recent call last)",
      "Cell \u001b[1;32mIn[101], line 1\u001b[0m\n\u001b[1;32m----> 1\u001b[0m temporary_secretary \u001b[38;5;241m=\u001b[39m TemporarySecretary(\u001b[38;5;241m5\u001b[39m, \u001b[38;5;124m\"\u001b[39m\u001b[38;5;124mRobin Williams\u001b[39m\u001b[38;5;124m\"\u001b[39m, \u001b[38;5;241m40\u001b[39m, \u001b[38;5;241m9\u001b[39m)\n",
      "\u001b[1;31mTypeError\u001b[0m: SalaryEmployee.__init__() takes 4 positional arguments but 5 were given"
     ]
    }
   ],
   "source": [
    "temporary_secretary = TemporarySecretary(5, \"Robin Williams\", 40, 9)"
   ]
  },
  {
   "cell_type": "code",
   "execution_count": 102,
   "id": "d0fb15fc-4521-443a-b142-699672be04e3",
   "metadata": {},
   "outputs": [
    {
     "data": {
      "text/plain": [
       "(__main__.TemporarySecretary,\n",
       " __main__.Secretary,\n",
       " __main__.SalaryEmployee,\n",
       " __main__.HourlyEmployee,\n",
       " __main__.Employee,\n",
       " object)"
      ]
     },
     "execution_count": 102,
     "metadata": {},
     "output_type": "execute_result"
    }
   ],
   "source": [
    "TemporarySecretary.__mro__"
   ]
  },
  {
   "cell_type": "markdown",
   "id": "4de4fa0e-2bc1-4445-a12c-09a28c24f1d4",
   "metadata": {},
   "source": [
    "ii.\tModify the above class as "
   ]
  },
  {
   "cell_type": "code",
   "execution_count": 104,
   "id": "6d7abf7f-bb55-4e2e-9f01-42d001d7b5c5",
   "metadata": {},
   "outputs": [],
   "source": [
    "class TemporarySecretary(HourlyEmployee, Secretary):\n",
    "    pass"
   ]
  },
  {
   "cell_type": "code",
   "execution_count": 105,
   "id": "e734b572-0f86-46be-bb3b-3ff0815183ed",
   "metadata": {},
   "outputs": [
    {
     "ename": "TypeError",
     "evalue": "SalaryEmployee.__init__() missing 1 required positional argument: 'weekly_salary'",
     "output_type": "error",
     "traceback": [
      "\u001b[1;31m---------------------------------------------------------------------------\u001b[0m",
      "\u001b[1;31mTypeError\u001b[0m                                 Traceback (most recent call last)",
      "Cell \u001b[1;32mIn[105], line 1\u001b[0m\n\u001b[1;32m----> 1\u001b[0m temporary_secretary \u001b[38;5;241m=\u001b[39m TemporarySecretary(\u001b[38;5;241m5\u001b[39m, \u001b[38;5;124m\"\u001b[39m\u001b[38;5;124mRobin Williams\u001b[39m\u001b[38;5;124m\"\u001b[39m, \u001b[38;5;241m40\u001b[39m, \u001b[38;5;241m9\u001b[39m)\n",
      "Cell \u001b[1;32mIn[96], line 16\u001b[0m, in \u001b[0;36mHourlyEmployee.__init__\u001b[1;34m(self, id, name, hours_worked, hourly_rate)\u001b[0m\n\u001b[0;32m     15\u001b[0m \u001b[38;5;28;01mdef\u001b[39;00m \u001b[38;5;21m__init__\u001b[39m(\u001b[38;5;28mself\u001b[39m, \u001b[38;5;28mid\u001b[39m, name, hours_worked, hourly_rate):\n\u001b[1;32m---> 16\u001b[0m     \u001b[38;5;28msuper\u001b[39m()\u001b[38;5;241m.\u001b[39m\u001b[38;5;21m__init__\u001b[39m(\u001b[38;5;28mid\u001b[39m, name)\n\u001b[0;32m     17\u001b[0m     \u001b[38;5;28mself\u001b[39m\u001b[38;5;241m.\u001b[39mhours_worked \u001b[38;5;241m=\u001b[39m hours_worked\n\u001b[0;32m     18\u001b[0m     \u001b[38;5;28mself\u001b[39m\u001b[38;5;241m.\u001b[39mhourly_rate \u001b[38;5;241m=\u001b[39m hourly_rate\n",
      "\u001b[1;31mTypeError\u001b[0m: SalaryEmployee.__init__() missing 1 required positional argument: 'weekly_salary'"
     ]
    }
   ],
   "source": [
    "temporary_secretary = TemporarySecretary(5, \"Robin Williams\", 40, 9)"
   ]
  },
  {
   "cell_type": "code",
   "execution_count": null,
   "id": "a1b2e9e4-1261-40a3-bb36-52decbea58ab",
   "metadata": {},
   "outputs": [],
   "source": [
    "TemporarySecretary.__mro__"
   ]
  },
  {
   "cell_type": "code",
   "execution_count": 106,
   "id": "dae463f4-6737-43f4-a9db-3bf42ddab864",
   "metadata": {},
   "outputs": [],
   "source": [
    "class TemporarySecretary(HourlyEmployee, Secretary):\n",
    "    def __init__(self, id, name, hours_worked, hourly_rate):\n",
    "        super().__init__(id, name, hours_worked, hourly_rate)"
   ]
  },
  {
   "cell_type": "code",
   "execution_count": 107,
   "id": "ff9ee0b7-ff3c-445a-99f3-fdb4de3f5273",
   "metadata": {},
   "outputs": [
    {
     "ename": "TypeError",
     "evalue": "SalaryEmployee.__init__() missing 1 required positional argument: 'weekly_salary'",
     "output_type": "error",
     "traceback": [
      "\u001b[1;31m---------------------------------------------------------------------------\u001b[0m",
      "\u001b[1;31mTypeError\u001b[0m                                 Traceback (most recent call last)",
      "Cell \u001b[1;32mIn[107], line 1\u001b[0m\n\u001b[1;32m----> 1\u001b[0m temporary_secretary \u001b[38;5;241m=\u001b[39m TemporarySecretary(\u001b[38;5;241m5\u001b[39m, \u001b[38;5;124m\"\u001b[39m\u001b[38;5;124mRobin Williams\u001b[39m\u001b[38;5;124m\"\u001b[39m, \u001b[38;5;241m40\u001b[39m, \u001b[38;5;241m9\u001b[39m)\n",
      "Cell \u001b[1;32mIn[106], line 3\u001b[0m, in \u001b[0;36mTemporarySecretary.__init__\u001b[1;34m(self, id, name, hours_worked, hourly_rate)\u001b[0m\n\u001b[0;32m      2\u001b[0m \u001b[38;5;28;01mdef\u001b[39;00m \u001b[38;5;21m__init__\u001b[39m(\u001b[38;5;28mself\u001b[39m, \u001b[38;5;28mid\u001b[39m, name, hours_worked, hourly_rate):\n\u001b[1;32m----> 3\u001b[0m     \u001b[38;5;28msuper\u001b[39m()\u001b[38;5;241m.\u001b[39m\u001b[38;5;21m__init__\u001b[39m(\u001b[38;5;28mid\u001b[39m, name, hours_worked, hourly_rate)\n",
      "Cell \u001b[1;32mIn[96], line 16\u001b[0m, in \u001b[0;36mHourlyEmployee.__init__\u001b[1;34m(self, id, name, hours_worked, hourly_rate)\u001b[0m\n\u001b[0;32m     15\u001b[0m \u001b[38;5;28;01mdef\u001b[39;00m \u001b[38;5;21m__init__\u001b[39m(\u001b[38;5;28mself\u001b[39m, \u001b[38;5;28mid\u001b[39m, name, hours_worked, hourly_rate):\n\u001b[1;32m---> 16\u001b[0m     \u001b[38;5;28msuper\u001b[39m()\u001b[38;5;241m.\u001b[39m\u001b[38;5;21m__init__\u001b[39m(\u001b[38;5;28mid\u001b[39m, name)\n\u001b[0;32m     17\u001b[0m     \u001b[38;5;28mself\u001b[39m\u001b[38;5;241m.\u001b[39mhours_worked \u001b[38;5;241m=\u001b[39m hours_worked\n\u001b[0;32m     18\u001b[0m     \u001b[38;5;28mself\u001b[39m\u001b[38;5;241m.\u001b[39mhourly_rate \u001b[38;5;241m=\u001b[39m hourly_rate\n",
      "\u001b[1;31mTypeError\u001b[0m: SalaryEmployee.__init__() missing 1 required positional argument: 'weekly_salary'"
     ]
    }
   ],
   "source": [
    "temporary_secretary = TemporarySecretary(5, \"Robin Williams\", 40, 9)"
   ]
  },
  {
   "cell_type": "code",
   "execution_count": null,
   "id": "45995c23-8f66-4f38-b2b4-5c7b1110abaa",
   "metadata": {},
   "outputs": [],
   "source": [
    "TemporarySecretary.__mro__"
   ]
  },
  {
   "cell_type": "code",
   "execution_count": null,
   "id": "cf974dd3-b25c-4255-a705-5c0cb7ea5da2",
   "metadata": {},
   "outputs": [],
   "source": [
    "class TemporarySecretary(Secretary, HourlyEmployee):\n",
    "    def __init__(self, id, name, hours_worked, hourly_rate):\n",
    "        HourlyEmployee.__init__(self, id, name, hours_worked, hourly_rate)"
   ]
  },
  {
   "cell_type": "code",
   "execution_count": null,
   "id": "1822b8a0-8ef9-4b90-a372-e375dc34dc35",
   "metadata": {},
   "outputs": [],
   "source": [
    "temporary_secretary = TemporarySecretary(5, \"Robin Williams\", 40, 9)\n",
    "company_employees = [temporary_secretary]\n",
    "productivity_system = productivity.ProductivitySystem()\n",
    "productivity_system.track(company_employees, 40)\n",
    "payroll_system = hr.PayrollSystem()\n",
    "payroll_system.calculate_payroll(company_employees)"
   ]
  },
  {
   "cell_type": "code",
   "execution_count": 108,
   "id": "4986a4a9-aefe-46b9-b025-495947e5dacc",
   "metadata": {},
   "outputs": [
    {
     "data": {
      "text/plain": [
       "(__main__.TemporarySecretary,\n",
       " __main__.HourlyEmployee,\n",
       " __main__.Secretary,\n",
       " __main__.SalaryEmployee,\n",
       " __main__.Employee,\n",
       " object)"
      ]
     },
     "execution_count": 108,
     "metadata": {},
     "output_type": "execute_result"
    }
   ],
   "source": [
    "TemporarySecretary.__mro__"
   ]
  },
  {
   "cell_type": "code",
   "execution_count": 123,
   "id": "795686ed-080d-4317-a04b-7b7b21556987",
   "metadata": {},
   "outputs": [],
   "source": [
    "class TemporarySecretary(Secretary, HourlyEmployee):\n",
    "    def __init__(self, id, name, hours_worked, hourly_rate):\n",
    "        HourlyEmployee.__init__(self, id, name, hours_worked, hourly_rate)\n",
    "    def calculate_payroll(self):\n",
    "        return HourlyEmployee.calculate_payroll(self)"
   ]
  },
  {
   "cell_type": "code",
   "execution_count": 124,
   "id": "91aeeeee-37e5-419d-adad-d852669ddbe7",
   "metadata": {},
   "outputs": [
    {
     "ename": "NameError",
     "evalue": "name 'productivity' is not defined",
     "output_type": "error",
     "traceback": [
      "\u001b[1;31m---------------------------------------------------------------------------\u001b[0m",
      "\u001b[1;31mNameError\u001b[0m                                 Traceback (most recent call last)",
      "Cell \u001b[1;32mIn[124], line 3\u001b[0m\n\u001b[0;32m      1\u001b[0m temporary_secretary \u001b[38;5;241m=\u001b[39m TemporarySecretary(\u001b[38;5;241m5\u001b[39m, \u001b[38;5;124m\"\u001b[39m\u001b[38;5;124mRobin Williams\u001b[39m\u001b[38;5;124m\"\u001b[39m, \u001b[38;5;241m40\u001b[39m, \u001b[38;5;241m9\u001b[39m)\n\u001b[0;32m      2\u001b[0m company_employees \u001b[38;5;241m=\u001b[39m [temporary_secretary]\n\u001b[1;32m----> 3\u001b[0m productivity_system \u001b[38;5;241m=\u001b[39m productivity\u001b[38;5;241m.\u001b[39mProductivitySystem()\n\u001b[0;32m      4\u001b[0m productivity_system\u001b[38;5;241m.\u001b[39mtrack(company_employees, \u001b[38;5;241m40\u001b[39m)\n\u001b[0;32m      5\u001b[0m payroll_system \u001b[38;5;241m=\u001b[39m hr\u001b[38;5;241m.\u001b[39mPayrollSystem()\n",
      "\u001b[1;31mNameError\u001b[0m: name 'productivity' is not defined"
     ]
    }
   ],
   "source": [
    "temporary_secretary = TemporarySecretary(5, \"Robin Williams\", 40, 9)\n",
    "company_employees = [temporary_secretary]\n",
    "productivity_system = productivity.ProductivitySystem()\n",
    "productivity_system.track(company_employees, 40)\n",
    "payroll_system = hr.PayrollSystem()\n",
    "payroll_system.calculate_payroll(company_employees)"
   ]
  },
  {
   "cell_type": "code",
   "execution_count": null,
   "id": "63a28305-068a-4fa7-a241-2938f766ad44",
   "metadata": {},
   "outputs": [],
   "source": [
    "TemporarySecretary.__mro__"
   ]
  },
  {
   "cell_type": "code",
   "execution_count": 144,
   "id": "e9bb452b-bb0a-4f25-82d5-6b49fe577462",
   "metadata": {},
   "outputs": [],
   "source": [
    "# ...\n",
    "\n",
    "class TemporarySecretary(Secretary, HourlyEmployee):\n",
    "    def __init__(self, id, name, hours_worked, hourly_rate):\n",
    "        HourlyEmployee.__init__(self, id, name, hours_worked, hourly_rate)\n",
    "\n",
    "    def calculate_payroll(self):\n",
    "        return HourlyEmployee.calculate_payroll(self)"
   ]
  },
  {
   "cell_type": "code",
   "execution_count": 146,
   "id": "1e545aad-174a-49bc-af1b-644134ba8238",
   "metadata": {},
   "outputs": [
    {
     "name": "stdout",
     "output_type": "stream",
     "text": [
      "Tracking Employee Productivity\n",
      "==============================\n",
      "Mary Poppins screams and yells for 40 hours.\n",
      "John Smith expends 40 hours doing office paperwork.\n",
      "Kevin Bacon expends 40 hours on the phone.\n",
      "Jane Doe manufactures gadgets for 40 hours.\n",
      "Robin Williams expends 40 hours doing office paperwork.\n",
      "\n",
      "Calculating Payroll\n",
      "===================\n",
      "Payroll for: 1 - Mary Poppins\n",
      "- Check amount: 3000\n",
      "\n",
      "Payroll for: 2 - John Smith\n",
      "- Check amount: 1500\n",
      "\n",
      "Payroll for: 3 - Kevin Bacon\n",
      "- Check amount: 1250\n",
      "\n",
      "Payroll for: 4 - Jane Doe\n",
      "- Check amount: 600\n",
      "\n",
      "Payroll for: 5 - Robin Williams\n",
      "- Check amount: 360\n",
      "\n"
     ]
    }
   ],
   "source": [
    "manager = Manager(1, \"Mary Poppins\", 3000)\n",
    "secretary = Secretary(2, \"John Smith\", 1500)\n",
    "sales_guy = SalesPerson(3, \"Kevin Bacon\", 1000, 250)\n",
    "factory_worker = FactoryWorker(4, \"Jane Doe\", 40, 15)\n",
    "temporary_secretary = TemporarySecretary(5, \"Robin Williams\", 40, 9)\n",
    "company_employees = [\n",
    "    manager,\n",
    "    secretary,\n",
    "    sales_guy,\n",
    "    factory_worker,\n",
    "    temporary_secretary,\n",
    "]\n",
    "\n",
    "productivity_system = ProductivitySystem()\n",
    "productivity_system.track(company_employees, 40)\n",
    "\n",
    "payroll_system = PayrollSystem()\n",
    "payroll_system.calculate_payroll(company_employees)"
   ]
  },
  {
   "cell_type": "code",
   "execution_count": null,
   "id": "201ebbfe-b3fa-4bf3-a9ca-b7c984060f02",
   "metadata": {},
   "outputs": [],
   "source": []
  },
  {
   "cell_type": "code",
   "execution_count": null,
   "id": "0e57f419-6691-4d00-ad92-dfc24c92ef3f",
   "metadata": {},
   "outputs": [],
   "source": []
  }
 ],
 "metadata": {
  "kernelspec": {
   "display_name": "Python 3 (ipykernel)",
   "language": "python",
   "name": "python3"
  },
  "language_info": {
   "codemirror_mode": {
    "name": "ipython",
    "version": 3
   },
   "file_extension": ".py",
   "mimetype": "text/x-python",
   "name": "python",
   "nbconvert_exporter": "python",
   "pygments_lexer": "ipython3",
   "version": "3.12.7"
  }
 },
 "nbformat": 4,
 "nbformat_minor": 5
}
