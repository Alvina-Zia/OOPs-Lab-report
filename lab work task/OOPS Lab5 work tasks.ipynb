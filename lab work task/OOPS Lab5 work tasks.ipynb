{
 "cells": [
  {
   "cell_type": "markdown",
   "id": "d375a1e0-7b7f-48db-abd8-fe7af2cf39bd",
   "metadata": {},
   "source": [
    "<h2 align=\"center\"><b><i><u>Name: Alvina Zia</u></i></b></h2 align=\"center\">\n",
    "<h2 align=\"center\"><b><i><u>Reg no: 23jzele0504</u></i></b></h2 align=\"center\">\n",
    "<h2 align=\"center\"><b><i><u>Semester: 3rd(section A)</u></i></b></h2 align=\"center\">\n",
    "<h2 align=\"center\"><b><i><u>Subject: OOPs & Data Structure</u></i></b></h2 align=\"center\">\n",
    "<h2 align=\"center\"><b><i><u>Lab: Lab no 05(lab work task)</u></i></b></h2 align=\"center\">\n",
    "<h2 align=\"center\"><b><i><u>Submitted to: Sir Irshad-ullah</u></i></b></h2 align=\"center\">"
   ]
  },
  {
   "cell_type": "markdown",
   "id": "0f3e0d0a-5af4-4255-9e12-026082fab0bf",
   "metadata": {},
   "source": [
    "***"
   ]
  },
  {
   "cell_type": "markdown",
   "id": "d0688ff2",
   "metadata": {},
   "source": [
    "# Work tasks\n",
    "2. Define a class point in 2 dimension coordinate system. Your class must have the appropriate __init__ method. i. Add appropriate property methods. (@property and @property.setter)ii. In addition, add instance method for the distance between points.iii. Add another instance method for calculating the distance from origin. iv. Add another method with the name locate to display the coordinate in which the point is located. v. Add __repr__ and __str__ to the class. vi. Add proper annotation and doc string to every class and instance method. "
   ]
  },
  {
   "cell_type": "code",
   "execution_count": 5,
   "id": "3e5d5cda",
   "metadata": {},
   "outputs": [],
   "source": [
    "import math\n",
    "class point:\n",
    "    \"\"\"\n",
    "    Represents a point in a 2-dimensional coordinate system.\n",
    "    \"\"\"\n",
    "\n",
    "    def __init__(self, x: float, y: float) -> None:\n",
    "        \"\"\"\n",
    "        Initializes a point object.\n",
    "        \"\"\"\n",
    "        self._x = x\n",
    "        self._y = y\n",
    "\n",
    "    @property\n",
    "    def x(self) -> float:\n",
    "        \"\"\"\n",
    "        Gets the x-coordinate.\n",
    "        \"\"\"\n",
    "        return self._x\n",
    "\n",
    "    @x.setter\n",
    "    def x(self, value: float) -> None:\n",
    "        \"\"\"\n",
    "        Sets the x-coordinate.\n",
    "        \"\"\"\n",
    "        self._x = value\n",
    "\n",
    "    @property\n",
    "    def y(self) -> float:\n",
    "        \"\"\"\n",
    "        Gets the y-coordinate.\n",
    "        \"\"\"\n",
    "        return self._y\n",
    "\n",
    "    @y.setter\n",
    "    def y(self, value: float) -> None:\n",
    "        \"\"\"\n",
    "        Sets the y-coordinate.\n",
    "        \"\"\"\n",
    "        self._y = value\n",
    "\n",
    "    def distance(self, other) -> float:\n",
    "        \"\"\"\n",
    "        Calculates the distance between this point and another point.\n",
    "        \"\"\"\n",
    "        return math.sqrt((self.x - other.x) ** 2 + (self.y - other.y) ** 2)\n",
    "\n",
    "    def distance_from_origin(self) -> float:\n",
    "        \"\"\"\n",
    "        Calculates the distance from this point to the origin (0, 0).\n",
    "        \"\"\"\n",
    "        return math.sqrt(self.x ** 2 + self.y ** 2)\n",
    "\n",
    "    def locate(self) -> str:\n",
    "        \"\"\"\n",
    "        Displays the coordinate where the point is located.\n",
    "        \"\"\"\n",
    "        return f\"Point is located at ({self.x}, {self.y})\"\n",
    "\n",
    "    def __repr__(self) -> str:\n",
    "        \"\"\"\n",
    "        Repr is for programmer\n",
    "        \"\"\"\n",
    "        return f\"Point(x={self.x}, y={self.y})\"\n",
    "\n",
    "    def __str__(self) -> str:\n",
    "        \"\"\"\n",
    "        Returns a human-readable string of the point object.\n",
    "        \"\"\"\n",
    "        return f\"Point at ({self.x}, {self.y})\"\n",
    "    "
   ]
  },
  {
   "cell_type": "markdown",
   "id": "b0a2a78f",
   "metadata": {},
   "source": [
    "Define inst_1 and pass two numbers."
   ]
  },
  {
   "cell_type": "code",
   "execution_count": 6,
   "id": "c96d65e9",
   "metadata": {},
   "outputs": [],
   "source": [
    "ins_1= point(2,3)"
   ]
  },
  {
   "cell_type": "markdown",
   "id": "85867a86",
   "metadata": {},
   "source": [
    "Define inst_2 and pass two numbers."
   ]
  },
  {
   "cell_type": "code",
   "execution_count": 9,
   "id": "90684584",
   "metadata": {},
   "outputs": [],
   "source": [
    "ins_2= point(4,7)"
   ]
  },
  {
   "cell_type": "markdown",
   "id": "a4972be7",
   "metadata": {},
   "source": [
    "Print inst_1 and inst_2, for this use the print command and pass theinst_1 and inst_2"
   ]
  },
  {
   "cell_type": "code",
   "execution_count": 12,
   "id": "c2792af5",
   "metadata": {},
   "outputs": [
    {
     "name": "stdout",
     "output_type": "stream",
     "text": [
      "Point at (2, 3)\n"
     ]
    }
   ],
   "source": [
    "print(ins_1)"
   ]
  },
  {
   "cell_type": "code",
   "execution_count": 14,
   "id": "f73316a1",
   "metadata": {},
   "outputs": [
    {
     "name": "stdout",
     "output_type": "stream",
     "text": [
      "Point at (4, 7)\n"
     ]
    }
   ],
   "source": [
    "print(ins_2)"
   ]
  },
  {
   "cell_type": "markdown",
   "id": "e2fbae33",
   "metadata": {},
   "source": [
    "Also print the location of both points. (Add a display method)."
   ]
  },
  {
   "cell_type": "code",
   "execution_count": 20,
   "id": "68b3d659",
   "metadata": {},
   "outputs": [
    {
     "data": {
      "text/plain": [
       "'Point is located at (2, 3)'"
      ]
     },
     "execution_count": 20,
     "metadata": {},
     "output_type": "execute_result"
    }
   ],
   "source": [
    "ins_1.locate()"
   ]
  },
  {
   "cell_type": "code",
   "execution_count": 22,
   "id": "56df3071",
   "metadata": {},
   "outputs": [
    {
     "data": {
      "text/plain": [
       "'Point is located at (4, 7)'"
      ]
     },
     "execution_count": 22,
     "metadata": {},
     "output_type": "execute_result"
    }
   ],
   "source": [
    "ins_2.locate()"
   ]
  },
  {
   "cell_type": "markdown",
   "id": "553d1fce",
   "metadata": {},
   "source": [
    "Calculate the distance between these two pints. "
   ]
  },
  {
   "cell_type": "code",
   "execution_count": 25,
   "id": "83933677",
   "metadata": {},
   "outputs": [],
   "source": [
    "a=point(2,3)"
   ]
  },
  {
   "cell_type": "code",
   "execution_count": 27,
   "id": "ee501f10",
   "metadata": {},
   "outputs": [],
   "source": [
    "b=point(4,1)"
   ]
  },
  {
   "cell_type": "code",
   "execution_count": 29,
   "id": "e436d49a",
   "metadata": {},
   "outputs": [
    {
     "data": {
      "text/plain": [
       "2.8284271247461903"
      ]
     },
     "execution_count": 29,
     "metadata": {},
     "output_type": "execute_result"
    }
   ],
   "source": [
    "a.distance(b)"
   ]
  },
  {
   "cell_type": "markdown",
   "id": "7ad1a566",
   "metadata": {},
   "source": [
    "Call the __dict__ by the class name."
   ]
  },
  {
   "cell_type": "code",
   "execution_count": 32,
   "id": "7db19bee",
   "metadata": {},
   "outputs": [
    {
     "data": {
      "text/plain": [
       "mappingproxy({'__module__': '__main__',\n",
       "              '__doc__': '\\n    Represents a point in a 2-dimensional coordinate system.\\n    ',\n",
       "              '__init__': <function __main__.point.__init__(self, x: float, y: float) -> None>,\n",
       "              'x': <property at 0x1c521099c10>,\n",
       "              'y': <property at 0x1c521099c60>,\n",
       "              'distance': <function __main__.point.distance(self, other) -> float>,\n",
       "              'distance_from_origin': <function __main__.point.distance_from_origin(self) -> float>,\n",
       "              'locate': <function __main__.point.locate(self) -> str>,\n",
       "              '__repr__': <function __main__.point.__repr__(self) -> str>,\n",
       "              '__str__': <function __main__.point.__str__(self) -> str>,\n",
       "              '__dict__': <attribute '__dict__' of 'point' objects>,\n",
       "              '__weakref__': <attribute '__weakref__' of 'point' objects>})"
      ]
     },
     "execution_count": 32,
     "metadata": {},
     "output_type": "execute_result"
    }
   ],
   "source": [
    "point.__dict__"
   ]
  },
  {
   "cell_type": "markdown",
   "id": "17a77721",
   "metadata": {},
   "source": [
    "Also pass the class name to the vars built-in function."
   ]
  },
  {
   "cell_type": "code",
   "execution_count": 35,
   "id": "046c5b4c",
   "metadata": {},
   "outputs": [
    {
     "data": {
      "text/plain": [
       "mappingproxy({'__module__': '__main__',\n",
       "              '__doc__': '\\n    Represents a point in a 2-dimensional coordinate system.\\n    ',\n",
       "              '__init__': <function __main__.point.__init__(self, x: float, y: float) -> None>,\n",
       "              'x': <property at 0x1c521099c10>,\n",
       "              'y': <property at 0x1c521099c60>,\n",
       "              'distance': <function __main__.point.distance(self, other) -> float>,\n",
       "              'distance_from_origin': <function __main__.point.distance_from_origin(self) -> float>,\n",
       "              'locate': <function __main__.point.locate(self) -> str>,\n",
       "              '__repr__': <function __main__.point.__repr__(self) -> str>,\n",
       "              '__str__': <function __main__.point.__str__(self) -> str>,\n",
       "              '__dict__': <attribute '__dict__' of 'point' objects>,\n",
       "              '__weakref__': <attribute '__weakref__' of 'point' objects>})"
      ]
     },
     "execution_count": 35,
     "metadata": {},
     "output_type": "execute_result"
    }
   ],
   "source": [
    "vars(point)"
   ]
  },
  {
   "cell_type": "markdown",
   "id": "88a5eb2b",
   "metadata": {},
   "source": [
    "Call the __dict__ on the object of the class."
   ]
  },
  {
   "cell_type": "code",
   "execution_count": 38,
   "id": "f471ec27",
   "metadata": {},
   "outputs": [
    {
     "data": {
      "text/plain": [
       "{'_x': 2, '_y': 3}"
      ]
     },
     "execution_count": 38,
     "metadata": {},
     "output_type": "execute_result"
    }
   ],
   "source": [
    "ins_1.__dict__"
   ]
  },
  {
   "cell_type": "code",
   "execution_count": 40,
   "id": "ee448852",
   "metadata": {},
   "outputs": [
    {
     "data": {
      "text/plain": [
       "{'_x': 4, '_y': 7}"
      ]
     },
     "execution_count": 40,
     "metadata": {},
     "output_type": "execute_result"
    }
   ],
   "source": [
    "ins_2.__dict__"
   ]
  },
  {
   "cell_type": "markdown",
   "id": "47329c55",
   "metadata": {},
   "source": [
    "Pass the class name to help. "
   ]
  },
  {
   "cell_type": "code",
   "execution_count": 43,
   "id": "dabdc2f0",
   "metadata": {},
   "outputs": [
    {
     "name": "stdout",
     "output_type": "stream",
     "text": [
      "Help on class point in module __main__:\n",
      "\n",
      "class point(builtins.object)\n",
      " |  point(x: float, y: float) -> None\n",
      " |\n",
      " |  Represents a point in a 2-dimensional coordinate system.\n",
      " |\n",
      " |  Methods defined here:\n",
      " |\n",
      " |  __init__(self, x: float, y: float) -> None\n",
      " |      Initializes a point object.\n",
      " |\n",
      " |  __repr__(self) -> str\n",
      " |      Repr is for programmer\n",
      " |\n",
      " |  __str__(self) -> str\n",
      " |      Returns a human-readable string of the point object.\n",
      " |\n",
      " |  distance(self, other) -> float\n",
      " |      Calculates the distance between this point and another point.\n",
      " |\n",
      " |  distance_from_origin(self) -> float\n",
      " |      Calculates the distance from this point to the origin (0, 0).\n",
      " |\n",
      " |  locate(self) -> str\n",
      " |      Displays the coordinate where the point is located.\n",
      " |\n",
      " |  ----------------------------------------------------------------------\n",
      " |  Data descriptors defined here:\n",
      " |\n",
      " |  __dict__\n",
      " |      dictionary for instance variables\n",
      " |\n",
      " |  __weakref__\n",
      " |      list of weak references to the object\n",
      " |\n",
      " |  x\n",
      " |      Gets the x-coordinate.\n",
      " |\n",
      " |  y\n",
      " |      Gets the y-coordinate.\n",
      "\n"
     ]
    }
   ],
   "source": [
    "help(point)"
   ]
  },
  {
   "cell_type": "markdown",
   "id": "1f56fc37",
   "metadata": {},
   "source": [
    "Print the doc-string and annotations of both the class and each instance method. "
   ]
  },
  {
   "cell_type": "code",
   "execution_count": 46,
   "id": "99ae3b1f",
   "metadata": {},
   "outputs": [
    {
     "name": "stdout",
     "output_type": "stream",
     "text": [
      "\n",
      "    Represents a point in a 2-dimensional coordinate system.\n",
      "    \n"
     ]
    }
   ],
   "source": [
    "print(point.__doc__)"
   ]
  },
  {
   "cell_type": "code",
   "execution_count": 48,
   "id": "c3966927",
   "metadata": {},
   "outputs": [
    {
     "name": "stdout",
     "output_type": "stream",
     "text": [
      "\n",
      "        Initializes a point object.\n",
      "        \n"
     ]
    }
   ],
   "source": [
    "print(point.__init__.__doc__)"
   ]
  },
  {
   "cell_type": "code",
   "execution_count": 50,
   "id": "caf511aa",
   "metadata": {},
   "outputs": [
    {
     "name": "stdout",
     "output_type": "stream",
     "text": [
      "\n",
      "        Gets the x-coordinate.\n",
      "        \n"
     ]
    }
   ],
   "source": [
    "print(point.x.__doc__)"
   ]
  },
  {
   "cell_type": "code",
   "execution_count": 52,
   "id": "e2240c0d",
   "metadata": {},
   "outputs": [
    {
     "name": "stdout",
     "output_type": "stream",
     "text": [
      "\n",
      "        Gets the y-coordinate.\n",
      "        \n"
     ]
    }
   ],
   "source": [
    "print(point.y.__doc__)"
   ]
  },
  {
   "cell_type": "code",
   "execution_count": 54,
   "id": "d48f3be1",
   "metadata": {},
   "outputs": [
    {
     "name": "stdout",
     "output_type": "stream",
     "text": [
      "\n",
      "        Calculates the distance between this point and another point.\n",
      "        \n"
     ]
    }
   ],
   "source": [
    "print(point.distance.__doc__)"
   ]
  },
  {
   "cell_type": "code",
   "execution_count": 56,
   "id": "cffddd47",
   "metadata": {},
   "outputs": [
    {
     "name": "stdout",
     "output_type": "stream",
     "text": [
      "\n",
      "        Calculates the distance from this point to the origin (0, 0).\n",
      "        \n"
     ]
    }
   ],
   "source": [
    "print(point.distance_from_origin.__doc__)"
   ]
  },
  {
   "cell_type": "code",
   "execution_count": 58,
   "id": "37775659",
   "metadata": {},
   "outputs": [
    {
     "name": "stdout",
     "output_type": "stream",
     "text": [
      "\n",
      "        Displays the coordinate where the point is located.\n",
      "        \n"
     ]
    }
   ],
   "source": [
    "print(point.locate.__doc__)"
   ]
  },
  {
   "cell_type": "code",
   "execution_count": 60,
   "id": "2d25eb16",
   "metadata": {},
   "outputs": [
    {
     "name": "stdout",
     "output_type": "stream",
     "text": [
      "\n",
      "        Repr is for programmer\n",
      "        \n"
     ]
    }
   ],
   "source": [
    "print(point.__repr__.__doc__)"
   ]
  },
  {
   "cell_type": "code",
   "execution_count": 62,
   "id": "76f374f5",
   "metadata": {},
   "outputs": [
    {
     "name": "stdout",
     "output_type": "stream",
     "text": [
      "\n",
      "        Returns a human-readable string of the point object.\n",
      "        \n"
     ]
    }
   ],
   "source": [
    "print(point.__str__.__doc__)"
   ]
  },
  {
   "cell_type": "code",
   "execution_count": 64,
   "id": "522c6861",
   "metadata": {},
   "outputs": [
    {
     "name": "stdout",
     "output_type": "stream",
     "text": [
      "{'x': <class 'float'>, 'y': <class 'float'>, 'return': None}\n"
     ]
    }
   ],
   "source": [
    "print(point.__init__.__annotations__)"
   ]
  },
  {
   "cell_type": "code",
   "execution_count": 66,
   "id": "bbb45d46",
   "metadata": {},
   "outputs": [
    {
     "name": "stdout",
     "output_type": "stream",
     "text": [
      "{'return': <class 'float'>}\n"
     ]
    }
   ],
   "source": [
    "print(point.distance.__annotations__)"
   ]
  },
  {
   "cell_type": "code",
   "execution_count": 68,
   "id": "61599e2c",
   "metadata": {},
   "outputs": [
    {
     "name": "stdout",
     "output_type": "stream",
     "text": [
      "{'return': <class 'float'>}\n"
     ]
    }
   ],
   "source": [
    "print(point.distance_from_origin.__annotations__)"
   ]
  },
  {
   "cell_type": "code",
   "execution_count": 70,
   "id": "85d588de",
   "metadata": {},
   "outputs": [
    {
     "name": "stdout",
     "output_type": "stream",
     "text": [
      "{'return': <class 'str'>}\n"
     ]
    }
   ],
   "source": [
    "print(point.locate.__annotations__)"
   ]
  },
  {
   "cell_type": "code",
   "execution_count": 72,
   "id": "7baaa51c",
   "metadata": {},
   "outputs": [
    {
     "name": "stdout",
     "output_type": "stream",
     "text": [
      "{'return': <class 'str'>}\n"
     ]
    }
   ],
   "source": [
    "print(point.__repr__.__annotations__)"
   ]
  },
  {
   "cell_type": "code",
   "execution_count": 74,
   "id": "c9f6263e",
   "metadata": {},
   "outputs": [
    {
     "name": "stdout",
     "output_type": "stream",
     "text": [
      "{'return': <class 'str'>}\n"
     ]
    }
   ],
   "source": [
    "print(point.__str__.__annotations__)"
   ]
  },
  {
   "cell_type": "markdown",
   "id": "7d573362",
   "metadata": {},
   "source": [
    "Modify the __init__ by by making its parameters default and verify by instances."
   ]
  },
  {
   "cell_type": "code",
   "execution_count": 78,
   "id": "28fc1db1",
   "metadata": {},
   "outputs": [],
   "source": [
    "class Point:\n",
    "    \"\"\"Represents a point in a 2-dimensional coordinate system.\"\"\"\n",
    "\n",
    "    def __init__(self, x: float = 3.0, y: float = 5.3) -> None:\n",
    "        \"\"\"Initializes a point object with default coordinates (0, 0).\"\"\"\n",
    "        self._x = x\n",
    "        self._y = y"
   ]
  },
  {
   "cell_type": "code",
   "execution_count": 80,
   "id": "fa566712",
   "metadata": {},
   "outputs": [],
   "source": [
    "ins_1 = Point()"
   ]
  },
  {
   "cell_type": "code",
   "execution_count": 82,
   "id": "76b0ae50",
   "metadata": {},
   "outputs": [],
   "source": [
    "ins_2 = Point()"
   ]
  },
  {
   "cell_type": "markdown",
   "id": "62884e7f",
   "metadata": {},
   "source": [
    "3. Define a class circle. Your class must have the appropriate __init__ method. i. Add appropriate property methods. (@property and @property.setter)ii. In addition, add an instance method for the volume of a cylinder with the given radius.iii. Add property method for area, circumference, and diameter. iv. Add __repr__ and __str__ to the class. v. Add proper annotation and doc string to every class and instance method."
   ]
  },
  {
   "cell_type": "code",
   "execution_count": 90,
   "id": "0cb10c59",
   "metadata": {},
   "outputs": [],
   "source": [
    "import math\n",
    "class circle:\n",
    "    \"\"\"\n",
    "    Represents a circle with radius\n",
    "    \"\"\"\n",
    "    def __init__(self, radius: float):\n",
    "        \"\"\"\n",
    "        Initializes a circle object.\n",
    "        \"\"\"\n",
    "        self._radius = radius\n",
    "    @property\n",
    "    def radius(self) -> float:\n",
    "        \"\"\"\n",
    "        Gets the radius of the circle.\n",
    "        \"\"\"\n",
    "        return self._radius\n",
    "\n",
    "    @radius.setter\n",
    "    def radius(self, value: float):\n",
    "        \"\"\"\n",
    "        Sets the radius of the circle.\n",
    "        \"\"\"\n",
    "        self._radius = value\n",
    "\n",
    "    @property\n",
    "    def area(self) -> float:\n",
    "        \"\"\"\n",
    "        Calculates the area of the circle.\n",
    "        \"\"\"\n",
    "        return math.pi * self._radius ** 2\n",
    "\n",
    "    @property\n",
    "    def circumference(self) -> float:\n",
    "        \"\"\"\n",
    "        Calculates the circumference of the circle.\n",
    "        \"\"\"\n",
    "        return 2 * math.pi * self._radius\n",
    "\n",
    "    @property\n",
    "    def diameter(self) -> float:\n",
    "        \"\"\"\n",
    "        Calculates the diameter of the circle.\n",
    "        \"\"\"\n",
    "        return 2 * self._radius\n",
    "\n",
    "    def volume(self, height: float) -> float:\n",
    "        \"\"\"\n",
    "        Calculates the volume of a cylinder with the given radius and height.\n",
    "        \"\"\"\n",
    "        return math.pi * self._radius ** 2 * height\n",
    "\n",
    "    def __repr__(self) -> str:\n",
    "        \"\"\"\n",
    "        Returns a string representation of the circle object.\n",
    "        \"\"\"\n",
    "        return f\"circle(radius={self._radius})\"\n",
    "\n",
    "    def __str__(self) -> str:\n",
    "        \"\"\"\n",
    "        Returns a human-readable string of the circle object.\n",
    "        \"\"\"\n",
    "        return f\"circle with radius {self._radius:.2f}\""
   ]
  },
  {
   "cell_type": "markdown",
   "id": "88f9f220",
   "metadata": {},
   "source": [
    "Define inst_1 and pass two numbers. "
   ]
  },
  {
   "cell_type": "code",
   "execution_count": 93,
   "id": "8c4dbc42",
   "metadata": {},
   "outputs": [],
   "source": [
    "inst_1 = circle(5)"
   ]
  },
  {
   "cell_type": "markdown",
   "id": "9a08b880",
   "metadata": {},
   "source": [
    "Make another instance inst2. "
   ]
  },
  {
   "cell_type": "code",
   "execution_count": 98,
   "id": "2e6d2f7a",
   "metadata": {},
   "outputs": [],
   "source": [
    "inst_2 =  circle(7)"
   ]
  },
  {
   "cell_type": "markdown",
   "id": "a3e8a797",
   "metadata": {},
   "source": [
    "Print inst_1 and inst_2, for this use the print command and pass the inst_1 and inst_2. "
   ]
  },
  {
   "cell_type": "code",
   "execution_count": 101,
   "id": "a39aba90",
   "metadata": {},
   "outputs": [
    {
     "name": "stdout",
     "output_type": "stream",
     "text": [
      "circle with radius 5.00\n"
     ]
    }
   ],
   "source": [
    "print(inst_1)"
   ]
  },
  {
   "cell_type": "code",
   "execution_count": 103,
   "id": "45607265",
   "metadata": {},
   "outputs": [
    {
     "name": "stdout",
     "output_type": "stream",
     "text": [
      "circle with radius 7.00\n"
     ]
    }
   ],
   "source": [
    "print(inst_2)"
   ]
  },
  {
   "cell_type": "markdown",
   "id": "b9b30f1d",
   "metadata": {},
   "source": [
    "Call the __dict__ by the class name. "
   ]
  },
  {
   "cell_type": "code",
   "execution_count": 106,
   "id": "99968ca2",
   "metadata": {},
   "outputs": [
    {
     "data": {
      "text/plain": [
       "mappingproxy({'__module__': '__main__',\n",
       "              '__doc__': '\\n    Represents a circle with radius\\n    ',\n",
       "              '__init__': <function __main__.circle.__init__(self, radius: float)>,\n",
       "              'radius': <property at 0x1c524474bd0>,\n",
       "              'area': <property at 0x1c524474c20>,\n",
       "              'circumference': <property at 0x1c5244752b0>,\n",
       "              'diameter': <property at 0x1c524474c70>,\n",
       "              'volume': <function __main__.circle.volume(self, height: float) -> float>,\n",
       "              '__repr__': <function __main__.circle.__repr__(self) -> str>,\n",
       "              '__str__': <function __main__.circle.__str__(self) -> str>,\n",
       "              '__dict__': <attribute '__dict__' of 'circle' objects>,\n",
       "              '__weakref__': <attribute '__weakref__' of 'circle' objects>})"
      ]
     },
     "execution_count": 106,
     "metadata": {},
     "output_type": "execute_result"
    }
   ],
   "source": [
    "circle.__dict__"
   ]
  },
  {
   "cell_type": "markdown",
   "id": "a258d470",
   "metadata": {},
   "source": [
    "Also pass the class name to the vars built-in function."
   ]
  },
  {
   "cell_type": "code",
   "execution_count": 112,
   "id": "f85ee71f",
   "metadata": {},
   "outputs": [
    {
     "data": {
      "text/plain": [
       "mappingproxy({'__module__': '__main__',\n",
       "              '__doc__': '\\n    Represents a circle with radius\\n    ',\n",
       "              '__init__': <function __main__.circle.__init__(self, radius: float)>,\n",
       "              'radius': <property at 0x1c524474bd0>,\n",
       "              'area': <property at 0x1c524474c20>,\n",
       "              'circumference': <property at 0x1c5244752b0>,\n",
       "              'diameter': <property at 0x1c524474c70>,\n",
       "              'volume': <function __main__.circle.volume(self, height: float) -> float>,\n",
       "              '__repr__': <function __main__.circle.__repr__(self) -> str>,\n",
       "              '__str__': <function __main__.circle.__str__(self) -> str>,\n",
       "              '__dict__': <attribute '__dict__' of 'circle' objects>,\n",
       "              '__weakref__': <attribute '__weakref__' of 'circle' objects>})"
      ]
     },
     "execution_count": 112,
     "metadata": {},
     "output_type": "execute_result"
    }
   ],
   "source": [
    "vars(circle)"
   ]
  },
  {
   "cell_type": "markdown",
   "id": "dd5a1a86",
   "metadata": {},
   "source": [
    "Call the __dict__ on the object of the class."
   ]
  },
  {
   "cell_type": "code",
   "execution_count": 115,
   "id": "72359048",
   "metadata": {},
   "outputs": [
    {
     "name": "stdout",
     "output_type": "stream",
     "text": [
      "{'_radius': 5}\n"
     ]
    }
   ],
   "source": [
    "print(inst_1.__dict__)"
   ]
  },
  {
   "cell_type": "markdown",
   "id": "73ecc434",
   "metadata": {},
   "source": [
    "Pass the class name to help."
   ]
  },
  {
   "cell_type": "code",
   "execution_count": 118,
   "id": "9fb07d00",
   "metadata": {},
   "outputs": [
    {
     "name": "stdout",
     "output_type": "stream",
     "text": [
      "Help on class circle in module __main__:\n",
      "\n",
      "class circle(builtins.object)\n",
      " |  circle(radius: float)\n",
      " |\n",
      " |  Represents a circle with radius\n",
      " |\n",
      " |  Methods defined here:\n",
      " |\n",
      " |  __init__(self, radius: float)\n",
      " |      Initializes a circle object.\n",
      " |\n",
      " |  __repr__(self) -> str\n",
      " |      Returns a string representation of the circle object.\n",
      " |\n",
      " |  __str__(self) -> str\n",
      " |      Returns a human-readable string of the circle object.\n",
      " |\n",
      " |  volume(self, height: float) -> float\n",
      " |      Calculates the volume of a cylinder with the given radius and height.\n",
      " |\n",
      " |  ----------------------------------------------------------------------\n",
      " |  Readonly properties defined here:\n",
      " |\n",
      " |  area\n",
      " |      Calculates the area of the circle.\n",
      " |\n",
      " |  circumference\n",
      " |      Calculates the circumference of the circle.\n",
      " |\n",
      " |  diameter\n",
      " |      Calculates the diameter of the circle.\n",
      " |\n",
      " |  ----------------------------------------------------------------------\n",
      " |  Data descriptors defined here:\n",
      " |\n",
      " |  __dict__\n",
      " |      dictionary for instance variables\n",
      " |\n",
      " |  __weakref__\n",
      " |      list of weak references to the object\n",
      " |\n",
      " |  radius\n",
      " |      Gets the radius of the circle.\n",
      "\n"
     ]
    }
   ],
   "source": [
    "help(circle)"
   ]
  },
  {
   "cell_type": "markdown",
   "id": "355d1bb9",
   "metadata": {},
   "source": [
    "Print the doc-string and annotations of both the class and each instance method."
   ]
  },
  {
   "cell_type": "code",
   "execution_count": 121,
   "id": "f1a34397",
   "metadata": {},
   "outputs": [
    {
     "name": "stdout",
     "output_type": "stream",
     "text": [
      "\n",
      "    Represents a circle with radius\n",
      "    \n"
     ]
    }
   ],
   "source": [
    "print(circle.__doc__)"
   ]
  },
  {
   "cell_type": "code",
   "execution_count": 123,
   "id": "c28fbcbd",
   "metadata": {},
   "outputs": [
    {
     "name": "stdout",
     "output_type": "stream",
     "text": [
      "{}\n"
     ]
    }
   ],
   "source": [
    "print(circle.__annotations__)"
   ]
  },
  {
   "cell_type": "code",
   "execution_count": 125,
   "id": "2952d510",
   "metadata": {},
   "outputs": [
    {
     "name": "stdout",
     "output_type": "stream",
     "text": [
      "\n",
      "    Represents a circle with radius\n",
      "    \n"
     ]
    }
   ],
   "source": [
    "# Class doc-string\n",
    "print(circle.__doc__)"
   ]
  },
  {
   "cell_type": "code",
   "execution_count": 127,
   "id": "57e895bf",
   "metadata": {},
   "outputs": [
    {
     "name": "stdout",
     "output_type": "stream",
     "text": [
      "{}\n"
     ]
    }
   ],
   "source": [
    "# Class annotations\n",
    "print(circle.__annotations__)"
   ]
  },
  {
   "cell_type": "code",
   "execution_count": 129,
   "id": "e07bdd29",
   "metadata": {},
   "outputs": [
    {
     "name": "stdout",
     "output_type": "stream",
     "text": [
      "\n",
      "        Initializes a circle object.\n",
      "        \n"
     ]
    }
   ],
   "source": [
    "# __init__ method doc-string\n",
    "print(circle.__init__.__doc__)"
   ]
  },
  {
   "cell_type": "code",
   "execution_count": 131,
   "id": "86a3a870",
   "metadata": {},
   "outputs": [
    {
     "name": "stdout",
     "output_type": "stream",
     "text": [
      "{'radius': <class 'float'>}\n"
     ]
    }
   ],
   "source": [
    "# __init__ method annotations\n",
    "print(circle.__init__.__annotations__)"
   ]
  },
  {
   "cell_type": "code",
   "execution_count": 133,
   "id": "ae2cc699",
   "metadata": {},
   "outputs": [
    {
     "name": "stdout",
     "output_type": "stream",
     "text": [
      "\n",
      "        Returns a string representation of the circle object.\n",
      "        \n"
     ]
    }
   ],
   "source": [
    "# __repr__ method doc-string\n",
    "print(circle.__repr__.__doc__)"
   ]
  },
  {
   "cell_type": "code",
   "execution_count": 135,
   "id": "edfcba07",
   "metadata": {},
   "outputs": [
    {
     "name": "stdout",
     "output_type": "stream",
     "text": [
      "\n",
      "        Returns a human-readable string of the circle object.\n",
      "        \n"
     ]
    }
   ],
   "source": [
    "# __str__ method doc-string\n",
    "print(circle.__str__.__doc__)"
   ]
  },
  {
   "cell_type": "markdown",
   "id": "a3869acb",
   "metadata": {},
   "source": [
    "Modify the __init__ by making its parameters default and verify by instances."
   ]
  },
  {
   "cell_type": "code",
   "execution_count": 144,
   "id": "c0fe726e",
   "metadata": {},
   "outputs": [],
   "source": [
    "class circle:\n",
    "    \"\"\"Represents a circle with radius.\"\"\"\n",
    "    def __init__(self, radius: float = 1.2):\n",
    "        \"\"\"Initializes a circle object with default radius\"\"\"\n",
    "        self._radius = radius"
   ]
  },
  {
   "cell_type": "code",
   "execution_count": 146,
   "id": "98f1b61e",
   "metadata": {},
   "outputs": [],
   "source": [
    "# Verify by instances:\n",
    "circle1 = circle()"
   ]
  },
  {
   "cell_type": "markdown",
   "id": "3acfc359",
   "metadata": {},
   "source": [
    "4- Define a class RLC for a series RLC circuit. Your class must have the appropriate __init__ method. i. Add appropriate property methods. (@property and @property.setter)ii. Add property method for impedance, phase, and power factor. iii. In addition, add an instance method for the current in the circuit with a given input voltage.iv. Add __repr__ and __str__ to the class. v. Add proper annotation and doc string to every class and instance method. "
   ]
  },
  {
   "cell_type": "code",
   "execution_count": 149,
   "id": "83056bbd",
   "metadata": {},
   "outputs": [],
   "source": [
    "import math\n",
    "class series_RLC_circuit:\n",
    "    \"\"\"\n",
    "    Represents a series RLC circuit.\n",
    "    \"\"\"\n",
    "\n",
    "    def __init__(self, R: float, X_L: float, X_C: float) -> None:\n",
    "        \"\"\"\n",
    "        Initializes an RLC circuit object.\n",
    "        \"\"\"\n",
    "        self._R = R\n",
    "        self._X_L = X_L\n",
    "        self._X_C = X_C\n",
    "    @property\n",
    "    def R(self) -> float:\n",
    "        \"\"\"\n",
    "        Gets the resistance.\n",
    "        \"\"\"\n",
    "        return self._R\n",
    "\n",
    "    @R.setter\n",
    "    def R(self, value: float) -> None:\n",
    "        \"\"\"\n",
    "        Sets the resistance.\n",
    "        \"\"\"\n",
    "        self._R = value\n",
    "\n",
    "    @property\n",
    "    def X_L(self) -> float:\n",
    "        \"\"\"\n",
    "        Gets the inductance.\n",
    "        \"\"\"\n",
    "        return self._X_L\n",
    "\n",
    "    @X_L.setter\n",
    "    def X_L(self, value: float) -> None:\n",
    "        \"\"\"\n",
    "        Sets the inductance.\n",
    "        \"\"\"\n",
    "        self._X_L = value\n",
    "\n",
    "    @property\n",
    "    def X_C(self) -> float:\n",
    "        \"\"\"\n",
    "        Gets the capacitance.\n",
    "        \"\"\"\n",
    "        return self._X_C\n",
    "\n",
    "    @X_C.setter\n",
    "    def X_C(self, value: float) -> None:\n",
    "        \"\"\"\n",
    "        Sets the capacitance.\n",
    "        \"\"\"\n",
    "        self._X_C = value\n",
    "    @property\n",
    "    def impedance(self) -> float:\n",
    "        \"\"\"\n",
    "        Calculates the impedance.\n",
    "        \"\"\"\n",
    "        reactance= X_L-X_C\n",
    "        return math.sqrt(self.R ** 2 + reactance ** 2)\n",
    "\n",
    "    @property\n",
    "    def phase(self) -> float:\n",
    "        \"\"\"\n",
    "        Calculates the phase angle.\n",
    "        \"\"\"\n",
    "        reactance= X_L-X_C\n",
    "        return math.atan(reactance / self.R)\n",
    "\n",
    "    @property\n",
    "    def power_factor(self) -> float:\n",
    "        \"\"\"\n",
    "        Calculates the power factor.\n",
    "        \"\"\"\n",
    "        return math.cos(self.phase)\n",
    "\n",
    "    def current(self, voltage: float) -> float:\n",
    "        \"\"\"\n",
    "        Calculates the current.\n",
    "        \"\"\"\n",
    "        return voltage / self.impedance\n",
    "\n",
    "    def __repr__(self) -> str:\n",
    "        \"\"\"\n",
    "        Returns a string representation of the RLC circuit object.\n",
    "        \"\"\"\n",
    "        return f\"string representation of the RLC circuit object.\"\n",
    "    def __str__(self):\n",
    "        return f\"series_RLC_circuit has {self.R} ohms resistance,{self.X_L} henry inductance,{self.X_C} farad capacitor\""
   ]
  },
  {
   "cell_type": "markdown",
   "id": "e67c932e",
   "metadata": {},
   "source": [
    "Define inst_1 and pass two numbers. "
   ]
  },
  {
   "cell_type": "code",
   "execution_count": 152,
   "id": "e36e6dde",
   "metadata": {},
   "outputs": [],
   "source": [
    "inst_1 = series_RLC_circuit(2.9,8.0,7.4)"
   ]
  },
  {
   "cell_type": "markdown",
   "id": "9d14202b",
   "metadata": {},
   "source": [
    "Make another instance inst2. "
   ]
  },
  {
   "cell_type": "code",
   "execution_count": 155,
   "id": "903989c7",
   "metadata": {},
   "outputs": [],
   "source": [
    "inst_2 = series_RLC_circuit(4.0,5.3,0.6)"
   ]
  },
  {
   "cell_type": "markdown",
   "id": "9bfb897e",
   "metadata": {},
   "source": [
    "Print inst_1 and inst_2, for this use the print command and pass theinst_1 and inst_2."
   ]
  },
  {
   "cell_type": "code",
   "execution_count": 158,
   "id": "9fb1f6b6",
   "metadata": {},
   "outputs": [
    {
     "name": "stdout",
     "output_type": "stream",
     "text": [
      "series_RLC_circuit has 2.9 ohms resistance,8.0 henry inductance,7.4 farad capacitor\n"
     ]
    }
   ],
   "source": [
    "print(inst_1)"
   ]
  },
  {
   "cell_type": "code",
   "execution_count": 160,
   "id": "cf1eeb83",
   "metadata": {},
   "outputs": [
    {
     "name": "stdout",
     "output_type": "stream",
     "text": [
      "series_RLC_circuit has 4.0 ohms resistance,5.3 henry inductance,0.6 farad capacitor\n"
     ]
    }
   ],
   "source": [
    "print(inst_2)"
   ]
  },
  {
   "cell_type": "markdown",
   "id": "e9aefdef",
   "metadata": {},
   "source": [
    "Call the __dict__ by the class name."
   ]
  },
  {
   "cell_type": "code",
   "execution_count": 163,
   "id": "161dc75f",
   "metadata": {},
   "outputs": [
    {
     "data": {
      "text/plain": [
       "mappingproxy({'__module__': '__main__',\n",
       "              '__doc__': '\\n    Represents a series RLC circuit.\\n    ',\n",
       "              '__init__': <function __main__.series_RLC_circuit.__init__(self, R: float, X_L: float, X_C: float) -> None>,\n",
       "              'R': <property at 0x1c5237050d0>,\n",
       "              'X_L': <property at 0x1c5237056c0>,\n",
       "              'X_C': <property at 0x1c5237053a0>,\n",
       "              'impedance': <property at 0x1c52272ae80>,\n",
       "              'phase': <property at 0x1c523705a30>,\n",
       "              'power_factor': <property at 0x1c523705120>,\n",
       "              'current': <function __main__.series_RLC_circuit.current(self, voltage: float) -> float>,\n",
       "              '__repr__': <function __main__.series_RLC_circuit.__repr__(self) -> str>,\n",
       "              '__str__': <function __main__.series_RLC_circuit.__str__(self)>,\n",
       "              '__dict__': <attribute '__dict__' of 'series_RLC_circuit' objects>,\n",
       "              '__weakref__': <attribute '__weakref__' of 'series_RLC_circuit' objects>})"
      ]
     },
     "execution_count": 163,
     "metadata": {},
     "output_type": "execute_result"
    }
   ],
   "source": [
    "series_RLC_circuit.__dict__"
   ]
  },
  {
   "cell_type": "markdown",
   "id": "c2f8a09c",
   "metadata": {},
   "source": [
    "Also pass the class name to the vars built-in function."
   ]
  },
  {
   "cell_type": "code",
   "execution_count": 166,
   "id": "fce9f74b",
   "metadata": {},
   "outputs": [
    {
     "data": {
      "text/plain": [
       "mappingproxy({'__module__': '__main__',\n",
       "              '__doc__': '\\n    Represents a series RLC circuit.\\n    ',\n",
       "              '__init__': <function __main__.series_RLC_circuit.__init__(self, R: float, X_L: float, X_C: float) -> None>,\n",
       "              'R': <property at 0x1c5237050d0>,\n",
       "              'X_L': <property at 0x1c5237056c0>,\n",
       "              'X_C': <property at 0x1c5237053a0>,\n",
       "              'impedance': <property at 0x1c52272ae80>,\n",
       "              'phase': <property at 0x1c523705a30>,\n",
       "              'power_factor': <property at 0x1c523705120>,\n",
       "              'current': <function __main__.series_RLC_circuit.current(self, voltage: float) -> float>,\n",
       "              '__repr__': <function __main__.series_RLC_circuit.__repr__(self) -> str>,\n",
       "              '__str__': <function __main__.series_RLC_circuit.__str__(self)>,\n",
       "              '__dict__': <attribute '__dict__' of 'series_RLC_circuit' objects>,\n",
       "              '__weakref__': <attribute '__weakref__' of 'series_RLC_circuit' objects>})"
      ]
     },
     "execution_count": 166,
     "metadata": {},
     "output_type": "execute_result"
    }
   ],
   "source": [
    "vars(series_RLC_circuit)"
   ]
  },
  {
   "cell_type": "markdown",
   "id": "e9e17423",
   "metadata": {},
   "source": [
    "Call the __dict__ on the object of the class."
   ]
  },
  {
   "cell_type": "code",
   "execution_count": 169,
   "id": "bd59918c",
   "metadata": {},
   "outputs": [
    {
     "data": {
      "text/plain": [
       "{'_R': 2.9, '_X_L': 8.0, '_X_C': 7.4}"
      ]
     },
     "execution_count": 169,
     "metadata": {},
     "output_type": "execute_result"
    }
   ],
   "source": [
    "inst_1.__dict__"
   ]
  },
  {
   "cell_type": "code",
   "execution_count": 171,
   "id": "83020767",
   "metadata": {},
   "outputs": [
    {
     "data": {
      "text/plain": [
       "{'_R': 4.0, '_X_L': 5.3, '_X_C': 0.6}"
      ]
     },
     "execution_count": 171,
     "metadata": {},
     "output_type": "execute_result"
    }
   ],
   "source": [
    "inst_2.__dict__"
   ]
  },
  {
   "cell_type": "markdown",
   "id": "b3e13458",
   "metadata": {},
   "source": [
    "Pass the class name to help. "
   ]
  },
  {
   "cell_type": "code",
   "execution_count": 174,
   "id": "f7fda967",
   "metadata": {},
   "outputs": [
    {
     "name": "stdout",
     "output_type": "stream",
     "text": [
      "Help on class series_RLC_circuit in module __main__:\n",
      "\n",
      "class series_RLC_circuit(builtins.object)\n",
      " |  series_RLC_circuit(R: float, X_L: float, X_C: float) -> None\n",
      " |\n",
      " |  Represents a series RLC circuit.\n",
      " |\n",
      " |  Methods defined here:\n",
      " |\n",
      " |  __init__(self, R: float, X_L: float, X_C: float) -> None\n",
      " |      Initializes an RLC circuit object.\n",
      " |\n",
      " |  __repr__(self) -> str\n",
      " |      Returns a string representation of the RLC circuit object.\n",
      " |\n",
      " |  __str__(self)\n",
      " |      Return str(self).\n",
      " |\n",
      " |  current(self, voltage: float) -> float\n",
      " |      Calculates the current.\n",
      " |\n",
      " |  ----------------------------------------------------------------------\n",
      " |  Readonly properties defined here:\n",
      " |\n",
      " |  impedance\n",
      " |      Calculates the impedance.\n",
      " |\n",
      " |  phase\n",
      " |      Calculates the phase angle.\n",
      " |\n",
      " |  power_factor\n",
      " |      Calculates the power factor.\n",
      " |\n",
      " |  ----------------------------------------------------------------------\n",
      " |  Data descriptors defined here:\n",
      " |\n",
      " |  R\n",
      " |      Gets the resistance.\n",
      " |\n",
      " |  X_C\n",
      " |      Gets the capacitance.\n",
      " |\n",
      " |  X_L\n",
      " |      Gets the inductance.\n",
      " |\n",
      " |  __dict__\n",
      " |      dictionary for instance variables\n",
      " |\n",
      " |  __weakref__\n",
      " |      list of weak references to the object\n",
      "\n"
     ]
    }
   ],
   "source": [
    "help(series_RLC_circuit)"
   ]
  },
  {
   "cell_type": "markdown",
   "id": "d9bfecdf",
   "metadata": {},
   "source": [
    "Print the doc-string and annotations of both the class and each instance method."
   ]
  },
  {
   "cell_type": "code",
   "execution_count": 177,
   "id": "2c507ba6",
   "metadata": {},
   "outputs": [
    {
     "name": "stdout",
     "output_type": "stream",
     "text": [
      "\n",
      "    Represents a series RLC circuit.\n",
      "    \n"
     ]
    }
   ],
   "source": [
    "print(series_RLC_circuit.__doc__)"
   ]
  },
  {
   "cell_type": "code",
   "execution_count": 179,
   "id": "b0456418",
   "metadata": {},
   "outputs": [
    {
     "name": "stdout",
     "output_type": "stream",
     "text": [
      "\n",
      "        Initializes an RLC circuit object.\n",
      "        \n"
     ]
    }
   ],
   "source": [
    "print(series_RLC_circuit.__init__.__doc__)"
   ]
  },
  {
   "cell_type": "code",
   "execution_count": 183,
   "id": "29f90a54",
   "metadata": {},
   "outputs": [
    {
     "name": "stdout",
     "output_type": "stream",
     "text": [
      "\n",
      "        Gets the resistance.\n",
      "        \n"
     ]
    }
   ],
   "source": [
    "print(series_RLC_circuit.R.__doc__)"
   ]
  },
  {
   "cell_type": "code",
   "execution_count": 187,
   "id": "68312f25",
   "metadata": {},
   "outputs": [
    {
     "name": "stdout",
     "output_type": "stream",
     "text": [
      "\n",
      "        Gets the inductance.\n",
      "        \n"
     ]
    }
   ],
   "source": [
    "print(series_RLC_circuit.X_L.__doc__)"
   ]
  },
  {
   "cell_type": "code",
   "execution_count": 189,
   "id": "96b9c17b",
   "metadata": {},
   "outputs": [
    {
     "name": "stdout",
     "output_type": "stream",
     "text": [
      "\n",
      "        Gets the capacitance.\n",
      "        \n"
     ]
    }
   ],
   "source": [
    "print(series_RLC_circuit.X_C.__doc__)"
   ]
  },
  {
   "cell_type": "code",
   "execution_count": 191,
   "id": "4017975e",
   "metadata": {},
   "outputs": [
    {
     "name": "stdout",
     "output_type": "stream",
     "text": [
      "\n",
      "        Calculates the impedance.\n",
      "        \n"
     ]
    }
   ],
   "source": [
    "print(series_RLC_circuit.impedance.__doc__)"
   ]
  },
  {
   "cell_type": "code",
   "execution_count": 193,
   "id": "4f71e030",
   "metadata": {},
   "outputs": [
    {
     "name": "stdout",
     "output_type": "stream",
     "text": [
      "\n",
      "        Calculates the phase angle.\n",
      "        \n"
     ]
    }
   ],
   "source": [
    "print(series_RLC_circuit.phase.__doc__)"
   ]
  },
  {
   "cell_type": "code",
   "execution_count": 195,
   "id": "9ea86f1f",
   "metadata": {},
   "outputs": [
    {
     "name": "stdout",
     "output_type": "stream",
     "text": [
      "\n",
      "        Calculates the power factor.\n",
      "        \n"
     ]
    }
   ],
   "source": [
    "print(series_RLC_circuit.power_factor.__doc__)"
   ]
  },
  {
   "cell_type": "code",
   "execution_count": 197,
   "id": "03f957ed",
   "metadata": {},
   "outputs": [
    {
     "name": "stdout",
     "output_type": "stream",
     "text": [
      "\n",
      "        Calculates the current.\n",
      "        \n"
     ]
    }
   ],
   "source": [
    "print(series_RLC_circuit.current.__doc__)"
   ]
  },
  {
   "cell_type": "code",
   "execution_count": 199,
   "id": "8804c205",
   "metadata": {},
   "outputs": [
    {
     "name": "stdout",
     "output_type": "stream",
     "text": [
      "\n",
      "        Returns a string representation of the RLC circuit object.\n",
      "        \n"
     ]
    }
   ],
   "source": [
    "print(series_RLC_circuit.__repr__.__doc__)"
   ]
  },
  {
   "cell_type": "code",
   "execution_count": 201,
   "id": "b50e4574",
   "metadata": {},
   "outputs": [
    {
     "name": "stdout",
     "output_type": "stream",
     "text": [
      "{'R': <class 'float'>, 'X_L': <class 'float'>, 'X_C': <class 'float'>, 'return': None}\n"
     ]
    }
   ],
   "source": [
    "print(series_RLC_circuit.__init__.__annotations__)"
   ]
  },
  {
   "cell_type": "code",
   "execution_count": 203,
   "id": "cd1e3916",
   "metadata": {},
   "outputs": [
    {
     "name": "stdout",
     "output_type": "stream",
     "text": [
      "{'voltage': <class 'float'>, 'return': <class 'float'>}\n"
     ]
    }
   ],
   "source": [
    "print(series_RLC_circuit.current.__annotations__)"
   ]
  },
  {
   "cell_type": "code",
   "execution_count": 205,
   "id": "21d49008",
   "metadata": {},
   "outputs": [
    {
     "name": "stdout",
     "output_type": "stream",
     "text": [
      "{'return': <class 'str'>}\n"
     ]
    }
   ],
   "source": [
    "print(series_RLC_circuit.__repr__.__annotations__)"
   ]
  },
  {
   "cell_type": "markdown",
   "id": "02541285",
   "metadata": {},
   "source": [
    "Modify the __init__ by making its parameters default and verify by instances."
   ]
  },
  {
   "cell_type": "code",
   "execution_count": 218,
   "id": "f334f0ba",
   "metadata": {},
   "outputs": [],
   "source": [
    "class series_RLC_circuit:\n",
    "    \"\"\"Represents a series RLC circuit.\"\"\"\n",
    "    def __init__(self, R= 7.0, X_L= 4.0, X_C= 9.2) -> None:\n",
    "        \"\"\"Initializes an RLC circuit object with default values.\"\"\"\n",
    "        self._R = R\n",
    "        self._X_L = X_L\n",
    "        self._X_C = X_C"
   ]
  },
  {
   "cell_type": "code",
   "execution_count": 220,
   "id": "45b370a8",
   "metadata": {},
   "outputs": [],
   "source": [
    "r= series_RLC_circuit()  "
   ]
  },
  {
   "cell_type": "markdown",
   "id": "f4550839",
   "metadata": {},
   "source": [
    "# Math:"
   ]
  },
  {
   "cell_type": "markdown",
   "id": "9e70a9e1",
   "metadata": {},
   "source": [
    "4. Square: A four-sided polygon (quadrilateral) with all sides of equal length and all angles 90 degrees."
   ]
  },
  {
   "cell_type": "code",
   "execution_count": 223,
   "id": "002357b8",
   "metadata": {},
   "outputs": [],
   "source": [
    "class Square:\n",
    "    \"\"\"A class to represent a square in 2D space.\"\"\"\n",
    "\n",
    "    def __init__(self, side_length: float):\n",
    "        \"\"\"Initialize the square with a side length.\n",
    "        \"\"\"\n",
    "        self._side_length = side_length\n",
    "\n",
    "    @property\n",
    "    def side_length(self) -> float:\n",
    "        \"\"\"Get the length of a side of the square.\"\"\"\n",
    "        return self._side_length\n",
    "\n",
    "    @side_length.setter\n",
    "    def side_length(self, value: float):\n",
    "        \"\"\"Set the length of a side of the square.\n",
    "        \"\"\"\n",
    "        self._side_length = value\n",
    "\n",
    "    def area(self) -> float:\n",
    "        \"\"\"Calculate the area of the square.\n",
    "        \"\"\"\n",
    "        return self._side_length ** 2\n",
    "\n",
    "    def perimeter(self) -> float:\n",
    "        \"\"\"Calculate the perimeter of the square.\n",
    "        \"\"\"\n",
    "        return 4 * self._side_length\n",
    "\n",
    "    def locate(self) -> str:\n",
    "        \"\"\"Provide a description of the square's properties.\n",
    "        \"\"\"\n",
    "        return (f\"Square with side length: {self.side_length},Area: {self.area()}, Perimeter: {self.perimeter()}\")\n",
    "\n",
    "    def __repr__(self) -> str:\n",
    "        \"\"\"repr is for programmer.\"\"\"\n",
    "        return f\"Square(side_length={self._side_length})\"\n",
    "    def __str__(self) -> str:\n",
    "        \"\"\"str is for common person or human readable\"\"\"\n",
    "        return (f\"Square with side length: {self.side_length},Area: {self.area()}, Perimeter: {self.perimeter()}\")"
   ]
  },
  {
   "cell_type": "code",
   "execution_count": 225,
   "id": "0753fa53",
   "metadata": {},
   "outputs": [],
   "source": [
    "inst_1=Square(3)"
   ]
  },
  {
   "cell_type": "code",
   "execution_count": 227,
   "id": "72a55086",
   "metadata": {},
   "outputs": [],
   "source": [
    "inst_2=Square(2)"
   ]
  },
  {
   "cell_type": "code",
   "execution_count": 229,
   "id": "8f75cbd7",
   "metadata": {},
   "outputs": [
    {
     "name": "stdout",
     "output_type": "stream",
     "text": [
      "Square with side length: 3,Area: 9, Perimeter: 12\n"
     ]
    }
   ],
   "source": [
    "print(inst_1)"
   ]
  },
  {
   "cell_type": "code",
   "execution_count": 231,
   "id": "2b76ffc1",
   "metadata": {},
   "outputs": [
    {
     "name": "stdout",
     "output_type": "stream",
     "text": [
      "Square with side length: 2,Area: 4, Perimeter: 8\n"
     ]
    }
   ],
   "source": [
    "print(inst_2)"
   ]
  },
  {
   "cell_type": "code",
   "execution_count": 233,
   "id": "366c44e7",
   "metadata": {},
   "outputs": [
    {
     "data": {
      "text/plain": [
       "mappingproxy({'__module__': '__main__',\n",
       "              '__doc__': 'A class to represent a square in 2D space.',\n",
       "              '__init__': <function __main__.Square.__init__(self, side_length: float)>,\n",
       "              'side_length': <property at 0x1c5244e56c0>,\n",
       "              'area': <function __main__.Square.area(self) -> float>,\n",
       "              'perimeter': <function __main__.Square.perimeter(self) -> float>,\n",
       "              'locate': <function __main__.Square.locate(self) -> str>,\n",
       "              '__repr__': <function __main__.Square.__repr__(self) -> str>,\n",
       "              '__str__': <function __main__.Square.__str__(self) -> str>,\n",
       "              '__dict__': <attribute '__dict__' of 'Square' objects>,\n",
       "              '__weakref__': <attribute '__weakref__' of 'Square' objects>})"
      ]
     },
     "execution_count": 233,
     "metadata": {},
     "output_type": "execute_result"
    }
   ],
   "source": [
    "Square.__dict__"
   ]
  },
  {
   "cell_type": "code",
   "execution_count": 235,
   "id": "2f31cb53",
   "metadata": {},
   "outputs": [
    {
     "data": {
      "text/plain": [
       "{'_side_length': 3}"
      ]
     },
     "execution_count": 235,
     "metadata": {},
     "output_type": "execute_result"
    }
   ],
   "source": [
    "inst_1.__dict__"
   ]
  },
  {
   "cell_type": "code",
   "execution_count": 237,
   "id": "75c66a15",
   "metadata": {},
   "outputs": [
    {
     "data": {
      "text/plain": [
       "{'_side_length': 2}"
      ]
     },
     "execution_count": 237,
     "metadata": {},
     "output_type": "execute_result"
    }
   ],
   "source": [
    "inst_2.__dict__"
   ]
  },
  {
   "cell_type": "code",
   "execution_count": 239,
   "id": "eb6be438",
   "metadata": {},
   "outputs": [
    {
     "data": {
      "text/plain": [
       "mappingproxy({'__module__': '__main__',\n",
       "              '__doc__': 'A class to represent a square in 2D space.',\n",
       "              '__init__': <function __main__.Square.__init__(self, side_length: float)>,\n",
       "              'side_length': <property at 0x1c5244e56c0>,\n",
       "              'area': <function __main__.Square.area(self) -> float>,\n",
       "              'perimeter': <function __main__.Square.perimeter(self) -> float>,\n",
       "              'locate': <function __main__.Square.locate(self) -> str>,\n",
       "              '__repr__': <function __main__.Square.__repr__(self) -> str>,\n",
       "              '__str__': <function __main__.Square.__str__(self) -> str>,\n",
       "              '__dict__': <attribute '__dict__' of 'Square' objects>,\n",
       "              '__weakref__': <attribute '__weakref__' of 'Square' objects>})"
      ]
     },
     "execution_count": 239,
     "metadata": {},
     "output_type": "execute_result"
    }
   ],
   "source": [
    "vars(Square)"
   ]
  },
  {
   "cell_type": "code",
   "execution_count": 241,
   "id": "42cbd69c",
   "metadata": {},
   "outputs": [
    {
     "name": "stdout",
     "output_type": "stream",
     "text": [
      "Help on class Square in module __main__:\n",
      "\n",
      "class Square(builtins.object)\n",
      " |  Square(side_length: float)\n",
      " |\n",
      " |  A class to represent a square in 2D space.\n",
      " |\n",
      " |  Methods defined here:\n",
      " |\n",
      " |  __init__(self, side_length: float)\n",
      " |      Initialize the square with a side length.\n",
      " |\n",
      " |  __repr__(self) -> str\n",
      " |      repr is for programmer.\n",
      " |\n",
      " |  __str__(self) -> str\n",
      " |      str is for common person or human readable\n",
      " |\n",
      " |  area(self) -> float\n",
      " |      Calculate the area of the square.\n",
      " |\n",
      " |  locate(self) -> str\n",
      " |      Provide a description of the square's properties.\n",
      " |\n",
      " |  perimeter(self) -> float\n",
      " |      Calculate the perimeter of the square.\n",
      " |\n",
      " |  ----------------------------------------------------------------------\n",
      " |  Data descriptors defined here:\n",
      " |\n",
      " |  __dict__\n",
      " |      dictionary for instance variables\n",
      " |\n",
      " |  __weakref__\n",
      " |      list of weak references to the object\n",
      " |\n",
      " |  side_length\n",
      " |      Get the length of a side of the square.\n",
      "\n"
     ]
    }
   ],
   "source": [
    "help(Square)"
   ]
  },
  {
   "cell_type": "code",
   "execution_count": 243,
   "id": "acec9ae8",
   "metadata": {},
   "outputs": [
    {
     "name": "stdout",
     "output_type": "stream",
     "text": [
      "A class to represent a square in 2D space.\n"
     ]
    }
   ],
   "source": [
    "print(Square.__doc__)"
   ]
  },
  {
   "cell_type": "code",
   "execution_count": 245,
   "id": "f5e49c14",
   "metadata": {},
   "outputs": [
    {
     "name": "stdout",
     "output_type": "stream",
     "text": [
      "Initialize the square with a side length.\n",
      "        \n"
     ]
    }
   ],
   "source": [
    "print(Square.__init__.__doc__)"
   ]
  },
  {
   "cell_type": "code",
   "execution_count": 247,
   "id": "cc3de4b8",
   "metadata": {},
   "outputs": [
    {
     "name": "stdout",
     "output_type": "stream",
     "text": [
      "Calculate the area of the square.\n",
      "        \n"
     ]
    }
   ],
   "source": [
    "print(Square.area.__doc__)"
   ]
  },
  {
   "cell_type": "code",
   "execution_count": 249,
   "id": "47053e0e",
   "metadata": {},
   "outputs": [
    {
     "name": "stdout",
     "output_type": "stream",
     "text": [
      "Calculate the perimeter of the square.\n",
      "        \n"
     ]
    }
   ],
   "source": [
    "print(Square.perimeter.__doc__)"
   ]
  },
  {
   "cell_type": "code",
   "execution_count": 251,
   "id": "46fd2e5b",
   "metadata": {},
   "outputs": [
    {
     "name": "stdout",
     "output_type": "stream",
     "text": [
      "Provide a description of the square's properties.\n",
      "        \n"
     ]
    }
   ],
   "source": [
    "print(Square.locate.__doc__)"
   ]
  },
  {
   "cell_type": "code",
   "execution_count": 253,
   "id": "eb67b44c",
   "metadata": {},
   "outputs": [
    {
     "name": "stdout",
     "output_type": "stream",
     "text": [
      "repr is for programmer.\n"
     ]
    }
   ],
   "source": [
    "print(Square.__repr__.__doc__)"
   ]
  },
  {
   "cell_type": "code",
   "execution_count": 255,
   "id": "96c866d0",
   "metadata": {},
   "outputs": [
    {
     "name": "stdout",
     "output_type": "stream",
     "text": [
      "str is for common person or human readable\n"
     ]
    }
   ],
   "source": [
    "print(Square.__str__.__doc__)"
   ]
  },
  {
   "cell_type": "code",
   "execution_count": 257,
   "id": "95681ad7",
   "metadata": {},
   "outputs": [],
   "source": [
    "class Square:\n",
    "    \"\"\"A class to represent a square in 2D space.\"\"\"\n",
    "\n",
    "    def __init__(self, side_length: float=4):\n",
    "        \"\"\"Initialize the square with a side length.\n",
    "        \"\"\"\n",
    "        self._side_length = side_length"
   ]
  },
  {
   "cell_type": "code",
   "execution_count": 259,
   "id": "8a654609",
   "metadata": {},
   "outputs": [],
   "source": [
    "sq=Square()"
   ]
  },
  {
   "cell_type": "markdown",
   "id": "df470688",
   "metadata": {},
   "source": [
    "Rectangle: A four-sided polygon where opposite sides are equal in length and all angles are 90 degrees."
   ]
  },
  {
   "cell_type": "code",
   "execution_count": 272,
   "id": "b4311ed1",
   "metadata": {},
   "outputs": [],
   "source": [
    "class Rectangle:\n",
    "    \"\"\"A class to represent a rectangle in 2D space.\"\"\"\n",
    "    def __init__(self, width: float, height: float):\n",
    "        \"\"\"Initialize the rectangle with width and height.\n",
    "        \"\"\"\n",
    "        self._width = width\n",
    "        self._height = height\n",
    "    @property\n",
    "    def width(self) -> float:\n",
    "        \"\"\"Get the width of the rectangle.\"\"\"\n",
    "        return self._width\n",
    "    @width.setter\n",
    "    def width(self, value: float):\n",
    "        \"\"\"Set the width of the rectangle.\n",
    "        \"\"\"\n",
    "        self._width = value\n",
    "    @property\n",
    "    def height(self) -> float:\n",
    "        \"\"\"Get the height of the rectangle.\"\"\"\n",
    "        return self._height\n",
    "    @height.setter\n",
    "    def height(self, value: float):\n",
    "        \"\"\"Set the height of the rectangle.\n",
    "        \"\"\"\n",
    "        self._height = value\n",
    "    def area(self) -> float:\n",
    "        \"\"\"Calculate the area of the rectangle.\n",
    "        \"\"\"\n",
    "        return self._width * self._height\n",
    "    def perimeter(self) -> float:\n",
    "        \"\"\"Calculate the perimeter of the rectangle.\n",
    "        \"\"\"\n",
    "        return 2 * (self._width + self._height)\n",
    "    def locate(self) -> str:\n",
    "        \"\"\"Provide a description of the rectangle's properties.\n",
    "        \"\"\"\n",
    "        return (f\"Rectangle with width: {self.width}, height: {self.height}\")\n",
    "    def __repr__(self) -> str:\n",
    "        \"\"\"repr is for programmer\"\"\"\n",
    "        return f\"Rectangle(width={self._width}, height={self._height})\"\n",
    "    def __str__(self) -> str:\n",
    "        \"\"\"str is for common person\"\"\"\n",
    "        return (f\"Rectangle with width {self.width} & height {self.height} \")"
   ]
  },
  {
   "cell_type": "code",
   "execution_count": 274,
   "id": "50a7bc19",
   "metadata": {},
   "outputs": [],
   "source": [
    "inst_1=Rectangle(5,9)"
   ]
  },
  {
   "cell_type": "code",
   "execution_count": 276,
   "id": "21bbfc20",
   "metadata": {},
   "outputs": [],
   "source": [
    "inst_2=Rectangle(6,12)"
   ]
  },
  {
   "cell_type": "code",
   "execution_count": 278,
   "id": "29d36891",
   "metadata": {},
   "outputs": [
    {
     "name": "stdout",
     "output_type": "stream",
     "text": [
      "Rectangle with width 5 & height 9 \n"
     ]
    }
   ],
   "source": [
    "print(inst_1)"
   ]
  },
  {
   "cell_type": "code",
   "execution_count": 280,
   "id": "5a6afeaf",
   "metadata": {},
   "outputs": [
    {
     "name": "stdout",
     "output_type": "stream",
     "text": [
      "Rectangle with width 6 & height 12 \n"
     ]
    }
   ],
   "source": [
    "print(inst_2)"
   ]
  },
  {
   "cell_type": "code",
   "execution_count": 282,
   "id": "67f8d080",
   "metadata": {},
   "outputs": [
    {
     "data": {
      "text/plain": [
       "mappingproxy({'__module__': '__main__',\n",
       "              '__doc__': 'A class to represent a rectangle in 2D space.',\n",
       "              '__init__': <function __main__.Rectangle.__init__(self, width: float, height: float)>,\n",
       "              'width': <property at 0x1c5244ffbf0>,\n",
       "              'height': <property at 0x1c5244fe840>,\n",
       "              'area': <function __main__.Rectangle.area(self) -> float>,\n",
       "              'perimeter': <function __main__.Rectangle.perimeter(self) -> float>,\n",
       "              'locate': <function __main__.Rectangle.locate(self) -> str>,\n",
       "              '__repr__': <function __main__.Rectangle.__repr__(self) -> str>,\n",
       "              '__str__': <function __main__.Rectangle.__str__(self) -> str>,\n",
       "              '__dict__': <attribute '__dict__' of 'Rectangle' objects>,\n",
       "              '__weakref__': <attribute '__weakref__' of 'Rectangle' objects>})"
      ]
     },
     "execution_count": 282,
     "metadata": {},
     "output_type": "execute_result"
    }
   ],
   "source": [
    "Rectangle.__dict__"
   ]
  },
  {
   "cell_type": "code",
   "execution_count": 284,
   "id": "54f1e46b",
   "metadata": {},
   "outputs": [
    {
     "data": {
      "text/plain": [
       "{'_width': 5, '_height': 9}"
      ]
     },
     "execution_count": 284,
     "metadata": {},
     "output_type": "execute_result"
    }
   ],
   "source": [
    "inst_1.__dict__"
   ]
  },
  {
   "cell_type": "code",
   "execution_count": 286,
   "id": "a6677b3d",
   "metadata": {},
   "outputs": [
    {
     "data": {
      "text/plain": [
       "{'_width': 6, '_height': 12}"
      ]
     },
     "execution_count": 286,
     "metadata": {},
     "output_type": "execute_result"
    }
   ],
   "source": [
    "inst_2.__dict__"
   ]
  },
  {
   "cell_type": "code",
   "execution_count": 288,
   "id": "6250a75e",
   "metadata": {},
   "outputs": [
    {
     "data": {
      "text/plain": [
       "mappingproxy({'__module__': '__main__',\n",
       "              '__doc__': 'A class to represent a rectangle in 2D space.',\n",
       "              '__init__': <function __main__.Rectangle.__init__(self, width: float, height: float)>,\n",
       "              'width': <property at 0x1c5244ffbf0>,\n",
       "              'height': <property at 0x1c5244fe840>,\n",
       "              'area': <function __main__.Rectangle.area(self) -> float>,\n",
       "              'perimeter': <function __main__.Rectangle.perimeter(self) -> float>,\n",
       "              'locate': <function __main__.Rectangle.locate(self) -> str>,\n",
       "              '__repr__': <function __main__.Rectangle.__repr__(self) -> str>,\n",
       "              '__str__': <function __main__.Rectangle.__str__(self) -> str>,\n",
       "              '__dict__': <attribute '__dict__' of 'Rectangle' objects>,\n",
       "              '__weakref__': <attribute '__weakref__' of 'Rectangle' objects>})"
      ]
     },
     "execution_count": 288,
     "metadata": {},
     "output_type": "execute_result"
    }
   ],
   "source": [
    "vars(Rectangle)"
   ]
  },
  {
   "cell_type": "code",
   "execution_count": 290,
   "id": "cdf9bd84",
   "metadata": {},
   "outputs": [
    {
     "name": "stdout",
     "output_type": "stream",
     "text": [
      "Help on class Rectangle in module __main__:\n",
      "\n",
      "class Rectangle(builtins.object)\n",
      " |  Rectangle(width: float, height: float)\n",
      " |\n",
      " |  A class to represent a rectangle in 2D space.\n",
      " |\n",
      " |  Methods defined here:\n",
      " |\n",
      " |  __init__(self, width: float, height: float)\n",
      " |      Initialize the rectangle with width and height.\n",
      " |\n",
      " |  __repr__(self) -> str\n",
      " |      repr is for programmer\n",
      " |\n",
      " |  __str__(self) -> str\n",
      " |      str is for common person\n",
      " |\n",
      " |  area(self) -> float\n",
      " |      Calculate the area of the rectangle.\n",
      " |\n",
      " |  locate(self) -> str\n",
      " |      Provide a description of the rectangle's properties.\n",
      " |\n",
      " |  perimeter(self) -> float\n",
      " |      Calculate the perimeter of the rectangle.\n",
      " |\n",
      " |  ----------------------------------------------------------------------\n",
      " |  Data descriptors defined here:\n",
      " |\n",
      " |  __dict__\n",
      " |      dictionary for instance variables\n",
      " |\n",
      " |  __weakref__\n",
      " |      list of weak references to the object\n",
      " |\n",
      " |  height\n",
      " |      Get the height of the rectangle.\n",
      " |\n",
      " |  width\n",
      " |      Get the width of the rectangle.\n",
      "\n"
     ]
    }
   ],
   "source": [
    "help(Rectangle)"
   ]
  },
  {
   "cell_type": "code",
   "execution_count": 292,
   "id": "dfa83ae0",
   "metadata": {},
   "outputs": [
    {
     "name": "stdout",
     "output_type": "stream",
     "text": [
      "A class to represent a rectangle in 2D space.\n"
     ]
    }
   ],
   "source": [
    "print(Rectangle.__doc__)"
   ]
  },
  {
   "cell_type": "code",
   "execution_count": 294,
   "id": "21c63ae5",
   "metadata": {},
   "outputs": [
    {
     "name": "stdout",
     "output_type": "stream",
     "text": [
      "Initialize the rectangle with width and height.\n",
      "        \n"
     ]
    }
   ],
   "source": [
    "print(Rectangle.__init__.__doc__)"
   ]
  },
  {
   "cell_type": "code",
   "execution_count": 296,
   "id": "8a2ab3ee",
   "metadata": {},
   "outputs": [
    {
     "name": "stdout",
     "output_type": "stream",
     "text": [
      "Get the width of the rectangle.\n"
     ]
    }
   ],
   "source": [
    "print(Rectangle. width.__doc__)"
   ]
  },
  {
   "cell_type": "code",
   "execution_count": 298,
   "id": "a111e9fe",
   "metadata": {},
   "outputs": [
    {
     "name": "stdout",
     "output_type": "stream",
     "text": [
      "Get the height of the rectangle.\n"
     ]
    }
   ],
   "source": [
    "print(Rectangle.height.__doc__)"
   ]
  },
  {
   "cell_type": "code",
   "execution_count": 300,
   "id": "c7ef9cc1",
   "metadata": {},
   "outputs": [
    {
     "name": "stdout",
     "output_type": "stream",
     "text": [
      "Calculate the area of the rectangle.\n",
      "        \n"
     ]
    }
   ],
   "source": [
    "print(Rectangle.area.__doc__)"
   ]
  },
  {
   "cell_type": "code",
   "execution_count": 302,
   "id": "f4ae1089",
   "metadata": {},
   "outputs": [
    {
     "name": "stdout",
     "output_type": "stream",
     "text": [
      "Calculate the perimeter of the rectangle.\n",
      "        \n"
     ]
    }
   ],
   "source": [
    "print(Rectangle.perimeter.__doc__)"
   ]
  },
  {
   "cell_type": "code",
   "execution_count": 304,
   "id": "a4950f60",
   "metadata": {},
   "outputs": [
    {
     "name": "stdout",
     "output_type": "stream",
     "text": [
      "Provide a description of the rectangle's properties.\n",
      "        \n"
     ]
    }
   ],
   "source": [
    "print(Rectangle.locate.__doc__)"
   ]
  },
  {
   "cell_type": "code",
   "execution_count": 306,
   "id": "a3ed1017",
   "metadata": {},
   "outputs": [
    {
     "name": "stdout",
     "output_type": "stream",
     "text": [
      "repr is for programmer\n"
     ]
    }
   ],
   "source": [
    "print(Rectangle.__repr__.__doc__)"
   ]
  },
  {
   "cell_type": "code",
   "execution_count": 308,
   "id": "2284114c",
   "metadata": {},
   "outputs": [
    {
     "name": "stdout",
     "output_type": "stream",
     "text": [
      "str is for common person\n"
     ]
    }
   ],
   "source": [
    "print(Rectangle.__str__.__doc__)"
   ]
  },
  {
   "cell_type": "code",
   "execution_count": 310,
   "id": "2c93209e",
   "metadata": {},
   "outputs": [],
   "source": [
    "class Rectangle:\n",
    "    \"\"\"A class to represent a rectangle in 2D space.\"\"\"\n",
    "    def __init__(self, width: float=3, height: float=9):\n",
    "        \"\"\"Initialize the rectangle with width and height.\n",
    "        \"\"\"\n",
    "        self._width = width\n",
    "        self._height = height"
   ]
  },
  {
   "cell_type": "code",
   "execution_count": 312,
   "id": "42a72f47",
   "metadata": {},
   "outputs": [],
   "source": [
    "rec=Rectangle()"
   ]
  },
  {
   "cell_type": "markdown",
   "id": "2f28d7e9",
   "metadata": {},
   "source": [
    "Triangle: A three-sided polygon with three edges and three vertices. There are various types of triangles (e.g., equilateral, isosceles, scalene)."
   ]
  },
  {
   "cell_type": "code",
   "execution_count": 323,
   "id": "ab4a278a",
   "metadata": {},
   "outputs": [],
   "source": [
    "class Triangle:\n",
    "    \"\"\"A class to represent a triangle in 2D space.\"\"\"\n",
    "    def __init__(self, side_a: float, side_b: float, side_c: float):\n",
    "        \"\"\"Initialize the triangle with three sides.\n",
    "        \"\"\"\n",
    "        self._side_a = side_a\n",
    "        self._side_b = side_b\n",
    "        self._side_c = side_c\n",
    "    @property\n",
    "    def side_a(self) -> float:\n",
    "        \"\"\"Get the length of the first side.\"\"\"\n",
    "        return self._side_a\n",
    "    @side_a.setter\n",
    "    def side_a(self, value: float):\n",
    "        \"\"\"Set the length of the first side.\n",
    "        \"\"\"\n",
    "        self._side_a = value\n",
    "    @property\n",
    "    def side_b(self) -> float:\n",
    "        \"\"\"Get the length of the second side.\"\"\"\n",
    "        return self._side_b\n",
    "    @side_b.setter\n",
    "    def side_b(self, value: float):\n",
    "        \"\"\"Set the length of the second side.\n",
    "        \"\"\"\n",
    "        self._side_b = value\n",
    "    @property\n",
    "    def side_c(self) -> float:\n",
    "        \"\"\"Get the length of the third side.\"\"\"\n",
    "        return self._side_c\n",
    "    @side_c.setter\n",
    "    def side_c(self, value: float):\n",
    "        \"\"\"Set the length of the third side.\n",
    "        \"\"\"\n",
    "        self._side_c = value\n",
    "    def area(self) -> float:\n",
    "        \"\"\"Calculate the area of the triangle using Heron's formula.\n",
    "        \"\"\"\n",
    "        s = self.perimeter() / 2\n",
    "        return (s * (s - self._side_a) * (s - self._side_b) * (s - self._side_c)) ** 0.5\n",
    "\n",
    "    def perimeter(self) -> float:\n",
    "        \"\"\"Calculate the perimeter of the triangle.\n",
    "        \"\"\"\n",
    "        return self._side_a + self._side_b + self._side_c\n",
    "    def locate(self) -> str:\n",
    "        \"\"\"Provide a description of the triangle's properties.\n",
    "        \"\"\"\n",
    "        return (f\"Triangle with sides: {self.side_a}, {self.side_b}, {self.side_c}\")\n",
    "    def __repr__(self) -> str:\n",
    "        \"\"\"Repr is for programmer\"\"\"\n",
    "        return f\"Triangle(side_a={self._side_a}, side_b={self._side_b}, side_c={self._side_c})\"\n",
    "    def __str__(self) -> str:\n",
    "        \"\"\"Return a user-friendly string representation of the triangle.\"\"\"\n",
    "        return (f\"Triangle with sides {self.side_a}, {self.side_b}, {self.side_c}\")"
   ]
  },
  {
   "cell_type": "code",
   "execution_count": 325,
   "id": "9e44eef4",
   "metadata": {},
   "outputs": [],
   "source": [
    "inst_1=Triangle(2,3,4)"
   ]
  },
  {
   "cell_type": "code",
   "execution_count": 327,
   "id": "dd3c0890",
   "metadata": {},
   "outputs": [],
   "source": [
    "inst_2=Triangle(7,9,6)"
   ]
  },
  {
   "cell_type": "code",
   "execution_count": 329,
   "id": "ed206c08",
   "metadata": {},
   "outputs": [
    {
     "name": "stdout",
     "output_type": "stream",
     "text": [
      "Triangle with sides 2, 3, 4\n"
     ]
    }
   ],
   "source": [
    "print(inst_1)"
   ]
  },
  {
   "cell_type": "code",
   "execution_count": 331,
   "id": "12aad05d",
   "metadata": {},
   "outputs": [
    {
     "name": "stdout",
     "output_type": "stream",
     "text": [
      "Triangle with sides 2, 3, 4\n"
     ]
    }
   ],
   "source": [
    "print(inst_1)"
   ]
  },
  {
   "cell_type": "code",
   "execution_count": 333,
   "id": "4c74ed53",
   "metadata": {},
   "outputs": [
    {
     "data": {
      "text/plain": [
       "mappingproxy({'__module__': '__main__',\n",
       "              '__doc__': 'A class to represent a triangle in 2D space.',\n",
       "              '__init__': <function __main__.Triangle.__init__(self, side_a: float, side_b: float, side_c: float)>,\n",
       "              'side_a': <property at 0x1c5226e3e20>,\n",
       "              'side_b': <property at 0x1c5226e1e90>,\n",
       "              'side_c': <property at 0x1c5226e26b0>,\n",
       "              'area': <function __main__.Triangle.area(self) -> float>,\n",
       "              'perimeter': <function __main__.Triangle.perimeter(self) -> float>,\n",
       "              'locate': <function __main__.Triangle.locate(self) -> str>,\n",
       "              '__repr__': <function __main__.Triangle.__repr__(self) -> str>,\n",
       "              '__str__': <function __main__.Triangle.__str__(self) -> str>,\n",
       "              '__dict__': <attribute '__dict__' of 'Triangle' objects>,\n",
       "              '__weakref__': <attribute '__weakref__' of 'Triangle' objects>})"
      ]
     },
     "execution_count": 333,
     "metadata": {},
     "output_type": "execute_result"
    }
   ],
   "source": [
    "Triangle.__dict__"
   ]
  },
  {
   "cell_type": "code",
   "execution_count": 335,
   "id": "273ed5c7",
   "metadata": {},
   "outputs": [
    {
     "data": {
      "text/plain": [
       "{'_side_a': 2, '_side_b': 3, '_side_c': 4}"
      ]
     },
     "execution_count": 335,
     "metadata": {},
     "output_type": "execute_result"
    }
   ],
   "source": [
    "inst_1.__dict__"
   ]
  },
  {
   "cell_type": "code",
   "execution_count": 337,
   "id": "3b1ca06a",
   "metadata": {},
   "outputs": [
    {
     "data": {
      "text/plain": [
       "{'_side_a': 7, '_side_b': 9, '_side_c': 6}"
      ]
     },
     "execution_count": 337,
     "metadata": {},
     "output_type": "execute_result"
    }
   ],
   "source": [
    "inst_2.__dict__"
   ]
  },
  {
   "cell_type": "code",
   "execution_count": 339,
   "id": "6c739dd4",
   "metadata": {},
   "outputs": [
    {
     "data": {
      "text/plain": [
       "mappingproxy({'__module__': '__main__',\n",
       "              '__doc__': 'A class to represent a triangle in 2D space.',\n",
       "              '__init__': <function __main__.Triangle.__init__(self, side_a: float, side_b: float, side_c: float)>,\n",
       "              'side_a': <property at 0x1c5226e3e20>,\n",
       "              'side_b': <property at 0x1c5226e1e90>,\n",
       "              'side_c': <property at 0x1c5226e26b0>,\n",
       "              'area': <function __main__.Triangle.area(self) -> float>,\n",
       "              'perimeter': <function __main__.Triangle.perimeter(self) -> float>,\n",
       "              'locate': <function __main__.Triangle.locate(self) -> str>,\n",
       "              '__repr__': <function __main__.Triangle.__repr__(self) -> str>,\n",
       "              '__str__': <function __main__.Triangle.__str__(self) -> str>,\n",
       "              '__dict__': <attribute '__dict__' of 'Triangle' objects>,\n",
       "              '__weakref__': <attribute '__weakref__' of 'Triangle' objects>})"
      ]
     },
     "execution_count": 339,
     "metadata": {},
     "output_type": "execute_result"
    }
   ],
   "source": [
    "vars(Triangle)"
   ]
  },
  {
   "cell_type": "code",
   "execution_count": 341,
   "id": "a6069caf",
   "metadata": {},
   "outputs": [
    {
     "name": "stdout",
     "output_type": "stream",
     "text": [
      "Help on class Triangle in module __main__:\n",
      "\n",
      "class Triangle(builtins.object)\n",
      " |  Triangle(side_a: float, side_b: float, side_c: float)\n",
      " |\n",
      " |  A class to represent a triangle in 2D space.\n",
      " |\n",
      " |  Methods defined here:\n",
      " |\n",
      " |  __init__(self, side_a: float, side_b: float, side_c: float)\n",
      " |      Initialize the triangle with three sides.\n",
      " |\n",
      " |  __repr__(self) -> str\n",
      " |      Repr is for programmer\n",
      " |\n",
      " |  __str__(self) -> str\n",
      " |      Return a user-friendly string representation of the triangle.\n",
      " |\n",
      " |  area(self) -> float\n",
      " |      Calculate the area of the triangle using Heron's formula.\n",
      " |\n",
      " |  locate(self) -> str\n",
      " |      Provide a description of the triangle's properties.\n",
      " |\n",
      " |  perimeter(self) -> float\n",
      " |      Calculate the perimeter of the triangle.\n",
      " |\n",
      " |  ----------------------------------------------------------------------\n",
      " |  Data descriptors defined here:\n",
      " |\n",
      " |  __dict__\n",
      " |      dictionary for instance variables\n",
      " |\n",
      " |  __weakref__\n",
      " |      list of weak references to the object\n",
      " |\n",
      " |  side_a\n",
      " |      Get the length of the first side.\n",
      " |\n",
      " |  side_b\n",
      " |      Get the length of the second side.\n",
      " |\n",
      " |  side_c\n",
      " |      Get the length of the third side.\n",
      "\n"
     ]
    }
   ],
   "source": [
    "help(Triangle)"
   ]
  },
  {
   "cell_type": "code",
   "execution_count": 343,
   "id": "7bf939ab",
   "metadata": {},
   "outputs": [
    {
     "name": "stdout",
     "output_type": "stream",
     "text": [
      "A class to represent a triangle in 2D space.\n"
     ]
    }
   ],
   "source": [
    " print(Triangle.__doc__)"
   ]
  },
  {
   "cell_type": "code",
   "execution_count": 345,
   "id": "6f962727",
   "metadata": {},
   "outputs": [
    {
     "name": "stdout",
     "output_type": "stream",
     "text": [
      "Initialize the triangle with three sides.\n",
      "        \n"
     ]
    }
   ],
   "source": [
    " print(Triangle.__init__.__doc__)"
   ]
  },
  {
   "cell_type": "code",
   "execution_count": 347,
   "id": "796293df",
   "metadata": {},
   "outputs": [
    {
     "name": "stdout",
     "output_type": "stream",
     "text": [
      "Get the length of the first side.\n"
     ]
    }
   ],
   "source": [
    " print(Triangle.side_a.__doc__)"
   ]
  },
  {
   "cell_type": "code",
   "execution_count": 349,
   "id": "885818e3",
   "metadata": {},
   "outputs": [
    {
     "name": "stdout",
     "output_type": "stream",
     "text": [
      "Get the length of the second side.\n"
     ]
    }
   ],
   "source": [
    " print(Triangle.side_b.__doc__)"
   ]
  },
  {
   "cell_type": "code",
   "execution_count": 351,
   "id": "12347aba",
   "metadata": {},
   "outputs": [
    {
     "name": "stdout",
     "output_type": "stream",
     "text": [
      "Get the length of the third side.\n"
     ]
    }
   ],
   "source": [
    " print(Triangle.side_c.__doc__)"
   ]
  },
  {
   "cell_type": "code",
   "execution_count": 353,
   "id": "64e17786",
   "metadata": {},
   "outputs": [
    {
     "name": "stdout",
     "output_type": "stream",
     "text": [
      "Calculate the area of the triangle using Heron's formula.\n",
      "        \n"
     ]
    }
   ],
   "source": [
    " print(Triangle.area.__doc__)"
   ]
  },
  {
   "cell_type": "code",
   "execution_count": 355,
   "id": "493183bb",
   "metadata": {},
   "outputs": [
    {
     "name": "stdout",
     "output_type": "stream",
     "text": [
      "Calculate the perimeter of the triangle.\n",
      "        \n"
     ]
    }
   ],
   "source": [
    " print(Triangle.perimeter.__doc__)"
   ]
  },
  {
   "cell_type": "code",
   "execution_count": 357,
   "id": "d56e008a",
   "metadata": {},
   "outputs": [
    {
     "name": "stdout",
     "output_type": "stream",
     "text": [
      "Provide a description of the triangle's properties.\n",
      "        \n"
     ]
    }
   ],
   "source": [
    " print(Triangle.locate.__doc__)"
   ]
  },
  {
   "cell_type": "code",
   "execution_count": 359,
   "id": "3c00be1a",
   "metadata": {},
   "outputs": [
    {
     "name": "stdout",
     "output_type": "stream",
     "text": [
      "Repr is for programmer\n"
     ]
    }
   ],
   "source": [
    " print(Triangle.__repr__.__doc__)"
   ]
  },
  {
   "cell_type": "code",
   "execution_count": 361,
   "id": "36d7e970",
   "metadata": {},
   "outputs": [
    {
     "name": "stdout",
     "output_type": "stream",
     "text": [
      "Return a user-friendly string representation of the triangle.\n"
     ]
    }
   ],
   "source": [
    " print(Triangle.__str__.__doc__)"
   ]
  },
  {
   "cell_type": "code",
   "execution_count": 363,
   "id": "6f21a182",
   "metadata": {},
   "outputs": [],
   "source": [
    "class Triangle:\n",
    "    \"\"\"A class to represent a triangle in 2D space.\"\"\"\n",
    "    def __init__(self, side_a: float=6, side_b: float=7, side_c: float=2):\n",
    "        \"\"\"Initialize the triangle with three sides.\n",
    "        \"\"\"\n",
    "        self._side_a = side_a\n",
    "        self._side_b = side_b\n",
    "        self._side_c = side_c"
   ]
  },
  {
   "cell_type": "code",
   "execution_count": 365,
   "id": "1fb8eefa",
   "metadata": {},
   "outputs": [],
   "source": [
    "tr=Triangle()"
   ]
  },
  {
   "cell_type": "markdown",
   "id": "4b998e6f",
   "metadata": {},
   "source": [
    "Trapezoid (US) / Trapezium (UK): A four-sided figure with at least one pair of parallel sides."
   ]
  },
  {
   "cell_type": "code",
   "execution_count": 368,
   "id": "58605189",
   "metadata": {},
   "outputs": [],
   "source": [
    "class Trapezoid:\n",
    "    \"\"\"A class to represent a trapezoid (or trapezium) in 2D space.\"\"\"\n",
    "\n",
    "    def __init__(self, base1: float, base2: float, height: float):\n",
    "        \"\"\"Initialize the trapezoid with two bases and a height.\n",
    "        \"\"\"\n",
    "        self._base1 = base1\n",
    "        self._base2 = base2\n",
    "        self._height = height\n",
    "\n",
    "    @property\n",
    "    def base1(self) -> float:\n",
    "        \"\"\"Get the length of the first base.\"\"\"\n",
    "        return self._base1\n",
    "\n",
    "    @base1.setter\n",
    "    def base1(self, value: float):\n",
    "        \"\"\"Set the length of the first base.\n",
    "        \"\"\"\n",
    "        self._base1 = value\n",
    "\n",
    "    @property\n",
    "    def base2(self) -> float:\n",
    "        \"\"\"Get the length of the second base.\"\"\"\n",
    "        return self._base2\n",
    "\n",
    "    @base2.setter\n",
    "    def base2(self, value: float):\n",
    "        \"\"\"Set the length of the second base.\n",
    "        \"\"\"\n",
    "        self._base2 = value\n",
    "\n",
    "    @property\n",
    "    def height(self) -> float:\n",
    "        \"\"\"Get the height of the trapezoid.\"\"\"\n",
    "        return self._height\n",
    "\n",
    "    @height.setter\n",
    "    def height(self, value: float):\n",
    "        \"\"\"Set the height of the trapezoid.\n",
    "        \"\"\"\n",
    "        self._height = value\n",
    "\n",
    "    def area(self) -> float:\n",
    "        \"\"\"Calculate the area of the trapezoid.\n",
    "        \"\"\"\n",
    "        return ((self._base1 + self._base2) / 2) * self._height\n",
    "\n",
    "    def perimeter(self, side_a: float, side_b: float) -> float:\n",
    "        \"\"\"Calculate the perimeter of the trapezoid.\n",
    "        \"\"\"\n",
    "        return self._base1 + self._base2 + side_a + side_b\n",
    "\n",
    "    def locate(self) -> str:\n",
    "        \"\"\"Provide a description of the trapezoid's properties.\n",
    "        \"\"\"\n",
    "        return (f\"Trapezoid with bases: {self.base1} and {self.base2}\")\n",
    "\n",
    "    def __repr__(self) -> str:\n",
    "        \"\"\"Repr is for programmer\"\"\"\n",
    "        return (f\"Trapezoid(base1={self._base1}, base2={self._base2}, \"\n",
    "                f\"height={self._height})\")\n",
    "\n",
    "    def __str__(self) -> str:\n",
    "        \"\"\"Return a user-friendly string representation of the trapezoid.\"\"\"\n",
    "        return (f\"Trapezoid with bases {self.base1} and {self.base2}\")\n"
   ]
  },
  {
   "cell_type": "code",
   "execution_count": 370,
   "id": "4bc8bde1",
   "metadata": {},
   "outputs": [],
   "source": [
    "inst_1=Trapezoid(2,3,9)"
   ]
  },
  {
   "cell_type": "code",
   "execution_count": 372,
   "id": "21da6a55",
   "metadata": {},
   "outputs": [],
   "source": [
    "inst_2=Trapezoid(6,7,12)"
   ]
  },
  {
   "cell_type": "code",
   "execution_count": 374,
   "id": "379e42c5",
   "metadata": {},
   "outputs": [
    {
     "name": "stdout",
     "output_type": "stream",
     "text": [
      "Trapezoid with bases 2 and 3\n"
     ]
    }
   ],
   "source": [
    "print(inst_1)"
   ]
  },
  {
   "cell_type": "code",
   "execution_count": 376,
   "id": "196e3c20",
   "metadata": {},
   "outputs": [
    {
     "name": "stdout",
     "output_type": "stream",
     "text": [
      "Trapezoid with bases 6 and 7\n"
     ]
    }
   ],
   "source": [
    "print(inst_2)"
   ]
  },
  {
   "cell_type": "code",
   "execution_count": 378,
   "id": "c932b279",
   "metadata": {},
   "outputs": [
    {
     "data": {
      "text/plain": [
       "mappingproxy({'__module__': '__main__',\n",
       "              '__doc__': 'A class to represent a trapezoid (or trapezium) in 2D space.',\n",
       "              '__init__': <function __main__.Trapezoid.__init__(self, base1: float, base2: float, height: float)>,\n",
       "              'base1': <property at 0x1c522722390>,\n",
       "              'base2': <property at 0x1c5227213f0>,\n",
       "              'height': <property at 0x1c522721c10>,\n",
       "              'area': <function __main__.Trapezoid.area(self) -> float>,\n",
       "              'perimeter': <function __main__.Trapezoid.perimeter(self, side_a: float, side_b: float) -> float>,\n",
       "              'locate': <function __main__.Trapezoid.locate(self) -> str>,\n",
       "              '__repr__': <function __main__.Trapezoid.__repr__(self) -> str>,\n",
       "              '__str__': <function __main__.Trapezoid.__str__(self) -> str>,\n",
       "              '__dict__': <attribute '__dict__' of 'Trapezoid' objects>,\n",
       "              '__weakref__': <attribute '__weakref__' of 'Trapezoid' objects>})"
      ]
     },
     "execution_count": 378,
     "metadata": {},
     "output_type": "execute_result"
    }
   ],
   "source": [
    "Trapezoid.__dict__"
   ]
  },
  {
   "cell_type": "code",
   "execution_count": 380,
   "id": "c63e2f4a",
   "metadata": {},
   "outputs": [
    {
     "data": {
      "text/plain": [
       "{'_base1': 2, '_base2': 3, '_height': 9}"
      ]
     },
     "execution_count": 380,
     "metadata": {},
     "output_type": "execute_result"
    }
   ],
   "source": [
    "inst_1.__dict__"
   ]
  },
  {
   "cell_type": "code",
   "execution_count": 382,
   "id": "9445ba50",
   "metadata": {},
   "outputs": [
    {
     "data": {
      "text/plain": [
       "{'_base1': 6, '_base2': 7, '_height': 12}"
      ]
     },
     "execution_count": 382,
     "metadata": {},
     "output_type": "execute_result"
    }
   ],
   "source": [
    "inst_2.__dict__"
   ]
  },
  {
   "cell_type": "code",
   "execution_count": 384,
   "id": "401443f0",
   "metadata": {},
   "outputs": [
    {
     "data": {
      "text/plain": [
       "mappingproxy({'__module__': '__main__',\n",
       "              '__doc__': 'A class to represent a trapezoid (or trapezium) in 2D space.',\n",
       "              '__init__': <function __main__.Trapezoid.__init__(self, base1: float, base2: float, height: float)>,\n",
       "              'base1': <property at 0x1c522722390>,\n",
       "              'base2': <property at 0x1c5227213f0>,\n",
       "              'height': <property at 0x1c522721c10>,\n",
       "              'area': <function __main__.Trapezoid.area(self) -> float>,\n",
       "              'perimeter': <function __main__.Trapezoid.perimeter(self, side_a: float, side_b: float) -> float>,\n",
       "              'locate': <function __main__.Trapezoid.locate(self) -> str>,\n",
       "              '__repr__': <function __main__.Trapezoid.__repr__(self) -> str>,\n",
       "              '__str__': <function __main__.Trapezoid.__str__(self) -> str>,\n",
       "              '__dict__': <attribute '__dict__' of 'Trapezoid' objects>,\n",
       "              '__weakref__': <attribute '__weakref__' of 'Trapezoid' objects>})"
      ]
     },
     "execution_count": 384,
     "metadata": {},
     "output_type": "execute_result"
    }
   ],
   "source": [
    "vars(Trapezoid)"
   ]
  },
  {
   "cell_type": "code",
   "execution_count": 386,
   "id": "2deb67b1",
   "metadata": {},
   "outputs": [
    {
     "name": "stdout",
     "output_type": "stream",
     "text": [
      "Help on class Trapezoid in module __main__:\n",
      "\n",
      "class Trapezoid(builtins.object)\n",
      " |  Trapezoid(base1: float, base2: float, height: float)\n",
      " |\n",
      " |  A class to represent a trapezoid (or trapezium) in 2D space.\n",
      " |\n",
      " |  Methods defined here:\n",
      " |\n",
      " |  __init__(self, base1: float, base2: float, height: float)\n",
      " |      Initialize the trapezoid with two bases and a height.\n",
      " |\n",
      " |  __repr__(self) -> str\n",
      " |      Repr is for programmer\n",
      " |\n",
      " |  __str__(self) -> str\n",
      " |      Return a user-friendly string representation of the trapezoid.\n",
      " |\n",
      " |  area(self) -> float\n",
      " |      Calculate the area of the trapezoid.\n",
      " |\n",
      " |  locate(self) -> str\n",
      " |      Provide a description of the trapezoid's properties.\n",
      " |\n",
      " |  perimeter(self, side_a: float, side_b: float) -> float\n",
      " |      Calculate the perimeter of the trapezoid.\n",
      " |\n",
      " |  ----------------------------------------------------------------------\n",
      " |  Data descriptors defined here:\n",
      " |\n",
      " |  __dict__\n",
      " |      dictionary for instance variables\n",
      " |\n",
      " |  __weakref__\n",
      " |      list of weak references to the object\n",
      " |\n",
      " |  base1\n",
      " |      Get the length of the first base.\n",
      " |\n",
      " |  base2\n",
      " |      Get the length of the second base.\n",
      " |\n",
      " |  height\n",
      " |      Get the height of the trapezoid.\n",
      "\n"
     ]
    }
   ],
   "source": [
    "help(Trapezoid)"
   ]
  },
  {
   "cell_type": "code",
   "execution_count": 388,
   "id": "c7411418",
   "metadata": {},
   "outputs": [
    {
     "name": "stdout",
     "output_type": "stream",
     "text": [
      "A class to represent a trapezoid (or trapezium) in 2D space.\n"
     ]
    }
   ],
   "source": [
    "print(Trapezoid.__doc__)"
   ]
  },
  {
   "cell_type": "code",
   "execution_count": 390,
   "id": "f76b906f",
   "metadata": {},
   "outputs": [
    {
     "name": "stdout",
     "output_type": "stream",
     "text": [
      "Initialize the trapezoid with two bases and a height.\n",
      "        \n"
     ]
    }
   ],
   "source": [
    "print(Trapezoid.__init__.__doc__)"
   ]
  },
  {
   "cell_type": "code",
   "execution_count": 392,
   "id": "ee495290",
   "metadata": {},
   "outputs": [
    {
     "name": "stdout",
     "output_type": "stream",
     "text": [
      "Get the length of the first base.\n"
     ]
    }
   ],
   "source": [
    "print(Trapezoid.base1.__doc__)"
   ]
  },
  {
   "cell_type": "code",
   "execution_count": 394,
   "id": "c8da76f5",
   "metadata": {},
   "outputs": [
    {
     "name": "stdout",
     "output_type": "stream",
     "text": [
      "Get the length of the second base.\n"
     ]
    }
   ],
   "source": [
    "print(Trapezoid.base2.__doc__)"
   ]
  },
  {
   "cell_type": "code",
   "execution_count": 396,
   "id": "e41cc22d",
   "metadata": {},
   "outputs": [
    {
     "name": "stdout",
     "output_type": "stream",
     "text": [
      "Get the height of the trapezoid.\n"
     ]
    }
   ],
   "source": [
    "print(Trapezoid.height.__doc__)"
   ]
  },
  {
   "cell_type": "code",
   "execution_count": 398,
   "id": "48b22878",
   "metadata": {},
   "outputs": [
    {
     "name": "stdout",
     "output_type": "stream",
     "text": [
      "Calculate the area of the trapezoid.\n",
      "        \n"
     ]
    }
   ],
   "source": [
    "print(Trapezoid.area.__doc__)"
   ]
  },
  {
   "cell_type": "code",
   "execution_count": 399,
   "id": "8bda014d",
   "metadata": {},
   "outputs": [
    {
     "name": "stdout",
     "output_type": "stream",
     "text": [
      "Calculate the perimeter of the trapezoid.\n",
      "        \n"
     ]
    }
   ],
   "source": [
    "print(Trapezoid.perimeter.__doc__)"
   ]
  },
  {
   "cell_type": "code",
   "execution_count": 402,
   "id": "882d4295",
   "metadata": {},
   "outputs": [
    {
     "name": "stdout",
     "output_type": "stream",
     "text": [
      "Provide a description of the trapezoid's properties.\n",
      "        \n"
     ]
    }
   ],
   "source": [
    "print(Trapezoid.locate.__doc__)"
   ]
  },
  {
   "cell_type": "code",
   "execution_count": 404,
   "id": "3936f03a",
   "metadata": {},
   "outputs": [
    {
     "name": "stdout",
     "output_type": "stream",
     "text": [
      "Repr is for programmer\n"
     ]
    }
   ],
   "source": [
    "print(Trapezoid.__repr__.__doc__)"
   ]
  },
  {
   "cell_type": "code",
   "execution_count": 406,
   "id": "8aad685b",
   "metadata": {},
   "outputs": [
    {
     "name": "stdout",
     "output_type": "stream",
     "text": [
      "Return a user-friendly string representation of the trapezoid.\n"
     ]
    }
   ],
   "source": [
    "print(Trapezoid.__str__.__doc__)"
   ]
  },
  {
   "cell_type": "code",
   "execution_count": 408,
   "id": "0cba9b64",
   "metadata": {},
   "outputs": [],
   "source": [
    "class Trapezoid:\n",
    "    \"\"\"A class to represent a trapezoid (or trapezium) in 2D space.\"\"\"\n",
    "\n",
    "    def __init__(self, base1: float=9, base2: float=8, height: float=15):\n",
    "        \"\"\"Initialize the trapezoid with two bases and a height.\n",
    "        \"\"\"\n",
    "        self._base1 = base1\n",
    "        self._base2 = base2\n",
    "        self._height = height"
   ]
  },
  {
   "cell_type": "code",
   "execution_count": 410,
   "id": "b4eda88f",
   "metadata": {},
   "outputs": [],
   "source": [
    "tr= Trapezoid()"
   ]
  },
  {
   "cell_type": "markdown",
   "id": "80e046ce",
   "metadata": {},
   "source": [
    "Parallelogram: A four-sided shape with opposite sides that are equal and parallel."
   ]
  },
  {
   "cell_type": "code",
   "execution_count": 417,
   "id": "6832041c",
   "metadata": {},
   "outputs": [],
   "source": [
    "class Parallelogram:\n",
    "    \"\"\"A class to represent a parallelogram in 2D space.\"\"\"\n",
    "\n",
    "    def __init__(self, base: float, height: float):\n",
    "        \"\"\"Initialize the parallelogram with base and height.\n",
    "        \"\"\"\n",
    "        self._base = base\n",
    "        self._height = height\n",
    "\n",
    "    @property\n",
    "    def base(self) -> float:\n",
    "        \"\"\"Get the length of the base.\"\"\"\n",
    "        return self._base\n",
    "\n",
    "    @base.setter\n",
    "    def base(self, value: float):\n",
    "        \"\"\"Set the length of the base.\n",
    "        \"\"\"\n",
    "        self._base = value\n",
    "\n",
    "    @property\n",
    "    def height(self) -> float:\n",
    "        \"\"\"Get the height of the parallelogram.\"\"\"\n",
    "        return self._height\n",
    "\n",
    "    @height.setter\n",
    "    def height(self, value: float):\n",
    "        \"\"\"Set the height of the parallelogram.\n",
    "        \"\"\"\n",
    "        self._height = value\n",
    "\n",
    "    def area(self) -> float:\n",
    "        \"\"\"Calculate the area of the parallelogram.\n",
    "        \"\"\"\n",
    "        return self._base * self._height\n",
    "\n",
    "    def perimeter(self, side_length: float) -> float:\n",
    "        \"\"\"Calculate the perimeter of the parallelogram.\n",
    "        \"\"\"\n",
    "        return 2 * (self._base + side_length)\n",
    "\n",
    "    def locate(self) -> str:\n",
    "        \"\"\"Provide a description of the parallelogram's properties.\n",
    "        \"\"\"\n",
    "        return (f\"Parallelogram with base: {self.base}, height: {self.height}\")\n",
    "\n",
    "    def __repr__(self) -> str:\n",
    "        \"\"\"Repr is for programmers.\"\"\"\n",
    "        return f\"Parallelogram(base={self._base}, height={self._height})\"\n",
    "\n",
    "    def __str__(self) -> str:\n",
    "        \"\"\"Return a user-friendly string representation of the parallelogram.\"\"\"\n",
    "        return (f\"Parallelogram with base {self.base} & height {self.height}\")"
   ]
  },
  {
   "cell_type": "code",
   "execution_count": 419,
   "id": "27ed8387",
   "metadata": {},
   "outputs": [],
   "source": [
    "inst_1=Parallelogram(4,8)"
   ]
  },
  {
   "cell_type": "code",
   "execution_count": 421,
   "id": "44cc4920",
   "metadata": {},
   "outputs": [],
   "source": [
    "inst_2=Parallelogram(7,9)"
   ]
  },
  {
   "cell_type": "code",
   "execution_count": 423,
   "id": "3cf4f884",
   "metadata": {},
   "outputs": [
    {
     "name": "stdout",
     "output_type": "stream",
     "text": [
      "Parallelogram with base 4 & height 8\n"
     ]
    }
   ],
   "source": [
    "print(inst_1)"
   ]
  },
  {
   "cell_type": "code",
   "execution_count": 425,
   "id": "e71085ab",
   "metadata": {},
   "outputs": [
    {
     "name": "stdout",
     "output_type": "stream",
     "text": [
      "Parallelogram with base 7 & height 9\n"
     ]
    }
   ],
   "source": [
    "print(inst_2)"
   ]
  },
  {
   "cell_type": "code",
   "execution_count": 427,
   "id": "f9f329e4",
   "metadata": {},
   "outputs": [
    {
     "data": {
      "text/plain": [
       "mappingproxy({'__module__': '__main__',\n",
       "              '__doc__': 'A class to represent a parallelogram in 2D space.',\n",
       "              '__init__': <function __main__.Parallelogram.__init__(self, base: float, height: float)>,\n",
       "              'base': <property at 0x1c5244e67f0>,\n",
       "              'height': <property at 0x1c5244e4d60>,\n",
       "              'area': <function __main__.Parallelogram.area(self) -> float>,\n",
       "              'perimeter': <function __main__.Parallelogram.perimeter(self, side_length: float) -> float>,\n",
       "              'locate': <function __main__.Parallelogram.locate(self) -> str>,\n",
       "              '__repr__': <function __main__.Parallelogram.__repr__(self) -> str>,\n",
       "              '__str__': <function __main__.Parallelogram.__str__(self) -> str>,\n",
       "              '__dict__': <attribute '__dict__' of 'Parallelogram' objects>,\n",
       "              '__weakref__': <attribute '__weakref__' of 'Parallelogram' objects>})"
      ]
     },
     "execution_count": 427,
     "metadata": {},
     "output_type": "execute_result"
    }
   ],
   "source": [
    "Parallelogram.__dict__"
   ]
  },
  {
   "cell_type": "code",
   "execution_count": 429,
   "id": "8e6065d6",
   "metadata": {},
   "outputs": [
    {
     "data": {
      "text/plain": [
       "{'_base': 4, '_height': 8}"
      ]
     },
     "execution_count": 429,
     "metadata": {},
     "output_type": "execute_result"
    }
   ],
   "source": [
    "inst_1.__dict__"
   ]
  },
  {
   "cell_type": "code",
   "execution_count": 431,
   "id": "3ec33194",
   "metadata": {},
   "outputs": [
    {
     "data": {
      "text/plain": [
       "{'_base': 7, '_height': 9}"
      ]
     },
     "execution_count": 431,
     "metadata": {},
     "output_type": "execute_result"
    }
   ],
   "source": [
    "inst_2.__dict__"
   ]
  },
  {
   "cell_type": "code",
   "execution_count": 433,
   "id": "b5b6f841",
   "metadata": {},
   "outputs": [
    {
     "data": {
      "text/plain": [
       "mappingproxy({'__module__': '__main__',\n",
       "              '__doc__': 'A class to represent a parallelogram in 2D space.',\n",
       "              '__init__': <function __main__.Parallelogram.__init__(self, base: float, height: float)>,\n",
       "              'base': <property at 0x1c5244e67f0>,\n",
       "              'height': <property at 0x1c5244e4d60>,\n",
       "              'area': <function __main__.Parallelogram.area(self) -> float>,\n",
       "              'perimeter': <function __main__.Parallelogram.perimeter(self, side_length: float) -> float>,\n",
       "              'locate': <function __main__.Parallelogram.locate(self) -> str>,\n",
       "              '__repr__': <function __main__.Parallelogram.__repr__(self) -> str>,\n",
       "              '__str__': <function __main__.Parallelogram.__str__(self) -> str>,\n",
       "              '__dict__': <attribute '__dict__' of 'Parallelogram' objects>,\n",
       "              '__weakref__': <attribute '__weakref__' of 'Parallelogram' objects>})"
      ]
     },
     "execution_count": 433,
     "metadata": {},
     "output_type": "execute_result"
    }
   ],
   "source": [
    "vars(Parallelogram)"
   ]
  },
  {
   "cell_type": "code",
   "execution_count": 435,
   "id": "96d1bf2a",
   "metadata": {},
   "outputs": [
    {
     "name": "stdout",
     "output_type": "stream",
     "text": [
      "Help on class Parallelogram in module __main__:\n",
      "\n",
      "class Parallelogram(builtins.object)\n",
      " |  Parallelogram(base: float, height: float)\n",
      " |\n",
      " |  A class to represent a parallelogram in 2D space.\n",
      " |\n",
      " |  Methods defined here:\n",
      " |\n",
      " |  __init__(self, base: float, height: float)\n",
      " |      Initialize the parallelogram with base and height.\n",
      " |\n",
      " |  __repr__(self) -> str\n",
      " |      Repr is for programmers.\n",
      " |\n",
      " |  __str__(self) -> str\n",
      " |      Return a user-friendly string representation of the parallelogram.\n",
      " |\n",
      " |  area(self) -> float\n",
      " |      Calculate the area of the parallelogram.\n",
      " |\n",
      " |  locate(self) -> str\n",
      " |      Provide a description of the parallelogram's properties.\n",
      " |\n",
      " |  perimeter(self, side_length: float) -> float\n",
      " |      Calculate the perimeter of the parallelogram.\n",
      " |\n",
      " |  ----------------------------------------------------------------------\n",
      " |  Data descriptors defined here:\n",
      " |\n",
      " |  __dict__\n",
      " |      dictionary for instance variables\n",
      " |\n",
      " |  __weakref__\n",
      " |      list of weak references to the object\n",
      " |\n",
      " |  base\n",
      " |      Get the length of the base.\n",
      " |\n",
      " |  height\n",
      " |      Get the height of the parallelogram.\n",
      "\n"
     ]
    }
   ],
   "source": [
    "help(Parallelogram)"
   ]
  },
  {
   "cell_type": "code",
   "execution_count": 437,
   "id": "2b32849c",
   "metadata": {},
   "outputs": [
    {
     "name": "stdout",
     "output_type": "stream",
     "text": [
      "A class to represent a parallelogram in 2D space.\n"
     ]
    }
   ],
   "source": [
    "print(Parallelogram.__doc__)"
   ]
  },
  {
   "cell_type": "code",
   "execution_count": 439,
   "id": "a976aa3c",
   "metadata": {},
   "outputs": [
    {
     "name": "stdout",
     "output_type": "stream",
     "text": [
      "Initialize the parallelogram with base and height.\n",
      "        \n"
     ]
    }
   ],
   "source": [
    "print(Parallelogram.__init__.__doc__)"
   ]
  },
  {
   "cell_type": "code",
   "execution_count": 441,
   "id": "b15427d0",
   "metadata": {},
   "outputs": [
    {
     "name": "stdout",
     "output_type": "stream",
     "text": [
      "Get the length of the base.\n"
     ]
    }
   ],
   "source": [
    "print(Parallelogram.base.__doc__)"
   ]
  },
  {
   "cell_type": "code",
   "execution_count": 443,
   "id": "2a7927fe",
   "metadata": {},
   "outputs": [
    {
     "name": "stdout",
     "output_type": "stream",
     "text": [
      "Get the height of the parallelogram.\n"
     ]
    }
   ],
   "source": [
    "print(Parallelogram.height.__doc__)"
   ]
  },
  {
   "cell_type": "code",
   "execution_count": 445,
   "id": "d9d0682b",
   "metadata": {},
   "outputs": [
    {
     "name": "stdout",
     "output_type": "stream",
     "text": [
      "Calculate the area of the parallelogram.\n",
      "        \n"
     ]
    }
   ],
   "source": [
    "print(Parallelogram.area.__doc__)"
   ]
  },
  {
   "cell_type": "code",
   "execution_count": 447,
   "id": "82590439",
   "metadata": {},
   "outputs": [
    {
     "name": "stdout",
     "output_type": "stream",
     "text": [
      "Calculate the perimeter of the parallelogram.\n",
      "        \n"
     ]
    }
   ],
   "source": [
    "print(Parallelogram.perimeter.__doc__)"
   ]
  },
  {
   "cell_type": "code",
   "execution_count": 449,
   "id": "bf815307",
   "metadata": {},
   "outputs": [
    {
     "name": "stdout",
     "output_type": "stream",
     "text": [
      "Provide a description of the parallelogram's properties.\n",
      "        \n"
     ]
    }
   ],
   "source": [
    "print(Parallelogram.locate.__doc__)"
   ]
  },
  {
   "cell_type": "code",
   "execution_count": 451,
   "id": "dc147cf9",
   "metadata": {},
   "outputs": [
    {
     "name": "stdout",
     "output_type": "stream",
     "text": [
      "Repr is for programmers.\n"
     ]
    }
   ],
   "source": [
    "print(Parallelogram.__repr__.__doc__)"
   ]
  },
  {
   "cell_type": "code",
   "execution_count": 453,
   "id": "a2004a9a",
   "metadata": {},
   "outputs": [
    {
     "name": "stdout",
     "output_type": "stream",
     "text": [
      "Return a user-friendly string representation of the parallelogram.\n"
     ]
    }
   ],
   "source": [
    "print(Parallelogram.__str__.__doc__)"
   ]
  },
  {
   "cell_type": "code",
   "execution_count": 455,
   "id": "efac66d4",
   "metadata": {},
   "outputs": [],
   "source": [
    "class Parallelogram:\n",
    "    \"\"\"A class to represent a parallelogram in 2D space.\"\"\"\n",
    "\n",
    "    def __init__(self, base: float=3, height: float=8):\n",
    "        \"\"\"Initialize the parallelogram with base and height.\n",
    "        \"\"\"\n",
    "        self._base = base\n",
    "        self._height = height"
   ]
  },
  {
   "cell_type": "code",
   "execution_count": 457,
   "id": "067ad9de",
   "metadata": {},
   "outputs": [],
   "source": [
    "para=Parallelogram()"
   ]
  },
  {
   "cell_type": "markdown",
   "id": "1a5bb846",
   "metadata": {},
   "source": [
    "Rhombus: A parallelogram where all sides are of equal length, but the angles are not necessarily 90 degrees."
   ]
  },
  {
   "cell_type": "code",
   "execution_count": 468,
   "id": "0b565048",
   "metadata": {},
   "outputs": [],
   "source": [
    "class Rhombus:\n",
    "    \"\"\"A class to represent a rhombus in 2D space.\"\"\"\n",
    "\n",
    "    def __init__(self, side_length: float, height: float):\n",
    "        \"\"\"Initialize the rhombus with side length and height.\n",
    "        \"\"\"\n",
    "        self._side_length = side_length\n",
    "        self._height = height\n",
    "\n",
    "    @property\n",
    "    def side_length(self) -> float:\n",
    "        \"\"\"Get the length of each side.\"\"\"\n",
    "        return self._side_length\n",
    "\n",
    "    @side_length.setter\n",
    "    def side_length(self, value: float):\n",
    "        \"\"\"Set the length of each side.\n",
    "        \"\"\"\n",
    "        self._side_length = value\n",
    "\n",
    "    @property\n",
    "    def height(self) -> float:\n",
    "        \"\"\"Get the height of the rhombus.\"\"\"\n",
    "        return self._height\n",
    "\n",
    "    @height.setter\n",
    "    def height(self, value: float):\n",
    "        \"\"\"Set the height of the rhombus.\n",
    "        \"\"\"\n",
    "        self._height = value\n",
    "    @property\n",
    "    def area(self) -> float:\n",
    "        \"\"\"Calculate the area of the rhombus.\n",
    "        \"\"\"\n",
    "        return self._side_length * self._height\n",
    "    @property\n",
    "    def perimeter(self) -> float:\n",
    "        \"\"\"Calculate the perimeter of the rhombus.\n",
    "        \"\"\"\n",
    "        return 4 * self._side_length\n",
    "\n",
    "    def locate(self) -> str:\n",
    "        \"\"\"Provide a description of the rhombus's properties.\n",
    "        \"\"\"\n",
    "        return (f\"Rhombus with side length: {self.side_length}, height: {self.height}\")\n",
    "\n",
    "    def __repr__(self) -> str:\n",
    "        \"\"\"Repr is for programmer.\"\"\"\n",
    "        return f\"Rhombus(side_length={self._side_length}, height={self._height})\"\n",
    "\n",
    "    def __str__(self) -> str:\n",
    "        \"\"\"Return a user-friendly string representation of the rhombus.\"\"\"\n",
    "        return (f\"Rhombus with side length {self.side_length} & height {self.height}\")"
   ]
  },
  {
   "cell_type": "code",
   "execution_count": 470,
   "id": "3b89d7d8",
   "metadata": {},
   "outputs": [],
   "source": [
    "inst_1=Rhombus(8,9)"
   ]
  },
  {
   "cell_type": "code",
   "execution_count": 472,
   "id": "7ee6eb42",
   "metadata": {},
   "outputs": [],
   "source": [
    "inst_2=Rhombus(7,12)"
   ]
  },
  {
   "cell_type": "code",
   "execution_count": 474,
   "id": "39db1ff9",
   "metadata": {},
   "outputs": [
    {
     "name": "stdout",
     "output_type": "stream",
     "text": [
      "Rhombus with side length 8 & height 9\n"
     ]
    }
   ],
   "source": [
    "print(inst_1)"
   ]
  },
  {
   "cell_type": "code",
   "execution_count": 476,
   "id": "49d128ca",
   "metadata": {},
   "outputs": [
    {
     "name": "stdout",
     "output_type": "stream",
     "text": [
      "Rhombus with side length 7 & height 12\n"
     ]
    }
   ],
   "source": [
    "print(inst_2)"
   ]
  },
  {
   "cell_type": "code",
   "execution_count": 478,
   "id": "c1b93502",
   "metadata": {},
   "outputs": [
    {
     "data": {
      "text/plain": [
       "mappingproxy({'__module__': '__main__',\n",
       "              '__doc__': 'A class to represent a rhombus in 2D space.',\n",
       "              '__init__': <function __main__.Rhombus.__init__(self, side_length: float, height: float)>,\n",
       "              'side_length': <property at 0x1c5244d2ac0>,\n",
       "              'height': <property at 0x1c5244d2cf0>,\n",
       "              'area': <property at 0x1c5244e7790>,\n",
       "              'perimeter': <property at 0x1c5244d3650>,\n",
       "              'locate': <function __main__.Rhombus.locate(self) -> str>,\n",
       "              '__repr__': <function __main__.Rhombus.__repr__(self) -> str>,\n",
       "              '__str__': <function __main__.Rhombus.__str__(self) -> str>,\n",
       "              '__dict__': <attribute '__dict__' of 'Rhombus' objects>,\n",
       "              '__weakref__': <attribute '__weakref__' of 'Rhombus' objects>})"
      ]
     },
     "execution_count": 478,
     "metadata": {},
     "output_type": "execute_result"
    }
   ],
   "source": [
    "Rhombus.__dict__"
   ]
  },
  {
   "cell_type": "code",
   "execution_count": 480,
   "id": "49e5c926",
   "metadata": {},
   "outputs": [
    {
     "data": {
      "text/plain": [
       "{'_side_length': 8, '_height': 9}"
      ]
     },
     "execution_count": 480,
     "metadata": {},
     "output_type": "execute_result"
    }
   ],
   "source": [
    "inst_1.__dict__"
   ]
  },
  {
   "cell_type": "code",
   "execution_count": 482,
   "id": "7dc8ee45",
   "metadata": {},
   "outputs": [
    {
     "data": {
      "text/plain": [
       "{'_side_length': 7, '_height': 12}"
      ]
     },
     "execution_count": 482,
     "metadata": {},
     "output_type": "execute_result"
    }
   ],
   "source": [
    "inst_2.__dict__"
   ]
  },
  {
   "cell_type": "code",
   "execution_count": 484,
   "id": "27d68bdc",
   "metadata": {},
   "outputs": [
    {
     "data": {
      "text/plain": [
       "mappingproxy({'__module__': '__main__',\n",
       "              '__doc__': 'A class to represent a rhombus in 2D space.',\n",
       "              '__init__': <function __main__.Rhombus.__init__(self, side_length: float, height: float)>,\n",
       "              'side_length': <property at 0x1c5244d2ac0>,\n",
       "              'height': <property at 0x1c5244d2cf0>,\n",
       "              'area': <property at 0x1c5244e7790>,\n",
       "              'perimeter': <property at 0x1c5244d3650>,\n",
       "              'locate': <function __main__.Rhombus.locate(self) -> str>,\n",
       "              '__repr__': <function __main__.Rhombus.__repr__(self) -> str>,\n",
       "              '__str__': <function __main__.Rhombus.__str__(self) -> str>,\n",
       "              '__dict__': <attribute '__dict__' of 'Rhombus' objects>,\n",
       "              '__weakref__': <attribute '__weakref__' of 'Rhombus' objects>})"
      ]
     },
     "execution_count": 484,
     "metadata": {},
     "output_type": "execute_result"
    }
   ],
   "source": [
    "vars(Rhombus)"
   ]
  },
  {
   "cell_type": "code",
   "execution_count": 486,
   "id": "e5681c17",
   "metadata": {},
   "outputs": [
    {
     "name": "stdout",
     "output_type": "stream",
     "text": [
      "Help on class Rhombus in module __main__:\n",
      "\n",
      "class Rhombus(builtins.object)\n",
      " |  Rhombus(side_length: float, height: float)\n",
      " |\n",
      " |  A class to represent a rhombus in 2D space.\n",
      " |\n",
      " |  Methods defined here:\n",
      " |\n",
      " |  __init__(self, side_length: float, height: float)\n",
      " |      Initialize the rhombus with side length and height.\n",
      " |\n",
      " |  __repr__(self) -> str\n",
      " |      Repr is for programmer.\n",
      " |\n",
      " |  __str__(self) -> str\n",
      " |      Return a user-friendly string representation of the rhombus.\n",
      " |\n",
      " |  locate(self) -> str\n",
      " |      Provide a description of the rhombus's properties.\n",
      " |\n",
      " |  ----------------------------------------------------------------------\n",
      " |  Readonly properties defined here:\n",
      " |\n",
      " |  area\n",
      " |      Calculate the area of the rhombus.\n",
      " |\n",
      " |  perimeter\n",
      " |      Calculate the perimeter of the rhombus.\n",
      " |\n",
      " |  ----------------------------------------------------------------------\n",
      " |  Data descriptors defined here:\n",
      " |\n",
      " |  __dict__\n",
      " |      dictionary for instance variables\n",
      " |\n",
      " |  __weakref__\n",
      " |      list of weak references to the object\n",
      " |\n",
      " |  height\n",
      " |      Get the height of the rhombus.\n",
      " |\n",
      " |  side_length\n",
      " |      Get the length of each side.\n",
      "\n"
     ]
    }
   ],
   "source": [
    "help(Rhombus)"
   ]
  },
  {
   "cell_type": "code",
   "execution_count": 488,
   "id": "faddd051",
   "metadata": {},
   "outputs": [
    {
     "name": "stdout",
     "output_type": "stream",
     "text": [
      "A class to represent a rhombus in 2D space.\n"
     ]
    }
   ],
   "source": [
    "print(Rhombus.__doc__)"
   ]
  },
  {
   "cell_type": "code",
   "execution_count": 490,
   "id": "3f03d026",
   "metadata": {},
   "outputs": [
    {
     "name": "stdout",
     "output_type": "stream",
     "text": [
      "Initialize the rhombus with side length and height.\n",
      "        \n"
     ]
    }
   ],
   "source": [
    "print(Rhombus.__init__.__doc__)"
   ]
  },
  {
   "cell_type": "code",
   "execution_count": 492,
   "id": "506239df",
   "metadata": {},
   "outputs": [
    {
     "name": "stdout",
     "output_type": "stream",
     "text": [
      "Get the length of each side.\n"
     ]
    }
   ],
   "source": [
    "print(Rhombus.side_length.__doc__)"
   ]
  },
  {
   "cell_type": "code",
   "execution_count": 494,
   "id": "591df522",
   "metadata": {},
   "outputs": [
    {
     "name": "stdout",
     "output_type": "stream",
     "text": [
      "Get the height of the rhombus.\n"
     ]
    }
   ],
   "source": [
    "print(Rhombus.height.__doc__)"
   ]
  },
  {
   "cell_type": "code",
   "execution_count": 496,
   "id": "19f68cca",
   "metadata": {},
   "outputs": [
    {
     "name": "stdout",
     "output_type": "stream",
     "text": [
      "Calculate the area of the rhombus.\n",
      "        \n"
     ]
    }
   ],
   "source": [
    "print(Rhombus.area.__doc__)"
   ]
  },
  {
   "cell_type": "code",
   "execution_count": 498,
   "id": "cb30e3c5",
   "metadata": {},
   "outputs": [
    {
     "name": "stdout",
     "output_type": "stream",
     "text": [
      "Calculate the perimeter of the rhombus.\n",
      "        \n"
     ]
    }
   ],
   "source": [
    "print(Rhombus.perimeter.__doc__)"
   ]
  },
  {
   "cell_type": "code",
   "execution_count": 500,
   "id": "10b9fc6a",
   "metadata": {},
   "outputs": [
    {
     "name": "stdout",
     "output_type": "stream",
     "text": [
      "Provide a description of the rhombus's properties.\n",
      "        \n"
     ]
    }
   ],
   "source": [
    "print(Rhombus.locate.__doc__)"
   ]
  },
  {
   "cell_type": "code",
   "execution_count": 502,
   "id": "9ae23622",
   "metadata": {},
   "outputs": [
    {
     "name": "stdout",
     "output_type": "stream",
     "text": [
      "Repr is for programmer.\n"
     ]
    }
   ],
   "source": [
    "print(Rhombus.__repr__.__doc__)"
   ]
  },
  {
   "cell_type": "code",
   "execution_count": 504,
   "id": "f4eb6091",
   "metadata": {},
   "outputs": [
    {
     "name": "stdout",
     "output_type": "stream",
     "text": [
      "Return a user-friendly string representation of the rhombus.\n"
     ]
    }
   ],
   "source": [
    "print(Rhombus.__str__.__doc__)"
   ]
  },
  {
   "cell_type": "code",
   "execution_count": 506,
   "id": "447da110",
   "metadata": {},
   "outputs": [],
   "source": [
    "class Rhombus:\n",
    "    \"\"\"A class to represent a rhombus in 2D space.\"\"\"\n",
    "\n",
    "    def __init__(self, side_length: float=2, height: float=8):\n",
    "        \"\"\"Initialize the rhombus with side length and height.\n",
    "        \"\"\"\n",
    "        self._side_length = side_length\n",
    "        self._height = height"
   ]
  },
  {
   "cell_type": "code",
   "execution_count": 508,
   "id": "ccbde1fc",
   "metadata": {},
   "outputs": [],
   "source": [
    "Rh=Rhombus()"
   ]
  },
  {
   "cell_type": "markdown",
   "id": "9152c5c0",
   "metadata": {},
   "source": [
    "These shapes serve as building blocks for more complex forms in geometry and design"
   ]
  },
  {
   "cell_type": "code",
   "execution_count": 511,
   "id": "b6163020",
   "metadata": {},
   "outputs": [],
   "source": [
    "class Shape:\n",
    "    \"\"\"A class to represent a generic geometric shape.\"\"\"\n",
    "\n",
    "    def __init__(self, name: str):\n",
    "        \"\"\"Initialize the shape with a name.\n",
    "        \"\"\"\n",
    "        self._name = name\n",
    "\n",
    "    @property\n",
    "    def name(self) -> str:\n",
    "        \"\"\"Get the name of the shape.\"\"\"\n",
    "        return self._name\n",
    "\n",
    "    @name.setter\n",
    "    def name(self, value: str):\n",
    "        \"\"\"Set the name of the shape.\n",
    "        \"\"\"\n",
    "        self._name = value\n",
    "\n",
    "    def area(self) -> float:\n",
    "        \"\"\"Calculate the area of the shape.\n",
    "        \"\"\"\n",
    "        raise NotImplementedError(\"This method should be implemented by subclasses.\")\n",
    "\n",
    "    def perimeter(self) -> float:\n",
    "        \"\"\"Calculate the perimeter of the shape.\n",
    "        \"\"\"\n",
    "        raise NotImplementedError(\"This method should be implemented by subclasses.\")\n",
    "\n",
    "    def locate(self) -> str:\n",
    "        \"\"\"Provide a description of the shape's properties.\n",
    "        \"\"\"\n",
    "        return f\"{self.name} with undefined area and perimeter.\"\n",
    "\n",
    "    def __repr__(self) -> str:\n",
    "        \"\"\"Repr is for programmer.\"\"\"\n",
    "        return f\"Shape(name={self._name})\"\n",
    "\n",
    "    def __str__(self) -> str:\n",
    "        \"\"\"Return a user-friendly string representation of the shape.\"\"\"\n",
    "        return f\"Shape is {self.name}\""
   ]
  },
  {
   "cell_type": "code",
   "execution_count": 519,
   "id": "7d6ec4dd",
   "metadata": {},
   "outputs": [],
   "source": [
    "inst_1=Shape(\"rectangle\")"
   ]
  },
  {
   "cell_type": "code",
   "execution_count": 521,
   "id": "ff763640",
   "metadata": {},
   "outputs": [],
   "source": [
    "inst_2=Shape(\"square\")"
   ]
  },
  {
   "cell_type": "code",
   "execution_count": 523,
   "id": "f64fd118",
   "metadata": {},
   "outputs": [
    {
     "name": "stdout",
     "output_type": "stream",
     "text": [
      "Shape is rectangle\n"
     ]
    }
   ],
   "source": [
    "print(inst_1)"
   ]
  },
  {
   "cell_type": "code",
   "execution_count": 525,
   "id": "e4de83ea",
   "metadata": {},
   "outputs": [
    {
     "name": "stdout",
     "output_type": "stream",
     "text": [
      "Shape is square\n"
     ]
    }
   ],
   "source": [
    "print(inst_2)"
   ]
  },
  {
   "cell_type": "code",
   "execution_count": 527,
   "id": "3a829d1c",
   "metadata": {},
   "outputs": [
    {
     "data": {
      "text/plain": [
       "mappingproxy({'__module__': '__main__',\n",
       "              '__doc__': 'A class to represent a generic geometric shape.',\n",
       "              '__init__': <function __main__.Shape.__init__(self, name: str)>,\n",
       "              'name': <property at 0x1c52450ab10>,\n",
       "              'area': <function __main__.Shape.area(self) -> float>,\n",
       "              'perimeter': <function __main__.Shape.perimeter(self) -> float>,\n",
       "              'locate': <function __main__.Shape.locate(self) -> str>,\n",
       "              '__repr__': <function __main__.Shape.__repr__(self) -> str>,\n",
       "              '__str__': <function __main__.Shape.__str__(self) -> str>,\n",
       "              '__dict__': <attribute '__dict__' of 'Shape' objects>,\n",
       "              '__weakref__': <attribute '__weakref__' of 'Shape' objects>})"
      ]
     },
     "execution_count": 527,
     "metadata": {},
     "output_type": "execute_result"
    }
   ],
   "source": [
    "Shape.__dict__"
   ]
  },
  {
   "cell_type": "code",
   "execution_count": 529,
   "id": "e25b272e",
   "metadata": {},
   "outputs": [
    {
     "data": {
      "text/plain": [
       "{'_name': 'rectangle'}"
      ]
     },
     "execution_count": 529,
     "metadata": {},
     "output_type": "execute_result"
    }
   ],
   "source": [
    "inst_1.__dict__"
   ]
  },
  {
   "cell_type": "code",
   "execution_count": 531,
   "id": "2c4055cc",
   "metadata": {},
   "outputs": [
    {
     "data": {
      "text/plain": [
       "{'_name': 'square'}"
      ]
     },
     "execution_count": 531,
     "metadata": {},
     "output_type": "execute_result"
    }
   ],
   "source": [
    "inst_2.__dict__"
   ]
  },
  {
   "cell_type": "code",
   "execution_count": 533,
   "id": "d7a546a2",
   "metadata": {},
   "outputs": [
    {
     "data": {
      "text/plain": [
       "mappingproxy({'__module__': '__main__',\n",
       "              '__doc__': 'A class to represent a generic geometric shape.',\n",
       "              '__init__': <function __main__.Shape.__init__(self, name: str)>,\n",
       "              'name': <property at 0x1c52450ab10>,\n",
       "              'area': <function __main__.Shape.area(self) -> float>,\n",
       "              'perimeter': <function __main__.Shape.perimeter(self) -> float>,\n",
       "              'locate': <function __main__.Shape.locate(self) -> str>,\n",
       "              '__repr__': <function __main__.Shape.__repr__(self) -> str>,\n",
       "              '__str__': <function __main__.Shape.__str__(self) -> str>,\n",
       "              '__dict__': <attribute '__dict__' of 'Shape' objects>,\n",
       "              '__weakref__': <attribute '__weakref__' of 'Shape' objects>})"
      ]
     },
     "execution_count": 533,
     "metadata": {},
     "output_type": "execute_result"
    }
   ],
   "source": [
    "vars(Shape)"
   ]
  },
  {
   "cell_type": "code",
   "execution_count": 535,
   "id": "9cab5b76",
   "metadata": {},
   "outputs": [
    {
     "name": "stdout",
     "output_type": "stream",
     "text": [
      "Help on class Shape in module __main__:\n",
      "\n",
      "class Shape(builtins.object)\n",
      " |  Shape(name: str)\n",
      " |\n",
      " |  A class to represent a generic geometric shape.\n",
      " |\n",
      " |  Methods defined here:\n",
      " |\n",
      " |  __init__(self, name: str)\n",
      " |      Initialize the shape with a name.\n",
      " |\n",
      " |  __repr__(self) -> str\n",
      " |      Repr is for programmer.\n",
      " |\n",
      " |  __str__(self) -> str\n",
      " |      Return a user-friendly string representation of the shape.\n",
      " |\n",
      " |  area(self) -> float\n",
      " |      Calculate the area of the shape.\n",
      " |\n",
      " |  locate(self) -> str\n",
      " |      Provide a description of the shape's properties.\n",
      " |\n",
      " |  perimeter(self) -> float\n",
      " |      Calculate the perimeter of the shape.\n",
      " |\n",
      " |  ----------------------------------------------------------------------\n",
      " |  Data descriptors defined here:\n",
      " |\n",
      " |  __dict__\n",
      " |      dictionary for instance variables\n",
      " |\n",
      " |  __weakref__\n",
      " |      list of weak references to the object\n",
      " |\n",
      " |  name\n",
      " |      Get the name of the shape.\n",
      "\n"
     ]
    }
   ],
   "source": [
    "help(Shape)"
   ]
  },
  {
   "cell_type": "code",
   "execution_count": 537,
   "id": "4f4847a3",
   "metadata": {},
   "outputs": [
    {
     "name": "stdout",
     "output_type": "stream",
     "text": [
      "A class to represent a generic geometric shape.\n"
     ]
    }
   ],
   "source": [
    "print(Shape.__doc__)"
   ]
  },
  {
   "cell_type": "code",
   "execution_count": 539,
   "id": "c48d78e7",
   "metadata": {},
   "outputs": [
    {
     "name": "stdout",
     "output_type": "stream",
     "text": [
      "Initialize the shape with a name.\n",
      "        \n"
     ]
    }
   ],
   "source": [
    "print(Shape.__init__.__doc__)"
   ]
  },
  {
   "cell_type": "code",
   "execution_count": 541,
   "id": "b0267437",
   "metadata": {},
   "outputs": [
    {
     "name": "stdout",
     "output_type": "stream",
     "text": [
      "Get the name of the shape.\n"
     ]
    }
   ],
   "source": [
    "print(Shape.name.__doc__)"
   ]
  },
  {
   "cell_type": "code",
   "execution_count": 543,
   "id": "e923c0b7",
   "metadata": {},
   "outputs": [
    {
     "name": "stdout",
     "output_type": "stream",
     "text": [
      "Calculate the area of the shape.\n",
      "        \n"
     ]
    }
   ],
   "source": [
    "print(Shape.area.__doc__)"
   ]
  },
  {
   "cell_type": "code",
   "execution_count": 545,
   "id": "13913e76",
   "metadata": {},
   "outputs": [
    {
     "name": "stdout",
     "output_type": "stream",
     "text": [
      "Calculate the perimeter of the shape.\n",
      "        \n"
     ]
    }
   ],
   "source": [
    "print(Shape.perimeter.__doc__)"
   ]
  },
  {
   "cell_type": "code",
   "execution_count": 547,
   "id": "dc4c8500",
   "metadata": {},
   "outputs": [
    {
     "name": "stdout",
     "output_type": "stream",
     "text": [
      "Provide a description of the shape's properties.\n",
      "        \n"
     ]
    }
   ],
   "source": [
    "print(Shape.locate.__doc__)"
   ]
  },
  {
   "cell_type": "code",
   "execution_count": 549,
   "id": "72aa2be0",
   "metadata": {},
   "outputs": [
    {
     "name": "stdout",
     "output_type": "stream",
     "text": [
      "Repr is for programmer.\n"
     ]
    }
   ],
   "source": [
    "print(Shape.__repr__.__doc__)"
   ]
  },
  {
   "cell_type": "code",
   "execution_count": 551,
   "id": "c32597d3",
   "metadata": {},
   "outputs": [
    {
     "name": "stdout",
     "output_type": "stream",
     "text": [
      "Return a user-friendly string representation of the shape.\n"
     ]
    }
   ],
   "source": [
    "print(Shape.__str__.__doc__)"
   ]
  },
  {
   "cell_type": "code",
   "execution_count": 553,
   "id": "d695a5c9",
   "metadata": {},
   "outputs": [],
   "source": [
    "class Shape:\n",
    "    \"\"\"A class to represent a generic geometric shape.\"\"\"\n",
    "\n",
    "    def __init__(self, name: str=\"swan\"):\n",
    "        \"\"\"Initialize the shape with a name.\n",
    "        \"\"\"\n",
    "        self._name = name"
   ]
  },
  {
   "cell_type": "code",
   "execution_count": 555,
   "id": "71ac4b98",
   "metadata": {},
   "outputs": [],
   "source": [
    "sh=Shape()"
   ]
  },
  {
   "cell_type": "markdown",
   "id": "f88ec3c6",
   "metadata": {},
   "source": [
    "# Circuit:"
   ]
  },
  {
   "cell_type": "markdown",
   "id": "a9d4f618",
   "metadata": {},
   "source": [
    "Make a class for a circuit with only one resistor."
   ]
  },
  {
   "cell_type": "code",
   "execution_count": 605,
   "id": "427509a8",
   "metadata": {},
   "outputs": [],
   "source": [
    "class Circuit:\n",
    "    \"\"\"\n",
    "    A class representing a circuit with one resistor.\n",
    "    \"\"\"\n",
    "\n",
    "    def __init__(self, R: float, E: float):\n",
    "        \"\"\"\n",
    "        Initialize the circuit with resistance and voltage.\n",
    "        \"\"\"\n",
    "        self._R = R\n",
    "        self._E = E\n",
    "\n",
    "    @property\n",
    "    def R(self) -> float:\n",
    "        \"\"\"\n",
    "        Get the resistance of the circuit.\n",
    "        \"\"\"\n",
    "        return self._R\n",
    "\n",
    "    @R.setter\n",
    "    def R(self, value: float):\n",
    "        \"\"\"\n",
    "        Set the resistance of the circuit.\n",
    "        \"\"\"\n",
    "        self._R = value\n",
    "\n",
    "    @property\n",
    "    def E(self) -> float:\n",
    "        \"\"\"\n",
    "        Get the voltage of the circuit.\n",
    "        \"\"\"\n",
    "        return self._E\n",
    "\n",
    "    @E.setter\n",
    "    def E(self, value: float):\n",
    "        \"\"\"\n",
    "        Set the voltage of the circuit.\n",
    "        \"\"\"\n",
    "        self._E = value\n",
    "\n",
    "    def current(self) -> float:\n",
    "        \"\"\"\n",
    "        Calculate the current in the circuit using Ohm's Law.\n",
    "        \"\"\"\n",
    "        return self._E / self._R\n",
    "\n",
    "    def __repr__(self) -> str:\n",
    "        \"\"\"\n",
    "        Repr is for programmer.\n",
    "        \"\"\"\n",
    "        return f\"Circuit(resistance={self.R} Ω, voltage={self.E} V)\"\n",
    "\n",
    "    def __str__(self) -> str:\n",
    "        \"\"\"\n",
    "        Return a human-readable string representation of the circuit.\n",
    "        \"\"\"\n",
    "        return f\"Circuit with resistance {self.R} Ω and voltage {self.E} V\"\n",
    "\n",
    "    @staticmethod\n",
    "    def power(E: float, I: float) -> float:\n",
    "        \"\"\"\n",
    "        Calculate the power in the circuit using the formula P = V x I.\n",
    "        \"\"\"\n",
    "        return E * I\n",
    "\n",
    "    @classmethod\n",
    "    def create_circuit(cls, R: float, E: float):\n",
    "        \"\"\"\n",
    "        Create a new circuit with the given resistance and voltage.\n",
    "        \"\"\"\n",
    "        return cls(R, E)"
   ]
  },
  {
   "cell_type": "code",
   "execution_count": 607,
   "id": "b61a6be0",
   "metadata": {},
   "outputs": [],
   "source": [
    "inst_1=Circuit(3,20)"
   ]
  },
  {
   "cell_type": "code",
   "execution_count": 609,
   "id": "b2cac155",
   "metadata": {},
   "outputs": [],
   "source": [
    "inst_2=Circuit(5,10)"
   ]
  },
  {
   "cell_type": "code",
   "execution_count": 611,
   "id": "5c6d0f78",
   "metadata": {},
   "outputs": [
    {
     "name": "stdout",
     "output_type": "stream",
     "text": [
      "Circuit with resistance 3 Ω and voltage 20 V\n"
     ]
    }
   ],
   "source": [
    "print(inst_1)"
   ]
  },
  {
   "cell_type": "code",
   "execution_count": 613,
   "id": "b27d0625",
   "metadata": {},
   "outputs": [
    {
     "name": "stdout",
     "output_type": "stream",
     "text": [
      "Circuit with resistance 5 Ω and voltage 10 V\n"
     ]
    }
   ],
   "source": [
    "print(inst_2)"
   ]
  },
  {
   "cell_type": "code",
   "execution_count": 615,
   "id": "57ce804a-7e47-46bd-9230-d2257fa85881",
   "metadata": {},
   "outputs": [
    {
     "data": {
      "text/plain": [
       "6.666666666666667"
      ]
     },
     "execution_count": 615,
     "metadata": {},
     "output_type": "execute_result"
    }
   ],
   "source": [
    "inst_1.current()"
   ]
  },
  {
   "cell_type": "code",
   "execution_count": 617,
   "id": "6eaea903-6eaa-4a59-8b09-3f552696093e",
   "metadata": {},
   "outputs": [
    {
     "data": {
      "text/plain": [
       "2.0"
      ]
     },
     "execution_count": 617,
     "metadata": {},
     "output_type": "execute_result"
    }
   ],
   "source": [
    "inst_2.current()"
   ]
  },
  {
   "cell_type": "code",
   "execution_count": 619,
   "id": "2e84a7ea",
   "metadata": {},
   "outputs": [
    {
     "data": {
      "text/plain": [
       "mappingproxy({'__module__': '__main__',\n",
       "              '__doc__': '\\n    A class representing a circuit with one resistor.\\n    ',\n",
       "              '__init__': <function __main__.Circuit.__init__(self, R: float, E: float)>,\n",
       "              'R': <property at 0x1c5244e7470>,\n",
       "              'E': <property at 0x1c5244d2340>,\n",
       "              'current': <function __main__.Circuit.current(self) -> float>,\n",
       "              '__repr__': <function __main__.Circuit.__repr__(self) -> str>,\n",
       "              '__str__': <function __main__.Circuit.__str__(self) -> str>,\n",
       "              'power': <staticmethod(<function Circuit.power at 0x000001C5245371A0>)>,\n",
       "              'create_circuit': <classmethod(<function Circuit.create_circuit at 0x000001C524537380>)>,\n",
       "              '__dict__': <attribute '__dict__' of 'Circuit' objects>,\n",
       "              '__weakref__': <attribute '__weakref__' of 'Circuit' objects>})"
      ]
     },
     "execution_count": 619,
     "metadata": {},
     "output_type": "execute_result"
    }
   ],
   "source": [
    "Circuit.__dict__"
   ]
  },
  {
   "cell_type": "code",
   "execution_count": 621,
   "id": "67cc7418",
   "metadata": {},
   "outputs": [
    {
     "data": {
      "text/plain": [
       "{'_R': 3, '_E': 20}"
      ]
     },
     "execution_count": 621,
     "metadata": {},
     "output_type": "execute_result"
    }
   ],
   "source": [
    "inst_1.__dict__"
   ]
  },
  {
   "cell_type": "code",
   "execution_count": 623,
   "id": "2244d505",
   "metadata": {},
   "outputs": [
    {
     "data": {
      "text/plain": [
       "{'_R': 5, '_E': 10}"
      ]
     },
     "execution_count": 623,
     "metadata": {},
     "output_type": "execute_result"
    }
   ],
   "source": [
    "inst_2.__dict__"
   ]
  },
  {
   "cell_type": "code",
   "execution_count": 625,
   "id": "9b21025e",
   "metadata": {},
   "outputs": [
    {
     "data": {
      "text/plain": [
       "mappingproxy({'__module__': '__main__',\n",
       "              '__doc__': '\\n    A class representing a circuit with one resistor.\\n    ',\n",
       "              '__init__': <function __main__.Circuit.__init__(self, R: float, E: float)>,\n",
       "              'R': <property at 0x1c5244e7470>,\n",
       "              'E': <property at 0x1c5244d2340>,\n",
       "              'current': <function __main__.Circuit.current(self) -> float>,\n",
       "              '__repr__': <function __main__.Circuit.__repr__(self) -> str>,\n",
       "              '__str__': <function __main__.Circuit.__str__(self) -> str>,\n",
       "              'power': <staticmethod(<function Circuit.power at 0x000001C5245371A0>)>,\n",
       "              'create_circuit': <classmethod(<function Circuit.create_circuit at 0x000001C524537380>)>,\n",
       "              '__dict__': <attribute '__dict__' of 'Circuit' objects>,\n",
       "              '__weakref__': <attribute '__weakref__' of 'Circuit' objects>})"
      ]
     },
     "execution_count": 625,
     "metadata": {},
     "output_type": "execute_result"
    }
   ],
   "source": [
    "vars(Circuit)"
   ]
  },
  {
   "cell_type": "code",
   "execution_count": 627,
   "id": "f0a9a6d7",
   "metadata": {},
   "outputs": [
    {
     "name": "stdout",
     "output_type": "stream",
     "text": [
      "Help on class Circuit in module __main__:\n",
      "\n",
      "class Circuit(builtins.object)\n",
      " |  Circuit(R: float, E: float)\n",
      " |\n",
      " |  A class representing a circuit with one resistor.\n",
      " |\n",
      " |  Methods defined here:\n",
      " |\n",
      " |  __init__(self, R: float, E: float)\n",
      " |      Initialize the circuit with resistance and voltage.\n",
      " |\n",
      " |  __repr__(self) -> str\n",
      " |      Repr is for programmer.\n",
      " |\n",
      " |  __str__(self) -> str\n",
      " |      Return a human-readable string representation of the circuit.\n",
      " |\n",
      " |  current(self) -> float\n",
      " |      Calculate the current in the circuit using Ohm's Law.\n",
      " |\n",
      " |  ----------------------------------------------------------------------\n",
      " |  Class methods defined here:\n",
      " |\n",
      " |  create_circuit(R: float, E: float)\n",
      " |      Create a new circuit with the given resistance and voltage.\n",
      " |\n",
      " |  ----------------------------------------------------------------------\n",
      " |  Static methods defined here:\n",
      " |\n",
      " |  power(E: float, I: float) -> float\n",
      " |      Calculate the power in the circuit using the formula P = V x I.\n",
      " |\n",
      " |  ----------------------------------------------------------------------\n",
      " |  Data descriptors defined here:\n",
      " |\n",
      " |  E\n",
      " |      Get the voltage of the circuit.\n",
      " |\n",
      " |  R\n",
      " |      Get the resistance of the circuit.\n",
      " |\n",
      " |  __dict__\n",
      " |      dictionary for instance variables\n",
      " |\n",
      " |  __weakref__\n",
      " |      list of weak references to the object\n",
      "\n"
     ]
    }
   ],
   "source": [
    "help(Circuit)"
   ]
  },
  {
   "cell_type": "code",
   "execution_count": 629,
   "id": "ddbd5cc8",
   "metadata": {},
   "outputs": [
    {
     "name": "stdout",
     "output_type": "stream",
     "text": [
      "\n",
      "    A class representing a circuit with one resistor.\n",
      "    \n"
     ]
    }
   ],
   "source": [
    "print(Circuit.__doc__)"
   ]
  },
  {
   "cell_type": "code",
   "execution_count": 631,
   "id": "cd171ddb",
   "metadata": {},
   "outputs": [
    {
     "name": "stdout",
     "output_type": "stream",
     "text": [
      "\n",
      "        Initialize the circuit with resistance and voltage.\n",
      "        \n"
     ]
    }
   ],
   "source": [
    "print(Circuit.__init__.__doc__)"
   ]
  },
  {
   "cell_type": "code",
   "execution_count": 633,
   "id": "e20a7579",
   "metadata": {},
   "outputs": [
    {
     "name": "stdout",
     "output_type": "stream",
     "text": [
      "\n",
      "        Get the resistance of the circuit.\n",
      "        \n"
     ]
    }
   ],
   "source": [
    "print(Circuit.R.__doc__)"
   ]
  },
  {
   "cell_type": "code",
   "execution_count": 635,
   "id": "344722eb",
   "metadata": {},
   "outputs": [
    {
     "name": "stdout",
     "output_type": "stream",
     "text": [
      "\n",
      "        Calculate the current in the circuit using Ohm's Law.\n",
      "        \n"
     ]
    }
   ],
   "source": [
    "print(Circuit.current.__doc__)"
   ]
  },
  {
   "cell_type": "code",
   "execution_count": 637,
   "id": "cc947f94",
   "metadata": {},
   "outputs": [
    {
     "name": "stdout",
     "output_type": "stream",
     "text": [
      "\n",
      "        Repr is for programmer.\n",
      "        \n"
     ]
    }
   ],
   "source": [
    "print(Circuit.__repr__.__doc__)"
   ]
  },
  {
   "cell_type": "code",
   "execution_count": 639,
   "id": "e9203f27",
   "metadata": {},
   "outputs": [
    {
     "name": "stdout",
     "output_type": "stream",
     "text": [
      "\n",
      "        Return a human-readable string representation of the circuit.\n",
      "        \n"
     ]
    }
   ],
   "source": [
    "print(Circuit.__str__.__doc__)"
   ]
  },
  {
   "cell_type": "code",
   "execution_count": 641,
   "id": "9d802d12",
   "metadata": {},
   "outputs": [],
   "source": [
    "class Circuit:\n",
    "    \"\"\"A class to represent a simple electrical circuit with one resistor.\"\"\"\n",
    "\n",
    "    def __init__(self, R: float=9.0,E:float=50.2):\n",
    "        \"\"\"Initialize the circuit with a resistor.\n",
    "        \"\"\"\n",
    "        self._R = R\n",
    "        self._E = E"
   ]
  },
  {
   "cell_type": "code",
   "execution_count": 642,
   "id": "5a442d27",
   "metadata": {},
   "outputs": [],
   "source": [
    "c=Circuit()"
   ]
  },
  {
   "cell_type": "markdown",
   "id": "e5ee7c41-9d90-414c-b36f-decf10f89bbc",
   "metadata": {},
   "source": [
    "Making a class for the RL parallel circuit."
   ]
  },
  {
   "cell_type": "code",
   "execution_count": 676,
   "id": "caf733f7-57be-4f7f-897e-281b38c08167",
   "metadata": {},
   "outputs": [],
   "source": [
    "import math\n",
    "class RL_parallel_Circuit:\n",
    "    \"\"\"A class to represent a simple RL circuit with a resistor and an inductor.\"\"\"\n",
    "\n",
    "    def __init__(self, R: float, X_L: float, E):\n",
    "        \"\"\"Initialize the RL circuit with a resistor and an inductor.\n",
    "        \"\"\"\n",
    "        self._R = R\n",
    "        self._X_L= X_L\n",
    "        self._E = E\n",
    "\n",
    "    @property\n",
    "    def R(self) -> float:\n",
    "        \"\"\"Get the resistance of the resistor.\"\"\"\n",
    "        return self._R\n",
    "\n",
    "    @R.setter\n",
    "    def R(self, value: float):\n",
    "        \"\"\"Set the resistance of the resistor.\n",
    "        \"\"\"\n",
    "        self._R = value\n",
    "\n",
    "    @property\n",
    "    def  X_L(self) -> float:\n",
    "        \"\"\"Get the reactance of the inductor.\"\"\"\n",
    "        return self._X_L\n",
    "\n",
    "    @ X_L.setter\n",
    "    def  X_L(self, value: float):\n",
    "        \"\"\"Set the reactance of the inductor.\n",
    "        \"\"\"\n",
    "        self._X_L = value\n",
    "    @property\n",
    "    def E(self) -> float:\n",
    "        \"\"\"Get the voltage.\"\"\"\n",
    "        return self._E\n",
    "\n",
    "    @ E.setter\n",
    "    def  E(self, value: float):\n",
    "        \"\"\"Set the voltage of the inductor.\n",
    "        \"\"\"\n",
    "        self._E = value\n",
    "    def zt(self) -> str:\n",
    "        \"\"\"Provide a description of the RL circuit's properties.\n",
    "        \"\"\"\n",
    "        zt=1/(1/self._R)+(1/self._X_L)\n",
    "        return zt\n",
    "    def I(self):\n",
    "        I=self._E/self._R\n",
    "        return I\n",
    "    def I_R(self):\n",
    "        I_R=self._E/self._R\n",
    "        return I_R\n",
    "    def I_XL(self):\n",
    "        I_XL=self.E/j(self._XL)\n",
    "        return I_XL\n",
    "    def Pt(self,current):\n",
    "        Pt= ((I)**2)*(self._R)\n",
    "        return Pt\n",
    "    @classmethod\n",
    "    def P_f(cls):\n",
    "        P_f=self._R/zt\n",
    "        return P_f\n",
    "    @staticmethod\n",
    "    def angle():\n",
    "        return math.atan(self._XL/self._R)\n",
    "    def __repr__(self) -> str:\n",
    "        \"\"\"repr is for programmer\"\"\"\n",
    "        return f\"RL_parallel_Circuit(resistance={self._R}, reactance={self._X_L}, voltge={self._E})\"\n",
    "    def __str__(self) -> str:\n",
    "        \"\"\"str is for common people\"\"\"\n",
    "        return (f\" RL_parallel_Circuit has Resistance {self.R} ohms, reactance {self.X_L} henrys & voltage = {self.E}volt\")"
   ]
  },
  {
   "cell_type": "code",
   "execution_count": 678,
   "id": "790ead3d-0cc3-4dfd-8af3-4e38127c1231",
   "metadata": {},
   "outputs": [],
   "source": [
    "inst_1= RL_parallel_Circuit(3,7,8)"
   ]
  },
  {
   "cell_type": "code",
   "execution_count": 680,
   "id": "fd18749c-eccc-453c-83eb-08ddbf66d2e1",
   "metadata": {},
   "outputs": [],
   "source": [
    "inst_2= RL_parallel_Circuit(4,9,12)"
   ]
  },
  {
   "cell_type": "code",
   "execution_count": 682,
   "id": "777a8994-98c0-4776-b68d-466012399b8f",
   "metadata": {},
   "outputs": [
    {
     "name": "stdout",
     "output_type": "stream",
     "text": [
      " RL_parallel_Circuit has Resistance 3 ohms, reactance 7 henrys & voltage = 8volt\n"
     ]
    }
   ],
   "source": [
    "print(inst_1)"
   ]
  },
  {
   "cell_type": "code",
   "execution_count": 684,
   "id": "b0602947-2ef2-450b-a369-85af66845879",
   "metadata": {},
   "outputs": [
    {
     "name": "stdout",
     "output_type": "stream",
     "text": [
      " RL_parallel_Circuit has Resistance 4 ohms, reactance 9 henrys & voltage = 12volt\n"
     ]
    }
   ],
   "source": [
    "print(inst_2)"
   ]
  },
  {
   "cell_type": "code",
   "execution_count": 686,
   "id": "8b413732-e30b-416d-a0ab-cd58cdc626e2",
   "metadata": {},
   "outputs": [
    {
     "data": {
      "text/plain": [
       "3.142857142857143"
      ]
     },
     "execution_count": 686,
     "metadata": {},
     "output_type": "execute_result"
    }
   ],
   "source": [
    "inst_1.zt()"
   ]
  },
  {
   "cell_type": "code",
   "execution_count": 688,
   "id": "007099ed-d3a9-42da-9828-01ef7fc629e9",
   "metadata": {},
   "outputs": [
    {
     "data": {
      "text/plain": [
       "2.6666666666666665"
      ]
     },
     "execution_count": 688,
     "metadata": {},
     "output_type": "execute_result"
    }
   ],
   "source": [
    "inst_1.I()"
   ]
  },
  {
   "cell_type": "code",
   "execution_count": 690,
   "id": "830b4d6e-dc75-4eb7-95c9-f68a4a4d56dd",
   "metadata": {},
   "outputs": [
    {
     "data": {
      "text/plain": [
       "{'_R': 3, '_X_L': 7, '_E': 8}"
      ]
     },
     "execution_count": 690,
     "metadata": {},
     "output_type": "execute_result"
    }
   ],
   "source": [
    "inst_1.__dict__"
   ]
  },
  {
   "cell_type": "code",
   "execution_count": 692,
   "id": "c0214375-15a4-4851-b7b7-e7c10943fa77",
   "metadata": {},
   "outputs": [
    {
     "data": {
      "text/plain": [
       "{'_R': 4, '_X_L': 9, '_E': 12}"
      ]
     },
     "execution_count": 692,
     "metadata": {},
     "output_type": "execute_result"
    }
   ],
   "source": [
    "inst_2.__dict__"
   ]
  },
  {
   "cell_type": "code",
   "execution_count": 694,
   "id": "8f7faa7e-b3e3-49e9-9ea6-b653ceeff44e",
   "metadata": {},
   "outputs": [
    {
     "data": {
      "text/plain": [
       "mappingproxy({'__module__': '__main__',\n",
       "              '__doc__': 'A class to represent a simple RL circuit with a resistor and an inductor.',\n",
       "              '__init__': <function __main__.RL_parallel_Circuit.__init__(self, R: float, X_L: float, E)>,\n",
       "              'R': <property at 0x1c52444ecf0>,\n",
       "              'X_L': <property at 0x1c52444f150>,\n",
       "              'E': <property at 0x1c52444f510>,\n",
       "              'zt': <function __main__.RL_parallel_Circuit.zt(self) -> str>,\n",
       "              'I': <function __main__.RL_parallel_Circuit.I(self)>,\n",
       "              'I_R': <function __main__.RL_parallel_Circuit.I_R(self)>,\n",
       "              'I_XL': <function __main__.RL_parallel_Circuit.I_XL(self)>,\n",
       "              'Pt': <function __main__.RL_parallel_Circuit.Pt(self, current)>,\n",
       "              'P_f': <classmethod(<function RL_parallel_Circuit.P_f at 0x000001C52393B1A0>)>,\n",
       "              'angle': <staticmethod(<function RL_parallel_Circuit.angle at 0x000001C52393B920>)>,\n",
       "              '__repr__': <function __main__.RL_parallel_Circuit.__repr__(self) -> str>,\n",
       "              '__str__': <function __main__.RL_parallel_Circuit.__str__(self) -> str>,\n",
       "              '__dict__': <attribute '__dict__' of 'RL_parallel_Circuit' objects>,\n",
       "              '__weakref__': <attribute '__weakref__' of 'RL_parallel_Circuit' objects>})"
      ]
     },
     "execution_count": 694,
     "metadata": {},
     "output_type": "execute_result"
    }
   ],
   "source": [
    "RL_parallel_Circuit.__dict__"
   ]
  },
  {
   "cell_type": "code",
   "execution_count": 696,
   "id": "07aeba98-b9c7-4861-90e1-0885b343c8d5",
   "metadata": {},
   "outputs": [
    {
     "data": {
      "text/plain": [
       "mappingproxy({'__module__': '__main__',\n",
       "              '__doc__': 'A class to represent a simple RL circuit with a resistor and an inductor.',\n",
       "              '__init__': <function __main__.RL_parallel_Circuit.__init__(self, R: float, X_L: float, E)>,\n",
       "              'R': <property at 0x1c52444ecf0>,\n",
       "              'X_L': <property at 0x1c52444f150>,\n",
       "              'E': <property at 0x1c52444f510>,\n",
       "              'zt': <function __main__.RL_parallel_Circuit.zt(self) -> str>,\n",
       "              'I': <function __main__.RL_parallel_Circuit.I(self)>,\n",
       "              'I_R': <function __main__.RL_parallel_Circuit.I_R(self)>,\n",
       "              'I_XL': <function __main__.RL_parallel_Circuit.I_XL(self)>,\n",
       "              'Pt': <function __main__.RL_parallel_Circuit.Pt(self, current)>,\n",
       "              'P_f': <classmethod(<function RL_parallel_Circuit.P_f at 0x000001C52393B1A0>)>,\n",
       "              'angle': <staticmethod(<function RL_parallel_Circuit.angle at 0x000001C52393B920>)>,\n",
       "              '__repr__': <function __main__.RL_parallel_Circuit.__repr__(self) -> str>,\n",
       "              '__str__': <function __main__.RL_parallel_Circuit.__str__(self) -> str>,\n",
       "              '__dict__': <attribute '__dict__' of 'RL_parallel_Circuit' objects>,\n",
       "              '__weakref__': <attribute '__weakref__' of 'RL_parallel_Circuit' objects>})"
      ]
     },
     "execution_count": 696,
     "metadata": {},
     "output_type": "execute_result"
    }
   ],
   "source": [
    "vars( RL_parallel_Circuit)"
   ]
  },
  {
   "cell_type": "code",
   "execution_count": 698,
   "id": "50f36c69-17a3-4b11-8fde-058f38be1130",
   "metadata": {},
   "outputs": [
    {
     "name": "stdout",
     "output_type": "stream",
     "text": [
      "Help on class RL_parallel_Circuit in module __main__:\n",
      "\n",
      "class RL_parallel_Circuit(builtins.object)\n",
      " |  RL_parallel_Circuit(R: float, X_L: float, E)\n",
      " |\n",
      " |  A class to represent a simple RL circuit with a resistor and an inductor.\n",
      " |\n",
      " |  Methods defined here:\n",
      " |\n",
      " |  I(self)\n",
      " |\n",
      " |  I_R(self)\n",
      " |\n",
      " |  I_XL(self)\n",
      " |\n",
      " |  Pt(self, current)\n",
      " |\n",
      " |  __init__(self, R: float, X_L: float, E)\n",
      " |      Initialize the RL circuit with a resistor and an inductor.\n",
      " |\n",
      " |  __repr__(self) -> str\n",
      " |      repr is for programmer\n",
      " |\n",
      " |  __str__(self) -> str\n",
      " |      str is for common people\n",
      " |\n",
      " |  zt(self) -> str\n",
      " |      Provide a description of the RL circuit's properties.\n",
      " |\n",
      " |  ----------------------------------------------------------------------\n",
      " |  Class methods defined here:\n",
      " |\n",
      " |  P_f()\n",
      " |\n",
      " |  ----------------------------------------------------------------------\n",
      " |  Static methods defined here:\n",
      " |\n",
      " |  angle()\n",
      " |\n",
      " |  ----------------------------------------------------------------------\n",
      " |  Data descriptors defined here:\n",
      " |\n",
      " |  E\n",
      " |      Get the voltage.\n",
      " |\n",
      " |  R\n",
      " |      Get the resistance of the resistor.\n",
      " |\n",
      " |  X_L\n",
      " |      Get the reactance of the inductor.\n",
      " |\n",
      " |  __dict__\n",
      " |      dictionary for instance variables\n",
      " |\n",
      " |  __weakref__\n",
      " |      list of weak references to the object\n",
      "\n"
     ]
    }
   ],
   "source": [
    "help( RL_parallel_Circuit)"
   ]
  },
  {
   "cell_type": "code",
   "execution_count": 700,
   "id": "8d935cf5-0c63-4762-9def-e89e361b93d8",
   "metadata": {},
   "outputs": [],
   "source": [
    "class RL_parallel_Circuit:\n",
    "    \"\"\"A class to represent a simple electrical circuit with one resistor.\"\"\"\n",
    "\n",
    "    def __init__(self, R: float=9.0,X_L:float=3.0,E:float=50.2):\n",
    "        \"\"\"Initialize the circuit with a resistor.\n",
    "        \"\"\"\n",
    "        self._R = R\n",
    "        self.X_L=X_L\n",
    "        self._E = E"
   ]
  },
  {
   "cell_type": "code",
   "execution_count": 702,
   "id": "4c23ca83-f2cd-46bf-ac8c-8219c596527c",
   "metadata": {},
   "outputs": [],
   "source": [
    "y=RL_parallel_Circuit()"
   ]
  },
  {
   "cell_type": "markdown",
   "id": "72e93a38",
   "metadata": {},
   "source": [
    "Making a class for the RL series circuit."
   ]
  },
  {
   "cell_type": "code",
   "execution_count": 746,
   "id": "39b56d21",
   "metadata": {},
   "outputs": [],
   "source": [
    "import math\n",
    "class RL_series_circuit:\n",
    "    \"\"\"A class to represent a RL_series_circuit with one resistor, & an inductor\"\"\"\n",
    "    def __init__(self, R: float, X_L: float, E: float):\n",
    "        \"\"\"Initialize the circuit with a resistor, inductor.\n",
    "        \"\"\"\n",
    "        self._R = R\n",
    "        self._X_L = X_L\n",
    "        self._E = E\n",
    "    \n",
    "    @property\n",
    "    def R(self):\n",
    "        \"\"\"Get the resistance of resistor.\"\"\"\n",
    "        return self._R\n",
    "\n",
    "    @R.setter\n",
    "    def R(self, value):\n",
    "        \"\"\"Set the resistance of the resistor.\n",
    "        \"\"\"\n",
    "        self._R = value\n",
    "        \n",
    "    @property\n",
    "    def X_L(self):\n",
    "        \"\"\"Get the inductance\"\"\"\n",
    "        return self._X_L\n",
    "\n",
    "    @X_L.setter\n",
    "    def X_L(self, value):\n",
    "        \"\"\"Set the inductance of the inductor.\n",
    "        \"\"\"\n",
    "        self._X_L = value\n",
    "\n",
    "    @property\n",
    "    def E(self):\n",
    "        \"\"\"Get the voltage\"\"\"\n",
    "        return (self._E)\n",
    "\n",
    "    @E.setter\n",
    "    def E(self, value):\n",
    "        \"\"\"set the voltage\"\"\"\n",
    "        self._E = (value)\n",
    "        \n",
    "    @property\n",
    "    def zt(self):\n",
    "        \"\"\"give the impedence of circuit\"\"\"\n",
    "        zt=self._R + self._X_L\n",
    "        return zt\n",
    "\n",
    "    @property\n",
    "    def I_t(self):\n",
    "        \"\"\"give the total_current of circuit\"\"\"\n",
    "        zt=self._R + self._X_L\n",
    "        I_t= self._E/zt\n",
    "        return I_t\n",
    "\n",
    "    @property\n",
    "    def V_R(self):\n",
    "        \"\"\"give the resistor_voltage of circuit\"\"\"\n",
    "        return (self.I_t * self._R)\n",
    "\n",
    "    @property\n",
    "    def V_L(self):\n",
    "        \"\"\"give the inductor_voltage of circuit\"\"\"\n",
    "        zt=self._R + self._X_L\n",
    "        I_t= self._E/zt\n",
    "        return (I_t * self._X_L)\n",
    "\n",
    "    @property\n",
    "    def P_t(self):\n",
    "        \"\"\"give the total_power of circuit\"\"\"\n",
    "        return ((self.I_t) ** 2 * self._R)\n",
    "    @classmethod\n",
    "    def P_f(cls):\n",
    "        \"\"\"give the power_factor of circuit\"\"\"\n",
    "        zt=self._R + self._X_L\n",
    "        P_f=self._R/zt\n",
    "        return P_f\n",
    "    @staticmethod\n",
    "    def angle(self,R,X_L):\n",
    "        \"\"\"give the angle of circuit\"\"\"\n",
    "        return math.atan(self._X_L/self._R)\n",
    "    def __repr__(self) -> str:\n",
    "        \"\"\"repr is for programmer\"\"\"\n",
    "        return f\"RL_Series_Circuit(resistance={self._R}, inductance={self._X_L}, voltage={self._E})\"\n",
    "\n",
    "    def __str__(self) -> str:\n",
    "        \"\"\"str is for common person or for the coder that use programmer code\"\"\"\n",
    "        return f\"RL_Series_Circuit with resistance {self._R} ohm, inductance {self._X_L} ohm & voltage: {self._E}V\"\n"
   ]
  },
  {
   "cell_type": "code",
   "execution_count": 748,
   "id": "d327effa",
   "metadata": {},
   "outputs": [],
   "source": [
    "inst_1=RL_series_circuit(2,0.002,50)"
   ]
  },
  {
   "cell_type": "code",
   "execution_count": 750,
   "id": "3449e6f8-6526-4405-b845-42fba076db0d",
   "metadata": {},
   "outputs": [],
   "source": [
    "inst_2=RL_series_circuit(2,4,6)"
   ]
  },
  {
   "cell_type": "code",
   "execution_count": 752,
   "id": "d8785809-8b03-483d-baba-e61a25908c5a",
   "metadata": {},
   "outputs": [
    {
     "name": "stdout",
     "output_type": "stream",
     "text": [
      "RL_Series_Circuit with resistance 2 ohm, inductance 0.002 ohm & voltage: 50V\n"
     ]
    }
   ],
   "source": [
    "print(inst_1)"
   ]
  },
  {
   "cell_type": "code",
   "execution_count": 754,
   "id": "8ed9af9e-51e9-458e-be35-5474421916da",
   "metadata": {},
   "outputs": [
    {
     "name": "stdout",
     "output_type": "stream",
     "text": [
      "RL_Series_Circuit with resistance 2 ohm, inductance 4 ohm & voltage: 6V\n"
     ]
    }
   ],
   "source": [
    "print(inst_2)"
   ]
  },
  {
   "cell_type": "code",
   "execution_count": 756,
   "id": "43641217-bca5-4adb-8804-8b2028503484",
   "metadata": {},
   "outputs": [
    {
     "data": {
      "text/plain": [
       "2.002"
      ]
     },
     "execution_count": 756,
     "metadata": {},
     "output_type": "execute_result"
    }
   ],
   "source": [
    "inst_1.zt"
   ]
  },
  {
   "cell_type": "code",
   "execution_count": 758,
   "id": "208d91e0-ddbe-4517-9407-19beb7a0b395",
   "metadata": {},
   "outputs": [
    {
     "data": {
      "text/plain": [
       "0.04995004995004996"
      ]
     },
     "execution_count": 758,
     "metadata": {},
     "output_type": "execute_result"
    }
   ],
   "source": [
    "inst_1.V_L"
   ]
  },
  {
   "cell_type": "code",
   "execution_count": 760,
   "id": "e7de485e-02e7-4eec-8dcf-526de0c96191",
   "metadata": {},
   "outputs": [
    {
     "data": {
      "text/plain": [
       "49.95004995004996"
      ]
     },
     "execution_count": 760,
     "metadata": {},
     "output_type": "execute_result"
    }
   ],
   "source": [
    "inst_1.V_R"
   ]
  },
  {
   "cell_type": "code",
   "execution_count": 762,
   "id": "1e940986-c05e-4cf0-803c-23f04a19b0df",
   "metadata": {},
   "outputs": [
    {
     "data": {
      "text/plain": [
       "24.97502497502498"
      ]
     },
     "execution_count": 762,
     "metadata": {},
     "output_type": "execute_result"
    }
   ],
   "source": [
    "inst_1.I_t"
   ]
  },
  {
   "cell_type": "code",
   "execution_count": 766,
   "id": "0ac1c0f4",
   "metadata": {},
   "outputs": [
    {
     "data": {
      "text/plain": [
       "mappingproxy({'__module__': '__main__',\n",
       "              '__doc__': 'A class to represent a RL_series_circuit with one resistor, & an inductor',\n",
       "              '__init__': <function __main__.RL_series_circuit.__init__(self, R: float, X_L: float, E: float)>,\n",
       "              'R': <property at 0x1c5226f3240>,\n",
       "              'X_L': <property at 0x1c5226f3100>,\n",
       "              'E': <property at 0x1c5226f31f0>,\n",
       "              'zt': <property at 0x1c5226f3560>,\n",
       "              'I_t': <property at 0x1c5226f3d30>,\n",
       "              'V_R': <property at 0x1c5226f30b0>,\n",
       "              'V_L': <property at 0x1c5226f3060>,\n",
       "              'P_t': <property at 0x1c5226f3010>,\n",
       "              'P_f': <classmethod(<function RL_series_circuit.P_f at 0x000001C524582F20>)>,\n",
       "              'angle': <staticmethod(<function RL_series_circuit.angle at 0x000001C524581F80>)>,\n",
       "              '__repr__': <function __main__.RL_series_circuit.__repr__(self) -> str>,\n",
       "              '__str__': <function __main__.RL_series_circuit.__str__(self) -> str>,\n",
       "              '__dict__': <attribute '__dict__' of 'RL_series_circuit' objects>,\n",
       "              '__weakref__': <attribute '__weakref__' of 'RL_series_circuit' objects>})"
      ]
     },
     "execution_count": 766,
     "metadata": {},
     "output_type": "execute_result"
    }
   ],
   "source": [
    "RL_series_circuit.__dict__"
   ]
  },
  {
   "cell_type": "code",
   "execution_count": 768,
   "id": "f445845b",
   "metadata": {},
   "outputs": [
    {
     "data": {
      "text/plain": [
       "{'_R': 2, '_X_L': 0.002, '_E': 50}"
      ]
     },
     "execution_count": 768,
     "metadata": {},
     "output_type": "execute_result"
    }
   ],
   "source": [
    "inst_1.__dict__"
   ]
  },
  {
   "cell_type": "code",
   "execution_count": 770,
   "id": "c068d575",
   "metadata": {},
   "outputs": [
    {
     "data": {
      "text/plain": [
       "{'_R': 2, '_X_L': 4, '_E': 6}"
      ]
     },
     "execution_count": 770,
     "metadata": {},
     "output_type": "execute_result"
    }
   ],
   "source": [
    "inst_2.__dict__"
   ]
  },
  {
   "cell_type": "code",
   "execution_count": 772,
   "id": "030b1ab9",
   "metadata": {},
   "outputs": [
    {
     "data": {
      "text/plain": [
       "mappingproxy({'__module__': '__main__',\n",
       "              '__doc__': 'A class to represent a RL_series_circuit with one resistor, & an inductor',\n",
       "              '__init__': <function __main__.RL_series_circuit.__init__(self, R: float, X_L: float, E: float)>,\n",
       "              'R': <property at 0x1c5226f3240>,\n",
       "              'X_L': <property at 0x1c5226f3100>,\n",
       "              'E': <property at 0x1c5226f31f0>,\n",
       "              'zt': <property at 0x1c5226f3560>,\n",
       "              'I_t': <property at 0x1c5226f3d30>,\n",
       "              'V_R': <property at 0x1c5226f30b0>,\n",
       "              'V_L': <property at 0x1c5226f3060>,\n",
       "              'P_t': <property at 0x1c5226f3010>,\n",
       "              'P_f': <classmethod(<function RL_series_circuit.P_f at 0x000001C524582F20>)>,\n",
       "              'angle': <staticmethod(<function RL_series_circuit.angle at 0x000001C524581F80>)>,\n",
       "              '__repr__': <function __main__.RL_series_circuit.__repr__(self) -> str>,\n",
       "              '__str__': <function __main__.RL_series_circuit.__str__(self) -> str>,\n",
       "              '__dict__': <attribute '__dict__' of 'RL_series_circuit' objects>,\n",
       "              '__weakref__': <attribute '__weakref__' of 'RL_series_circuit' objects>})"
      ]
     },
     "execution_count": 772,
     "metadata": {},
     "output_type": "execute_result"
    }
   ],
   "source": [
    "vars(RL_series_circuit)"
   ]
  },
  {
   "cell_type": "code",
   "execution_count": 774,
   "id": "176b2d04",
   "metadata": {},
   "outputs": [
    {
     "name": "stdout",
     "output_type": "stream",
     "text": [
      "Help on class RL_series_circuit in module __main__:\n",
      "\n",
      "class RL_series_circuit(builtins.object)\n",
      " |  RL_series_circuit(R: float, X_L: float, E: float)\n",
      " |\n",
      " |  A class to represent a RL_series_circuit with one resistor, & an inductor\n",
      " |\n",
      " |  Methods defined here:\n",
      " |\n",
      " |  __init__(self, R: float, X_L: float, E: float)\n",
      " |      Initialize the circuit with a resistor, inductor.\n",
      " |\n",
      " |  __repr__(self) -> str\n",
      " |      repr is for programmer\n",
      " |\n",
      " |  __str__(self) -> str\n",
      " |      str is for common person or for the coder that use programmer code\n",
      " |\n",
      " |  ----------------------------------------------------------------------\n",
      " |  Class methods defined here:\n",
      " |\n",
      " |  P_f()\n",
      " |      give the power_factor of circuit\n",
      " |\n",
      " |  ----------------------------------------------------------------------\n",
      " |  Static methods defined here:\n",
      " |\n",
      " |  angle(self, R, X_L)\n",
      " |      give the angle of circuit\n",
      " |\n",
      " |  ----------------------------------------------------------------------\n",
      " |  Readonly properties defined here:\n",
      " |\n",
      " |  I_t\n",
      " |      give the total_current of circuit\n",
      " |\n",
      " |  P_t\n",
      " |      give the total_power of circuit\n",
      " |\n",
      " |  V_L\n",
      " |      give the inductor_voltage of circuit\n",
      " |\n",
      " |  V_R\n",
      " |      give the resistor_voltage of circuit\n",
      " |\n",
      " |  zt\n",
      " |      give the impedence of circuit\n",
      " |\n",
      " |  ----------------------------------------------------------------------\n",
      " |  Data descriptors defined here:\n",
      " |\n",
      " |  E\n",
      " |      Get the voltage\n",
      " |\n",
      " |  R\n",
      " |      Get the resistance of resistor.\n",
      " |\n",
      " |  X_L\n",
      " |      Get the inductance\n",
      " |\n",
      " |  __dict__\n",
      " |      dictionary for instance variables\n",
      " |\n",
      " |  __weakref__\n",
      " |      list of weak references to the object\n",
      "\n"
     ]
    }
   ],
   "source": [
    "help(RL_series_circuit)"
   ]
  },
  {
   "cell_type": "code",
   "execution_count": 776,
   "id": "34803cab",
   "metadata": {},
   "outputs": [
    {
     "name": "stdout",
     "output_type": "stream",
     "text": [
      "A class to represent a RL_series_circuit with one resistor, & an inductor\n"
     ]
    }
   ],
   "source": [
    "print(RL_series_circuit.__doc__)"
   ]
  },
  {
   "cell_type": "code",
   "execution_count": 778,
   "id": "9c281227",
   "metadata": {},
   "outputs": [
    {
     "name": "stdout",
     "output_type": "stream",
     "text": [
      "Initialize the circuit with a resistor, inductor.\n",
      "        \n"
     ]
    }
   ],
   "source": [
    "print(RL_series_circuit.__init__.__doc__)"
   ]
  },
  {
   "cell_type": "code",
   "execution_count": 780,
   "id": "025babb4",
   "metadata": {},
   "outputs": [
    {
     "name": "stdout",
     "output_type": "stream",
     "text": [
      "Get the resistance of resistor.\n"
     ]
    }
   ],
   "source": [
    "print(RL_series_circuit.R.__doc__)"
   ]
  },
  {
   "cell_type": "code",
   "execution_count": 786,
   "id": "10383217",
   "metadata": {},
   "outputs": [
    {
     "name": "stdout",
     "output_type": "stream",
     "text": [
      "Get the inductance\n"
     ]
    }
   ],
   "source": [
    "print(RL_series_circuit.X_L.__doc__)"
   ]
  },
  {
   "cell_type": "code",
   "execution_count": 788,
   "id": "09d4d1a4-c501-4b69-894a-6f092edafcf9",
   "metadata": {},
   "outputs": [
    {
     "name": "stdout",
     "output_type": "stream",
     "text": [
      "give the impedence of circuit\n"
     ]
    }
   ],
   "source": [
    "print(RL_series_circuit.zt.__doc__)"
   ]
  },
  {
   "cell_type": "code",
   "execution_count": 790,
   "id": "b9a04c4f-0dda-45f1-a877-931d4b3b959a",
   "metadata": {},
   "outputs": [
    {
     "name": "stdout",
     "output_type": "stream",
     "text": [
      "give the total_current of circuit\n"
     ]
    }
   ],
   "source": [
    "print(RL_series_circuit.I_t.__doc__)"
   ]
  },
  {
   "cell_type": "code",
   "execution_count": 792,
   "id": "2bdecad0-980a-4426-a31b-da8c135303cc",
   "metadata": {},
   "outputs": [
    {
     "name": "stdout",
     "output_type": "stream",
     "text": [
      "give the resistor_voltage of circuit\n"
     ]
    }
   ],
   "source": [
    "print(RL_series_circuit.V_R.__doc__)"
   ]
  },
  {
   "cell_type": "code",
   "execution_count": 794,
   "id": "706c2e44-94a9-4a70-a12c-c409846c3677",
   "metadata": {},
   "outputs": [
    {
     "name": "stdout",
     "output_type": "stream",
     "text": [
      "give the inductor_voltage of circuit\n"
     ]
    }
   ],
   "source": [
    "print(RL_series_circuit.V_L.__doc__)"
   ]
  },
  {
   "cell_type": "code",
   "execution_count": 796,
   "id": "6636db14-ad4b-4f54-9804-4160cad47aee",
   "metadata": {},
   "outputs": [
    {
     "name": "stdout",
     "output_type": "stream",
     "text": [
      "give the power_factor of circuit\n"
     ]
    }
   ],
   "source": [
    "print(RL_series_circuit.P_f.__doc__)"
   ]
  },
  {
   "cell_type": "code",
   "execution_count": 798,
   "id": "5ca41ac6-61df-4c62-af45-831eaadbd53a",
   "metadata": {},
   "outputs": [
    {
     "name": "stdout",
     "output_type": "stream",
     "text": [
      "give the angle of circuit\n"
     ]
    }
   ],
   "source": [
    "print(RL_series_circuit.angle.__doc__)"
   ]
  },
  {
   "cell_type": "code",
   "execution_count": 800,
   "id": "39c3d50f",
   "metadata": {},
   "outputs": [
    {
     "name": "stdout",
     "output_type": "stream",
     "text": [
      "repr is for programmer\n"
     ]
    }
   ],
   "source": [
    "print(RL_series_circuit.__repr__.__doc__)"
   ]
  },
  {
   "cell_type": "code",
   "execution_count": 802,
   "id": "9028dd4c",
   "metadata": {},
   "outputs": [
    {
     "name": "stdout",
     "output_type": "stream",
     "text": [
      "str is for common person or for the coder that use programmer code\n"
     ]
    }
   ],
   "source": [
    "print(RL_series_circuit.__str__.__doc__)"
   ]
  },
  {
   "cell_type": "code",
   "execution_count": 806,
   "id": "e804592d",
   "metadata": {},
   "outputs": [],
   "source": [
    "class RL_series_circuit:\n",
    "    \"\"\"A class to represent a simple RL circuit with a resistor and an inductor.\"\"\"\n",
    "\n",
    "    def __init__(self, R: float=4, X_L: float=0.0092):\n",
    "        \"\"\"Initialize the RL circuit with a resistor and an inductor.\n",
    "        \"\"\"\n",
    "        self._R = R\n",
    "        self._X_L = X_L"
   ]
  },
  {
   "cell_type": "code",
   "execution_count": 808,
   "id": "dff63f0b",
   "metadata": {},
   "outputs": [],
   "source": [
    "RL=RL_series_circuit()"
   ]
  },
  {
   "cell_type": "markdown",
   "id": "5dbb952b",
   "metadata": {},
   "source": [
    "Making a class for the RC parallel circuits. "
   ]
  },
  {
   "cell_type": "code",
   "execution_count": 865,
   "id": "b7e52158",
   "metadata": {},
   "outputs": [],
   "source": [
    "import math\n",
    "class RC_parallel_Circuit:\n",
    "    \"\"\"A class to represent a simple RC circuit with a resistor and a capacitor.\"\"\"\n",
    "\n",
    "    def __init__(self, R: float, X_C: float, I:float):\n",
    "        \"\"\"Initialize the RC circuit with a resistor and a capacitor.\n",
    "        \"\"\"\n",
    "        self._R = R\n",
    "        self._X_C = X_C\n",
    "        self._I = I\n",
    "\n",
    "    @property\n",
    "    def R(self) -> float:\n",
    "        \"\"\"Get the resistance of the resistor.\"\"\"\n",
    "        return self._R\n",
    "\n",
    "    @R.setter\n",
    "    def R(self, value: float):\n",
    "        \"\"\"Set the resistance of the resistor.\n",
    "        \"\"\"\n",
    "        self._R = value\n",
    "\n",
    "    @property\n",
    "    def X_C(self) -> float:\n",
    "        \"\"\"Get the capacitance of the capacitor.\"\"\"\n",
    "        return self._X_C\n",
    "\n",
    "    @X_C.setter\n",
    "    def X_C(self, value: float):\n",
    "        \"\"\"Set the capacitance of the capacitor.\n",
    "        \"\"\"\n",
    "        self._X_C = value\n",
    "        \n",
    "    @property\n",
    "    def I(self) -> float:\n",
    "        \"\"\"Get current.\"\"\"\n",
    "        return self._I\n",
    "    @I.setter\n",
    "    def I(self, value: float):\n",
    "        \"\"\"Set the current\"\"\"\n",
    "        self._I = value\n",
    "    def zt(self) -> str:\n",
    "        \"\"\"give the total_impedence of the circuit\"\"\"\n",
    "        zt= 1/(1/self._R)+(1/self._X_C)\n",
    "        return zt\n",
    "    def E(self):\n",
    "        \"\"\"give the voltage of the circuit\"\"\"\n",
    "        E=self._I*self._R\n",
    "        return E\n",
    "    def I_R(self):\n",
    "        \"\"\"give the resistor_current of the circuit\"\"\"\n",
    "        E=self._I*self._R\n",
    "        I_R=E/self._R\n",
    "        return I_R\n",
    "    def I_C(self):\n",
    "        \"\"\"give the capacitor_current of the circuit\"\"\"\n",
    "        E=self._I*self._R\n",
    "        I_C=E/(self._X_C)\n",
    "        return I_C\n",
    "    @classmethod\n",
    "    def P_t(cls,voltage):\n",
    "        \"\"\"give the total_power of the circuit\"\"\"\n",
    "        P_t= ((E)**2)/self._R\n",
    "        return P_t\n",
    "    @staticmethod\n",
    "    def angle(R,X_C):\n",
    "        \"\"\"give the angle of circuit\"\"\"\n",
    "        return math.atan(X_C/R)\n",
    "    def __repr__(self) -> str:\n",
    "        \"\"\"repr is for programmer\"\"\"\n",
    "        return f\"RC_parallel_Circuit(resistance={self._R}, capacitance={self._X_C})\"\n",
    "    def __str__(self) -> str:\n",
    "        \"\"\"str is for common people\"\"\"\n",
    "        return (f\"RC_parallel_Circuit has Resistance {self.R} ohms & Capacitance {self.X_C} farads\")"
   ]
  },
  {
   "cell_type": "code",
   "execution_count": 867,
   "id": "6fc4fb21",
   "metadata": {},
   "outputs": [],
   "source": [
    "inst_1=RC_parallel_Circuit(2,6,9)"
   ]
  },
  {
   "cell_type": "code",
   "execution_count": 869,
   "id": "5a759ff4",
   "metadata": {},
   "outputs": [],
   "source": [
    "inst_2=RC_parallel_Circuit(7,8,15)"
   ]
  },
  {
   "cell_type": "code",
   "execution_count": 871,
   "id": "cf4f708a-5d54-4d5d-9f32-a59cbc29cd73",
   "metadata": {},
   "outputs": [
    {
     "data": {
      "text/plain": [
       "7.125"
      ]
     },
     "execution_count": 871,
     "metadata": {},
     "output_type": "execute_result"
    }
   ],
   "source": [
    "inst_2.zt()"
   ]
  },
  {
   "cell_type": "code",
   "execution_count": 873,
   "id": "f6dc2339-f533-4f0f-86b0-37fef5cf2df6",
   "metadata": {},
   "outputs": [
    {
     "data": {
      "text/plain": [
       "105"
      ]
     },
     "execution_count": 873,
     "metadata": {},
     "output_type": "execute_result"
    }
   ],
   "source": [
    "inst_2.E()"
   ]
  },
  {
   "cell_type": "code",
   "execution_count": 874,
   "id": "4060fbb4-b3d1-47d6-bd3f-4fe6b12cd355",
   "metadata": {},
   "outputs": [
    {
     "data": {
      "text/plain": [
       "15.0"
      ]
     },
     "execution_count": 874,
     "metadata": {},
     "output_type": "execute_result"
    }
   ],
   "source": [
    "inst_2.I_R()"
   ]
  },
  {
   "cell_type": "code",
   "execution_count": 877,
   "id": "a18e4aae-9955-40c5-879f-b582b2edab76",
   "metadata": {},
   "outputs": [
    {
     "data": {
      "text/plain": [
       "13.125"
      ]
     },
     "execution_count": 877,
     "metadata": {},
     "output_type": "execute_result"
    }
   ],
   "source": [
    "inst_2.I_C()"
   ]
  },
  {
   "cell_type": "code",
   "execution_count": 879,
   "id": "d32db288-7ade-4702-903b-82fd4c9e84b3",
   "metadata": {},
   "outputs": [
    {
     "data": {
      "text/plain": [
       "0.982793723247329"
      ]
     },
     "execution_count": 879,
     "metadata": {},
     "output_type": "execute_result"
    }
   ],
   "source": [
    "inst_2.angle(2,3)"
   ]
  },
  {
   "cell_type": "code",
   "execution_count": 881,
   "id": "78a267d8-f1c5-4253-b3b4-9f336f5e7729",
   "metadata": {},
   "outputs": [
    {
     "name": "stdout",
     "output_type": "stream",
     "text": [
      "RC_parallel_Circuit has Resistance 2 ohms & Capacitance 6 farads\n"
     ]
    }
   ],
   "source": [
    "print(inst_1)"
   ]
  },
  {
   "cell_type": "code",
   "execution_count": 883,
   "id": "2eade2bf-0083-4997-bfaa-af8665a8dbaa",
   "metadata": {},
   "outputs": [
    {
     "name": "stdout",
     "output_type": "stream",
     "text": [
      "RC_parallel_Circuit has Resistance 7 ohms & Capacitance 8 farads\n"
     ]
    }
   ],
   "source": [
    "print(inst_2)"
   ]
  },
  {
   "cell_type": "code",
   "execution_count": 885,
   "id": "a8fa1b55-6206-4f1b-aae5-51406ea2d380",
   "metadata": {},
   "outputs": [
    {
     "data": {
      "text/plain": [
       "mappingproxy({'__module__': '__main__',\n",
       "              '__doc__': 'A class to represent a simple RC circuit with a resistor and a capacitor.',\n",
       "              '__init__': <function __main__.RC_parallel_Circuit.__init__(self, R: float, X_C: float, I: float)>,\n",
       "              'R': <property at 0x1c524898860>,\n",
       "              'X_C': <property at 0x1c524898fe0>,\n",
       "              'I': <property at 0x1c524898ea0>,\n",
       "              'zt': <function __main__.RC_parallel_Circuit.zt(self) -> str>,\n",
       "              'E': <function __main__.RC_parallel_Circuit.E(self)>,\n",
       "              'I_R': <function __main__.RC_parallel_Circuit.I_R(self)>,\n",
       "              'I_C': <function __main__.RC_parallel_Circuit.I_C(self)>,\n",
       "              'P_t': <classmethod(<function RC_parallel_Circuit.P_t at 0x000001C5248063E0>)>,\n",
       "              'angle': <staticmethod(<function RC_parallel_Circuit.angle at 0x000001C524806480>)>,\n",
       "              '__repr__': <function __main__.RC_parallel_Circuit.__repr__(self) -> str>,\n",
       "              '__str__': <function __main__.RC_parallel_Circuit.__str__(self) -> str>,\n",
       "              '__dict__': <attribute '__dict__' of 'RC_parallel_Circuit' objects>,\n",
       "              '__weakref__': <attribute '__weakref__' of 'RC_parallel_Circuit' objects>})"
      ]
     },
     "execution_count": 885,
     "metadata": {},
     "output_type": "execute_result"
    }
   ],
   "source": [
    "RC_parallel_Circuit.__dict__"
   ]
  },
  {
   "cell_type": "code",
   "execution_count": 887,
   "id": "5d68c035",
   "metadata": {},
   "outputs": [
    {
     "data": {
      "text/plain": [
       "{'_R': 2, '_X_C': 6, '_I': 9}"
      ]
     },
     "execution_count": 887,
     "metadata": {},
     "output_type": "execute_result"
    }
   ],
   "source": [
    "inst_1.__dict__"
   ]
  },
  {
   "cell_type": "code",
   "execution_count": 889,
   "id": "6d6ea3ef",
   "metadata": {},
   "outputs": [
    {
     "data": {
      "text/plain": [
       "{'_R': 7, '_X_C': 8, '_I': 15}"
      ]
     },
     "execution_count": 889,
     "metadata": {},
     "output_type": "execute_result"
    }
   ],
   "source": [
    "inst_2.__dict__"
   ]
  },
  {
   "cell_type": "code",
   "execution_count": 891,
   "id": "d679f143",
   "metadata": {},
   "outputs": [
    {
     "data": {
      "text/plain": [
       "mappingproxy({'__module__': '__main__',\n",
       "              '__doc__': 'A class to represent a simple RC circuit with a resistor and a capacitor.',\n",
       "              '__init__': <function __main__.RC_parallel_Circuit.__init__(self, R: float, X_C: float, I: float)>,\n",
       "              'R': <property at 0x1c524898860>,\n",
       "              'X_C': <property at 0x1c524898fe0>,\n",
       "              'I': <property at 0x1c524898ea0>,\n",
       "              'zt': <function __main__.RC_parallel_Circuit.zt(self) -> str>,\n",
       "              'E': <function __main__.RC_parallel_Circuit.E(self)>,\n",
       "              'I_R': <function __main__.RC_parallel_Circuit.I_R(self)>,\n",
       "              'I_C': <function __main__.RC_parallel_Circuit.I_C(self)>,\n",
       "              'P_t': <classmethod(<function RC_parallel_Circuit.P_t at 0x000001C5248063E0>)>,\n",
       "              'angle': <staticmethod(<function RC_parallel_Circuit.angle at 0x000001C524806480>)>,\n",
       "              '__repr__': <function __main__.RC_parallel_Circuit.__repr__(self) -> str>,\n",
       "              '__str__': <function __main__.RC_parallel_Circuit.__str__(self) -> str>,\n",
       "              '__dict__': <attribute '__dict__' of 'RC_parallel_Circuit' objects>,\n",
       "              '__weakref__': <attribute '__weakref__' of 'RC_parallel_Circuit' objects>})"
      ]
     },
     "execution_count": 891,
     "metadata": {},
     "output_type": "execute_result"
    }
   ],
   "source": [
    "vars(RC_parallel_Circuit)"
   ]
  },
  {
   "cell_type": "code",
   "execution_count": 893,
   "id": "bdc5e7ca",
   "metadata": {},
   "outputs": [
    {
     "name": "stdout",
     "output_type": "stream",
     "text": [
      "Help on class RC_parallel_Circuit in module __main__:\n",
      "\n",
      "class RC_parallel_Circuit(builtins.object)\n",
      " |  RC_parallel_Circuit(R: float, X_C: float, I: float)\n",
      " |\n",
      " |  A class to represent a simple RC circuit with a resistor and a capacitor.\n",
      " |\n",
      " |  Methods defined here:\n",
      " |\n",
      " |  E(self)\n",
      " |      give the voltage of the circuit\n",
      " |\n",
      " |  I_C(self)\n",
      " |      give the capacitor_current of the circuit\n",
      " |\n",
      " |  I_R(self)\n",
      " |      give the resistor_current of the circuit\n",
      " |\n",
      " |  __init__(self, R: float, X_C: float, I: float)\n",
      " |      Initialize the RC circuit with a resistor and a capacitor.\n",
      " |\n",
      " |  __repr__(self) -> str\n",
      " |      repr is for programmer\n",
      " |\n",
      " |  __str__(self) -> str\n",
      " |      str is for common people\n",
      " |\n",
      " |  zt(self) -> str\n",
      " |      give the total_impedence of the circuit\n",
      " |\n",
      " |  ----------------------------------------------------------------------\n",
      " |  Class methods defined here:\n",
      " |\n",
      " |  P_t(voltage)\n",
      " |      give the total_power of the circuit\n",
      " |\n",
      " |  ----------------------------------------------------------------------\n",
      " |  Static methods defined here:\n",
      " |\n",
      " |  angle(R, X_C)\n",
      " |      give the angle of circuit\n",
      " |\n",
      " |  ----------------------------------------------------------------------\n",
      " |  Data descriptors defined here:\n",
      " |\n",
      " |  I\n",
      " |      Get current.\n",
      " |\n",
      " |  R\n",
      " |      Get the resistance of the resistor.\n",
      " |\n",
      " |  X_C\n",
      " |      Get the capacitance of the capacitor.\n",
      " |\n",
      " |  __dict__\n",
      " |      dictionary for instance variables\n",
      " |\n",
      " |  __weakref__\n",
      " |      list of weak references to the object\n",
      "\n"
     ]
    }
   ],
   "source": [
    "help(RC_parallel_Circuit)"
   ]
  },
  {
   "cell_type": "code",
   "execution_count": 895,
   "id": "df804ad9",
   "metadata": {},
   "outputs": [
    {
     "name": "stdout",
     "output_type": "stream",
     "text": [
      "A class to represent a simple RC circuit with a resistor and a capacitor.\n"
     ]
    }
   ],
   "source": [
    "print(RC_parallel_Circuit.__doc__)"
   ]
  },
  {
   "cell_type": "code",
   "execution_count": 897,
   "id": "ce3701c7",
   "metadata": {},
   "outputs": [
    {
     "name": "stdout",
     "output_type": "stream",
     "text": [
      "Initialize the RC circuit with a resistor and a capacitor.\n",
      "        \n"
     ]
    }
   ],
   "source": [
    "print(RC_parallel_Circuit.__init__.__doc__)"
   ]
  },
  {
   "cell_type": "code",
   "execution_count": 899,
   "id": "5c912d26",
   "metadata": {},
   "outputs": [
    {
     "name": "stdout",
     "output_type": "stream",
     "text": [
      "Get the resistance of the resistor.\n"
     ]
    }
   ],
   "source": [
    "print(RC_parallel_Circuit.R.__doc__)"
   ]
  },
  {
   "cell_type": "code",
   "execution_count": 905,
   "id": "56c0c0f4",
   "metadata": {},
   "outputs": [
    {
     "name": "stdout",
     "output_type": "stream",
     "text": [
      "Get the capacitance of the capacitor.\n"
     ]
    }
   ],
   "source": [
    "print(RC_parallel_Circuit.X_C.__doc__)"
   ]
  },
  {
   "cell_type": "code",
   "execution_count": 907,
   "id": "cb77c1de",
   "metadata": {},
   "outputs": [
    {
     "name": "stdout",
     "output_type": "stream",
     "text": [
      "repr is for programmer\n"
     ]
    }
   ],
   "source": [
    "print(RC_parallel_Circuit.__repr__.__doc__)"
   ]
  },
  {
   "cell_type": "code",
   "execution_count": 909,
   "id": "be1cadb4",
   "metadata": {},
   "outputs": [
    {
     "name": "stdout",
     "output_type": "stream",
     "text": [
      "str is for common people\n"
     ]
    }
   ],
   "source": [
    "print(RC_parallel_Circuit.__str__.__doc__)"
   ]
  },
  {
   "cell_type": "code",
   "execution_count": 913,
   "id": "099cb7e4",
   "metadata": {},
   "outputs": [],
   "source": [
    "import math\n",
    "class RC_parallel_Circuit:\n",
    "    \"\"\"A class to represent a simple RC circuit with a resistor and a capacitor.\"\"\"\n",
    "\n",
    "    def __init__(self, R: float=8, X_C: float=4, I=12):\n",
    "        \"\"\"Initialize the RC circuit with a resistor and a capacitor.\n",
    "        \"\"\"\n",
    "        self._R = R\n",
    "        self._X_C = X_C\n",
    "        self._I = I"
   ]
  },
  {
   "cell_type": "code",
   "execution_count": 915,
   "id": "4a436c45",
   "metadata": {},
   "outputs": [],
   "source": [
    "RC=RC_parallel_Circuit()"
   ]
  },
  {
   "cell_type": "markdown",
   "id": "f8a8d4ce-117b-4254-84a9-fa625ae5ff10",
   "metadata": {},
   "source": [
    "Making a class for the RC series circuits."
   ]
  },
  {
   "cell_type": "code",
   "execution_count": 936,
   "id": "5fdc639e-160e-4d88-adf6-c08241cf5629",
   "metadata": {},
   "outputs": [],
   "source": [
    "import math\n",
    "class RC_series_Circuit:\n",
    "    \"\"\"A class to represent a simple RC circuit with a resistor and a capacitor.\"\"\"\n",
    "\n",
    "    def __init__(self, R: float, X_C: float, I):\n",
    "        \"\"\"Initialize the RC circuit with a resistor and a capacitor.\n",
    "        \"\"\"\n",
    "        self._R = R\n",
    "        self._X_C = X_C\n",
    "        self._I = I\n",
    "\n",
    "    @property\n",
    "    def R(self) -> float:\n",
    "        \"\"\"Get the resistance of the resistor.\"\"\"\n",
    "        return self._R\n",
    "\n",
    "    @R.setter\n",
    "    def R(self, value: float):\n",
    "        \"\"\"Set the resistance of the resistor.\n",
    "        \"\"\"\n",
    "        self._R = value\n",
    "\n",
    "    @property\n",
    "    def X_C(self) -> float:\n",
    "        \"\"\"Get the capacitance of the capacitor.\"\"\"\n",
    "        return self._X_C\n",
    "\n",
    "    @X_C.setter\n",
    "    def X_C(self, value: float):\n",
    "        \"\"\"Set the capacitance of the capacitor.\n",
    "        \"\"\"\n",
    "        self._X_C = value\n",
    "        \n",
    "    @property\n",
    "    def I(self) -> float:\n",
    "        \"\"\"Get current.\"\"\"\n",
    "        return self._I\n",
    "    @I.setter\n",
    "    def I(self, value: float):\n",
    "        \"\"\"Set the current\"\"\"\n",
    "        self._I = value\n",
    "    def zt(self) -> str:\n",
    "        \"\"\"give the total_impedence of the circuit\"\"\"\n",
    "        zt=R+XC\n",
    "        return zt\n",
    "    def E(self,voltage):\n",
    "        \"\"\"give voltage\"\"\"\n",
    "        E=self._I*zt\n",
    "        return E\n",
    "    def V_R(self):\n",
    "        V_R= self._I*self._R\n",
    "        return V_R\n",
    "    def V_C(self):\n",
    "        V_C= self._I*self.X_C\n",
    "        return V_C\n",
    "    @classmethod\n",
    "    def P_t(cls):\n",
    "        P_t=(self.I**2)*self._R\n",
    "        return P_t\n",
    "    @staticmethod\n",
    "    def P_f(R,zt):\n",
    "        P_f=self.R/zt\n",
    "        return P_f\n",
    "    def __repr__(self) -> str:\n",
    "        \"\"\"repr is for programmer\"\"\"\n",
    "        return f\"RC_series_Circuit(resistance={self._R}, capacitance={self._X_C}, current={self._I})\"\n",
    "    def __str__(self) -> str:\n",
    "        \"\"\"str is for common people\"\"\"\n",
    "        return (f\"RC_series_Circuit has Resistance {self.R} ohms, Capacitance {self.X_C} farads & {self.I} ampere\")"
   ]
  },
  {
   "cell_type": "code",
   "execution_count": 938,
   "id": "82ec751c-a20e-4d69-80de-b72774a0fc87",
   "metadata": {},
   "outputs": [],
   "source": [
    "inst_1=RC_series_Circuit(2,5,9)"
   ]
  },
  {
   "cell_type": "code",
   "execution_count": 940,
   "id": "05f87679-02ca-4cef-9016-a0470a0637d7",
   "metadata": {},
   "outputs": [],
   "source": [
    "inst_2=RC_series_Circuit(1,6,14)"
   ]
  },
  {
   "cell_type": "code",
   "execution_count": 942,
   "id": "274f1a3b-0cca-43ca-9f50-c006816bd7b2",
   "metadata": {},
   "outputs": [
    {
     "name": "stdout",
     "output_type": "stream",
     "text": [
      "RC_series_Circuit has Resistance 2 ohms, Capacitance 5 farads & 9 ampere\n"
     ]
    }
   ],
   "source": [
    "print(inst_1)"
   ]
  },
  {
   "cell_type": "code",
   "execution_count": 944,
   "id": "72ae0c60-a684-4ebb-ae63-2d434b654b6c",
   "metadata": {},
   "outputs": [
    {
     "name": "stdout",
     "output_type": "stream",
     "text": [
      "RC_series_Circuit has Resistance 1 ohms, Capacitance 6 farads & 14 ampere\n"
     ]
    }
   ],
   "source": [
    "print(inst_2)"
   ]
  },
  {
   "cell_type": "code",
   "execution_count": 946,
   "id": "f7006ac0-779e-4bef-9e85-1551a1b4fc95",
   "metadata": {},
   "outputs": [
    {
     "data": {
      "text/plain": [
       "mappingproxy({'__module__': '__main__',\n",
       "              '__doc__': 'A class to represent a simple RC circuit with a resistor and a capacitor.',\n",
       "              '__init__': <function __main__.RC_series_Circuit.__init__(self, R: float, X_C: float, I)>,\n",
       "              'R': <property at 0x1c524723a10>,\n",
       "              'X_C': <property at 0x1c524723290>,\n",
       "              'I': <property at 0x1c524723920>,\n",
       "              'zt': <function __main__.RC_series_Circuit.zt(self) -> str>,\n",
       "              'E': <function __main__.RC_series_Circuit.E(self, voltage)>,\n",
       "              'V_R': <function __main__.RC_series_Circuit.V_R(self)>,\n",
       "              'V_C': <function __main__.RC_series_Circuit.V_C(self)>,\n",
       "              'P_t': <classmethod(<function RC_series_Circuit.P_t at 0x000001C524805940>)>,\n",
       "              'P_f': <staticmethod(<function RC_series_Circuit.P_f at 0x000001C524807F60>)>,\n",
       "              '__repr__': <function __main__.RC_series_Circuit.__repr__(self) -> str>,\n",
       "              '__str__': <function __main__.RC_series_Circuit.__str__(self) -> str>,\n",
       "              '__dict__': <attribute '__dict__' of 'RC_series_Circuit' objects>,\n",
       "              '__weakref__': <attribute '__weakref__' of 'RC_series_Circuit' objects>})"
      ]
     },
     "execution_count": 946,
     "metadata": {},
     "output_type": "execute_result"
    }
   ],
   "source": [
    "RC_series_Circuit.__dict__"
   ]
  },
  {
   "cell_type": "code",
   "execution_count": 948,
   "id": "c18d1327-6b25-4530-840b-1ad91f1705a2",
   "metadata": {},
   "outputs": [
    {
     "data": {
      "text/plain": [
       "{'_R': 2, '_X_C': 5, '_I': 9}"
      ]
     },
     "execution_count": 948,
     "metadata": {},
     "output_type": "execute_result"
    }
   ],
   "source": [
    "inst_1.__dict__"
   ]
  },
  {
   "cell_type": "code",
   "execution_count": 950,
   "id": "441fc4ad-68e8-43b8-ae3b-e02cf4652ae6",
   "metadata": {},
   "outputs": [
    {
     "data": {
      "text/plain": [
       "{'_R': 1, '_X_C': 6, '_I': 14}"
      ]
     },
     "execution_count": 950,
     "metadata": {},
     "output_type": "execute_result"
    }
   ],
   "source": [
    "inst_2.__dict__"
   ]
  },
  {
   "cell_type": "code",
   "execution_count": 952,
   "id": "80c7f345-7459-495a-831e-1be8c61d05e4",
   "metadata": {},
   "outputs": [
    {
     "data": {
      "text/plain": [
       "mappingproxy({'__module__': '__main__',\n",
       "              '__doc__': 'A class to represent a simple RC circuit with a resistor and a capacitor.',\n",
       "              '__init__': <function __main__.RC_series_Circuit.__init__(self, R: float, X_C: float, I)>,\n",
       "              'R': <property at 0x1c524723a10>,\n",
       "              'X_C': <property at 0x1c524723290>,\n",
       "              'I': <property at 0x1c524723920>,\n",
       "              'zt': <function __main__.RC_series_Circuit.zt(self) -> str>,\n",
       "              'E': <function __main__.RC_series_Circuit.E(self, voltage)>,\n",
       "              'V_R': <function __main__.RC_series_Circuit.V_R(self)>,\n",
       "              'V_C': <function __main__.RC_series_Circuit.V_C(self)>,\n",
       "              'P_t': <classmethod(<function RC_series_Circuit.P_t at 0x000001C524805940>)>,\n",
       "              'P_f': <staticmethod(<function RC_series_Circuit.P_f at 0x000001C524807F60>)>,\n",
       "              '__repr__': <function __main__.RC_series_Circuit.__repr__(self) -> str>,\n",
       "              '__str__': <function __main__.RC_series_Circuit.__str__(self) -> str>,\n",
       "              '__dict__': <attribute '__dict__' of 'RC_series_Circuit' objects>,\n",
       "              '__weakref__': <attribute '__weakref__' of 'RC_series_Circuit' objects>})"
      ]
     },
     "execution_count": 952,
     "metadata": {},
     "output_type": "execute_result"
    }
   ],
   "source": [
    "vars(RC_series_Circuit)"
   ]
  },
  {
   "cell_type": "code",
   "execution_count": 954,
   "id": "82dde90c-f9ef-418a-b3b4-ca172e93b145",
   "metadata": {},
   "outputs": [
    {
     "name": "stdout",
     "output_type": "stream",
     "text": [
      "Help on class RC_series_Circuit in module __main__:\n",
      "\n",
      "class RC_series_Circuit(builtins.object)\n",
      " |  RC_series_Circuit(R: float, X_C: float, I)\n",
      " |\n",
      " |  A class to represent a simple RC circuit with a resistor and a capacitor.\n",
      " |\n",
      " |  Methods defined here:\n",
      " |\n",
      " |  E(self, voltage)\n",
      " |      give voltage\n",
      " |\n",
      " |  V_C(self)\n",
      " |\n",
      " |  V_R(self)\n",
      " |\n",
      " |  __init__(self, R: float, X_C: float, I)\n",
      " |      Initialize the RC circuit with a resistor and a capacitor.\n",
      " |\n",
      " |  __repr__(self) -> str\n",
      " |      repr is for programmer\n",
      " |\n",
      " |  __str__(self) -> str\n",
      " |      str is for common people\n",
      " |\n",
      " |  zt(self) -> str\n",
      " |      give the total_impedence of the circuit\n",
      " |\n",
      " |  ----------------------------------------------------------------------\n",
      " |  Class methods defined here:\n",
      " |\n",
      " |  P_t()\n",
      " |\n",
      " |  ----------------------------------------------------------------------\n",
      " |  Static methods defined here:\n",
      " |\n",
      " |  P_f(R, zt)\n",
      " |\n",
      " |  ----------------------------------------------------------------------\n",
      " |  Data descriptors defined here:\n",
      " |\n",
      " |  I\n",
      " |      Get current.\n",
      " |\n",
      " |  R\n",
      " |      Get the resistance of the resistor.\n",
      " |\n",
      " |  X_C\n",
      " |      Get the capacitance of the capacitor.\n",
      " |\n",
      " |  __dict__\n",
      " |      dictionary for instance variables\n",
      " |\n",
      " |  __weakref__\n",
      " |      list of weak references to the object\n",
      "\n"
     ]
    }
   ],
   "source": [
    "help(RC_series_Circuit)"
   ]
  },
  {
   "cell_type": "markdown",
   "id": "e034f692",
   "metadata": {},
   "source": [
    "Making a class for RLC parallel circuits"
   ]
  },
  {
   "cell_type": "code",
   "execution_count": 961,
   "id": "aaf73a4a-bcc9-4cb5-bfa0-0676eb7c8a95",
   "metadata": {},
   "outputs": [],
   "source": [
    "import math\n",
    "class RLC_parallel_circuit:\n",
    "    \"\"\"\n",
    "    Represents a series RLC circuit.\n",
    "    \"\"\"\n",
    "\n",
    "    def __init__(self, R: float, X_L: float, X_C: float) -> None:\n",
    "        \"\"\"\n",
    "        Initializes an RLC circuit object.\n",
    "        \"\"\"\n",
    "        self._R = R\n",
    "        self._X_L = X_L\n",
    "        self._X_C = X_C\n",
    "    @property\n",
    "    def R(self) -> float:\n",
    "        \"\"\"\n",
    "        Gets the resistance.\n",
    "        \"\"\"\n",
    "        return self._R\n",
    "\n",
    "    @R.setter\n",
    "    def R(self, value: float) -> None:\n",
    "        \"\"\"\n",
    "        Sets the resistance.\n",
    "        \"\"\"\n",
    "        self._R = value\n",
    "\n",
    "    @property\n",
    "    def X_L(self) -> float:\n",
    "        \"\"\"\n",
    "        Gets the inductance.\n",
    "        \"\"\"\n",
    "        return self._X_L\n",
    "\n",
    "    @X_L.setter\n",
    "    def X_L(self, value: float) -> None:\n",
    "        \"\"\"\n",
    "        Sets the inductance.\n",
    "        \"\"\"\n",
    "        self._X_L = value\n",
    "\n",
    "    @property\n",
    "    def X_C(self) -> float:\n",
    "        \"\"\"\n",
    "        Gets the capacitance.\n",
    "        \"\"\"\n",
    "        return self._X_C\n",
    "\n",
    "    @X_C.setter\n",
    "    def X_C(self, value: float) -> None:\n",
    "        \"\"\"\n",
    "        Sets the capacitance.\n",
    "        \"\"\"\n",
    "        self._X_C = value\n",
    "    @property\n",
    "    def impedance(self) -> float:\n",
    "        \"\"\"\n",
    "        Calculates the impedance.\n",
    "        \"\"\"\n",
    "        total_impedance = 1 / (1/R + 1/XL + 1/XC)\n",
    "        return total_impedance\n",
    "\n",
    "    @property\n",
    "    def phase(self) -> float:\n",
    "        \"\"\"\n",
    "        Calculates the phase angle.\n",
    "        \"\"\"\n",
    "        reactance= X_L-X_C\n",
    "        return math.atan(reactance / self.R)\n",
    "\n",
    "    @property\n",
    "    def power_factor(self) -> float:\n",
    "        \"\"\"\n",
    "        Calculates the power factor.\n",
    "        \"\"\"\n",
    "        return math.cos(self.phase)\n",
    "\n",
    "    def __repr__(self) -> str:\n",
    "        \"\"\"\n",
    "        Returns a string representation of the RLC circuit object.\n",
    "        \"\"\"\n",
    "        return f\"string representation of the RLC circuit object.\"\n",
    "    def __str__(self):\n",
    "        return f\"RLC_parallel_circuit has {self.R} ohms resistance,{self.X_L} henry inductance,{self.X_C} farad capacitor\""
   ]
  },
  {
   "cell_type": "code",
   "execution_count": 963,
   "id": "93eaedcf",
   "metadata": {},
   "outputs": [],
   "source": [
    "inst_1=RLC_parallel_circuit(4,8,9)"
   ]
  },
  {
   "cell_type": "code",
   "execution_count": 965,
   "id": "54d77fb8",
   "metadata": {},
   "outputs": [],
   "source": [
    "inst_2=RLC_parallel_circuit(3,2,7)"
   ]
  },
  {
   "cell_type": "code",
   "execution_count": 967,
   "id": "d34ff468",
   "metadata": {},
   "outputs": [
    {
     "name": "stdout",
     "output_type": "stream",
     "text": [
      "RLC_parallel_circuit has 4 ohms resistance,8 henry inductance,9 farad capacitor\n"
     ]
    }
   ],
   "source": [
    "print(inst_1)"
   ]
  },
  {
   "cell_type": "code",
   "execution_count": 969,
   "id": "f78c662a",
   "metadata": {},
   "outputs": [
    {
     "name": "stdout",
     "output_type": "stream",
     "text": [
      "RLC_parallel_circuit has 3 ohms resistance,2 henry inductance,7 farad capacitor\n"
     ]
    }
   ],
   "source": [
    "print(inst_2)"
   ]
  },
  {
   "cell_type": "code",
   "execution_count": 971,
   "id": "91f502c1",
   "metadata": {},
   "outputs": [
    {
     "data": {
      "text/plain": [
       "mappingproxy({'__module__': '__main__',\n",
       "              '__doc__': '\\n    Represents a series RLC circuit.\\n    ',\n",
       "              '__init__': <function __main__.RLC_parallel_circuit.__init__(self, R: float, X_L: float, X_C: float) -> None>,\n",
       "              'R': <property at 0x1c524843e70>,\n",
       "              'X_L': <property at 0x1c5248adc60>,\n",
       "              'X_C': <property at 0x1c5248adc10>,\n",
       "              'impedance': <property at 0x1c5247208b0>,\n",
       "              'phase': <property at 0x1c524843e20>,\n",
       "              'power_factor': <property at 0x1c5248afa10>,\n",
       "              '__repr__': <function __main__.RLC_parallel_circuit.__repr__(self) -> str>,\n",
       "              '__str__': <function __main__.RLC_parallel_circuit.__str__(self)>,\n",
       "              '__dict__': <attribute '__dict__' of 'RLC_parallel_circuit' objects>,\n",
       "              '__weakref__': <attribute '__weakref__' of 'RLC_parallel_circuit' objects>})"
      ]
     },
     "execution_count": 971,
     "metadata": {},
     "output_type": "execute_result"
    }
   ],
   "source": [
    "RLC_parallel_circuit.__dict__"
   ]
  },
  {
   "cell_type": "code",
   "execution_count": 973,
   "id": "50c0b0e8",
   "metadata": {},
   "outputs": [
    {
     "data": {
      "text/plain": [
       "{'_R': 4, '_X_L': 8, '_X_C': 9}"
      ]
     },
     "execution_count": 973,
     "metadata": {},
     "output_type": "execute_result"
    }
   ],
   "source": [
    "inst_1.__dict__"
   ]
  },
  {
   "cell_type": "code",
   "execution_count": 975,
   "id": "34483598",
   "metadata": {},
   "outputs": [
    {
     "data": {
      "text/plain": [
       "{'_R': 3, '_X_L': 2, '_X_C': 7}"
      ]
     },
     "execution_count": 975,
     "metadata": {},
     "output_type": "execute_result"
    }
   ],
   "source": [
    "inst_2.__dict__"
   ]
  },
  {
   "cell_type": "code",
   "execution_count": 977,
   "id": "39dde071",
   "metadata": {},
   "outputs": [
    {
     "data": {
      "text/plain": [
       "mappingproxy({'__module__': '__main__',\n",
       "              '__doc__': '\\n    Represents a series RLC circuit.\\n    ',\n",
       "              '__init__': <function __main__.RLC_parallel_circuit.__init__(self, R: float, X_L: float, X_C: float) -> None>,\n",
       "              'R': <property at 0x1c524843e70>,\n",
       "              'X_L': <property at 0x1c5248adc60>,\n",
       "              'X_C': <property at 0x1c5248adc10>,\n",
       "              'impedance': <property at 0x1c5247208b0>,\n",
       "              'phase': <property at 0x1c524843e20>,\n",
       "              'power_factor': <property at 0x1c5248afa10>,\n",
       "              '__repr__': <function __main__.RLC_parallel_circuit.__repr__(self) -> str>,\n",
       "              '__str__': <function __main__.RLC_parallel_circuit.__str__(self)>,\n",
       "              '__dict__': <attribute '__dict__' of 'RLC_parallel_circuit' objects>,\n",
       "              '__weakref__': <attribute '__weakref__' of 'RLC_parallel_circuit' objects>})"
      ]
     },
     "execution_count": 977,
     "metadata": {},
     "output_type": "execute_result"
    }
   ],
   "source": [
    "vars(RLC_parallel_circuit)"
   ]
  },
  {
   "cell_type": "code",
   "execution_count": 979,
   "id": "d6787985",
   "metadata": {},
   "outputs": [
    {
     "name": "stdout",
     "output_type": "stream",
     "text": [
      "Help on class RLC_parallel_circuit in module __main__:\n",
      "\n",
      "class RLC_parallel_circuit(builtins.object)\n",
      " |  RLC_parallel_circuit(R: float, X_L: float, X_C: float) -> None\n",
      " |\n",
      " |  Represents a series RLC circuit.\n",
      " |\n",
      " |  Methods defined here:\n",
      " |\n",
      " |  __init__(self, R: float, X_L: float, X_C: float) -> None\n",
      " |      Initializes an RLC circuit object.\n",
      " |\n",
      " |  __repr__(self) -> str\n",
      " |      Returns a string representation of the RLC circuit object.\n",
      " |\n",
      " |  __str__(self)\n",
      " |      Return str(self).\n",
      " |\n",
      " |  ----------------------------------------------------------------------\n",
      " |  Readonly properties defined here:\n",
      " |\n",
      " |  impedance\n",
      " |      Calculates the impedance.\n",
      " |\n",
      " |  phase\n",
      " |      Calculates the phase angle.\n",
      " |\n",
      " |  power_factor\n",
      " |      Calculates the power factor.\n",
      " |\n",
      " |  ----------------------------------------------------------------------\n",
      " |  Data descriptors defined here:\n",
      " |\n",
      " |  R\n",
      " |      Gets the resistance.\n",
      " |\n",
      " |  X_C\n",
      " |      Gets the capacitance.\n",
      " |\n",
      " |  X_L\n",
      " |      Gets the inductance.\n",
      " |\n",
      " |  __dict__\n",
      " |      dictionary for instance variables\n",
      " |\n",
      " |  __weakref__\n",
      " |      list of weak references to the object\n",
      "\n"
     ]
    }
   ],
   "source": [
    "help(RLC_parallel_circuit)"
   ]
  },
  {
   "cell_type": "code",
   "execution_count": 981,
   "id": "2b6bb912",
   "metadata": {},
   "outputs": [
    {
     "name": "stdout",
     "output_type": "stream",
     "text": [
      "\n",
      "    Represents a series RLC circuit.\n",
      "    \n"
     ]
    }
   ],
   "source": [
    "print(RLC_parallel_circuit.__doc__)"
   ]
  },
  {
   "cell_type": "code",
   "execution_count": 983,
   "id": "b2946d69",
   "metadata": {},
   "outputs": [
    {
     "name": "stdout",
     "output_type": "stream",
     "text": [
      "\n",
      "        Initializes an RLC circuit object.\n",
      "        \n"
     ]
    }
   ],
   "source": [
    "print(RLC_parallel_circuit.__init__.__doc__)"
   ]
  },
  {
   "cell_type": "code",
   "execution_count": 987,
   "id": "53e43657",
   "metadata": {},
   "outputs": [
    {
     "name": "stdout",
     "output_type": "stream",
     "text": [
      "\n",
      "        Gets the resistance.\n",
      "        \n"
     ]
    }
   ],
   "source": [
    "print(RLC_parallel_circuit.R.__doc__)"
   ]
  },
  {
   "cell_type": "code",
   "execution_count": 989,
   "id": "7d80dce7",
   "metadata": {},
   "outputs": [
    {
     "name": "stdout",
     "output_type": "stream",
     "text": [
      "\n",
      "        Gets the inductance.\n",
      "        \n"
     ]
    }
   ],
   "source": [
    "print(RLC_parallel_circuit.X_L.__doc__)"
   ]
  },
  {
   "cell_type": "code",
   "execution_count": 991,
   "id": "4add2354",
   "metadata": {},
   "outputs": [
    {
     "name": "stdout",
     "output_type": "stream",
     "text": [
      "\n",
      "        Gets the capacitance.\n",
      "        \n"
     ]
    }
   ],
   "source": [
    "print(RLC_parallel_circuit.X_C.__doc__)"
   ]
  },
  {
   "cell_type": "code",
   "execution_count": 995,
   "id": "640b66a9",
   "metadata": {},
   "outputs": [
    {
     "name": "stdout",
     "output_type": "stream",
     "text": [
      "\n",
      "        Calculates the impedance.\n",
      "        \n"
     ]
    }
   ],
   "source": [
    "print(RLC_parallel_circuit.impedance.__doc__)"
   ]
  },
  {
   "cell_type": "code",
   "execution_count": 997,
   "id": "cbb7a713",
   "metadata": {},
   "outputs": [
    {
     "name": "stdout",
     "output_type": "stream",
     "text": [
      "\n",
      "        Returns a string representation of the RLC circuit object.\n",
      "        \n"
     ]
    }
   ],
   "source": [
    "print(RLC_parallel_circuit.__repr__.__doc__)"
   ]
  },
  {
   "cell_type": "code",
   "execution_count": 999,
   "id": "8a6c5235",
   "metadata": {},
   "outputs": [
    {
     "name": "stdout",
     "output_type": "stream",
     "text": [
      "None\n"
     ]
    }
   ],
   "source": [
    "print(RLC_parallel_circuit.__str__.__doc__)"
   ]
  },
  {
   "cell_type": "code",
   "execution_count": 1206,
   "id": "51f53c87",
   "metadata": {},
   "outputs": [],
   "source": [
    "class RLC_parallel_circuit:\n",
    "    \"\"\"A class to represent a simple RLC parallel circuit with a resistor, inductor, and capacitor.\"\"\"\n",
    "\n",
    "    def __init__(self, resistance: float=8, inductance: float=9, capacitance: float=12):\n",
    "        \"\"\"Initialize the RLC parallel circuit with a resistor, inductor, and capacitor.\n",
    "        \"\"\"\n",
    "        self._resistance = resistance\n",
    "        self._inductance = inductance\n",
    "        self._capacitance = capacitance"
   ]
  },
  {
   "cell_type": "code",
   "execution_count": 1208,
   "id": "cb5c7907-15fb-48b1-8338-3bfce4fbb616",
   "metadata": {},
   "outputs": [],
   "source": [
    "rlc=RLC_parallel_circuit()"
   ]
  },
  {
   "cell_type": "markdown",
   "id": "2bbdd7ee-6e01-4670-b896-b90b09cdfc72",
   "metadata": {},
   "source": [
    "make an RLC series circuit"
   ]
  },
  {
   "cell_type": "code",
   "execution_count": 1084,
   "id": "192daee2",
   "metadata": {},
   "outputs": [],
   "source": [
    "import math\n",
    "class series_RLC_circuit:\n",
    "    \"\"\"\n",
    "    Represents a series RLC circuit.\n",
    "    \"\"\"\n",
    "\n",
    "    def __init__(self, R: float, X_L: float, X_C: float) -> None:\n",
    "        \"\"\"\n",
    "        Initializes an RLC circuit object.\n",
    "        \"\"\"\n",
    "        self._R = R\n",
    "        self._X_L = X_L\n",
    "        self._X_C = X_C\n",
    "    @property\n",
    "    def R(self) -> float:\n",
    "        \"\"\"\n",
    "        Gets the resistance.\n",
    "        \"\"\"\n",
    "        return self._R\n",
    "\n",
    "    @R.setter\n",
    "    def R(self, value: float) -> None:\n",
    "        \"\"\"\n",
    "        Sets the resistance.\n",
    "        \"\"\"\n",
    "        self._R = value\n",
    "\n",
    "    @property\n",
    "    def X_L(self) -> float:\n",
    "        \"\"\"\n",
    "        Gets the inductance.\n",
    "        \"\"\"\n",
    "        return self._X_L\n",
    "\n",
    "    @X_L.setter\n",
    "    def X_L(self, value: float) -> None:\n",
    "        \"\"\"\n",
    "        Sets the inductance.\n",
    "        \"\"\"\n",
    "        self._X_L = value\n",
    "\n",
    "    @property\n",
    "    def X_C(self) -> float:\n",
    "        \"\"\"\n",
    "        Gets the capacitance.\n",
    "        \"\"\"\n",
    "        return self._X_C\n",
    "\n",
    "    @X_C.setter\n",
    "    def X_C(self, value: float) -> None:\n",
    "        \"\"\"\n",
    "        Sets the capacitance.\n",
    "        \"\"\"\n",
    "        self._X_C = value\n",
    "    @property\n",
    "    def impedance(self) -> float:\n",
    "        \"\"\"\n",
    "        Calculates the impedance.\n",
    "        \"\"\"\n",
    "        reactance= X_L-X_C\n",
    "        return math.sqrt(self.R ** 2 + reactance ** 2)\n",
    "\n",
    "    @property\n",
    "    def phase(self) -> float:\n",
    "        \"\"\"\n",
    "        Calculates the phase angle.\n",
    "        \"\"\"\n",
    "        reactance= X_L-X_C\n",
    "        return math.atan(reactance / self.R)\n",
    "\n",
    "    @property\n",
    "    def power_factor(self) -> float:\n",
    "        \"\"\"\n",
    "        Calculates the power factor.\n",
    "        \"\"\"\n",
    "        return math.cos(self.phase)\n",
    "\n",
    "    def current(self, voltage: float) -> float:\n",
    "        \"\"\"\n",
    "        Calculates the current.\n",
    "        \"\"\"\n",
    "        return voltage / self.impedance\n",
    "\n",
    "    def __repr__(self) -> str:\n",
    "        \"\"\"\n",
    "        Repr is for programmer.\n",
    "        \"\"\"\n",
    "        return f\"string representation of the RLC circuit object.\"\n",
    "    def __str__(self):\n",
    "        \"\"\"\n",
    "        str is for common person\"\"\"\n",
    "        return (f\"series_RLC_circuit has {self.R} ohms resistance,{self.X_L} henry inductance,{self.X_C} farad capacitor\")"
   ]
  },
  {
   "cell_type": "code",
   "execution_count": 1086,
   "id": "7fb7fbda",
   "metadata": {},
   "outputs": [],
   "source": [
    "inst_1=series_RLC_circuit(5,9,12)"
   ]
  },
  {
   "cell_type": "code",
   "execution_count": 1088,
   "id": "880fbb99",
   "metadata": {},
   "outputs": [],
   "source": [
    "inst_2=series_RLC_circuit(2,1,6)"
   ]
  },
  {
   "cell_type": "code",
   "execution_count": 1090,
   "id": "2a28bd52",
   "metadata": {},
   "outputs": [
    {
     "name": "stdout",
     "output_type": "stream",
     "text": [
      "series_RLC_circuit has 5 ohms resistance,9 henry inductance,12 farad capacitor\n"
     ]
    }
   ],
   "source": [
    "print(inst_1)"
   ]
  },
  {
   "cell_type": "code",
   "execution_count": 1092,
   "id": "39fbb6fb",
   "metadata": {},
   "outputs": [
    {
     "name": "stdout",
     "output_type": "stream",
     "text": [
      "series_RLC_circuit has 2 ohms resistance,1 henry inductance,6 farad capacitor\n"
     ]
    }
   ],
   "source": [
    "print(inst_2)"
   ]
  },
  {
   "cell_type": "code",
   "execution_count": 1094,
   "id": "27191d83",
   "metadata": {},
   "outputs": [
    {
     "data": {
      "text/plain": [
       "mappingproxy({'__module__': '__main__',\n",
       "              '__doc__': '\\n    Represents a series RLC circuit.\\n    ',\n",
       "              '__init__': <function __main__.series_RLC_circuit.__init__(self, R: float, X_L: float, X_C: float) -> None>,\n",
       "              'R': <property at 0x1c5248e0270>,\n",
       "              'X_L': <property at 0x1c5248e2840>,\n",
       "              'X_C': <property at 0x1c5248e3b50>,\n",
       "              'impedance': <property at 0x1c524819670>,\n",
       "              'phase': <property at 0x1c5248e05e0>,\n",
       "              'power_factor': <property at 0x1c5248e0310>,\n",
       "              'current': <function __main__.series_RLC_circuit.current(self, voltage: float) -> float>,\n",
       "              '__repr__': <function __main__.series_RLC_circuit.__repr__(self) -> str>,\n",
       "              '__str__': <function __main__.series_RLC_circuit.__str__(self)>,\n",
       "              '__dict__': <attribute '__dict__' of 'series_RLC_circuit' objects>,\n",
       "              '__weakref__': <attribute '__weakref__' of 'series_RLC_circuit' objects>})"
      ]
     },
     "execution_count": 1094,
     "metadata": {},
     "output_type": "execute_result"
    }
   ],
   "source": [
    "series_RLC_circuit.__dict__"
   ]
  },
  {
   "cell_type": "code",
   "execution_count": 1096,
   "id": "8d38ffd0",
   "metadata": {},
   "outputs": [
    {
     "data": {
      "text/plain": [
       "{'_R': 5, '_X_L': 9, '_X_C': 12}"
      ]
     },
     "execution_count": 1096,
     "metadata": {},
     "output_type": "execute_result"
    }
   ],
   "source": [
    "inst_1.__dict__"
   ]
  },
  {
   "cell_type": "code",
   "execution_count": 1098,
   "id": "0adee441",
   "metadata": {},
   "outputs": [
    {
     "data": {
      "text/plain": [
       "{'_R': 2, '_X_L': 1, '_X_C': 6}"
      ]
     },
     "execution_count": 1098,
     "metadata": {},
     "output_type": "execute_result"
    }
   ],
   "source": [
    "inst_2.__dict__"
   ]
  },
  {
   "cell_type": "code",
   "execution_count": 1100,
   "id": "ce514029",
   "metadata": {},
   "outputs": [
    {
     "data": {
      "text/plain": [
       "mappingproxy({'__module__': '__main__',\n",
       "              '__doc__': '\\n    Represents a series RLC circuit.\\n    ',\n",
       "              '__init__': <function __main__.series_RLC_circuit.__init__(self, R: float, X_L: float, X_C: float) -> None>,\n",
       "              'R': <property at 0x1c5248e0270>,\n",
       "              'X_L': <property at 0x1c5248e2840>,\n",
       "              'X_C': <property at 0x1c5248e3b50>,\n",
       "              'impedance': <property at 0x1c524819670>,\n",
       "              'phase': <property at 0x1c5248e05e0>,\n",
       "              'power_factor': <property at 0x1c5248e0310>,\n",
       "              'current': <function __main__.series_RLC_circuit.current(self, voltage: float) -> float>,\n",
       "              '__repr__': <function __main__.series_RLC_circuit.__repr__(self) -> str>,\n",
       "              '__str__': <function __main__.series_RLC_circuit.__str__(self)>,\n",
       "              '__dict__': <attribute '__dict__' of 'series_RLC_circuit' objects>,\n",
       "              '__weakref__': <attribute '__weakref__' of 'series_RLC_circuit' objects>})"
      ]
     },
     "execution_count": 1100,
     "metadata": {},
     "output_type": "execute_result"
    }
   ],
   "source": [
    "vars(series_RLC_circuit)"
   ]
  },
  {
   "cell_type": "code",
   "execution_count": 1102,
   "id": "aa67357e",
   "metadata": {},
   "outputs": [
    {
     "name": "stdout",
     "output_type": "stream",
     "text": [
      "Help on class series_RLC_circuit in module __main__:\n",
      "\n",
      "class series_RLC_circuit(builtins.object)\n",
      " |  series_RLC_circuit(R: float, X_L: float, X_C: float) -> None\n",
      " |\n",
      " |  Represents a series RLC circuit.\n",
      " |\n",
      " |  Methods defined here:\n",
      " |\n",
      " |  __init__(self, R: float, X_L: float, X_C: float) -> None\n",
      " |      Initializes an RLC circuit object.\n",
      " |\n",
      " |  __repr__(self) -> str\n",
      " |      Repr is for programmer.\n",
      " |\n",
      " |  __str__(self)\n",
      " |      str is for common person\n",
      " |\n",
      " |  current(self, voltage: float) -> float\n",
      " |      Calculates the current.\n",
      " |\n",
      " |  ----------------------------------------------------------------------\n",
      " |  Readonly properties defined here:\n",
      " |\n",
      " |  impedance\n",
      " |      Calculates the impedance.\n",
      " |\n",
      " |  phase\n",
      " |      Calculates the phase angle.\n",
      " |\n",
      " |  power_factor\n",
      " |      Calculates the power factor.\n",
      " |\n",
      " |  ----------------------------------------------------------------------\n",
      " |  Data descriptors defined here:\n",
      " |\n",
      " |  R\n",
      " |      Gets the resistance.\n",
      " |\n",
      " |  X_C\n",
      " |      Gets the capacitance.\n",
      " |\n",
      " |  X_L\n",
      " |      Gets the inductance.\n",
      " |\n",
      " |  __dict__\n",
      " |      dictionary for instance variables\n",
      " |\n",
      " |  __weakref__\n",
      " |      list of weak references to the object\n",
      "\n"
     ]
    }
   ],
   "source": [
    "help(series_RLC_circuit)"
   ]
  },
  {
   "cell_type": "code",
   "execution_count": 1104,
   "id": "02ff2269",
   "metadata": {},
   "outputs": [
    {
     "name": "stdout",
     "output_type": "stream",
     "text": [
      "\n",
      "    Represents a series RLC circuit.\n",
      "    \n"
     ]
    }
   ],
   "source": [
    "print(series_RLC_circuit.__doc__)"
   ]
  },
  {
   "cell_type": "code",
   "execution_count": 1106,
   "id": "78ed2954",
   "metadata": {},
   "outputs": [
    {
     "name": "stdout",
     "output_type": "stream",
     "text": [
      "\n",
      "        Initializes an RLC circuit object.\n",
      "        \n"
     ]
    }
   ],
   "source": [
    "print(series_RLC_circuit.__init__.__doc__)"
   ]
  },
  {
   "cell_type": "code",
   "execution_count": 1108,
   "id": "17fb09b8",
   "metadata": {},
   "outputs": [
    {
     "name": "stdout",
     "output_type": "stream",
     "text": [
      "\n",
      "        Gets the resistance.\n",
      "        \n"
     ]
    }
   ],
   "source": [
    "print(series_RLC_circuit.R.__doc__)"
   ]
  },
  {
   "cell_type": "code",
   "execution_count": 1110,
   "id": "6b361c50",
   "metadata": {},
   "outputs": [
    {
     "name": "stdout",
     "output_type": "stream",
     "text": [
      "\n",
      "        Gets the inductance.\n",
      "        \n"
     ]
    }
   ],
   "source": [
    "print(series_RLC_circuit.X_L.__doc__)"
   ]
  },
  {
   "cell_type": "code",
   "execution_count": 1112,
   "id": "7654146f",
   "metadata": {},
   "outputs": [
    {
     "name": "stdout",
     "output_type": "stream",
     "text": [
      "\n",
      "        Gets the capacitance.\n",
      "        \n"
     ]
    }
   ],
   "source": [
    "print(series_RLC_circuit.X_C.__doc__)"
   ]
  },
  {
   "cell_type": "code",
   "execution_count": 1114,
   "id": "70ecf23c",
   "metadata": {},
   "outputs": [
    {
     "name": "stdout",
     "output_type": "stream",
     "text": [
      "\n",
      "        Calculates the impedance.\n",
      "        \n"
     ]
    }
   ],
   "source": [
    "print(series_RLC_circuit.impedance.__doc__)"
   ]
  },
  {
   "cell_type": "code",
   "execution_count": 1116,
   "id": "8148e809",
   "metadata": {},
   "outputs": [
    {
     "name": "stdout",
     "output_type": "stream",
     "text": [
      "\n",
      "        Repr is for programmer.\n",
      "        \n"
     ]
    }
   ],
   "source": [
    "print(series_RLC_circuit.__repr__.__doc__)"
   ]
  },
  {
   "cell_type": "code",
   "execution_count": 1118,
   "id": "9d2bba67",
   "metadata": {},
   "outputs": [
    {
     "name": "stdout",
     "output_type": "stream",
     "text": [
      "\n",
      "        str is for common person\n"
     ]
    }
   ],
   "source": [
    "print(series_RLC_circuit.__str__.__doc__)"
   ]
  },
  {
   "cell_type": "markdown",
   "id": "94c4cd3d",
   "metadata": {},
   "source": [
    "Modify the RLC parallel for the parallel resonance case. "
   ]
  },
  {
   "cell_type": "code",
   "execution_count": 1126,
   "id": "4d70ad23",
   "metadata": {},
   "outputs": [],
   "source": [
    "import math\n",
    "class RLCParallelCircuit:\n",
    "    \"\"\"A class to represent a simple RLC parallel circuit with a resistor, inductor, and capacitor.\"\"\"\n",
    "\n",
    "    def __init__(self, R: float, X_L: float, X_C: float):\n",
    "        \"\"\"Initialize the RLC parallel circuit with a resistor, inductor, and capacitor.\n",
    "        \"\"\"\n",
    "        self._R = R\n",
    "        self._X_L = X_L\n",
    "        self._X_C = X_C\n",
    "\n",
    "    @property\n",
    "    def R(self) -> float:\n",
    "        \"\"\"Get the resistance of the resistor.\"\"\"\n",
    "        return self._R\n",
    "\n",
    "    @R.setter\n",
    "    def R(self, value: float):\n",
    "        \"\"\"Set the resistance of the resistor.\n",
    "        \"\"\"\n",
    "        self._R = value\n",
    "\n",
    "    @property\n",
    "    def X_L(self) -> float:\n",
    "        \"\"\"Get the inductance of the inductor.\"\"\"\n",
    "        return self._X_L\n",
    "\n",
    "    @X_L.setter\n",
    "    def X_L(self, value: float):\n",
    "        \"\"\"Set the inductance of the inductor.\n",
    "        \"\"\"\n",
    "        self._X_L = value\n",
    "\n",
    "    @property\n",
    "    def X_C(self) -> float:\n",
    "        \"\"\"Get the capacitance of the capacitor.\"\"\"\n",
    "        return self._X_C\n",
    "\n",
    "    @X_C.setter\n",
    "    def X_C(self, value: float):\n",
    "        \"\"\"Set the capacitance of the capacitor.\n",
    "        \"\"\"\n",
    "        self._X_C = value\n",
    "    @property\n",
    "    def resonance_frequency(self) -> float:\n",
    "        \"\"\"Calculate the resonance frequency of the RLC parallel circuit.\n",
    "        \"\"\"\n",
    "        L=1/2*math.pi*X_L\n",
    "        C=-1/2*math.pi*X_C\n",
    "        return 1 / (2 * math.pi * (L * C) ** 0.5)\n",
    "    def total_impedance(self, frequency: float) -> complex:\n",
    "        \"\"\"Calculate the total impedance of the RLC parallel circuit.\n",
    "        \"\"\"\n",
    "        total_impedance = 1 / (1/R + 1/XL + 1/XC)\n",
    "        return total_impedance\n",
    "    def Quality_factor(self):\n",
    "        \"\"\"give the Quality_factor of the circuit\"\"\"\n",
    "        Q.f=self._XL/self._R\n",
    "        return Q.f\n",
    "    def Bandwidth(self):\n",
    "        \"\"\"give the bandwidth of the circuit\"\"\"\n",
    "        B.w=resonance_frequency/Q.f\n",
    "        return B.w\n",
    "    def __repr__(self) -> str:\n",
    "        \"\"\"repr is for programmer\"\"\"\n",
    "        return (f\"RLCParallelCircuit(R={self._R},I={self._X_L}, C={self._X_C})\")\n",
    "\n",
    "    def __str__(self) -> str:\n",
    "        \"\"\"str is for common people\"\"\"\n",
    "        return (f\"RLC Parallel Circuit has Resistance {self.R} ohms,{self._X_L} henrys, C= {self._X_C} farads\")"
   ]
  },
  {
   "cell_type": "code",
   "execution_count": 1128,
   "id": "f057e5aa",
   "metadata": {},
   "outputs": [],
   "source": [
    "inst_1=RLCParallelCircuit(5,9,7)"
   ]
  },
  {
   "cell_type": "code",
   "execution_count": 1130,
   "id": "c89fb237",
   "metadata": {},
   "outputs": [],
   "source": [
    "inst_2=RLCParallelCircuit(1,7,3)"
   ]
  },
  {
   "cell_type": "code",
   "execution_count": 1132,
   "id": "e0928c2e",
   "metadata": {},
   "outputs": [
    {
     "name": "stdout",
     "output_type": "stream",
     "text": [
      "RLC Parallel Circuit has Resistance 5 ohms,9 henrys, C= 7 farads\n"
     ]
    }
   ],
   "source": [
    "print(inst_1)"
   ]
  },
  {
   "cell_type": "code",
   "execution_count": 1134,
   "id": "0784c6fe",
   "metadata": {},
   "outputs": [
    {
     "name": "stdout",
     "output_type": "stream",
     "text": [
      "RLC Parallel Circuit has Resistance 1 ohms,7 henrys, C= 3 farads\n"
     ]
    }
   ],
   "source": [
    "print(inst_2)"
   ]
  },
  {
   "cell_type": "code",
   "execution_count": 1136,
   "id": "7fe8747f",
   "metadata": {},
   "outputs": [
    {
     "data": {
      "text/plain": [
       "mappingproxy({'__module__': '__main__',\n",
       "              '__doc__': 'A class to represent a simple RLC parallel circuit with a resistor, inductor, and capacitor.',\n",
       "              '__init__': <function __main__.RLCParallelCircuit.__init__(self, R: float, X_L: float, X_C: float)>,\n",
       "              'R': <property at 0x1c524940db0>,\n",
       "              'X_L': <property at 0x1c5249408b0>,\n",
       "              'X_C': <property at 0x1c524940860>,\n",
       "              'resonance_frequency': <property at 0x1c524940680>,\n",
       "              'total_impedance': <function __main__.RLCParallelCircuit.total_impedance(self, frequency: float) -> complex>,\n",
       "              'Quality_factor': <function __main__.RLCParallelCircuit.Quality_factor(self)>,\n",
       "              'Bandwidth': <function __main__.RLCParallelCircuit.Bandwidth(self)>,\n",
       "              '__repr__': <function __main__.RLCParallelCircuit.__repr__(self) -> str>,\n",
       "              '__str__': <function __main__.RLCParallelCircuit.__str__(self) -> str>,\n",
       "              '__dict__': <attribute '__dict__' of 'RLCParallelCircuit' objects>,\n",
       "              '__weakref__': <attribute '__weakref__' of 'RLCParallelCircuit' objects>})"
      ]
     },
     "execution_count": 1136,
     "metadata": {},
     "output_type": "execute_result"
    }
   ],
   "source": [
    "RLCParallelCircuit.__dict__"
   ]
  },
  {
   "cell_type": "code",
   "execution_count": 1138,
   "id": "7829c1f4",
   "metadata": {},
   "outputs": [
    {
     "data": {
      "text/plain": [
       "{'_R': 5, '_X_L': 9, '_X_C': 7}"
      ]
     },
     "execution_count": 1138,
     "metadata": {},
     "output_type": "execute_result"
    }
   ],
   "source": [
    "inst_1.__dict__"
   ]
  },
  {
   "cell_type": "code",
   "execution_count": 1140,
   "id": "d39d7ad4",
   "metadata": {},
   "outputs": [
    {
     "data": {
      "text/plain": [
       "{'_R': 1, '_X_L': 7, '_X_C': 3}"
      ]
     },
     "execution_count": 1140,
     "metadata": {},
     "output_type": "execute_result"
    }
   ],
   "source": [
    "inst_2.__dict__"
   ]
  },
  {
   "cell_type": "code",
   "execution_count": 1142,
   "id": "4d743844",
   "metadata": {},
   "outputs": [
    {
     "data": {
      "text/plain": [
       "mappingproxy({'__module__': '__main__',\n",
       "              '__doc__': 'A class to represent a simple RLC parallel circuit with a resistor, inductor, and capacitor.',\n",
       "              '__init__': <function __main__.RLCParallelCircuit.__init__(self, R: float, X_L: float, X_C: float)>,\n",
       "              'R': <property at 0x1c524940db0>,\n",
       "              'X_L': <property at 0x1c5249408b0>,\n",
       "              'X_C': <property at 0x1c524940860>,\n",
       "              'resonance_frequency': <property at 0x1c524940680>,\n",
       "              'total_impedance': <function __main__.RLCParallelCircuit.total_impedance(self, frequency: float) -> complex>,\n",
       "              'Quality_factor': <function __main__.RLCParallelCircuit.Quality_factor(self)>,\n",
       "              'Bandwidth': <function __main__.RLCParallelCircuit.Bandwidth(self)>,\n",
       "              '__repr__': <function __main__.RLCParallelCircuit.__repr__(self) -> str>,\n",
       "              '__str__': <function __main__.RLCParallelCircuit.__str__(self) -> str>,\n",
       "              '__dict__': <attribute '__dict__' of 'RLCParallelCircuit' objects>,\n",
       "              '__weakref__': <attribute '__weakref__' of 'RLCParallelCircuit' objects>})"
      ]
     },
     "execution_count": 1142,
     "metadata": {},
     "output_type": "execute_result"
    }
   ],
   "source": [
    "vars(RLCParallelCircuit)"
   ]
  },
  {
   "cell_type": "code",
   "execution_count": 1144,
   "id": "ca50b8be",
   "metadata": {},
   "outputs": [
    {
     "name": "stdout",
     "output_type": "stream",
     "text": [
      "Help on class RLCParallelCircuit in module __main__:\n",
      "\n",
      "class RLCParallelCircuit(builtins.object)\n",
      " |  RLCParallelCircuit(R: float, X_L: float, X_C: float)\n",
      " |\n",
      " |  A class to represent a simple RLC parallel circuit with a resistor, inductor, and capacitor.\n",
      " |\n",
      " |  Methods defined here:\n",
      " |\n",
      " |  Bandwidth(self)\n",
      " |      give the bandwidth of the circuit\n",
      " |\n",
      " |  Quality_factor(self)\n",
      " |      give the Quality_factor of the circuit\n",
      " |\n",
      " |  __init__(self, R: float, X_L: float, X_C: float)\n",
      " |      Initialize the RLC parallel circuit with a resistor, inductor, and capacitor.\n",
      " |\n",
      " |  __repr__(self) -> str\n",
      " |      repr is for programmer\n",
      " |\n",
      " |  __str__(self) -> str\n",
      " |      str is for common people\n",
      " |\n",
      " |  total_impedance(self, frequency: float) -> complex\n",
      " |      Calculate the total impedance of the RLC parallel circuit.\n",
      " |\n",
      " |  ----------------------------------------------------------------------\n",
      " |  Readonly properties defined here:\n",
      " |\n",
      " |  resonance_frequency\n",
      " |      Calculate the resonance frequency of the RLC parallel circuit.\n",
      " |\n",
      " |  ----------------------------------------------------------------------\n",
      " |  Data descriptors defined here:\n",
      " |\n",
      " |  R\n",
      " |      Get the resistance of the resistor.\n",
      " |\n",
      " |  X_C\n",
      " |      Get the capacitance of the capacitor.\n",
      " |\n",
      " |  X_L\n",
      " |      Get the inductance of the inductor.\n",
      " |\n",
      " |  __dict__\n",
      " |      dictionary for instance variables\n",
      " |\n",
      " |  __weakref__\n",
      " |      list of weak references to the object\n",
      "\n"
     ]
    }
   ],
   "source": [
    "help(RLCParallelCircuit)"
   ]
  },
  {
   "cell_type": "code",
   "execution_count": 1146,
   "id": "e5627174",
   "metadata": {},
   "outputs": [
    {
     "name": "stdout",
     "output_type": "stream",
     "text": [
      "A class to represent a simple RLC parallel circuit with a resistor, inductor, and capacitor.\n"
     ]
    }
   ],
   "source": [
    "print(RLCParallelCircuit.__doc__)"
   ]
  },
  {
   "cell_type": "code",
   "execution_count": 1148,
   "id": "5b65a459",
   "metadata": {},
   "outputs": [
    {
     "name": "stdout",
     "output_type": "stream",
     "text": [
      "{}\n"
     ]
    }
   ],
   "source": [
    "print(RLCParallelCircuit.__annotations__)"
   ]
  },
  {
   "cell_type": "code",
   "execution_count": 1150,
   "id": "8ae6eca6",
   "metadata": {},
   "outputs": [
    {
     "name": "stdout",
     "output_type": "stream",
     "text": [
      "Initialize the RLC parallel circuit with a resistor, inductor, and capacitor.\n",
      "        \n"
     ]
    }
   ],
   "source": [
    "print(RLCParallelCircuit.__init__.__doc__)"
   ]
  },
  {
   "cell_type": "code",
   "execution_count": 1152,
   "id": "1f5ae5d8",
   "metadata": {},
   "outputs": [
    {
     "name": "stdout",
     "output_type": "stream",
     "text": [
      "{'R': <class 'float'>, 'X_L': <class 'float'>, 'X_C': <class 'float'>}\n"
     ]
    }
   ],
   "source": [
    "print(RLCParallelCircuit.__init__.__annotations__)"
   ]
  },
  {
   "cell_type": "code",
   "execution_count": 1158,
   "id": "317e8cce",
   "metadata": {},
   "outputs": [
    {
     "name": "stdout",
     "output_type": "stream",
     "text": [
      "Get the resistance of the resistor.\n"
     ]
    }
   ],
   "source": [
    "print(RLCParallelCircuit.R.__doc__)"
   ]
  },
  {
   "cell_type": "code",
   "execution_count": 1160,
   "id": "26b8dfef",
   "metadata": {},
   "outputs": [
    {
     "name": "stdout",
     "output_type": "stream",
     "text": [
      "Get the inductance of the inductor.\n"
     ]
    }
   ],
   "source": [
    "print(RLCParallelCircuit.X_L.__doc__)"
   ]
  },
  {
   "cell_type": "code",
   "execution_count": 1162,
   "id": "b294373f",
   "metadata": {},
   "outputs": [
    {
     "name": "stdout",
     "output_type": "stream",
     "text": [
      "Get the capacitance of the capacitor.\n"
     ]
    }
   ],
   "source": [
    "print(RLCParallelCircuit.X_C.__doc__)"
   ]
  },
  {
   "cell_type": "code",
   "execution_count": 1164,
   "id": "f0bddfcb",
   "metadata": {},
   "outputs": [
    {
     "name": "stdout",
     "output_type": "stream",
     "text": [
      "Calculate the resonance frequency of the RLC parallel circuit.\n",
      "        \n"
     ]
    }
   ],
   "source": [
    "print(RLCParallelCircuit.resonance_frequency.__doc__)"
   ]
  },
  {
   "cell_type": "code",
   "execution_count": 1166,
   "id": "15045018",
   "metadata": {},
   "outputs": [
    {
     "name": "stdout",
     "output_type": "stream",
     "text": [
      "Calculate the total impedance of the RLC parallel circuit.\n",
      "        \n"
     ]
    }
   ],
   "source": [
    "print(RLCParallelCircuit.total_impedance.__doc__)"
   ]
  },
  {
   "cell_type": "code",
   "execution_count": 1168,
   "id": "7f4562da",
   "metadata": {},
   "outputs": [
    {
     "name": "stdout",
     "output_type": "stream",
     "text": [
      "repr is for programmer\n"
     ]
    }
   ],
   "source": [
    "print(RLCParallelCircuit.__repr__.__doc__)"
   ]
  },
  {
   "cell_type": "code",
   "execution_count": 1170,
   "id": "1d66800b",
   "metadata": {},
   "outputs": [
    {
     "name": "stdout",
     "output_type": "stream",
     "text": [
      "str is for common people\n"
     ]
    }
   ],
   "source": [
    "print(RLCParallelCircuit.__str__.__doc__)"
   ]
  },
  {
   "cell_type": "markdown",
   "id": "d4a7e4e6-c1d8-4456-8f3f-f755678c0c30",
   "metadata": {},
   "source": [
    " Modify the RLC series for the series resonance case."
   ]
  },
  {
   "cell_type": "code",
   "execution_count": 1184,
   "id": "a16f9768-cc21-4f33-9628-c0a23c3e143b",
   "metadata": {},
   "outputs": [],
   "source": [
    "import math\n",
    "class RLCseriescircuit:\n",
    "    \"\"\"A class to represent a simple RLC parallel circuit with a resistor, inductor, and capacitor.\"\"\"\n",
    "\n",
    "    def __init__(self, R: float, X_L: float, X_C: float):\n",
    "        \"\"\"Initialize the RLC parallel circuit with a resistor, inductor, and capacitor.\n",
    "        \"\"\"\n",
    "        self._R = R\n",
    "        self._X_L = X_L\n",
    "        self._X_C = X_C\n",
    "\n",
    "    @property\n",
    "    def R(self) -> float:\n",
    "        \"\"\"Get the resistance of the resistor.\"\"\"\n",
    "        return self._R\n",
    "\n",
    "    @R.setter\n",
    "    def R(self, value: float):\n",
    "        \"\"\"Set the resistance of the resistor.\n",
    "        \"\"\"\n",
    "        self._R = value\n",
    "\n",
    "    @property\n",
    "    def X_L(self) -> float:\n",
    "        \"\"\"Get the inductance of the inductor.\"\"\"\n",
    "        return self._X_L\n",
    "\n",
    "    @X_L.setter\n",
    "    def X_L(self, value: float):\n",
    "        \"\"\"Set the inductance of the inductor.\n",
    "        \"\"\"\n",
    "        self._X_L = value\n",
    "\n",
    "    @property\n",
    "    def X_C(self) -> float:\n",
    "        \"\"\"Get the capacitance of the capacitor.\"\"\"\n",
    "        return self._X_C\n",
    "\n",
    "    @X_C.setter\n",
    "    def X_C(self, value: float):\n",
    "        \"\"\"Set the capacitance of the capacitor.\n",
    "        \"\"\"\n",
    "        self._X_C = value\n",
    "    @property\n",
    "    def resonance_frequency(self) -> float:\n",
    "        \"\"\"Calculate the resonance frequency of the RLC parallel circuit.\n",
    "        \"\"\"\n",
    "        L=1/2*math.pi*X_L\n",
    "        C=-1/2*math.pi*X_C\n",
    "        return 1 / (2 * math.pi * (L * C) ** 0.5)\n",
    "    def total_impedance(self, frequency: float) -> complex:\n",
    "        \"\"\"Calculate the total impedance of the RLC parallel circuit.\n",
    "        \"\"\"\n",
    "        total_impedance = R+X_L+X_C\n",
    "        return total_impedance\n",
    "    def Quality_factor(self):\n",
    "        \"\"\"give the Quality_factor of the circuit\"\"\"\n",
    "        Q.f=self._XL/self._R\n",
    "        return Q.f\n",
    "    def Bandwidth(self):\n",
    "        \"\"\"give the bandwidth of the circuit\"\"\"\n",
    "        B.w=resonance_frequency/Q.f\n",
    "        return B.w\n",
    "    def __repr__(self) -> str:\n",
    "        \"\"\"repr is for programmer\"\"\"\n",
    "        return (f\"RLCseriescircuit(R={self._R},I={self._X_L}, C={self._X_C})\")\n",
    "\n",
    "    def __str__(self) -> str:\n",
    "        \"\"\"str is for common people\"\"\"\n",
    "        return (f\"RLCseriescircuit has Resistance {self.R} ohms,{self._X_L} henrys, C {self._X_C} farads\")"
   ]
  },
  {
   "cell_type": "code",
   "execution_count": 1186,
   "id": "e2b39dc6-f52b-4163-9fd2-1d4afe64c72b",
   "metadata": {},
   "outputs": [],
   "source": [
    "inst_1=RLCseriescircuit(3,5,7)"
   ]
  },
  {
   "cell_type": "code",
   "execution_count": 1188,
   "id": "5c3ad1b9-37b9-4a5c-8391-0e6b2cb3715d",
   "metadata": {},
   "outputs": [],
   "source": [
    "inst_2=RLCseriescircuit(6,7,4)"
   ]
  },
  {
   "cell_type": "code",
   "execution_count": 1190,
   "id": "63a4c502-6ec3-4087-a7d9-640e4482718a",
   "metadata": {},
   "outputs": [
    {
     "name": "stdout",
     "output_type": "stream",
     "text": [
      "RLCseriescircuit has Resistance 3 ohms,5 henrys, C 7 farads\n"
     ]
    }
   ],
   "source": [
    "print(inst_1)"
   ]
  },
  {
   "cell_type": "code",
   "execution_count": 1192,
   "id": "53fe0ff8-6ef0-4d7a-979f-7d8af13f397a",
   "metadata": {},
   "outputs": [
    {
     "name": "stdout",
     "output_type": "stream",
     "text": [
      "RLCseriescircuit has Resistance 6 ohms,7 henrys, C 4 farads\n"
     ]
    }
   ],
   "source": [
    "print(inst_2)"
   ]
  },
  {
   "cell_type": "code",
   "execution_count": 1194,
   "id": "80f62bc2-d739-4114-ba36-a2169afa3719",
   "metadata": {},
   "outputs": [
    {
     "data": {
      "text/plain": [
       "{'_R': 3, '_X_L': 5, '_X_C': 7}"
      ]
     },
     "execution_count": 1194,
     "metadata": {},
     "output_type": "execute_result"
    }
   ],
   "source": [
    "inst_1.__dict__"
   ]
  },
  {
   "cell_type": "code",
   "execution_count": 1196,
   "id": "69be6d04-4fe3-40b6-92eb-96b0a25462e2",
   "metadata": {},
   "outputs": [
    {
     "data": {
      "text/plain": [
       "{'_R': 6, '_X_L': 7, '_X_C': 4}"
      ]
     },
     "execution_count": 1196,
     "metadata": {},
     "output_type": "execute_result"
    }
   ],
   "source": [
    "inst_2.__dict__"
   ]
  },
  {
   "cell_type": "code",
   "execution_count": 1198,
   "id": "55afb702-2e88-45a6-a500-f32acc06fc96",
   "metadata": {},
   "outputs": [
    {
     "data": {
      "text/plain": [
       "mappingproxy({'__module__': '__main__',\n",
       "              '__doc__': 'A class to represent a simple RLC parallel circuit with a resistor, inductor, and capacitor.',\n",
       "              '__init__': <function __main__.RLCseriescircuit.__init__(self, R: float, X_L: float, X_C: float)>,\n",
       "              'R': <property at 0x1c524977ce0>,\n",
       "              'X_L': <property at 0x1c524977ec0>,\n",
       "              'X_C': <property at 0x1c524941350>,\n",
       "              'resonance_frequency': <property at 0x1c5249743b0>,\n",
       "              'total_impedance': <function __main__.RLCseriescircuit.total_impedance(self, frequency: float) -> complex>,\n",
       "              'Quality_factor': <function __main__.RLCseriescircuit.Quality_factor(self)>,\n",
       "              'Bandwidth': <function __main__.RLCseriescircuit.Bandwidth(self)>,\n",
       "              '__repr__': <function __main__.RLCseriescircuit.__repr__(self) -> str>,\n",
       "              '__str__': <function __main__.RLCseriescircuit.__str__(self) -> str>,\n",
       "              '__dict__': <attribute '__dict__' of 'RLCseriescircuit' objects>,\n",
       "              '__weakref__': <attribute '__weakref__' of 'RLCseriescircuit' objects>})"
      ]
     },
     "execution_count": 1198,
     "metadata": {},
     "output_type": "execute_result"
    }
   ],
   "source": [
    "RLCseriescircuit.__dict__"
   ]
  },
  {
   "cell_type": "code",
   "execution_count": 1200,
   "id": "0d5bf318-70ff-4e0b-b866-1aaa07ef6863",
   "metadata": {},
   "outputs": [
    {
     "data": {
      "text/plain": [
       "mappingproxy({'__module__': '__main__',\n",
       "              '__doc__': 'A class to represent a simple RLC parallel circuit with a resistor, inductor, and capacitor.',\n",
       "              '__init__': <function __main__.RLCseriescircuit.__init__(self, R: float, X_L: float, X_C: float)>,\n",
       "              'R': <property at 0x1c524977ce0>,\n",
       "              'X_L': <property at 0x1c524977ec0>,\n",
       "              'X_C': <property at 0x1c524941350>,\n",
       "              'resonance_frequency': <property at 0x1c5249743b0>,\n",
       "              'total_impedance': <function __main__.RLCseriescircuit.total_impedance(self, frequency: float) -> complex>,\n",
       "              'Quality_factor': <function __main__.RLCseriescircuit.Quality_factor(self)>,\n",
       "              'Bandwidth': <function __main__.RLCseriescircuit.Bandwidth(self)>,\n",
       "              '__repr__': <function __main__.RLCseriescircuit.__repr__(self) -> str>,\n",
       "              '__str__': <function __main__.RLCseriescircuit.__str__(self) -> str>,\n",
       "              '__dict__': <attribute '__dict__' of 'RLCseriescircuit' objects>,\n",
       "              '__weakref__': <attribute '__weakref__' of 'RLCseriescircuit' objects>})"
      ]
     },
     "execution_count": 1200,
     "metadata": {},
     "output_type": "execute_result"
    }
   ],
   "source": [
    "vars(RLCseriescircuit)"
   ]
  },
  {
   "cell_type": "code",
   "execution_count": 1202,
   "id": "984d4af6-fe6e-425d-a837-99a1f48480db",
   "metadata": {},
   "outputs": [
    {
     "name": "stdout",
     "output_type": "stream",
     "text": [
      "Help on class RLCseriescircuit in module __main__:\n",
      "\n",
      "class RLCseriescircuit(builtins.object)\n",
      " |  RLCseriescircuit(R: float, X_L: float, X_C: float)\n",
      " |\n",
      " |  A class to represent a simple RLC parallel circuit with a resistor, inductor, and capacitor.\n",
      " |\n",
      " |  Methods defined here:\n",
      " |\n",
      " |  Bandwidth(self)\n",
      " |      give the bandwidth of the circuit\n",
      " |\n",
      " |  Quality_factor(self)\n",
      " |      give the Quality_factor of the circuit\n",
      " |\n",
      " |  __init__(self, R: float, X_L: float, X_C: float)\n",
      " |      Initialize the RLC parallel circuit with a resistor, inductor, and capacitor.\n",
      " |\n",
      " |  __repr__(self) -> str\n",
      " |      repr is for programmer\n",
      " |\n",
      " |  __str__(self) -> str\n",
      " |      str is for common people\n",
      " |\n",
      " |  total_impedance(self, frequency: float) -> complex\n",
      " |      Calculate the total impedance of the RLC parallel circuit.\n",
      " |\n",
      " |  ----------------------------------------------------------------------\n",
      " |  Readonly properties defined here:\n",
      " |\n",
      " |  resonance_frequency\n",
      " |      Calculate the resonance frequency of the RLC parallel circuit.\n",
      " |\n",
      " |  ----------------------------------------------------------------------\n",
      " |  Data descriptors defined here:\n",
      " |\n",
      " |  R\n",
      " |      Get the resistance of the resistor.\n",
      " |\n",
      " |  X_C\n",
      " |      Get the capacitance of the capacitor.\n",
      " |\n",
      " |  X_L\n",
      " |      Get the inductance of the inductor.\n",
      " |\n",
      " |  __dict__\n",
      " |      dictionary for instance variables\n",
      " |\n",
      " |  __weakref__\n",
      " |      list of weak references to the object\n",
      "\n"
     ]
    }
   ],
   "source": [
    "help(RLCseriescircuit)"
   ]
  },
  {
   "cell_type": "code",
   "execution_count": null,
   "id": "31926c52-f111-442a-9122-9fd16da07238",
   "metadata": {},
   "outputs": [],
   "source": []
  },
  {
   "cell_type": "code",
   "execution_count": null,
   "id": "ff751222-29e8-4fa5-8730-ee718894706e",
   "metadata": {},
   "outputs": [],
   "source": []
  }
 ],
 "metadata": {
  "kernelspec": {
   "display_name": "Python 3 (ipykernel)",
   "language": "python",
   "name": "python3"
  },
  "language_info": {
   "codemirror_mode": {
    "name": "ipython",
    "version": 3
   },
   "file_extension": ".py",
   "mimetype": "text/x-python",
   "name": "python",
   "nbconvert_exporter": "python",
   "pygments_lexer": "ipython3",
   "version": "3.12.7"
  }
 },
 "nbformat": 4,
 "nbformat_minor": 5
}
