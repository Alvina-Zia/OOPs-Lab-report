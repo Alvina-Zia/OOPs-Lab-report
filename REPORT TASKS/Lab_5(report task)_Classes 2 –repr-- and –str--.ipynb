{
 "cells": [
  {
   "cell_type": "markdown",
   "id": "01c348fd-f494-46fe-8825-d18e5966daad",
   "metadata": {},
   "source": [
    "<h2 align=\"center\"><b><i><u>Name: Alvina Zia</u></i></b></h2 align=\"center\">\n",
    "<h2 align=\"center\"><b><i><u>Reg no: 23jzele0504</u></i></b></h2 align=\"center\">\n",
    "<h2 align=\"center\"><b><i><u>Semester: 3rd(section A)</u></i></b></h2 align=\"center\">\n",
    "<h2 align=\"center\"><b><i><u>Subject: OOPs & Data Structure</u></i></b></h2 align=\"center\">\n",
    "<h2 align=\"center\"><b><i><u>Lab: Lab no 05(lab report task)</u></i></b></h2 align=\"center\">\n",
    "<h2 align=\"center\"><b><i><u>Submitted to: Sir Irshad-ullah</u></i></b></h2 align=\"center\">"
   ]
  },
  {
   "cell_type": "markdown",
   "id": "9a93e857-8faf-4180-9e4e-9b87a2f007d0",
   "metadata": {},
   "source": [
    "***"
   ]
  },
  {
   "cell_type": "markdown",
   "id": "2e1c41ab",
   "metadata": {},
   "source": [
    "# report task:\n",
    "1-"
   ]
  },
  {
   "cell_type": "code",
   "execution_count": 3,
   "id": "ab419e67-0ac9-4e70-b022-c5a76b092709",
   "metadata": {},
   "outputs": [],
   "source": [
    "import math\n",
    "class circle:\n",
    "    \"\"\"\n",
    "    Represents a circle with radius\n",
    "    \"\"\"\n",
    "    def __init__(self, radius: float):\n",
    "        \"\"\"\n",
    "        Initializes a circle object.\n",
    "        \"\"\"\n",
    "        self._radius = radius\n",
    "    @property\n",
    "    def radius(self) -> float:\n",
    "        \"\"\"\n",
    "        Gets the radius of the circle.\n",
    "        \"\"\"\n",
    "        return self._radius\n",
    "\n",
    "    @radius.setter\n",
    "    def radius(self, value: float):\n",
    "        \"\"\"\n",
    "        Sets the radius of the circle.\n",
    "        \"\"\"\n",
    "        self._radius = value\n",
    "\n",
    "    @property\n",
    "    def area(self) -> float:\n",
    "        \"\"\"\n",
    "        Calculates the area of the circle.\n",
    "        \"\"\"\n",
    "        return math.pi * self._radius ** 2\n",
    "\n",
    "    @property\n",
    "    def circumference(self) -> float:\n",
    "        \"\"\"\n",
    "        Calculates the circumference of the circle.\n",
    "        \"\"\"\n",
    "        return 2 * math.pi * self._radius\n",
    "\n",
    "    @property\n",
    "    def diameter(self) -> float:\n",
    "        \"\"\"\n",
    "        Calculates the diameter of the circle.\n",
    "        \"\"\"\n",
    "        return 2 * self._radius\n",
    "\n",
    "    def volume(self, height: float) -> float:\n",
    "        \"\"\"\n",
    "        Calculates the volume of a cylinder with the given radius and height.\n",
    "        \"\"\"\n",
    "        return math.pi * self._radius ** 2 * height\n",
    "\n",
    "    def __repr__(self) -> str:\n",
    "        \"\"\"\n",
    "        Returns a string representation of the circle object.\n",
    "        \"\"\"\n",
    "        return f\"circle(radius={self._radius})\"\n",
    "\n",
    "    def __str__(self) -> str:\n",
    "        \"\"\"\n",
    "        Returns a human-readable string of the circle object.\n",
    "        \"\"\"\n",
    "        return f\"circle with radius {self._radius:.2f}\""
   ]
  },
  {
   "cell_type": "markdown",
   "id": "ee189c00",
   "metadata": {},
   "source": [
    "a-"
   ]
  },
  {
   "cell_type": "code",
   "execution_count": 6,
   "id": "42b7b136",
   "metadata": {},
   "outputs": [],
   "source": [
    "inst_1 = circle(0.5)"
   ]
  },
  {
   "cell_type": "markdown",
   "id": "f58b56fd",
   "metadata": {},
   "source": [
    "b-"
   ]
  },
  {
   "cell_type": "code",
   "execution_count": 20,
   "id": "1f0b2a21",
   "metadata": {},
   "outputs": [],
   "source": [
    "inst_2 =  circle(7.8)"
   ]
  },
  {
   "cell_type": "markdown",
   "id": "2be5dc51",
   "metadata": {},
   "source": [
    "c-"
   ]
  },
  {
   "cell_type": "code",
   "execution_count": 23,
   "id": "000f7f6f",
   "metadata": {},
   "outputs": [
    {
     "name": "stdout",
     "output_type": "stream",
     "text": [
      "circle with radius 0.50\n"
     ]
    }
   ],
   "source": [
    "print(inst_1)"
   ]
  },
  {
   "cell_type": "code",
   "execution_count": 25,
   "id": "5e23d694",
   "metadata": {},
   "outputs": [
    {
     "name": "stdout",
     "output_type": "stream",
     "text": [
      "circle with radius 7.80\n"
     ]
    }
   ],
   "source": [
    "print(inst_2)"
   ]
  },
  {
   "cell_type": "markdown",
   "id": "f6cee378",
   "metadata": {},
   "source": [
    "d-"
   ]
  },
  {
   "cell_type": "code",
   "execution_count": 28,
   "id": "36176283",
   "metadata": {},
   "outputs": [
    {
     "data": {
      "text/plain": [
       "mappingproxy({'__module__': '__main__',\n",
       "              '__doc__': '\\n    Represents a circle with radius\\n    ',\n",
       "              '__init__': <function __main__.circle.__init__(self, radius: float)>,\n",
       "              'radius': <property at 0x1c52ac905e0>,\n",
       "              'area': <property at 0x1c52ac902c0>,\n",
       "              'circumference': <property at 0x1c52ac90270>,\n",
       "              'diameter': <property at 0x1c52ac92e80>,\n",
       "              'volume': <function __main__.circle.volume(self, height: float) -> float>,\n",
       "              '__repr__': <function __main__.circle.__repr__(self) -> str>,\n",
       "              '__str__': <function __main__.circle.__str__(self) -> str>,\n",
       "              '__dict__': <attribute '__dict__' of 'circle' objects>,\n",
       "              '__weakref__': <attribute '__weakref__' of 'circle' objects>})"
      ]
     },
     "execution_count": 28,
     "metadata": {},
     "output_type": "execute_result"
    }
   ],
   "source": [
    "circle.__dict__"
   ]
  },
  {
   "cell_type": "markdown",
   "id": "480472d3",
   "metadata": {},
   "source": [
    "e-"
   ]
  },
  {
   "cell_type": "code",
   "execution_count": 43,
   "id": "6fa36493",
   "metadata": {},
   "outputs": [
    {
     "data": {
      "text/plain": [
       "mappingproxy({'__module__': '__main__',\n",
       "              '__doc__': '\\n    Represents a circle with radius\\n    ',\n",
       "              '__init__': <function __main__.circle.__init__(self, radius: float)>,\n",
       "              'radius': <property at 0x1c52ac905e0>,\n",
       "              'area': <property at 0x1c52ac902c0>,\n",
       "              'circumference': <property at 0x1c52ac90270>,\n",
       "              'diameter': <property at 0x1c52ac92e80>,\n",
       "              'volume': <function __main__.circle.volume(self, height: float) -> float>,\n",
       "              '__repr__': <function __main__.circle.__repr__(self) -> str>,\n",
       "              '__str__': <function __main__.circle.__str__(self) -> str>,\n",
       "              '__dict__': <attribute '__dict__' of 'circle' objects>,\n",
       "              '__weakref__': <attribute '__weakref__' of 'circle' objects>})"
      ]
     },
     "execution_count": 43,
     "metadata": {},
     "output_type": "execute_result"
    }
   ],
   "source": [
    "vars(circle)"
   ]
  },
  {
   "cell_type": "markdown",
   "id": "5894c71f-54b6-4101-944d-51df53cc6ac2",
   "metadata": {},
   "source": [
    "f-"
   ]
  },
  {
   "cell_type": "code",
   "execution_count": 46,
   "id": "5ed23267-96af-46fd-a618-71c77b8f6053",
   "metadata": {},
   "outputs": [
    {
     "data": {
      "text/plain": [
       "{'_radius': 0.5}"
      ]
     },
     "execution_count": 46,
     "metadata": {},
     "output_type": "execute_result"
    }
   ],
   "source": [
    "inst_1.__dict__"
   ]
  },
  {
   "cell_type": "code",
   "execution_count": 48,
   "id": "d5086357-a9be-41a8-8c4e-7b0717dea502",
   "metadata": {},
   "outputs": [
    {
     "data": {
      "text/plain": [
       "{'_radius': 7.8}"
      ]
     },
     "execution_count": 48,
     "metadata": {},
     "output_type": "execute_result"
    }
   ],
   "source": [
    "inst_2.__dict__"
   ]
  },
  {
   "cell_type": "markdown",
   "id": "af72fb58",
   "metadata": {},
   "source": [
    "g-"
   ]
  },
  {
   "cell_type": "code",
   "execution_count": 52,
   "id": "8a171527",
   "metadata": {},
   "outputs": [
    {
     "name": "stdout",
     "output_type": "stream",
     "text": [
      "Help on class circle in module __main__:\n",
      "\n",
      "class circle(builtins.object)\n",
      " |  circle(radius: float)\n",
      " |\n",
      " |  Represents a circle with radius\n",
      " |\n",
      " |  Methods defined here:\n",
      " |\n",
      " |  __init__(self, radius: float)\n",
      " |      Initializes a circle object.\n",
      " |\n",
      " |  __repr__(self) -> str\n",
      " |      Returns a string representation of the circle object.\n",
      " |\n",
      " |  __str__(self) -> str\n",
      " |      Returns a human-readable string of the circle object.\n",
      " |\n",
      " |  volume(self, height: float) -> float\n",
      " |      Calculates the volume of a cylinder with the given radius and height.\n",
      " |\n",
      " |  ----------------------------------------------------------------------\n",
      " |  Readonly properties defined here:\n",
      " |\n",
      " |  area\n",
      " |      Calculates the area of the circle.\n",
      " |\n",
      " |  circumference\n",
      " |      Calculates the circumference of the circle.\n",
      " |\n",
      " |  diameter\n",
      " |      Calculates the diameter of the circle.\n",
      " |\n",
      " |  ----------------------------------------------------------------------\n",
      " |  Data descriptors defined here:\n",
      " |\n",
      " |  __dict__\n",
      " |      dictionary for instance variables\n",
      " |\n",
      " |  __weakref__\n",
      " |      list of weak references to the object\n",
      " |\n",
      " |  radius\n",
      " |      Gets the radius of the circle.\n",
      "\n"
     ]
    }
   ],
   "source": [
    "help(circle)"
   ]
  },
  {
   "cell_type": "markdown",
   "id": "a0c5a67a",
   "metadata": {},
   "source": [
    "h-"
   ]
  },
  {
   "cell_type": "code",
   "execution_count": 55,
   "id": "4cad535a",
   "metadata": {},
   "outputs": [
    {
     "name": "stdout",
     "output_type": "stream",
     "text": [
      "\n",
      "    Represents a circle with radius\n",
      "    \n"
     ]
    }
   ],
   "source": [
    "print(circle.__doc__)"
   ]
  },
  {
   "cell_type": "code",
   "execution_count": 57,
   "id": "644e550f",
   "metadata": {},
   "outputs": [
    {
     "name": "stdout",
     "output_type": "stream",
     "text": [
      "{}\n"
     ]
    }
   ],
   "source": [
    "print(circle.__annotations__)"
   ]
  },
  {
   "cell_type": "code",
   "execution_count": 59,
   "id": "f54652d3",
   "metadata": {},
   "outputs": [
    {
     "name": "stdout",
     "output_type": "stream",
     "text": [
      "\n",
      "    Represents a circle with radius\n",
      "    \n"
     ]
    }
   ],
   "source": [
    "# Class doc-string\n",
    "print(circle.__doc__)"
   ]
  },
  {
   "cell_type": "code",
   "execution_count": 61,
   "id": "b4d0be01",
   "metadata": {},
   "outputs": [
    {
     "name": "stdout",
     "output_type": "stream",
     "text": [
      "{}\n"
     ]
    }
   ],
   "source": [
    "# Class annotations\n",
    "print(circle.__annotations__)"
   ]
  },
  {
   "cell_type": "code",
   "execution_count": 63,
   "id": "97070a47",
   "metadata": {},
   "outputs": [
    {
     "name": "stdout",
     "output_type": "stream",
     "text": [
      "\n",
      "        Initializes a circle object.\n",
      "        \n"
     ]
    }
   ],
   "source": [
    "# __init__ method doc-string\n",
    "print(circle.__init__.__doc__)"
   ]
  },
  {
   "cell_type": "code",
   "execution_count": 65,
   "id": "b22239df",
   "metadata": {},
   "outputs": [
    {
     "name": "stdout",
     "output_type": "stream",
     "text": [
      "{'radius': <class 'float'>}\n"
     ]
    }
   ],
   "source": [
    "# __init__ method annotations\n",
    "print(circle.__init__.__annotations__)"
   ]
  },
  {
   "cell_type": "code",
   "execution_count": 67,
   "id": "7a6cec57",
   "metadata": {},
   "outputs": [
    {
     "name": "stdout",
     "output_type": "stream",
     "text": [
      "\n",
      "        Returns a string representation of the circle object.\n",
      "        \n"
     ]
    }
   ],
   "source": [
    "# __repr__ method doc-string\n",
    "print(circle.__repr__.__doc__)"
   ]
  },
  {
   "cell_type": "code",
   "execution_count": 69,
   "id": "6b9de893",
   "metadata": {},
   "outputs": [
    {
     "name": "stdout",
     "output_type": "stream",
     "text": [
      "\n",
      "        Returns a human-readable string of the circle object.\n",
      "        \n"
     ]
    }
   ],
   "source": [
    "# __str__ method doc-string\n",
    "print(circle.__str__.__doc__)"
   ]
  },
  {
   "cell_type": "markdown",
   "id": "130c628f",
   "metadata": {},
   "source": [
    "i-"
   ]
  },
  {
   "cell_type": "code",
   "execution_count": 72,
   "id": "86a0eaef",
   "metadata": {},
   "outputs": [],
   "source": [
    "class circle:\n",
    "    \"represents a class circle\"\n",
    "    def __init__(self,radius:float=0.5) ->float:\n",
    "        \"init gives initial values and there is only one initial value which we give that is radius\"\n",
    "        self.radius=radius"
   ]
  },
  {
   "cell_type": "code",
   "execution_count": 74,
   "id": "925a7d82",
   "metadata": {},
   "outputs": [],
   "source": [
    "inst_1=circle()"
   ]
  },
  {
   "cell_type": "code",
   "execution_count": 78,
   "id": "ab809c61",
   "metadata": {},
   "outputs": [],
   "source": [
    "inst_2=circle()"
   ]
  },
  {
   "cell_type": "code",
   "execution_count": null,
   "id": "b2334833",
   "metadata": {},
   "outputs": [],
   "source": []
  },
  {
   "cell_type": "code",
   "execution_count": null,
   "id": "3ef4f85b",
   "metadata": {},
   "outputs": [],
   "source": []
  }
 ],
 "metadata": {
  "kernelspec": {
   "display_name": "Python 3 (ipykernel)",
   "language": "python",
   "name": "python3"
  },
  "language_info": {
   "codemirror_mode": {
    "name": "ipython",
    "version": 3
   },
   "file_extension": ".py",
   "mimetype": "text/x-python",
   "name": "python",
   "nbconvert_exporter": "python",
   "pygments_lexer": "ipython3",
   "version": "3.12.7"
  }
 },
 "nbformat": 4,
 "nbformat_minor": 5
}
