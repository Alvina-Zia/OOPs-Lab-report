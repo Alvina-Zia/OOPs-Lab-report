{
 "cells": [
  {
   "cell_type": "markdown",
   "id": "72b0c7e8-c2c6-41cb-9d5a-1b2549429c4e",
   "metadata": {},
   "source": [
    "<h2 align=\"center\"><b><i><u>Name: Alvina Zia</u></i></b></h2 align=\"center\">\n",
    "<h2 align=\"center\"><b><i><u>Reg no: 23jzele0504</u></i></b></h2 align=\"center\">\n",
    "<h2 align=\"center\"><b><i><u>Semester: 3rd(section A)</u></i></b></h2 align=\"center\">\n",
    "<h2 align=\"center\"><b><i><u>Subject: OOPs & Data Structure</u></i></b></h2 align=\"center\">\n",
    "<h2 align=\"center\"><b><i><u>Lab: Lab no 08(report task)</u></i></b></h2 align=\"center\">\n",
    "<h2 align=\"center\"><b><i><u>Submitted to: Sir Irshad-ullah</u></i></b></h2 align=\"center\">"
   ]
  },
  {
   "cell_type": "markdown",
   "id": "eb10973f-2815-458c-aa88-24275f7854fd",
   "metadata": {},
   "source": [
    "***"
   ]
  },
  {
   "cell_type": "markdown",
   "id": "2e33a9af-ebe2-45b5-bd51-858024ba73db",
   "metadata": {},
   "source": [
    "# Report task"
   ]
  },
  {
   "cell_type": "markdown",
   "id": "85e12658-ce45-4a0d-9d43-764de22c878d",
   "metadata": {},
   "source": [
    "# Problem 1:\n",
    "a.\tConstruct a rectangle class \n",
    "b.\tInherit a square class from the rectangle class.\n",
    "c.\tCreate a class Cube that inherits from Square and extends the functionality of .area () (inherited from the Rectangle class through Square) to calculate the surface area and volume of Cube.\n",
    "d.\tCreate two instances of the cube class and call both the instance methods. "
   ]
  },
  {
   "cell_type": "code",
   "execution_count": 7,
   "id": "e403efa1-70ef-4e32-9435-8a0697f1b686",
   "metadata": {},
   "outputs": [],
   "source": [
    "class rectangle:\n",
    "    def __init__(self,L,W):\n",
    "        self._L=L\n",
    "        self._W=W\n",
    "    def area(self):\n",
    "        area=self._L*self._W\n",
    "        return area\n",
    "    def perimeter(self):\n",
    "        peri=2*(self._L+self._W)\n",
    "        return peri"
   ]
  },
  {
   "cell_type": "code",
   "execution_count": 9,
   "id": "0c5f22c4-eebd-405b-8e0b-562166363cdf",
   "metadata": {},
   "outputs": [],
   "source": [
    "class square(rectangle):\n",
    "    def __init__(self,L,W):\n",
    "        super().__init__(L,W)\n",
    "    def area(self):\n",
    "        a=super().area()\n",
    "        return a\n",
    "    def perimeter(self):\n",
    "        peri=super().perimeter()\n",
    "        return 2*peri"
   ]
  },
  {
   "cell_type": "code",
   "execution_count": 11,
   "id": "9be2d568-472f-4cb9-b39f-86a023babd81",
   "metadata": {},
   "outputs": [],
   "source": [
    "class cube(square):\n",
    "    def __init__(self,L,W):\n",
    "        super().__init__(L,W)\n",
    "    def volume(self):\n",
    "        a=super().area()\n",
    "        return a*self._L\n",
    "    def surface_area(self):\n",
    "        s=super().area()\n",
    "        return 6*s"
   ]
  },
  {
   "cell_type": "code",
   "execution_count": 13,
   "id": "95651a06-4cd5-451e-9aea-de34f9272a26",
   "metadata": {},
   "outputs": [],
   "source": [
    "cube1=cube(2,2)"
   ]
  },
  {
   "cell_type": "code",
   "execution_count": 15,
   "id": "4e01170e-727f-4ef8-8467-17737eb5afe9",
   "metadata": {},
   "outputs": [
    {
     "data": {
      "text/plain": [
       "8"
      ]
     },
     "execution_count": 15,
     "metadata": {},
     "output_type": "execute_result"
    }
   ],
   "source": [
    "cube1.volume()"
   ]
  },
  {
   "cell_type": "code",
   "execution_count": 17,
   "id": "7420c400-2191-4015-9fb8-46ad046afc82",
   "metadata": {},
   "outputs": [
    {
     "data": {
      "text/plain": [
       "24"
      ]
     },
     "execution_count": 17,
     "metadata": {},
     "output_type": "execute_result"
    }
   ],
   "source": [
    "cube1.surface_area()"
   ]
  },
  {
   "cell_type": "code",
   "execution_count": null,
   "id": "ba287641-97c2-461f-886f-295ea3e22e32",
   "metadata": {},
   "outputs": [],
   "source": []
  }
 ],
 "metadata": {
  "kernelspec": {
   "display_name": "Python 3 (ipykernel)",
   "language": "python",
   "name": "python3"
  },
  "language_info": {
   "codemirror_mode": {
    "name": "ipython",
    "version": 3
   },
   "file_extension": ".py",
   "mimetype": "text/x-python",
   "name": "python",
   "nbconvert_exporter": "python",
   "pygments_lexer": "ipython3",
   "version": "3.12.7"
  }
 },
 "nbformat": 4,
 "nbformat_minor": 5
}
