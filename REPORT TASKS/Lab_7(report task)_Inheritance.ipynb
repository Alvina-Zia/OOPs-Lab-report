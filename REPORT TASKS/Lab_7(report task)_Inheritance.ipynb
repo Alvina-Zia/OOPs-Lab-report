{
 "cells": [
  {
   "cell_type": "markdown",
   "id": "55a25459-5a34-4fa2-a7b7-a5a2e5466daa",
   "metadata": {},
   "source": [
    "<h2 align=\"center\"><b><i><u>Name: Alvina Zia</u></i></b></h2 align=\"center\">\n",
    "<h2 align=\"center\"><b><i><u>Reg no: 23jzele0504</u></i></b></h2 align=\"center\">\n",
    "<h2 align=\"center\"><b><i><u>Semester: 3rd(section A)</u></i></b></h2 align=\"center\">\n",
    "<h2 align=\"center\"><b><i><u>Subject: OOPs & Data Structure</u></i></b></h2 align=\"center\">\n",
    "<h2 align=\"center\"><b><i><u>Lab: Lab no 07(report task)</u></i></b></h2 align=\"center\">\n",
    "<h2 align=\"center\"><b><i><u>Submitted to: Sir Irshad-ullah</u></i></b></h2 align=\"center\">"
   ]
  },
  {
   "cell_type": "markdown",
   "id": "34624799-507e-4b65-ad1f-cc0d54488cd0",
   "metadata": {},
   "source": [
    "***"
   ]
  },
  {
   "cell_type": "markdown",
   "id": "77cc1d3d-e886-4508-95bf-1d84b5880e6f",
   "metadata": {},
   "source": [
    " # Problem 1:\n",
    " a.\tTake the example of the square class in the last lab and inherit a rectangle class.  \n",
    " b.\tCreate two instances of the rectangle class and call the instance methods."
   ]
  },
  {
   "cell_type": "code",
   "execution_count": 8,
   "id": "2b4ad2bc-1e99-4d6f-a138-b0f878a95562",
   "metadata": {},
   "outputs": [],
   "source": [
    "class Rectangle:\n",
    "    def __init__(self, L, W):\n",
    "        self._L = L\n",
    "        self._W = W\n",
    "        \n",
    "    def area(self):\n",
    "        return self._L * self._W\n",
    "\n",
    "    def perimeter(self):\n",
    "        return 2 * (self._L + self._W)"
   ]
  },
  {
   "cell_type": "code",
   "execution_count": 10,
   "id": "ee150e2c-89cd-4d74-acc4-9a096310ef6b",
   "metadata": {},
   "outputs": [],
   "source": [
    "class Square(Rectangle):\n",
    "    def __init__(self, L,W):\n",
    "        super().__init__(L,W) \n",
    "        \n",
    "    def area(self):\n",
    "        area=super().area()\n",
    "        return area\n",
    "\n",
    "    def perimeter(self):\n",
    "        perimeter=super().area()\n",
    "        return perimeter*2"
   ]
  },
  {
   "cell_type": "code",
   "execution_count": 12,
   "id": "bbcb39a1-a04b-4c35-81af-df6f460e04ee",
   "metadata": {},
   "outputs": [],
   "source": [
    "inst_1=Square(2,2)"
   ]
  },
  {
   "cell_type": "code",
   "execution_count": 14,
   "id": "491209c9-5049-4c21-ae36-47b31c3273ce",
   "metadata": {},
   "outputs": [
    {
     "data": {
      "text/plain": [
       "4"
      ]
     },
     "execution_count": 14,
     "metadata": {},
     "output_type": "execute_result"
    }
   ],
   "source": [
    "inst_1.area()"
   ]
  },
  {
   "cell_type": "code",
   "execution_count": 16,
   "id": "7f3aad96-798a-4d3f-8eec-18c3c6c7efe6",
   "metadata": {},
   "outputs": [
    {
     "data": {
      "text/plain": [
       "8"
      ]
     },
     "execution_count": 16,
     "metadata": {},
     "output_type": "execute_result"
    }
   ],
   "source": [
    "inst_1.perimeter()"
   ]
  },
  {
   "cell_type": "code",
   "execution_count": null,
   "id": "47bc3960-f6e5-4de1-951e-d94c5ee2dd01",
   "metadata": {},
   "outputs": [],
   "source": []
  }
 ],
 "metadata": {
  "kernelspec": {
   "display_name": "Python 3 (ipykernel)",
   "language": "python",
   "name": "python3"
  },
  "language_info": {
   "codemirror_mode": {
    "name": "ipython",
    "version": 3
   },
   "file_extension": ".py",
   "mimetype": "text/x-python",
   "name": "python",
   "nbconvert_exporter": "python",
   "pygments_lexer": "ipython3",
   "version": "3.12.7"
  }
 },
 "nbformat": 4,
 "nbformat_minor": 5
}
