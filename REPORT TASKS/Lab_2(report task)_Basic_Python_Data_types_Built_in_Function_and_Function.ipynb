{
 "cells": [
  {
   "cell_type": "markdown",
   "id": "d86197de-d8eb-4ee9-9203-291d3754d084",
   "metadata": {},
   "source": [
    "<h2 align=\"center\"><b><i><u>Name: Alvina Zia</u></i></b></h2 align=\"center\">\n",
    "<h2 align=\"center\"><b><i><u>Reg no: 23jzele0504</u></i></b></h2 align=\"center\">\n",
    "<h2 align=\"center\"><b><i><u>Semester: 3rd(section A)</u></i></b></h2 align=\"center\">\n",
    "<h2 align=\"center\"><b><i><u>Subject: OOPs & Data Structure</u></i></b></h2 align=\"center\">\n",
    "<h2 align=\"center\"><b><i><u>Lab: Lab no 02(lab report task)</u></i></b></h2 align=\"center\">\n",
    "<h2 align=\"center\"><b><i><u>Submitted to: Sir Irshad-ullah</u></i></b></h2 align=\"center\">"
   ]
  },
  {
   "cell_type": "markdown",
   "id": "1e2cc476-3258-440a-8cc2-ae22f56f9805",
   "metadata": {},
   "source": [
    "***"
   ]
  },
  {
   "cell_type": "markdown",
   "id": "c70973dc",
   "metadata": {},
   "source": [
    "# Lab Report Tasks:"
   ]
  },
  {
   "cell_type": "markdown",
   "id": "9d88a0be-c65d-4527-a1fe-49762f2c47a8",
   "metadata": {},
   "source": [
    "i. Define a function that will take the parameters as current and resistance and will output the voltage across the resistance. "
   ]
  },
  {
   "cell_type": "code",
   "execution_count": 161,
   "id": "afb19b72",
   "metadata": {},
   "outputs": [],
   "source": [
    "def voltage(current, resistance):\n",
    "    return current * resistance "
   ]
  },
  {
   "cell_type": "markdown",
   "id": "a38a3f8b-01a5-428c-bb38-b80191198430",
   "metadata": {},
   "source": [
    "a. The argument pass will like positional arguments."
   ]
  },
  {
   "cell_type": "code",
   "execution_count": 164,
   "id": "337f6f2c",
   "metadata": {},
   "outputs": [],
   "source": [
    "v = voltage(3, 5)"
   ]
  },
  {
   "cell_type": "code",
   "execution_count": 166,
   "id": "c44022e6",
   "metadata": {},
   "outputs": [
    {
     "name": "stdout",
     "output_type": "stream",
     "text": [
      "15\n"
     ]
    }
   ],
   "source": [
    "print(v)"
   ]
  },
  {
   "cell_type": "markdown",
   "id": "139be9ae",
   "metadata": {},
   "source": [
    "b. The arguments passing will like keyword arguments."
   ]
  },
  {
   "cell_type": "code",
   "execution_count": 169,
   "id": "f0f09634",
   "metadata": {},
   "outputs": [],
   "source": [
    "v = voltage(current=2, resistance=10)"
   ]
  },
  {
   "cell_type": "code",
   "execution_count": 171,
   "id": "51c5734c",
   "metadata": {},
   "outputs": [
    {
     "name": "stdout",
     "output_type": "stream",
     "text": [
      "20\n"
     ]
    }
   ],
   "source": [
    "print(v) "
   ]
  },
  {
   "cell_type": "markdown",
   "id": "6e5cba02",
   "metadata": {},
   "source": [
    "c. The arguments passing will like default arguments."
   ]
  },
  {
   "cell_type": "code",
   "execution_count": 174,
   "id": "7c66d435",
   "metadata": {},
   "outputs": [],
   "source": [
    "def voltage(current=2, resistance=10):\n",
    "    return current * resistance"
   ]
  },
  {
   "cell_type": "code",
   "execution_count": 176,
   "id": "571ce55f",
   "metadata": {},
   "outputs": [],
   "source": [
    "v = voltage()"
   ]
  },
  {
   "cell_type": "code",
   "execution_count": 178,
   "id": "c696e20a",
   "metadata": {},
   "outputs": [
    {
     "name": "stdout",
     "output_type": "stream",
     "text": [
      "20\n"
     ]
    }
   ],
   "source": [
    "print(v) "
   ]
  },
  {
   "cell_type": "markdown",
   "id": "6ec5278e",
   "metadata": {},
   "source": [
    "d. Pass the arguments of one style to the other."
   ]
  },
  {
   "cell_type": "code",
   "execution_count": 181,
   "id": "401c0ca8",
   "metadata": {},
   "outputs": [],
   "source": [
    "def voltage(current, resistance):\n",
    "    return current * resistance"
   ]
  },
  {
   "cell_type": "code",
   "execution_count": 183,
   "id": "e75739a7",
   "metadata": {},
   "outputs": [],
   "source": [
    "args = (2, 10)"
   ]
  },
  {
   "cell_type": "code",
   "execution_count": 185,
   "id": "5f40f564",
   "metadata": {},
   "outputs": [],
   "source": [
    "v =voltage(*args)"
   ]
  },
  {
   "cell_type": "code",
   "execution_count": 187,
   "id": "0ec0b414",
   "metadata": {},
   "outputs": [
    {
     "name": "stdout",
     "output_type": "stream",
     "text": [
      "20\n"
     ]
    }
   ],
   "source": [
    "print(v)"
   ]
  },
  {
   "cell_type": "markdown",
   "id": "f09984f3",
   "metadata": {},
   "source": [
    "e. Passing less number of arguments and check the error message."
   ]
  },
  {
   "cell_type": "code",
   "execution_count": 190,
   "id": "eae22bcf",
   "metadata": {},
   "outputs": [],
   "source": [
    "def voltage(current, resistance):\n",
    "    return current * resistance"
   ]
  },
  {
   "cell_type": "code",
   "execution_count": 192,
   "id": "3de2269e",
   "metadata": {},
   "outputs": [
    {
     "ename": "TypeError",
     "evalue": "voltage() missing 1 required positional argument: 'resistance'",
     "output_type": "error",
     "traceback": [
      "\u001b[1;31m---------------------------------------------------------------------------\u001b[0m",
      "\u001b[1;31mTypeError\u001b[0m                                 Traceback (most recent call last)",
      "Cell \u001b[1;32mIn[192], line 1\u001b[0m\n\u001b[1;32m----> 1\u001b[0m v \u001b[38;5;241m=\u001b[39m voltage(\u001b[38;5;241m2\u001b[39m)\n",
      "\u001b[1;31mTypeError\u001b[0m: voltage() missing 1 required positional argument: 'resistance'"
     ]
    }
   ],
   "source": [
    "v = voltage(2)         #passing less number of arguments"
   ]
  },
  {
   "cell_type": "markdown",
   "id": "336d3602",
   "metadata": {},
   "source": [
    "f. Verify that whether positional argument follows keyword argument."
   ]
  },
  {
   "cell_type": "code",
   "execution_count": 195,
   "id": "87cf840f",
   "metadata": {},
   "outputs": [],
   "source": [
    "def calculate_voltage(current, resistance):\n",
    "    return current * resistance"
   ]
  },
  {
   "cell_type": "code",
   "execution_count": 197,
   "id": "0395c634",
   "metadata": {},
   "outputs": [
    {
     "ename": "SyntaxError",
     "evalue": "positional argument follows keyword argument (1295588038.py, line 1)",
     "output_type": "error",
     "traceback": [
      "\u001b[1;36m  Cell \u001b[1;32mIn[197], line 1\u001b[1;36m\u001b[0m\n\u001b[1;33m    v = voltage(current=2, 10)           # positional argument follow keyword argument\u001b[0m\n\u001b[1;37m                             ^\u001b[0m\n\u001b[1;31mSyntaxError\u001b[0m\u001b[1;31m:\u001b[0m positional argument follows keyword argument\n"
     ]
    }
   ],
   "source": [
    "v = voltage(current=2, 10)           # positional argument follow keyword argument\n",
    "   print(v) "
   ]
  },
  {
   "cell_type": "code",
   "execution_count": null,
   "id": "20ac3803",
   "metadata": {},
   "outputs": [],
   "source": []
  },
  {
   "cell_type": "code",
   "execution_count": null,
   "id": "206fa34d-2248-4d9f-8785-3917e6616ec0",
   "metadata": {},
   "outputs": [],
   "source": []
  }
 ],
 "metadata": {
  "kernelspec": {
   "display_name": "Python 3 (ipykernel)",
   "language": "python",
   "name": "python3"
  },
  "language_info": {
   "codemirror_mode": {
    "name": "ipython",
    "version": 3
   },
   "file_extension": ".py",
   "mimetype": "text/x-python",
   "name": "python",
   "nbconvert_exporter": "python",
   "pygments_lexer": "ipython3",
   "version": "3.12.7"
  }
 },
 "nbformat": 4,
 "nbformat_minor": 5
}
