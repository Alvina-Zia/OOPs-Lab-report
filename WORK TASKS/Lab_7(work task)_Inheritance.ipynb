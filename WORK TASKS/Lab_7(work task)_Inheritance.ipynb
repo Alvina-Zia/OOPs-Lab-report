{
 "cells": [
  {
   "cell_type": "markdown",
   "id": "f05b9318-cbfe-4986-b861-f132ee4a5c04",
   "metadata": {},
   "source": [
    "<h2 align=\"center\"><b><i><u>Name: Alvina Zia</u></i></b></h2 align=\"center\">\n",
    "<h2 align=\"center\"><b><i><u>Reg no: 23jzele0504</u></i></b></h2 align=\"center\">\n",
    "<h2 align=\"center\"><b><i><u>Semester: 3rd(section A)</u></i></b></h2 align=\"center\">\n",
    "<h2 align=\"center\"><b><i><u>Subject: OOPs & Data Structure</u></i></b></h2 align=\"center\">\n",
    "<h2 align=\"center\"><b><i><u>Lab: Lab no 07(work task)</u></i></b></h2 align=\"center\">\n",
    "<h2 align=\"center\"><b><i><u>Submitted to: Sir Irshad-ullah</u></i></b></h2 align=\"center\">"
   ]
  },
  {
   "cell_type": "markdown",
   "id": "351d1277-7c30-404e-87c2-6ee179ee17db",
   "metadata": {},
   "source": [
    "***"
   ]
  },
  {
   "cell_type": "markdown",
   "id": "f8d57b1e-1584-4933-8998-442b84677741",
   "metadata": {},
   "source": [
    "# Problem 2:\n",
    "a.\tTake the example of the square class in the last lab and inherit a cube class with its own volume and surface area instance method. \n",
    " b.\tCreate two instances of the cube class and call both the instance methods."
   ]
  },
  {
   "cell_type": "code",
   "execution_count": 3,
   "id": "8412fc52-05a3-498c-9b3c-013ee13514a6",
   "metadata": {},
   "outputs": [],
   "source": [
    "class Square:\n",
    "    def __init__(self, side):\n",
    "        self.side = side\n",
    "\n",
    "    def area(self):\n",
    "        return self.side ** 2\n",
    "\n",
    "    def perimeter(self):\n",
    "        return 4 * self.side"
   ]
  },
  {
   "cell_type": "code",
   "execution_count": 5,
   "id": "2d6d9d35-b4c1-409e-8d96-2c0587294c2b",
   "metadata": {},
   "outputs": [],
   "source": [
    "class Cube(Square):\n",
    "    def __init__(self, side):\n",
    "        super().__init__(side)\n",
    "\n",
    "    def volume(self):\n",
    "        base=super().area()\n",
    "        return base*self.side\n",
    "\n",
    "    def surface_area(self):\n",
    "        sq_a= super().area()\n",
    "        return 6 * sq_a"
   ]
  },
  {
   "cell_type": "code",
   "execution_count": 7,
   "id": "a8179381-584f-443b-9795-704e551a199a",
   "metadata": {},
   "outputs": [],
   "source": [
    "cube1 = Cube(4)\n",
    "cube2 = Cube(10)"
   ]
  },
  {
   "cell_type": "code",
   "execution_count": 9,
   "id": "ce093180-bd88-4228-bed0-89d7c1b92cbd",
   "metadata": {},
   "outputs": [
    {
     "data": {
      "text/plain": [
       "64"
      ]
     },
     "execution_count": 9,
     "metadata": {},
     "output_type": "execute_result"
    }
   ],
   "source": [
    "cube1.volume()"
   ]
  },
  {
   "cell_type": "code",
   "execution_count": 11,
   "id": "602feb59-bff7-4b65-a77c-f2dbbdff862b",
   "metadata": {},
   "outputs": [
    {
     "data": {
      "text/plain": [
       "96"
      ]
     },
     "execution_count": 11,
     "metadata": {},
     "output_type": "execute_result"
    }
   ],
   "source": [
    "cube1.surface_area()"
   ]
  },
  {
   "cell_type": "markdown",
   "id": "e62fbada-2458-49de-9e88-00b082c9a810",
   "metadata": {},
   "source": [
    " # Problem 1:\n",
    " a.\tTake the example of the square class in the last lab and inherit a rectangle class.  \n",
    " b.\tCreate two instances of the rectangle class and call the instance methods."
   ]
  },
  {
   "cell_type": "code",
   "execution_count": 13,
   "id": "df52a536-5092-4012-89af-9311556f9404",
   "metadata": {},
   "outputs": [],
   "source": [
    "class Rectangle:\n",
    "    def __init__(self, L, W):\n",
    "        self._L = L\n",
    "        self._W = W\n",
    "        \n",
    "    def area(self):\n",
    "        return self._L * self._W\n",
    "\n",
    "    def perimeter(self):\n",
    "        return 2 * (self._L + self._W)"
   ]
  },
  {
   "cell_type": "code",
   "execution_count": 15,
   "id": "42f92837-1d7a-434d-b982-0d22afe493bb",
   "metadata": {},
   "outputs": [],
   "source": [
    "class Square(Rectangle):\n",
    "    def __init__(self, L,W):\n",
    "        super().__init__(L,W) \n",
    "        \n",
    "    def area(self):\n",
    "        area=super().area()\n",
    "        return area\n",
    "\n",
    "    def perimeter(self):\n",
    "        perimeter=super().area()\n",
    "        return perimeter*2"
   ]
  },
  {
   "cell_type": "code",
   "execution_count": 17,
   "id": "79f0c7a1-6339-4fb7-a8ce-f29424bb79df",
   "metadata": {},
   "outputs": [],
   "source": [
    "inst_1=Square(2,2)"
   ]
  },
  {
   "cell_type": "code",
   "execution_count": 19,
   "id": "467a8f19-3782-4d04-94b1-59a4d8ba4660",
   "metadata": {},
   "outputs": [
    {
     "data": {
      "text/plain": [
       "4"
      ]
     },
     "execution_count": 19,
     "metadata": {},
     "output_type": "execute_result"
    }
   ],
   "source": [
    "inst_1.area()"
   ]
  },
  {
   "cell_type": "code",
   "execution_count": 21,
   "id": "7ae1f33f-4ab8-400c-afc0-2f7141eeb908",
   "metadata": {},
   "outputs": [
    {
     "data": {
      "text/plain": [
       "8"
      ]
     },
     "execution_count": 21,
     "metadata": {},
     "output_type": "execute_result"
    }
   ],
   "source": [
    "inst_1.perimeter()"
   ]
  },
  {
   "cell_type": "markdown",
   "id": "fc0e289f-88f7-4136-b8aa-5ec3fa1ae6c1",
   "metadata": {},
   "source": [
    " # Problem 4:\n",
    " a.\tTake the example of the Point2D class in the last lab and inherit a cube class with its own distance_from_origin instance methods. \n",
    " b.\tCreate two instances and call the instance methods.\n"
   ]
  },
  {
   "cell_type": "code",
   "execution_count": 24,
   "id": "915a4d99-9ae1-4002-b7a3-5a14852949bd",
   "metadata": {},
   "outputs": [],
   "source": [
    "import math\n",
    "class Point2D:\n",
    "    def __init__(self, x, y):\n",
    "        self.x = x\n",
    "        self.y = y\n",
    "\n",
    "    def distance_from_origin(self):\n",
    "        return math.sqrt(self.x ** 2 + self.y ** 2)"
   ]
  },
  {
   "cell_type": "code",
   "execution_count": 26,
   "id": "82a8eee0-eb06-4cc0-a16a-06989ef8ef9b",
   "metadata": {},
   "outputs": [],
   "source": [
    "class Point3D(Point2D):\n",
    "    def __init__(self, x, y, z):\n",
    "        super().__init__(x, y)\n",
    "        self.z = z\n",
    "\n",
    "    def distance_from_origin(self):\n",
    "        r2d=super().distance_from_origin()\n",
    "        return math.sqrt(r2d + self.z ** 2)"
   ]
  },
  {
   "cell_type": "code",
   "execution_count": 28,
   "id": "7ef02b4b-a6f1-43bb-8d2e-38887f4c9f8e",
   "metadata": {},
   "outputs": [],
   "source": [
    "point1 = Point3D(1, 2, 3)\n",
    "point2 = Point3D(4, 5, 6)"
   ]
  },
  {
   "cell_type": "code",
   "execution_count": 30,
   "id": "2ef6f60f-dc4e-4a17-872a-d7bed61a4e04",
   "metadata": {},
   "outputs": [
    {
     "data": {
      "text/plain": [
       "3.3520244595616826"
      ]
     },
     "execution_count": 30,
     "metadata": {},
     "output_type": "execute_result"
    }
   ],
   "source": [
    "point1.distance_from_origin()"
   ]
  },
  {
   "cell_type": "code",
   "execution_count": 32,
   "id": "a8778d25-5e2a-4259-8072-14665fbe803a",
   "metadata": {},
   "outputs": [
    {
     "data": {
      "text/plain": [
       "6.511768134495641"
      ]
     },
     "execution_count": 32,
     "metadata": {},
     "output_type": "execute_result"
    }
   ],
   "source": [
    "point2.distance_from_origin()"
   ]
  },
  {
   "cell_type": "markdown",
   "id": "3d74b881-65a1-4402-9b66-3a07b6bd929b",
   "metadata": {},
   "source": [
    " # Problem 5:\n",
    " The HR system needs to process payroll for the company’s employees, but there are different types of employees depending on how their payroll is calculated.\n",
    " make employee,salary employee,commission employee,hourly employee\n",
    " "
   ]
  },
  {
   "cell_type": "code",
   "execution_count": 35,
   "id": "a279c909-bc4f-4fbe-b0ab-6fc48a1732a3",
   "metadata": {},
   "outputs": [],
   "source": [
    "class Employ:\n",
    "    def __init__(self,name,id):\n",
    "        self.name=name\n",
    "        self.id=id"
   ]
  },
  {
   "cell_type": "code",
   "execution_count": 37,
   "id": "15ab5ba6-ca5f-4415-80a6-b107dbbc1c0f",
   "metadata": {},
   "outputs": [],
   "source": [
    "class payroll_System:\n",
    "    def calculate_payroll(self,employ):\n",
    "        print(\"calculate_payroll\")\n",
    "        print(\"-------------\")\n",
    "        for employ in employ:\n",
    "            print (f\"payroll for: {employ.id} - {employ.name}\")\n",
    "            print(f\"check amount: {employ.calculate_payroll()}\")\n",
    "            print(\"\")"
   ]
  },
  {
   "cell_type": "code",
   "execution_count": 39,
   "id": "cbe56a43-62cf-47af-9925-d77fac008379",
   "metadata": {},
   "outputs": [],
   "source": [
    "class salary_Employ(Employ):\n",
    "    def __init__(self,name,id,weeky_salary):\n",
    "        super().__init__(name,id)\n",
    "        self._weeky_salary=weeky_salary\n",
    "    def calculate_payroll(self):\n",
    "        return self._weeky_salary"
   ]
  },
  {
   "cell_type": "code",
   "execution_count": 41,
   "id": "27969a7a-9369-4a32-aac8-ec463a9fa8a4",
   "metadata": {},
   "outputs": [],
   "source": [
    "class Hourly_Employ(Employ):\n",
    "    def __init__(self,name,id,hourly_rate ,hours_worked ):\n",
    "        super().__init__(name,id)\n",
    "        self._hourly_rate =hourly_rate \n",
    "        self._hours_worked =hours_worked \n",
    "    def calculate_payroll(self):\n",
    "        return self._hourly_rate * self._hours_worked "
   ]
  },
  {
   "cell_type": "code",
   "execution_count": 43,
   "id": "c31d3022-27a4-4a3b-8c40-262cbda2012c",
   "metadata": {},
   "outputs": [],
   "source": [
    "class commission_Employ(salary_Employ):\n",
    "    def __init__(self,name,id,weeky_salary,commission):\n",
    "        super().__init__(name,id,weeky_salary)\n",
    "        self._commission=commission\n",
    "    def calculate_payroll(self):\n",
    "        fixed=super().calculate_payroll()\n",
    "        return fixed+self._commission"
   ]
  },
  {
   "cell_type": "code",
   "execution_count": 45,
   "id": "2b9a3c60-1718-46bb-8d0c-9edb530ce64a",
   "metadata": {},
   "outputs": [],
   "source": [
    "salary_Employ=salary_Employ(\"lonny\",1,677)"
   ]
  },
  {
   "cell_type": "code",
   "execution_count": 47,
   "id": "e831285e-92e5-4025-890e-117b4cf5b22a",
   "metadata": {},
   "outputs": [],
   "source": [
    "Hourly_Employ=Hourly_Employ(\"brassy\",66,7,8)"
   ]
  },
  {
   "cell_type": "code",
   "execution_count": 49,
   "id": "0d116144-bbe4-49b0-b14e-f5634c5fd8a1",
   "metadata": {},
   "outputs": [],
   "source": [
    "commission_Employ=commission_Employ(\"johny\",1,677,89)"
   ]
  },
  {
   "cell_type": "code",
   "execution_count": 51,
   "id": "d1866ea6-3471-4e0c-9855-8afe9b0da3c3",
   "metadata": {},
   "outputs": [],
   "source": [
    "payroll_System = payroll_System()"
   ]
  },
  {
   "cell_type": "code",
   "execution_count": 53,
   "id": "876c7088-9452-42fa-99bb-c48ca27f1ab7",
   "metadata": {},
   "outputs": [
    {
     "name": "stdout",
     "output_type": "stream",
     "text": [
      "calculate_payroll\n",
      "-------------\n",
      "payroll for: 1 - lonny\n",
      "check amount: 677\n",
      "\n",
      "payroll for: 66 - brassy\n",
      "check amount: 56\n",
      "\n",
      "payroll for: 1 - johny\n",
      "check amount: 766\n",
      "\n"
     ]
    }
   ],
   "source": [
    "payroll_System.calculate_payroll(\n",
    "    [salary_Employ,Hourly_Employ,commission_Employ]\n",
    ")"
   ]
  },
  {
   "cell_type": "markdown",
   "id": "94fa23c8-50e0-4113-bdfb-7a2e910bf73e",
   "metadata": {},
   "source": [
    "# problem 6:\n",
    "Design a class for the employees of the electrical department. \n",
    "a.\tBase class on the name of staff.\n",
    "b.\tThere are admin and faculty staff. \n",
    "c.\tThe faculty contains Lecturers, Assistant professors, Associate Professors, and Professors.\n",
    "d.\tThe admin staff contains Lab Engineers, Lab technicians, Lab assistants, and lab attendants. "
   ]
  },
  {
   "cell_type": "code",
   "execution_count": 6,
   "id": "baa2ff7c-68ec-4964-b25b-fc8e5dfef80e",
   "metadata": {},
   "outputs": [],
   "source": [
    "class Employee:\n",
    "    def __init__(self, fName, lName, email, pay):\n",
    "        self.fName = fName\n",
    "        self.lName = lName\n",
    "        self.email = email\n",
    "        self.pay = pay\n",
    "\n",
    "    def raisePay(self, percent):\n",
    "        self.pay *= (1 + percent/100)\n",
    "\n",
    "class Instructor(Employee):\n",
    "    def __init__(self, fName, lName, email, pay, desig):\n",
    "        super().__init__(fName, lName, email, pay)\n",
    "        self.desig = desig\n",
    "        self.courses = []\n",
    "\n",
    "    def assignCourse(self, course):\n",
    "        self.courses.append(course)\n",
    "\n",
    "class AdminStaff(Employee):\n",
    "    def __init__(self, fName, lName, email, pay, team=None):\n",
    "        super().__init__(fName, lName, email, pay)\n",
    "        self.team = team\n",
    "        self.tasks = []\n",
    "\n",
    "    def assignTask(self, task):\n",
    "        self.tasks.append(task)"
   ]
  },
  {
   "cell_type": "code",
   "execution_count": 8,
   "id": "e926f456-5132-49e7-8e31-c34ef266e1fe",
   "metadata": {},
   "outputs": [],
   "source": [
    "instructor1 = Instructor(\"a\", \"D\", \"d@example.com\", 50000, \"Professor\")\n",
    "instructor1.assignCourse(\"Introduction to Electrical Engineering\")\n",
    "instructor1.assignCourse(\"Circuit Analysis\")\n",
    "admin1 = AdminStaff(\"Jane\", \"Smith\", \"jane.smith@example.com\", 40000, \"IT Support\")\n",
    "admin1.assignTask(\"Fix printer in room 201\")\n",
    "admin1.assignTask(\"Update software on all computers\")"
   ]
  },
  {
   "cell_type": "code",
   "execution_count": null,
   "id": "89cffaef-e938-49d7-ab96-bd9a3e678f8c",
   "metadata": {},
   "outputs": [],
   "source": []
  },
  {
   "cell_type": "code",
   "execution_count": null,
   "id": "765b48af-5e5d-4fac-945b-c78d827ddc59",
   "metadata": {},
   "outputs": [],
   "source": []
  }
 ],
 "metadata": {
  "kernelspec": {
   "display_name": "Python 3 (ipykernel)",
   "language": "python",
   "name": "python3"
  },
  "language_info": {
   "codemirror_mode": {
    "name": "ipython",
    "version": 3
   },
   "file_extension": ".py",
   "mimetype": "text/x-python",
   "name": "python",
   "nbconvert_exporter": "python",
   "pygments_lexer": "ipython3",
   "version": "3.12.7"
  }
 },
 "nbformat": 4,
 "nbformat_minor": 5
}
