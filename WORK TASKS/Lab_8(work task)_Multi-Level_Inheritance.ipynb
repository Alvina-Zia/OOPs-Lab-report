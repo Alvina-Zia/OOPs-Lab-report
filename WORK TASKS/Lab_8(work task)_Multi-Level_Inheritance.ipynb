{
 "cells": [
  {
   "cell_type": "markdown",
   "id": "da52d8d1-2fd0-45f8-9df6-bd0490ccdbb5",
   "metadata": {},
   "source": [
    "<h2 align=\"center\"><b><i><u>Name: Alvina Zia</u></i></b></h2 align=\"center\">\n",
    "<h2 align=\"center\"><b><i><u>Reg no: 23jzele0504</u></i></b></h2 align=\"center\">\n",
    "<h2 align=\"center\"><b><i><u>Semester: 3rd(section A)</u></i></b></h2 align=\"center\">\n",
    "<h2 align=\"center\"><b><i><u>Subject: OOPs & Data Structure</u></i></b></h2 align=\"center\">\n",
    "<h2 align=\"center\"><b><i><u>Lab: Lab no 08(work task)</u></i></b></h2 align=\"center\">\n",
    "<h2 align=\"center\"><b><i><u>Submitted to: Sir Irshad-ullah</u></i></b></h2 align=\"center\">"
   ]
  },
  {
   "cell_type": "markdown",
   "id": "596188f4-a544-4fa8-9400-1d390a9ea045",
   "metadata": {},
   "source": [
    "***"
   ]
  },
  {
   "cell_type": "markdown",
   "id": "13ba2f10-5f88-4e7f-8eba-336f46b8b871",
   "metadata": {},
   "source": [
    "# work task"
   ]
  },
  {
   "cell_type": "markdown",
   "id": "4b642c47-eed3-4c51-9e99-ddc6822976b3",
   "metadata": {},
   "source": [
    "# Problem 1:\n",
    "a.\tConstruct a rectangle class \n",
    "b.\tInherit a square class from the rectangle class.\n",
    "c.\tCreate a class Cube that inherits from Square and extends the functionality of .area () (inherited from the Rectangle class through Square) to calculate the surface area and volume of Cube.\n",
    "d.\tCreate two instances of the cube class and call both the instance methods. "
   ]
  },
  {
   "cell_type": "code",
   "execution_count": 60,
   "id": "736c13bd-73b1-4157-bcfd-7c5ebe48ef6c",
   "metadata": {},
   "outputs": [],
   "source": [
    "class Rectangle:\n",
    "    def __init__(self, L, W):\n",
    "        self._L = L\n",
    "        self._W = W\n",
    "        \n",
    "    def area(self):\n",
    "        return self._L * self._W\n",
    "\n",
    "    def perimeter(self):\n",
    "        return 2 * (self._L + self._W)"
   ]
  },
  {
   "cell_type": "code",
   "execution_count": 62,
   "id": "700357ca-ad2f-4d45-8329-51fd16c4130b",
   "metadata": {},
   "outputs": [],
   "source": [
    "class Square(Rectangle):\n",
    "    def __init__(self, L,W):\n",
    "        super().__init__(L,W) \n",
    "        \n",
    "    def area(self):\n",
    "        area=super().area()\n",
    "        return area\n",
    "\n",
    "    def perimeter(self):\n",
    "        perimeter=super().area()\n",
    "        return perimeter*2"
   ]
  },
  {
   "cell_type": "code",
   "execution_count": 64,
   "id": "5a808e4c-4ca1-476b-83fc-c875d8ac44c7",
   "metadata": {},
   "outputs": [],
   "source": [
    "class Cube(Square):\n",
    "    def __init__(self,L,W):\n",
    "        super().__init__(L,W)\n",
    "\n",
    "    def volume(self):\n",
    "        base=super().area()\n",
    "        return base*self._L\n",
    "\n",
    "    def surface_area(self):\n",
    "        sq_a= super().area()\n",
    "        return 6 * sq_a"
   ]
  },
  {
   "cell_type": "code",
   "execution_count": 66,
   "id": "01576106-c477-4c07-ae2e-8c9451ff255c",
   "metadata": {},
   "outputs": [],
   "source": [
    "cube1 = Cube(4,4)\n",
    "cube2 = Cube(2,2)"
   ]
  },
  {
   "cell_type": "code",
   "execution_count": 68,
   "id": "95b9dd7e-3487-40e0-b1dc-ea0674f64ace",
   "metadata": {},
   "outputs": [
    {
     "data": {
      "text/plain": [
       "64"
      ]
     },
     "execution_count": 68,
     "metadata": {},
     "output_type": "execute_result"
    }
   ],
   "source": [
    "cube1.volume()"
   ]
  },
  {
   "cell_type": "code",
   "execution_count": 70,
   "id": "35a76649-62b5-442d-8ff5-d9d02cae6918",
   "metadata": {},
   "outputs": [
    {
     "data": {
      "text/plain": [
       "96"
      ]
     },
     "execution_count": 70,
     "metadata": {},
     "output_type": "execute_result"
    }
   ],
   "source": [
    "cube1.surface_area()"
   ]
  },
  {
   "cell_type": "markdown",
   "id": "a29cc070-8c04-4445-b0ff-9a74f53b2a7d",
   "metadata": {},
   "source": [
    "# problem 2:"
   ]
  },
  {
   "cell_type": "markdown",
   "id": "85189b75-162b-46db-aaee-6476ae4e5c9a",
   "metadata": {},
   "source": [
    "ProductivitySystem tracks productivity based on employee roles. There are different employee roles:\n",
    "•\tManagers: They walk around yelling at people, telling them what to do. They’re salaried employees and make more money.\n",
    " •\tSecretaries: They do all the paperwork for managers and ensure that everything gets billed and payed on time. They’re also salaried employees but make less money.\n",
    "•\tSales employees: They make a lot of phone calls to sell products. They have a salary, but they also get commissions for sales.\n",
    "•\tFactory workers: They manufacture the products for the company. They’re paid by the hour.\n",
    "First, you add a Manager class that derives from SalaryEmployee. The class exposes a .work() method that the productivity system will use. The method takes the hours that the employee worked.\n",
    " Then you add Secretary, SalesPerson, and FactoryWorker and then implement the .work() interface, so they can be used by the productivity system"
   ]
  },
  {
   "cell_type": "code",
   "execution_count": 74,
   "id": "f8be015e-70f9-4ad3-80af-6f7d6e45dc09",
   "metadata": {},
   "outputs": [],
   "source": [
    "class PayrollSystem:\n",
    "    def calculate_payroll(self, employees):\n",
    "        print(\"Calculating Payroll\")\n",
    "        print(\"===================\")\n",
    "        for employee in employees:\n",
    "            print(f\"Payroll for: {employee.id} - {employee.name}\")\n",
    "            print(f\"- Check amount: {employee.calculate_payroll()}\")\n",
    "            print(\"\")"
   ]
  },
  {
   "cell_type": "code",
   "execution_count": 76,
   "id": "a327ff4d-a2a1-4ab1-ab2e-851c6289d3cf",
   "metadata": {},
   "outputs": [],
   "source": [
    "class Employee:\n",
    "    def __init__(self, id, name):\n",
    "        self.id = id\n",
    "        self.name = name"
   ]
  },
  {
   "cell_type": "code",
   "execution_count": 78,
   "id": "f4393ab7-2ba3-4787-9364-46a101c83e54",
   "metadata": {},
   "outputs": [],
   "source": [
    "class SalaryEmployee(Employee):\n",
    "    def __init__(self, id, name, weekly_salary):\n",
    "        super().__init__(id, name)\n",
    "        self.weekly_salary = weekly_salary\n",
    "\n",
    "    def calculate_payroll(self):\n",
    "        return self.weekly_salary"
   ]
  },
  {
   "cell_type": "code",
   "execution_count": 80,
   "id": "17ebe1e0-0acc-4f36-9d7c-4b559764f4a9",
   "metadata": {},
   "outputs": [],
   "source": [
    "class HourlyEmployee(Employee):\n",
    "    def __init__(self, id, name, hours_worked, hourly_rate):\n",
    "        super().__init__(id, name)\n",
    "        self.hours_worked = hours_worked\n",
    "        self.hourly_rate = hourly_rate\n",
    "\n",
    "    def calculate_payroll(self):\n",
    "        return self.hours_worked * self.hourly_rate"
   ]
  },
  {
   "cell_type": "code",
   "execution_count": 82,
   "id": "bd9c9b4f-7787-4db9-b166-8b4cbdb9315e",
   "metadata": {},
   "outputs": [],
   "source": [
    "class CommissionEmployee(SalaryEmployee):\n",
    "    def __init__(self, id, name, weekly_salary, commission):\n",
    "        super().__init__(id, name, weekly_salary)\n",
    "        self.commission = commission\n",
    "\n",
    "    def calculate_payroll(self):\n",
    "        fixed = super().calculate_payroll()\n",
    "        return fixed + self.commission"
   ]
  },
  {
   "cell_type": "code",
   "execution_count": 84,
   "id": "b8ff3c26-d427-40cc-8f87-2e184a8939fe",
   "metadata": {},
   "outputs": [
    {
     "name": "stdout",
     "output_type": "stream",
     "text": [
      "Calculating Payroll\n",
      "===================\n",
      "Payroll for: 1 - John Smith\n",
      "- Check amount: 1500\n",
      "\n",
      "Payroll for: 2 - Jane Doe\n",
      "- Check amount: 600\n",
      "\n",
      "Payroll for: 3 - Kevin Bacon\n",
      "- Check amount: 1250\n",
      "\n"
     ]
    }
   ],
   "source": [
    "salary_employee = SalaryEmployee(1, \"John Smith\", 1500)\n",
    "hourly_employee = HourlyEmployee(2, \"Jane Doe\", 40, 15)\n",
    "commission_employee = CommissionEmployee(3, \"Kevin Bacon\", 1000, 250)\n",
    "\n",
    "payroll_system = PayrollSystem()\n",
    "payroll_system.calculate_payroll(\n",
    "    [salary_employee, hourly_employee, commission_employee]\n",
    ")"
   ]
  },
  {
   "cell_type": "code",
   "execution_count": 86,
   "id": "d3363449-5edd-4bf9-a81f-ce827629997b",
   "metadata": {},
   "outputs": [],
   "source": [
    "class Manager(SalaryEmployee):\n",
    "    def work(self, hours):\n",
    "        print(f\"{self.name} screams and yells for {hours} hours.\")\n",
    "\n",
    "class Secretary(SalaryEmployee):\n",
    "    def work(self, hours):\n",
    "        print(f\"{self.name} expends {hours} hours doing office paperwork.\")\n",
    "\n",
    "class SalesPerson(CommissionEmployee):\n",
    "    def work(self, hours):\n",
    "        print(f\"{self.name} expends {hours} hours on the phone.\")\n",
    "\n",
    "class FactoryWorker(HourlyEmployee):\n",
    "    def work(self, hours):\n",
    "        print(f\"{self.name} manufactures gadgets for {hours} hours.\")"
   ]
  },
  {
   "cell_type": "code",
   "execution_count": 88,
   "id": "cbe15727-b724-4f83-b1d0-70da2d5fe17a",
   "metadata": {},
   "outputs": [
    {
     "name": "stdout",
     "output_type": "stream",
     "text": [
      "3 screams and yells for 3 hours.\n",
      "3 expends 2 hours doing office paperwork.\n",
      "abc expends 5 hours on the phone.\n",
      "bcd manufactures gadgets for 3 hours.\n"
     ]
    }
   ],
   "source": [
    "a=Manager(\"aihab daud\",3,50)\n",
    "a.work(3)\n",
    "b=Secretary(\"ali\",3,70)\n",
    "b.work(2)\n",
    "c=SalesPerson(1,\"abc\",30,20)\n",
    "c.work(5)\n",
    "d=FactoryWorker(2,\"bcd\",2,120)\n",
    "d.work(3)"
   ]
  },
  {
   "cell_type": "code",
   "execution_count": 90,
   "id": "1a3fbaef-4464-4a98-b75d-5309fd239421",
   "metadata": {},
   "outputs": [],
   "source": [
    "class ProductivitySystem: \n",
    "    def track(self, employees, hours):\n",
    "        print(\"Tracking Employee Productivity\")\n",
    "        print(\"==============================\")\n",
    "        for employee in employees:\n",
    "            employee.work(hours)\n",
    "        print(\"\")"
   ]
  },
  {
   "cell_type": "code",
   "execution_count": 92,
   "id": "df6b8353-9034-4207-95ba-d2b4b8f1bb85",
   "metadata": {},
   "outputs": [
    {
     "name": "stdout",
     "output_type": "stream",
     "text": [
      "Tracking Employee Productivity\n",
      "==============================\n",
      "Mary Poppins screams and yells for 40 hours.\n",
      "John Smith expends 40 hours doing office paperwork.\n",
      "Kevin Bacon expends 40 hours on the phone.\n",
      "Jane Doe manufactures gadgets for 40 hours.\n",
      "\n",
      "Calculating Payroll\n",
      "===================\n",
      "Payroll for: 1 - Mary Poppins\n",
      "- Check amount: 3000\n",
      "\n",
      "Payroll for: 2 - John Smith\n",
      "- Check amount: 1500\n",
      "\n",
      "Payroll for: 3 - Kevin Bacon\n",
      "- Check amount: 1250\n",
      "\n",
      "Payroll for: 4 - Jane Doe\n",
      "- Check amount: 600\n",
      "\n"
     ]
    }
   ],
   "source": [
    "manager = Manager(1, \"Mary Poppins\", 3000)\n",
    "secretary = Secretary(2, \"John Smith\", 1500)\n",
    "sales_guy = SalesPerson(3, \"Kevin Bacon\", 1000, 250)\n",
    "factory_worker = FactoryWorker(4, \"Jane Doe\", 40, 15)\n",
    "employees = [\n",
    "    manager,\n",
    "    secretary,\n",
    "    sales_guy,\n",
    "    factory_worker,\n",
    "]\n",
    "\n",
    "productivity_system = ProductivitySystem()\n",
    "productivity_system.track(employees, 40)\n",
    "\n",
    "payroll_system = PayrollSystem()\n",
    "payroll_system.calculate_payroll(employees)"
   ]
  },
  {
   "cell_type": "markdown",
   "id": "892930aa-23e6-4625-b923-3cca4a8dbf51",
   "metadata": {},
   "source": [
    "# Problem 3:\n",
    "Design a class for the employees of the electrical department. \n",
    "a.\tBase class on the name of staff.\n",
    "b.\tThere are admin and faculty staff. \n",
    "c.\tThe faculty contains Lecturers, Assistant professors, Associate Professors, and Professors.\n",
    "d.\tThe admin staff contains Lab Engineers, Lab technicians, Lab assistants, and lab attendants. \n"
   ]
  },
  {
   "cell_type": "code",
   "execution_count": 97,
   "id": "71dc88f5-c1a1-4e04-8a33-3066ab188d6e",
   "metadata": {},
   "outputs": [],
   "source": [
    "# Base class: Staff\n",
    "class Staff:\n",
    "    def __init__(self, name, employee_id):\n",
    "        self.name = name\n",
    "        self.employee_id = employee_id\n",
    "\n",
    "    def display_details(self):\n",
    "        print(f\"Name: {self.name}\")\n",
    "        print(f\"Employee ID: {self.employee_id}\")\n",
    "\n",
    "# Admin Staff classes\n",
    "class AdminStaff(Staff):\n",
    "    def __init__(self, name, employee_id, designation):\n",
    "        super().__init__(name, employee_id)\n",
    "        self.designation = designation\n",
    "\n",
    "    def display_details(self):\n",
    "        super().display_details()\n",
    "        print(f\"Designation: {self.designation}\")\n",
    "class LabEngineer(AdminStaff):\n",
    "    def __init__(self, name, employee_id):\n",
    "        super().__init__(name, employee_id, \"Lab Engineer\")\n",
    "\n",
    "class LabTechnician(AdminStaff):\n",
    "    def __init__(self, name, employee_id):\n",
    "        super().__init__(name, employee_id, \"Lab Technician\")\n",
    "\n",
    "class LabAssistant(AdminStaff):\n",
    "    def __init__(self, name, employee_id):\n",
    "        super().__init__(name, employee_id, \"Lab Assistant\")\n",
    "class LabAttendant(AdminStaff):\n",
    "    def __init__(self, name, employee_id):\n",
    "        super().__init__(name, employee_id, \"Lab Attendant\")\n",
    "\n",
    "# Faculty Staff classes\n",
    "class FacultyStaff(Staff):\n",
    "    def __init__(self, name, employee_id, designation):\n",
    "        super().__init__(name, employee_id)\n",
    "        self.designation = designation\n",
    "\n",
    "    def display_details(self):\n",
    "        super().display_details()\n",
    "        print(f\"Designation: {self.designation}\")\n",
    "\n",
    "class Lecturer(FacultyStaff):\n",
    "    def __init__(self, name, employee_id):\n",
    "        super().__init__(name, employee_id, \"Lecturer\")\n",
    "\n",
    "class AssistantProfessor(FacultyStaff):\n",
    "    def __init__(self, name, employee_id):\n",
    "        super().__init__(name, employee_id, \"Assistant Professor\")\n",
    "\n",
    "class AssociateProfessor(FacultyStaff):\n",
    "    def __init__(self, name, employee_id):\n",
    "        super().__init__(name, employee_id, \"Associate Professor\")\n",
    "\n",
    "class Professor(FacultyStaff):\n",
    "    def __init__(self, name, employee_id):\n",
    "        super().__init__(name, employee_id, \"Professor\")"
   ]
  },
  {
   "cell_type": "code",
   "execution_count": 99,
   "id": "d97d68a6-d9de-4c98-b217-a68c9f5b7d69",
   "metadata": {},
   "outputs": [
    {
     "name": "stdout",
     "output_type": "stream",
     "text": [
      "Name: Javid\n",
      "Employee ID: E1234\n",
      "Designation: Lab Engineer\n",
      "Name: Junaid\n",
      "Employee ID: F5678\n",
      "Designation: Professor\n"
     ]
    }
   ],
   "source": [
    "lab_engineer = LabEngineer(\"Javid\", \"E1234\")\n",
    "lab_engineer.display_details()\n",
    "\n",
    "professor = Professor(\"Junaid\", \"F5678\")\n",
    "professor.display_details()\n"
   ]
  },
  {
   "cell_type": "code",
   "execution_count": null,
   "id": "bcef4c4f-38ff-4704-933a-f7e006a7faa3",
   "metadata": {},
   "outputs": [],
   "source": []
  }
 ],
 "metadata": {
  "kernelspec": {
   "display_name": "Python 3 (ipykernel)",
   "language": "python",
   "name": "python3"
  },
  "language_info": {
   "codemirror_mode": {
    "name": "ipython",
    "version": 3
   },
   "file_extension": ".py",
   "mimetype": "text/x-python",
   "name": "python",
   "nbconvert_exporter": "python",
   "pygments_lexer": "ipython3",
   "version": "3.12.7"
  }
 },
 "nbformat": 4,
 "nbformat_minor": 5
}
