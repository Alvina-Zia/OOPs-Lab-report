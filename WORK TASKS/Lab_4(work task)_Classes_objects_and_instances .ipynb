{
 "cells": [
  {
   "cell_type": "markdown",
   "id": "30d7c4db-f679-4263-a47e-619d6489461b",
   "metadata": {},
   "source": [
    "<h2 align=\"center\"><b><i><u>Name: Alvina Zia</u></i></b></h2 align=\"center\">\n",
    "<h2 align=\"center\"><b><i><u>Reg no: 23jzele0504</u></i></b></h2 align=\"center\">\n",
    "<h2 align=\"center\"><b><i><u>Semester: 3rd(section A)</u></i></b></h2 align=\"center\">\n",
    "<h2 align=\"center\"><b><i><u>Subject: OOPs & Data Structure</u></i></b></h2 align=\"center\">\n",
    "<h2 align=\"center\"><b><i><u>Lab: Lab no 04(lab work task)</u></i></b></h2 align=\"center\">\n",
    "<h2 align=\"center\"><b><i><u>Submitted to: Sir Irshad-ullah</u></i></b></h2 align=\"center\">"
   ]
  },
  {
   "cell_type": "markdown",
   "id": "d3e5f435-86b2-46d1-8b07-744415ed2bad",
   "metadata": {},
   "source": [
    "***"
   ]
  },
  {
   "cell_type": "markdown",
   "id": "f5c4826d",
   "metadata": {},
   "source": [
    "# Lab4 work tasks:"
   ]
  },
  {
   "cell_type": "markdown",
   "id": "81b30aac",
   "metadata": {},
   "source": [
    "Interest is to make a list that can store employee data."
   ]
  },
  {
   "cell_type": "code",
   "execution_count": 2,
   "id": "2543b8bd",
   "metadata": {},
   "outputs": [],
   "source": [
    "kirk = [\"James Kirk\", 34, \"Captain\", 2265]\n",
    "spock = [\"Spock\", 35, \"Science Officer\", 2254]\n",
    "mccoy = [\"Leonard McCoy\", \"Chief Medical Officer\", 2266]"
   ]
  },
  {
   "cell_type": "code",
   "execution_count": 4,
   "id": "7570417f",
   "metadata": {},
   "outputs": [
    {
     "name": "stdout",
     "output_type": "stream",
     "text": [
      "James Kirk\n"
     ]
    }
   ],
   "source": [
    "print(kirk[0])"
   ]
  },
  {
   "cell_type": "code",
   "execution_count": 6,
   "id": "df8403d5",
   "metadata": {},
   "outputs": [
    {
     "name": "stdout",
     "output_type": "stream",
     "text": [
      "Chief Medical Officer\n"
     ]
    }
   ],
   "source": [
    "print(mccoy[1])\n"
   ]
  },
  {
   "cell_type": "markdown",
   "id": "abe6d24c",
   "metadata": {},
   "source": [
    "2. Dog class"
   ]
  },
  {
   "cell_type": "code",
   "execution_count": 9,
   "id": "3dcbf4dd",
   "metadata": {},
   "outputs": [],
   "source": [
    "class Dog:\n",
    " pass"
   ]
  },
  {
   "cell_type": "code",
   "execution_count": 11,
   "id": "58a9d102",
   "metadata": {},
   "outputs": [
    {
     "data": {
      "text/plain": [
       "<__main__.Dog at 0x1a2fa586300>"
      ]
     },
     "execution_count": 11,
     "metadata": {},
     "output_type": "execute_result"
    }
   ],
   "source": [
    "#a.\n",
    "Dog()"
   ]
  },
  {
   "cell_type": "code",
   "execution_count": 13,
   "id": "fdd70ab5",
   "metadata": {},
   "outputs": [],
   "source": [
    "#b.\n",
    "Inst=Dog()"
   ]
  },
  {
   "cell_type": "code",
   "execution_count": 15,
   "id": "09c00855",
   "metadata": {},
   "outputs": [],
   "source": [
    "#c\n",
    "a = Dog()\n",
    "b = Dog()"
   ]
  },
  {
   "cell_type": "code",
   "execution_count": 17,
   "id": "ae52e797",
   "metadata": {},
   "outputs": [
    {
     "data": {
      "text/plain": [
       "False"
      ]
     },
     "execution_count": 17,
     "metadata": {},
     "output_type": "execute_result"
    }
   ],
   "source": [
    "#d\n",
    "a == b"
   ]
  },
  {
   "cell_type": "code",
   "execution_count": 19,
   "id": "3faaf978",
   "metadata": {},
   "outputs": [],
   "source": [
    "#e\n",
    "a = Dog()\n",
    "b = Dog()\n"
   ]
  },
  {
   "cell_type": "code",
   "execution_count": 21,
   "id": "d1141dc0",
   "metadata": {},
   "outputs": [
    {
     "name": "stdout",
     "output_type": "stream",
     "text": [
      "<__main__.Dog object at 0x000001A2FAA3DDF0>\n"
     ]
    }
   ],
   "source": [
    "print(a)"
   ]
  },
  {
   "cell_type": "code",
   "execution_count": 23,
   "id": "4f3907b7",
   "metadata": {},
   "outputs": [
    {
     "name": "stdout",
     "output_type": "stream",
     "text": [
      "<__main__.Dog object at 0x000001A2F97B5A30>\n"
     ]
    }
   ],
   "source": [
    "print(b)"
   ]
  },
  {
   "cell_type": "markdown",
   "id": "90a98a0a",
   "metadata": {},
   "source": [
    "3 class MyFirstClass"
   ]
  },
  {
   "cell_type": "code",
   "execution_count": 26,
   "id": "51ed1041",
   "metadata": {},
   "outputs": [],
   "source": [
    "class MyFirstClass:\n",
    " pass"
   ]
  },
  {
   "cell_type": "markdown",
   "id": "fdd09bff",
   "metadata": {},
   "source": [
    "Make two instances named FC1 and FC2"
   ]
  },
  {
   "cell_type": "code",
   "execution_count": 31,
   "id": "30ef4969",
   "metadata": {},
   "outputs": [],
   "source": [
    "FC1 = MyFirstClass()"
   ]
  },
  {
   "cell_type": "code",
   "execution_count": 33,
   "id": "32359b36",
   "metadata": {},
   "outputs": [],
   "source": [
    "FC2 = MyFirstClass()"
   ]
  },
  {
   "cell_type": "markdown",
   "id": "79be0881",
   "metadata": {},
   "source": [
    "Check whether FC1 and FC2 represent the same object or not"
   ]
  },
  {
   "cell_type": "code",
   "execution_count": 36,
   "id": "1099ed68",
   "metadata": {},
   "outputs": [
    {
     "name": "stdout",
     "output_type": "stream",
     "text": [
      "FC1 and FC2 are different objects.\n"
     ]
    }
   ],
   "source": [
    "if FC1 is FC2:\n",
    "    print(\"FC1 and FC2 are the same object.\")\n",
    "else:\n",
    "    print(\"FC1 and FC2 are different objects.\")"
   ]
  },
  {
   "cell_type": "markdown",
   "id": "43469aca",
   "metadata": {},
   "source": [
    "se the print command and print both instances."
   ]
  },
  {
   "cell_type": "code",
   "execution_count": 39,
   "id": "33d19f3f",
   "metadata": {},
   "outputs": [
    {
     "name": "stdout",
     "output_type": "stream",
     "text": [
      "<__main__.MyFirstClass object at 0x000001A2FAC0F050>\n"
     ]
    }
   ],
   "source": [
    "print(FC1)"
   ]
  },
  {
   "cell_type": "code",
   "execution_count": 41,
   "id": "23ef44a8",
   "metadata": {},
   "outputs": [
    {
     "name": "stdout",
     "output_type": "stream",
     "text": [
      "<__main__.MyFirstClass object at 0x000001A2FADD3230>\n"
     ]
    }
   ],
   "source": [
    "print(FC2)"
   ]
  },
  {
   "cell_type": "markdown",
   "id": "f36f6d7e",
   "metadata": {},
   "source": [
    "When printed, the two objects tell us which class they are and what memory address they live at. Memory addresses aren't used much in Python code, but here, they demonstrate that there are two distinct objects involved."
   ]
  },
  {
   "cell_type": "code",
   "execution_count": 44,
   "id": "5b6ef030",
   "metadata": {},
   "outputs": [
    {
     "name": "stdout",
     "output_type": "stream",
     "text": [
      "<__main__.MyFirstClass object at 0x000001A2FAC0F050>\n",
      "<__main__.MyFirstClass object at 0x000001A2FADD3230>\n"
     ]
    }
   ],
   "source": [
    "print(FC1)\n",
    "print(FC2)"
   ]
  },
  {
   "cell_type": "markdown",
   "id": "c470c340",
   "metadata": {},
   "source": [
    "4. Consider the following class definition."
   ]
  },
  {
   "cell_type": "code",
   "execution_count": 49,
   "id": "0632d072",
   "metadata": {},
   "outputs": [],
   "source": [
    "class Point:\n",
    " pass"
   ]
  },
  {
   "cell_type": "markdown",
   "id": "8461f2d1",
   "metadata": {},
   "source": [
    "Make two instances named p1 and p2."
   ]
  },
  {
   "cell_type": "code",
   "execution_count": 52,
   "id": "abb5dbb1",
   "metadata": {},
   "outputs": [],
   "source": [
    "    p1 = Point()\n",
    "    p2 = Point()"
   ]
  },
  {
   "cell_type": "markdown",
   "id": "941cb0d1",
   "metadata": {},
   "source": [
    "Print both objects p1 and p2. "
   ]
  },
  {
   "cell_type": "code",
   "execution_count": 55,
   "id": "20b5ac64",
   "metadata": {},
   "outputs": [
    {
     "name": "stdout",
     "output_type": "stream",
     "text": [
      "<__main__.Point object at 0x000001A2FA586180>\n",
      "<__main__.Point object at 0x000001A2FAC42540>\n"
     ]
    }
   ],
   "source": [
    "print(p1)\n",
    "print(p2)"
   ]
  },
  {
   "cell_type": "markdown",
   "id": "de611eac",
   "metadata": {},
   "source": [
    "Try different names for objects, instead of p1 and p2. Also, use different attribute names."
   ]
  },
  {
   "cell_type": "code",
   "execution_count": 58,
   "id": "8fe15fe5",
   "metadata": {},
   "outputs": [],
   "source": [
    "    point_a = Point()\n",
    "    point_b = Point()"
   ]
  },
  {
   "cell_type": "markdown",
   "id": "fdba55db",
   "metadata": {},
   "source": [
    "5. Update the Dog class with an __init__() method that creates .name and .age attributes:\n"
   ]
  },
  {
   "cell_type": "code",
   "execution_count": 61,
   "id": "023d8cfa",
   "metadata": {},
   "outputs": [],
   "source": [
    "class Dog:\n",
    "    def __init__(self, name, age):\n",
    "        self.name = name\n",
    "        self.age = age"
   ]
  },
  {
   "cell_type": "code",
   "execution_count": 63,
   "id": "34b208e8",
   "metadata": {},
   "outputs": [
    {
     "name": "stdout",
     "output_type": "stream",
     "text": [
      "<__main__.Dog object at 0x000001A2FADD3140>\n"
     ]
    }
   ],
   "source": [
    "miles = Dog(\"Miles\", 4)\n",
    "print( miles)\n"
   ]
  },
  {
   "cell_type": "markdown",
   "id": "0eeccdd2",
   "metadata": {},
   "source": [
    " 6. Create a new Dog class with a class attribute called. species and two instance attributes called .name and .age:"
   ]
  },
  {
   "cell_type": "code",
   "execution_count": 66,
   "id": "d868a8d5",
   "metadata": {},
   "outputs": [],
   "source": [
    "class Dog:\n",
    "    species = \"Canis familiaris\"\n",
    "    def __init__(self, name, age):\n",
    "        self.name = name\n",
    "        self.age = age"
   ]
  },
  {
   "cell_type": "markdown",
   "id": "d7100b08",
   "metadata": {},
   "source": [
    "a. To instantiate this Dog class, you need to provide values for name and age. If you don’t, then Python raises a TypeError:"
   ]
  },
  {
   "cell_type": "code",
   "execution_count": 69,
   "id": "7487faa9",
   "metadata": {},
   "outputs": [
    {
     "ename": "TypeError",
     "evalue": "Dog.__init__() missing 2 required positional arguments: 'name' and 'age'",
     "output_type": "error",
     "traceback": [
      "\u001b[1;31m---------------------------------------------------------------------------\u001b[0m",
      "\u001b[1;31mTypeError\u001b[0m                                 Traceback (most recent call last)",
      "Cell \u001b[1;32mIn[69], line 1\u001b[0m\n\u001b[1;32m----> 1\u001b[0m Dog()\n",
      "\u001b[1;31mTypeError\u001b[0m: Dog.__init__() missing 2 required positional arguments: 'name' and 'age'"
     ]
    }
   ],
   "source": [
    " Dog()"
   ]
  },
  {
   "cell_type": "code",
   "execution_count": 71,
   "id": "b453d934",
   "metadata": {},
   "outputs": [
    {
     "data": {
      "text/plain": [
       "<__main__.Dog at 0x1a2f991b920>"
      ]
     },
     "execution_count": 71,
     "metadata": {},
     "output_type": "execute_result"
    }
   ],
   "source": [
    " Dog(\"Bob\",2)"
   ]
  },
  {
   "cell_type": "markdown",
   "id": "c3dac4dc",
   "metadata": {},
   "source": [
    "b. To pass arguments to the name and age parameters, put values into the parentheses after the class name:"
   ]
  },
  {
   "cell_type": "code",
   "execution_count": 74,
   "id": "c5f1f065",
   "metadata": {},
   "outputs": [],
   "source": [
    "miles = Dog(\"Miles\", 4)\n",
    "buddy = Dog(\"Buddy\", 9)"
   ]
  },
  {
   "cell_type": "code",
   "execution_count": 76,
   "id": "92498ae4",
   "metadata": {},
   "outputs": [],
   "source": [
    "iles = Dog(\"Miles\", 4)\n",
    "buddy = Dog(\"Buddy\", 9)\n"
   ]
  },
  {
   "cell_type": "markdown",
   "id": "588518e1",
   "metadata": {},
   "source": [
    "After you create the Dog instances, you can access their instance attributes using dot notation:"
   ]
  },
  {
   "cell_type": "code",
   "execution_count": 79,
   "id": "89b21709",
   "metadata": {},
   "outputs": [
    {
     "data": {
      "text/plain": [
       "9"
      ]
     },
     "execution_count": 79,
     "metadata": {},
     "output_type": "execute_result"
    }
   ],
   "source": [
    "miles.name\n",
    "miles.age\n",
    "buddy.name\n",
    "buddy.age"
   ]
  },
  {
   "cell_type": "markdown",
   "id": "84633950",
   "metadata": {},
   "source": [
    "d. Although the attributes are guaranteed to exist, their values can change dynamically:"
   ]
  },
  {
   "cell_type": "code",
   "execution_count": 82,
   "id": "3af6c206",
   "metadata": {},
   "outputs": [
    {
     "data": {
      "text/plain": [
       "10"
      ]
     },
     "execution_count": 82,
     "metadata": {},
     "output_type": "execute_result"
    }
   ],
   "source": [
    "buddy.age = 10\n",
    "buddy.age"
   ]
  },
  {
   "cell_type": "code",
   "execution_count": 84,
   "id": "e2ff16e8",
   "metadata": {},
   "outputs": [
    {
     "data": {
      "text/plain": [
       "'Felis silvestris'"
      ]
     },
     "execution_count": 84,
     "metadata": {},
     "output_type": "execute_result"
    }
   ],
   "source": [
    "miles.species = \"Felis silvestris\"\n",
    "miles.species"
   ]
  },
  {
   "cell_type": "markdown",
   "id": "6f78a4b6",
   "metadata": {},
   "source": [
    "Define a class point in 2 dimension coordinate system. Your class must have the appropriate __init__ method. In addition, add two other instance methods for the distance between points and also show or display the point properly (note: return tuple like (x, y)). Add another method with the name locate to display the coordinate in which the point is located. Add proper annotation and doc string to every class and instance method."
   ]
  },
  {
   "cell_type": "code",
   "execution_count": 89,
   "id": "72bef06b",
   "metadata": {},
   "outputs": [],
   "source": [
    "import math\n",
    "class Point:\n",
    "    \"\"\"Represents a point in a two-dimensional coordinate system.\n",
    "    \"\"\"\n",
    "\n",
    "    def __init__(self, x: float, y: float) -> None:\n",
    "        \"\"\"Initializes a Point with x and y coordinates.\n",
    "        \"\"\"\n",
    "        self.x = x\n",
    "        self.y = y\n",
    "\n",
    "    def distance(self, other: 'Point') -> float:\n",
    "        \"\"\"Calculates the distance between this point and another point.\n",
    "        \"\"\"\n",
    "        return math.sqrt((self.x - other.x) ** 2 + (self.y - other.y) ** 2)\n",
    "\n",
    "    def display(self) -> tuple:\n",
    "        \"\"\"Returns the coordinates of the point as a tuple.\n",
    "        \"\"\"\n",
    "        return (self.x, self.y)\n",
    "\n",
    "    def locate(self) -> str:\n",
    "        \"\"\"Returns a string description of the point's location.\"\"\"\n",
    "        return f\"The point is located at ({self.x}, {self.y}).\""
   ]
  },
  {
   "cell_type": "markdown",
   "id": "7e9143a1",
   "metadata": {},
   "source": [
    "Define point1 and pass two numbers. "
   ]
  },
  {
   "cell_type": "code",
   "execution_count": 107,
   "id": "8199af34",
   "metadata": {},
   "outputs": [],
   "source": [
    "p1 = Point(1.9,2.4)"
   ]
  },
  {
   "cell_type": "markdown",
   "id": "52d67bb2-9735-4614-beee-16add656634b",
   "metadata": {},
   "source": [
    " Make another instance of the point class, say its name is p2. "
   ]
  },
  {
   "cell_type": "code",
   "execution_count": 115,
   "id": "1aafffcf",
   "metadata": {},
   "outputs": [],
   "source": [
    "p2 = Point(2,3)"
   ]
  },
  {
   "cell_type": "markdown",
   "id": "6de05481-dbe0-4691-97da-6c4b751522c7",
   "metadata": {},
   "source": [
    " Print p1 and p2, for this use the print command and pass the point as input. "
   ]
  },
  {
   "cell_type": "code",
   "execution_count": 121,
   "id": "7df9510d-825a-4781-9e8c-80e17da156fa",
   "metadata": {},
   "outputs": [
    {
     "name": "stdout",
     "output_type": "stream",
     "text": [
      "<__main__.Point object at 0x000001A2FADD3D70>\n"
     ]
    }
   ],
   "source": [
    "print(p1)"
   ]
  },
  {
   "cell_type": "code",
   "execution_count": 123,
   "id": "d107312c",
   "metadata": {},
   "outputs": [
    {
     "name": "stdout",
     "output_type": "stream",
     "text": [
      "<__main__.Point object at 0x000001A2FC032B10>\n"
     ]
    }
   ],
   "source": [
    "print(p2)"
   ]
  },
  {
   "cell_type": "markdown",
   "id": "43a782fb-f227-4d9e-975e-9110d93ff267",
   "metadata": {},
   "source": [
    "also print the location of both points."
   ]
  },
  {
   "cell_type": "code",
   "execution_count": 126,
   "id": "14e586cc",
   "metadata": {},
   "outputs": [
    {
     "data": {
      "text/plain": [
       "'The point is located at (1.9, 2.4).'"
      ]
     },
     "execution_count": 126,
     "metadata": {},
     "output_type": "execute_result"
    }
   ],
   "source": [
    "p1.locate()"
   ]
  },
  {
   "cell_type": "code",
   "execution_count": 128,
   "id": "be7011a0-3f7a-4cea-aa0f-719cd43b4775",
   "metadata": {},
   "outputs": [
    {
     "data": {
      "text/plain": [
       "'The point is located at (2, 3).'"
      ]
     },
     "execution_count": 128,
     "metadata": {},
     "output_type": "execute_result"
    }
   ],
   "source": [
    "p2.locate()"
   ]
  },
  {
   "cell_type": "markdown",
   "id": "a2e95afe-040d-4deb-9ce5-84d13a3ca0ce",
   "metadata": {},
   "source": [
    " Print the coordinate by using the object and dot operator"
   ]
  },
  {
   "cell_type": "code",
   "execution_count": 131,
   "id": "85308d68-2a2f-4388-8a68-b7233dd9dea5",
   "metadata": {},
   "outputs": [
    {
     "name": "stdout",
     "output_type": "stream",
     "text": [
      "Point1 coordinates: x = 1.9, y = 2.4\n"
     ]
    }
   ],
   "source": [
    "print(f\"Point1 coordinates: x = {p1.x}, y = {p1.y}\")"
   ]
  },
  {
   "cell_type": "code",
   "execution_count": 133,
   "id": "f1bd4d47-200c-4d85-807f-6931c6f98e64",
   "metadata": {},
   "outputs": [
    {
     "name": "stdout",
     "output_type": "stream",
     "text": [
      "Point1 coordinates: x = 2, y = 3\n"
     ]
    }
   ],
   "source": [
    "print(f\"Point1 coordinates: x = {p2.x}, y = {p2.y}\")"
   ]
  },
  {
   "cell_type": "markdown",
   "id": "55bb7677-5b92-42f2-8b36-68c2fdf70aa3",
   "metadata": {},
   "source": [
    "Add a new method to the point class to effectively print the points. Print both the point \n",
    "using that function. "
   ]
  },
  {
   "cell_type": "code",
   "execution_count": 161,
   "id": "9ed63f81-17cd-426b-9dc0-ef519e0cb8a7",
   "metadata": {},
   "outputs": [],
   "source": [
    "class Point:\n",
    "    \"\"\"Represents a point in two-dimensional geometric coordinates.\n",
    "    \"\"\"\n",
    "    \n",
    "    def __init__(self, x: float, y: float) -> None:\n",
    "        self.x = x\n",
    "        self.y = y\n",
    "\n",
    "    def distance(self, p2) -> float:\n",
    "        return math.sqrt((self.x - p2.x) ** 2 + (self.y - p2.y) ** 2)\n",
    "\n",
    "    def print_coordinates(self) -> None:\n",
    "        \"\"\"Prints the coordinates of the point.\"\"\"\n",
    "        print(f\"Point coordinates: x = {self.x}, y = {self.y}\")"
   ]
  },
  {
   "cell_type": "code",
   "execution_count": 163,
   "id": "0963d7da-d9b5-4110-b9a5-b0115a20155e",
   "metadata": {},
   "outputs": [],
   "source": [
    "p1 = Point(5.0, 4.0)"
   ]
  },
  {
   "cell_type": "code",
   "execution_count": 165,
   "id": "55fe2770-6d28-4477-a85c-6c8df702fc93",
   "metadata": {},
   "outputs": [],
   "source": [
    "p = Point(9.0, 3.0)"
   ]
  },
  {
   "cell_type": "code",
   "execution_count": 167,
   "id": "c5a7dd96-f1d5-4bfe-89dc-98546077ad9d",
   "metadata": {},
   "outputs": [
    {
     "name": "stdout",
     "output_type": "stream",
     "text": [
      "Point coordinates: x = 5.0, y = 4.0\n"
     ]
    }
   ],
   "source": [
    "p1.print_coordinates()"
   ]
  },
  {
   "cell_type": "code",
   "execution_count": 169,
   "id": "6bcf7a3d-de64-4970-b72e-01ada97b7f56",
   "metadata": {},
   "outputs": [
    {
     "name": "stdout",
     "output_type": "stream",
     "text": [
      "Point coordinates: x = 5.0, y = 4.0\n"
     ]
    }
   ],
   "source": [
    "p1.print_coordinates()"
   ]
  },
  {
   "cell_type": "markdown",
   "id": "9490b172-bafa-40d0-a680-614a98f9fa3e",
   "metadata": {},
   "source": [
    " Calculate the distance between these two pints."
   ]
  },
  {
   "cell_type": "code",
   "execution_count": 172,
   "id": "6f0e6479",
   "metadata": {},
   "outputs": [
    {
     "data": {
      "text/plain": [
       "3.1622776601683795"
      ]
     },
     "execution_count": 172,
     "metadata": {},
     "output_type": "execute_result"
    }
   ],
   "source": [
    "p1.distance(p2)"
   ]
  },
  {
   "cell_type": "markdown",
   "id": "819419ed-8569-4fa5-a232-a553575f35fb",
   "metadata": {},
   "source": [
    "Call the __dict__ by the class name. "
   ]
  },
  {
   "cell_type": "code",
   "execution_count": 177,
   "id": "bfa32a6a",
   "metadata": {},
   "outputs": [
    {
     "data": {
      "text/plain": [
       "mappingproxy({'__module__': '__main__',\n",
       "              '__doc__': 'Represents a point in two-dimensional geometric coordinates.\\n    ',\n",
       "              '__init__': <function __main__.Point.__init__(self, x: float, y: float) -> None>,\n",
       "              'distance': <function __main__.Point.distance(self, p2) -> float>,\n",
       "              'print_coordinates': <function __main__.Point.print_coordinates(self) -> None>,\n",
       "              '__dict__': <attribute '__dict__' of 'Point' objects>,\n",
       "              '__weakref__': <attribute '__weakref__' of 'Point' objects>})"
      ]
     },
     "execution_count": 177,
     "metadata": {},
     "output_type": "execute_result"
    }
   ],
   "source": [
    "Point.__dict__"
   ]
  },
  {
   "cell_type": "markdown",
   "id": "c9d257a0-adcf-4300-a340-f9c02252ed6a",
   "metadata": {},
   "source": [
    " Call the __dict__ on the object of the class. "
   ]
  },
  {
   "cell_type": "code",
   "execution_count": 188,
   "id": "a1def55f",
   "metadata": {},
   "outputs": [
    {
     "data": {
      "text/plain": [
       "{'x': 5.0, 'y': 4.0}"
      ]
     },
     "execution_count": 188,
     "metadata": {},
     "output_type": "execute_result"
    }
   ],
   "source": [
    "p1.__dict__"
   ]
  },
  {
   "cell_type": "code",
   "execution_count": 190,
   "id": "3c901f9c-145d-4d61-8f86-22398fde6fe5",
   "metadata": {},
   "outputs": [
    {
     "data": {
      "text/plain": [
       "{'x': 2, 'y': 3}"
      ]
     },
     "execution_count": 190,
     "metadata": {},
     "output_type": "execute_result"
    }
   ],
   "source": [
    "p2.__dict__"
   ]
  },
  {
   "cell_type": "markdown",
   "id": "babcc5c7-4e58-4720-8404-4089ef9a9728",
   "metadata": {},
   "source": [
    " Pass the class name to help."
   ]
  },
  {
   "cell_type": "code",
   "execution_count": 193,
   "id": "7479599a",
   "metadata": {},
   "outputs": [
    {
     "name": "stdout",
     "output_type": "stream",
     "text": [
      "Help on class Point in module __main__:\n",
      "\n",
      "class Point(builtins.object)\n",
      " |  Point(x: float, y: float) -> None\n",
      " |\n",
      " |  Represents a point in two-dimensional geometric coordinates.\n",
      " |\n",
      " |  Methods defined here:\n",
      " |\n",
      " |  __init__(self, x: float, y: float) -> None\n",
      " |      Initialize self.  See help(type(self)) for accurate signature.\n",
      " |\n",
      " |  distance(self, p2) -> float\n",
      " |\n",
      " |  print_coordinates(self) -> None\n",
      " |      Prints the coordinates of the point.\n",
      " |\n",
      " |  ----------------------------------------------------------------------\n",
      " |  Data descriptors defined here:\n",
      " |\n",
      " |  __dict__\n",
      " |      dictionary for instance variables\n",
      " |\n",
      " |  __weakref__\n",
      " |      list of weak references to the object\n",
      "\n"
     ]
    }
   ],
   "source": [
    "help(Point)"
   ]
  },
  {
   "cell_type": "markdown",
   "id": "bcde0b97-6b6e-435a-94c2-b5764d67ebd6",
   "metadata": {},
   "source": [
    "Print the doc-string and annotations of both the class and each instance method."
   ]
  },
  {
   "cell_type": "code",
   "execution_count": 198,
   "id": "0f7d8f65",
   "metadata": {},
   "outputs": [
    {
     "data": {
      "text/plain": [
       "'Represents a point in two-dimensional geometric coordinates.\\n    '"
      ]
     },
     "execution_count": 198,
     "metadata": {},
     "output_type": "execute_result"
    }
   ],
   "source": [
    "Point.__doc__"
   ]
  },
  {
   "cell_type": "code",
   "execution_count": 204,
   "id": "5a082b23",
   "metadata": {},
   "outputs": [
    {
     "name": "stdout",
     "output_type": "stream",
     "text": [
      "Annotations: {'return': <class 'float'>}\n"
     ]
    }
   ],
   "source": [
    "print(\"Annotations:\", Point.distance.__annotations__)"
   ]
  },
  {
   "cell_type": "code",
   "execution_count": 206,
   "id": "3ba102e2",
   "metadata": {},
   "outputs": [
    {
     "name": "stdout",
     "output_type": "stream",
     "text": [
      "Annotations: {'x': <class 'float'>, 'y': <class 'float'>, 'return': None}\n"
     ]
    }
   ],
   "source": [
    "print(\"Annotations:\", Point.__init__.__annotations__)"
   ]
  },
  {
   "cell_type": "markdown",
   "id": "b42bf331",
   "metadata": {},
   "source": [
    "Modify the above class by making its parameters default. The parameters will initialize the point with no parameters to the origin. "
   ]
  },
  {
   "cell_type": "code",
   "execution_count": 209,
   "id": "bffdedc0",
   "metadata": {},
   "outputs": [],
   "source": [
    "import math\n",
    "class Point:\n",
    "    \"\"\"Represents a point in a two-dimensional coordinate system.\n",
    "    \"\"\"\n",
    "\n",
    "    def __init__(self, x: float = 10, y: float = 40) -> None:\n",
    "        \"\"\"Initializes a Point with x and y coordinates.\n",
    "        \"\"\"\n",
    "        self.x = x\n",
    "        self.y = y\n",
    "\n",
    "    def distance(self, other: 'Point') -> float:\n",
    "        \"\"\"Calculates the distance between this point and another point.\n",
    "        \"\"\"\n",
    "        return math.sqrt((self.x - other.x) ** 2 + (self.y - other.y) ** 2)\n",
    "\n",
    "    def show(self) -> tuple:\n",
    "        \"\"\"Returns the coordinates of the point as a tuple.\n",
    "        \"\"\"\n",
    "        return (self.x, self.y)\n",
    "\n",
    "    def locate(self) -> str:\n",
    "        \"\"\"Returns a string description of the point's location.\n",
    "        \"\"\"\n",
    "        if self.x>0 and self.y>0:\n",
    "            print(f'Ist')\n",
    "        elif self.x<0 and self.y>0:\n",
    "            print(f'2nd')\n",
    "        elif self.x<180 and self.y<0:\n",
    "            print(f'3rd')\n",
    "        elif self.x>0 and self.y<0:\n",
    "            print(f'4th')\n",
    "        else: \n",
    "            return\"origin\"\n",
    "        \n",
    "        "
   ]
  },
  {
   "cell_type": "code",
   "execution_count": 211,
   "id": "b863d412",
   "metadata": {},
   "outputs": [],
   "source": [
    "p1=Point()\n"
   ]
  },
  {
   "cell_type": "code",
   "execution_count": 205,
   "id": "f5180a2c",
   "metadata": {},
   "outputs": [
    {
     "name": "stdout",
     "output_type": "stream",
     "text": [
      "Ist\n"
     ]
    }
   ],
   "source": [
    "p1.locate()"
   ]
  },
  {
   "cell_type": "code",
   "execution_count": 206,
   "id": "c8a565e8",
   "metadata": {},
   "outputs": [],
   "source": [
    "p2=Point(-2.4,100)"
   ]
  },
  {
   "cell_type": "code",
   "execution_count": 207,
   "id": "c34c9799",
   "metadata": {},
   "outputs": [
    {
     "name": "stdout",
     "output_type": "stream",
     "text": [
      "2nd\n"
     ]
    }
   ],
   "source": [
    "p2.locate()"
   ]
  },
  {
   "cell_type": "code",
   "execution_count": 208,
   "id": "a94e99d2",
   "metadata": {},
   "outputs": [],
   "source": [
    "p3=Point(170,-3)"
   ]
  },
  {
   "cell_type": "code",
   "execution_count": 209,
   "id": "c0c48425",
   "metadata": {},
   "outputs": [
    {
     "name": "stdout",
     "output_type": "stream",
     "text": [
      "3rd\n"
     ]
    }
   ],
   "source": [
    "p3.locate()"
   ]
  },
  {
   "cell_type": "code",
   "execution_count": 210,
   "id": "09a44c5f",
   "metadata": {},
   "outputs": [],
   "source": [
    "p4=Point(5,-1)"
   ]
  },
  {
   "cell_type": "code",
   "execution_count": 211,
   "id": "5d2ddda2",
   "metadata": {},
   "outputs": [
    {
     "name": "stdout",
     "output_type": "stream",
     "text": [
      "3rd\n"
     ]
    }
   ],
   "source": [
    "p4.locate()"
   ]
  },
  {
   "cell_type": "markdown",
   "id": "ba978598",
   "metadata": {},
   "source": [
    "# Define point_1 by passing two arguments and print their values by using the dot operator and also by calling the show function. "
   ]
  },
  {
   "cell_type": "code",
   "execution_count": null,
   "id": "76ca4b14",
   "metadata": {},
   "outputs": [],
   "source": []
  },
  {
   "cell_type": "code",
   "execution_count": 199,
   "id": "d0dbf952",
   "metadata": {},
   "outputs": [],
   "source": [
    "# Define point_1 by passing two arguments\n",
    "point_1 = Point(5, 10)"
   ]
  },
  {
   "cell_type": "code",
   "execution_count": 200,
   "id": "3abdb891",
   "metadata": {},
   "outputs": [
    {
     "name": "stdout",
     "output_type": "stream",
     "text": [
      "point_1 x-coordinate: 5\n"
     ]
    }
   ],
   "source": [
    "# Print the values using the dot operator\n",
    "print(f\"point_1 x-coordinate: {point_1.x}\")  "
   ]
  },
  {
   "cell_type": "code",
   "execution_count": 201,
   "id": "367c4555",
   "metadata": {},
   "outputs": [
    {
     "name": "stdout",
     "output_type": "stream",
     "text": [
      "point_1 y-coordinate: 10\n"
     ]
    }
   ],
   "source": [
    "print(f\"point_1 y-coordinate: {point_1.y}\") "
   ]
  },
  {
   "cell_type": "code",
   "execution_count": 202,
   "id": "5f3c8135",
   "metadata": {},
   "outputs": [
    {
     "name": "stdout",
     "output_type": "stream",
     "text": [
      "point_1 coordinates: (5, 10)\n"
     ]
    }
   ],
   "source": [
    "# Print the values using the show method\n",
    "print(f\"point_1 coordinates: {point_1.show()}\")"
   ]
  },
  {
   "cell_type": "markdown",
   "id": "02135132",
   "metadata": {},
   "source": [
    "#  Define another object with the name point_2 and pass one argument. Display its value by calling the show method."
   ]
  },
  {
   "cell_type": "code",
   "execution_count": 205,
   "id": "44fb2a87",
   "metadata": {},
   "outputs": [],
   "source": [
    "# Define point_2 by passing one argument\n",
    "point_2 = Point(7) "
   ]
  },
  {
   "cell_type": "code",
   "execution_count": 206,
   "id": "05a878a5",
   "metadata": {},
   "outputs": [
    {
     "name": "stdout",
     "output_type": "stream",
     "text": [
      "point_2 coordinates: (7, 0)\n"
     ]
    }
   ],
   "source": [
    "# Display the value using the show method\n",
    "print(f\"point_2 coordinates: {point_2.show()}\")"
   ]
  },
  {
   "cell_type": "markdown",
   "id": "83da660e",
   "metadata": {},
   "source": [
    "#  Define another object with the name point_3 and pass no argument. Display its value by calling the show method. "
   ]
  },
  {
   "cell_type": "code",
   "execution_count": 203,
   "id": "955f7ca3",
   "metadata": {},
   "outputs": [],
   "source": [
    "# Define point_3 by passing no arguments\n",
    "point_3 = Point()"
   ]
  },
  {
   "cell_type": "code",
   "execution_count": 204,
   "id": "6e65e558",
   "metadata": {},
   "outputs": [
    {
     "name": "stdout",
     "output_type": "stream",
     "text": [
      "point_3 coordinates: (0, 0)\n"
     ]
    }
   ],
   "source": [
    "# Display the value using the show method\n",
    "print(f\"point_3 coordinates: {point_3.show()}\") "
   ]
  },
  {
   "cell_type": "code",
   "execution_count": null,
   "id": "448df5ca",
   "metadata": {},
   "outputs": [],
   "source": []
  }
 ],
 "metadata": {
  "kernelspec": {
   "display_name": "Python 3 (ipykernel)",
   "language": "python",
   "name": "python3"
  },
  "language_info": {
   "codemirror_mode": {
    "name": "ipython",
    "version": 3
   },
   "file_extension": ".py",
   "mimetype": "text/x-python",
   "name": "python",
   "nbconvert_exporter": "python",
   "pygments_lexer": "ipython3",
   "version": "3.12.7"
  }
 },
 "nbformat": 4,
 "nbformat_minor": 5
}
