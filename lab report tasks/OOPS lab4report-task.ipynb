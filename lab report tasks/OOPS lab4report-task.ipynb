{
 "cells": [
  {
   "cell_type": "markdown",
   "id": "992c96a2-6b77-4687-adb0-ad7ec3d71ef2",
   "metadata": {},
   "source": [
    "<h2 align=\"center\"><b><i><u>Name: Alvina Zia</u></i></b></h2 align=\"center\">\n",
    "<h2 align=\"center\"><b><i><u>Reg no: 23jzele0504</u></i></b></h2 align=\"center\">\n",
    "<h2 align=\"center\"><b><i><u>Semester: 3rd(section A)</u></i></b></h2 align=\"center\">\n",
    "<h2 align=\"center\"><b><i><u>Subject: OOPs & Data Structure</u></i></b></h2 align=\"center\">\n",
    "<h2 align=\"center\"><b><i><u>Lab: Lab no 04(lab report task)</u></i></b></h2 align=\"center\">\n",
    "<h2 align=\"center\"><b><i><u>Submitted to: Sir Irshad-ullah</u></i></b></h2 align=\"center\">"
   ]
  },
  {
   "cell_type": "markdown",
   "id": "9d1b614f-8e64-4d7a-9a9a-8291a0cbf693",
   "metadata": {},
   "source": [
    "***"
   ]
  },
  {
   "cell_type": "markdown",
   "id": "1c34a185",
   "metadata": {},
   "source": [
    "# report-task"
   ]
  },
  {
   "cell_type": "markdown",
   "id": "794564ed",
   "metadata": {},
   "source": [
    "Make an object and print its x and y coordinates. "
   ]
  },
  {
   "cell_type": "code",
   "execution_count": 8,
   "id": "44fa45bf",
   "metadata": {},
   "outputs": [],
   "source": [
    "import math\n",
    "class Point:\n",
    "    \"\"\"Represents a point in two-dimensional geometric coordinates.\n",
    "    \"\"\"\n",
    "    def __init__(self, x: float, y: float) -> None:\n",
    "        self.x = x\n",
    "        self.y = y\n",
    "\n",
    "    def distance(self, p2) -> float:\n",
    "        return math.sqrt((self.x - p2.x) ** 2 + (self.y - p2.y) ** 2)"
   ]
  },
  {
   "cell_type": "code",
   "execution_count": 215,
   "id": "927ba16b-592e-4e9b-b7ca-a0ed0aa147a2",
   "metadata": {},
   "outputs": [],
   "source": [
    "p1=Point(1,2)"
   ]
  },
  {
   "cell_type": "code",
   "execution_count": 217,
   "id": "c3957deb-7664-48ed-800a-e0ea77d28e79",
   "metadata": {},
   "outputs": [
    {
     "name": "stdout",
     "output_type": "stream",
     "text": [
      "Point1 coordinates: x = 1, y = 2\n"
     ]
    }
   ],
   "source": [
    "print(f\"Point1 coordinates: x = {p1.x}, y = {p1.y}\")"
   ]
  },
  {
   "cell_type": "markdown",
   "id": "9d190956",
   "metadata": {},
   "source": [
    "Define point1 and pass two numbers. "
   ]
  },
  {
   "cell_type": "code",
   "execution_count": 180,
   "id": "1c9a5039",
   "metadata": {},
   "outputs": [],
   "source": [
    "p1 = Point(5.0, 4.0)"
   ]
  },
  {
   "cell_type": "markdown",
   "id": "bf29be72",
   "metadata": {},
   "source": [
    "\n",
    "Make another instance of the point class, say its name is p2. "
   ]
  },
  {
   "cell_type": "code",
   "execution_count": 183,
   "id": "21bd9113",
   "metadata": {},
   "outputs": [],
   "source": [
    "p2 = Point(6.0, 8.0)"
   ]
  },
  {
   "cell_type": "markdown",
   "id": "19f32b63",
   "metadata": {},
   "source": [
    "\n",
    "Print p1 and p2, for this use the print command and pass the point as input."
   ]
  },
  {
   "cell_type": "code",
   "execution_count": 186,
   "id": "50b9898c",
   "metadata": {},
   "outputs": [
    {
     "name": "stdout",
     "output_type": "stream",
     "text": [
      "<__main__.Point object at 0x00000181A27E34D0>\n"
     ]
    }
   ],
   "source": [
    "print(p1)       "
   ]
  },
  {
   "cell_type": "code",
   "execution_count": 188,
   "id": "3e5ade66",
   "metadata": {},
   "outputs": [
    {
     "name": "stdout",
     "output_type": "stream",
     "text": [
      "<__main__.Point object at 0x00000181A3A320C0>\n"
     ]
    }
   ],
   "source": [
    "print(p2)"
   ]
  },
  {
   "cell_type": "markdown",
   "id": "610cabd4",
   "metadata": {},
   "source": [
    "Print the coordinate by using the object and dot operator."
   ]
  },
  {
   "cell_type": "code",
   "execution_count": 191,
   "id": "2df49e41",
   "metadata": {},
   "outputs": [
    {
     "name": "stdout",
     "output_type": "stream",
     "text": [
      "Point1 coordinates: x = 5.0, y = 4.0\n"
     ]
    }
   ],
   "source": [
    "print(f\"Point1 coordinates: x = {p1.x}, y = {p1.y}\")"
   ]
  },
  {
   "cell_type": "code",
   "execution_count": 193,
   "id": "a95c095b",
   "metadata": {},
   "outputs": [
    {
     "name": "stdout",
     "output_type": "stream",
     "text": [
      "Point2 coordinates: x = 6.0, y = 8.0\n"
     ]
    }
   ],
   "source": [
    "print(f\"Point2 coordinates: x = {p2.x}, y = {p2.y}\")"
   ]
  },
  {
   "cell_type": "markdown",
   "id": "6daca31c",
   "metadata": {},
   "source": [
    "Add a new method to the point class that can effectively print the points. Print both the point using that function. "
   ]
  },
  {
   "cell_type": "code",
   "execution_count": 219,
   "id": "5f6b5280-6c5f-455b-8125-9e32cc8b52f1",
   "metadata": {},
   "outputs": [],
   "source": [
    "class Point:\n",
    "    \"\"\"Represents a point in two-dimensional geometric coordinates.\n",
    "    \"\"\"\n",
    "    \n",
    "    def __init__(self, x: float, y: float) -> None:\n",
    "        self.x = x\n",
    "        self.y = y\n",
    "\n",
    "    def distance(self, p2) -> float:\n",
    "        return math.sqrt((self.x - p2.x) ** 2 + (self.y - p2.y) ** 2)\n",
    "\n",
    "    def print_coordinates(self) -> None:\n",
    "        \"\"\"Prints the coordinates of the point.\"\"\"\n",
    "        print(f\"Point coordinates: x = {self.x}, y = {self.y}\")"
   ]
  },
  {
   "cell_type": "code",
   "execution_count": 221,
   "id": "1d77f376-a09c-4bc6-9330-149eda8523cf",
   "metadata": {},
   "outputs": [],
   "source": [
    "p1 = Point(5.0, 4.0)"
   ]
  },
  {
   "cell_type": "code",
   "execution_count": 223,
   "id": "0481aaac-8eed-4750-8361-4d01916d1720",
   "metadata": {},
   "outputs": [],
   "source": [
    "p2 = Point(6.0, 8.0)"
   ]
  },
  {
   "cell_type": "code",
   "execution_count": 225,
   "id": "e48452f3",
   "metadata": {},
   "outputs": [
    {
     "name": "stdout",
     "output_type": "stream",
     "text": [
      "Point coordinates: x = 5.0, y = 4.0\n"
     ]
    }
   ],
   "source": [
    "p1.print_coordinates()"
   ]
  },
  {
   "cell_type": "code",
   "execution_count": 227,
   "id": "410b8185",
   "metadata": {},
   "outputs": [
    {
     "name": "stdout",
     "output_type": "stream",
     "text": [
      "Point coordinates: x = 6.0, y = 8.0\n"
     ]
    }
   ],
   "source": [
    "p2.print_coordinates()"
   ]
  },
  {
   "cell_type": "markdown",
   "id": "32d8d065",
   "metadata": {},
   "source": [
    "Calculate the distance between these two pints."
   ]
  },
  {
   "cell_type": "code",
   "execution_count": 207,
   "id": "2d12c539-b843-4c99-ab26-7d84a58a52b8",
   "metadata": {},
   "outputs": [
    {
     "name": "stdout",
     "output_type": "stream",
     "text": [
      "Distance between point1 and p2: 5.00\n"
     ]
    }
   ],
   "source": [
    "distance = point1.distance(p2)\n",
    "print(f\"Distance between point1 and p2: {distance:.2f}\")"
   ]
  },
  {
   "cell_type": "code",
   "execution_count": null,
   "id": "11a7a095",
   "metadata": {},
   "outputs": [],
   "source": []
  },
  {
   "cell_type": "code",
   "execution_count": null,
   "id": "d1612a40",
   "metadata": {},
   "outputs": [],
   "source": []
  }
 ],
 "metadata": {
  "kernelspec": {
   "display_name": "Python 3 (ipykernel)",
   "language": "python",
   "name": "python3"
  },
  "language_info": {
   "codemirror_mode": {
    "name": "ipython",
    "version": 3
   },
   "file_extension": ".py",
   "mimetype": "text/x-python",
   "name": "python",
   "nbconvert_exporter": "python",
   "pygments_lexer": "ipython3",
   "version": "3.12.7"
  }
 },
 "nbformat": 4,
 "nbformat_minor": 5
}
