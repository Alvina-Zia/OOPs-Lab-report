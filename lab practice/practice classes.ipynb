{
 "cells": [
  {
   "cell_type": "markdown",
   "id": "e6848137-088a-4274-8542-ff18f1c21a5d",
   "metadata": {},
   "source": [
    "<h2 align=\"center\"><b><i><u>Name: Alvina Zia</u></i></b></h2 align=\"center\">\n",
    "<h2 align=\"center\"><b><i><u>Reg no: 23jzele0504</u></i></b></h2 align=\"center\">\n",
    "<h2 align=\"center\"><b><i><u>Semester: 3rd(section A)</u></i></b></h2 align=\"center\">\n",
    "<h2 align=\"center\"><b><i><u>Subject: OOPs & Data Structure</u></i></b></h2 align=\"center\">\n",
    "<h2 align=\"center\"><b><i><u>practice classes</u></i></b></h2 align=\"center\">\n",
    "<h2 align=\"center\"><b><i><u>Submitted to: Sir Irshad-ullah</u></i></b></h2 align=\"center\">"
   ]
  },
  {
   "cell_type": "markdown",
   "id": "def22dc4",
   "metadata": {},
   "source": [
    "# 3. Define a class RLC for a series RLC circuit. Your class must have the appropriate __init__ method. "
   ]
  },
  {
   "cell_type": "code",
   "execution_count": 23,
   "id": "7e241cf8",
   "metadata": {},
   "outputs": [],
   "source": [
    "class RLC:\n",
    "    \"\"\"class show a circuit\"\"\"\n",
    "    def __init__(self,R,L,C,frequency):\n",
    "        \"\"\"init has 4 instances\"\"\"        \n",
    "        self._R=R\n",
    "        self._L=L\n",
    "        self._C=C\n",
    "        self.frequency=frequency\n",
    "    @property\n",
    "    def R(self):\n",
    "        return f\"ddddddddddd\"\n",
    "    @R.setter\n",
    "    def R(self,value):\n",
    "        self._R=value\n",
    "        return f\"gggggggg\"\n",
    "    @property\n",
    "    def L(self):\n",
    "        return f\"ddddddddddd\"\n",
    "    @L.setter\n",
    "    def L(self,value):\n",
    "        self._L=value\n",
    "        return f\"gggggggg\"\n",
    "    @property\n",
    "    def C(self):\n",
    "        return f\"ddddddddddd\"\n",
    "    @C.setter\n",
    "    def C(self,value):\n",
    "        self._C=value\n",
    "        return f\"gggggggg\"\n",
    "    @property\n",
    "    def f(self):\n",
    "        return f\"ddddddddddd\"\n",
    "    @f.setter\n",
    "    def f(self,value):\n",
    "        self._f=value\n",
    "        return f\"gggggggg\"\n",
    "    @property\n",
    "    def impedence(self):\n",
    "        \"\"\"impedence is property method\"\"\"\n",
    "        angular_frequency=2*math.pi*self.frequency\n",
    "        reactance=angular_frequency*(self._L-self._C)\n",
    "        return math.sqrt(self._R**2 + reactance**2)\n",
    "    @property\n",
    "    def phase(self):\n",
    "        \"\"\"phase is property method\"\"\"\n",
    "        angular_frequency=2*math.pi*self.frequency\n",
    "        reactance=angular_frequency*(self._L-self._C)\n",
    "        return math.atan(reactance/self.resistance)\n",
    "    @property\n",
    "    def power_factor(self):\n",
    "        \"\"\"p.f is property method\"\"\"\n",
    "        return math.cos(self.phase)\n",
    "    def current(self,voltage):\n",
    "        \"\"\"this is instance method\"\"\"\n",
    "        current=voltage/self.impedence\n",
    "    def __repr__(self):\n",
    "        \"\"\"repr for programmer\"\"\"\n",
    "        return f\"RLC circuit has three instances\"\n",
    "    def __str__(self):\n",
    "        \"\"\"str for coder\"\"\"\n",
    "        return f\"RLC circuit has three instances\""
   ]
  },
  {
   "cell_type": "code",
   "execution_count": 25,
   "id": "e18a209d",
   "metadata": {},
   "outputs": [],
   "source": [
    "inst_1=RLC(2,3,7,5)"
   ]
  },
  {
   "cell_type": "code",
   "execution_count": 27,
   "id": "fa589c9c",
   "metadata": {},
   "outputs": [],
   "source": [
    "inst_2=RLC(6,9,8,7)"
   ]
  },
  {
   "cell_type": "code",
   "execution_count": 29,
   "id": "c1933563",
   "metadata": {},
   "outputs": [
    {
     "name": "stdout",
     "output_type": "stream",
     "text": [
      "RLC circuit has three instances\n"
     ]
    }
   ],
   "source": [
    "print(inst_1)"
   ]
  },
  {
   "cell_type": "code",
   "execution_count": 31,
   "id": "fc77e020",
   "metadata": {},
   "outputs": [
    {
     "name": "stdout",
     "output_type": "stream",
     "text": [
      "RLC circuit has three instances\n"
     ]
    }
   ],
   "source": [
    "print(inst_2)"
   ]
  },
  {
   "cell_type": "code",
   "execution_count": 33,
   "id": "f30751f8",
   "metadata": {},
   "outputs": [
    {
     "data": {
      "text/plain": [
       "mappingproxy({'__module__': '__main__',\n",
       "              '__doc__': 'class show a circuit',\n",
       "              '__init__': <function __main__.RLC.__init__(self, R, L, C, frequency)>,\n",
       "              'R': <property at 0x159b56d7ce0>,\n",
       "              'L': <property at 0x159b56d4a40>,\n",
       "              'C': <property at 0x159b56d4c70>,\n",
       "              'f': <property at 0x159b56d54e0>,\n",
       "              'impedence': <property at 0x159b56d4630>,\n",
       "              'phase': <property at 0x159b56d53f0>,\n",
       "              'power_factor': <property at 0x159b56d4950>,\n",
       "              'current': <function __main__.RLC.current(self, voltage)>,\n",
       "              '__repr__': <function __main__.RLC.__repr__(self)>,\n",
       "              '__str__': <function __main__.RLC.__str__(self)>,\n",
       "              '__dict__': <attribute '__dict__' of 'RLC' objects>,\n",
       "              '__weakref__': <attribute '__weakref__' of 'RLC' objects>})"
      ]
     },
     "execution_count": 33,
     "metadata": {},
     "output_type": "execute_result"
    }
   ],
   "source": [
    "RLC.__dict__"
   ]
  },
  {
   "cell_type": "code",
   "execution_count": 35,
   "id": "63ae6c84",
   "metadata": {},
   "outputs": [
    {
     "data": {
      "text/plain": [
       "mappingproxy({'__module__': '__main__',\n",
       "              '__doc__': 'class show a circuit',\n",
       "              '__init__': <function __main__.RLC.__init__(self, R, L, C, frequency)>,\n",
       "              'R': <property at 0x159b56d7ce0>,\n",
       "              'L': <property at 0x159b56d4a40>,\n",
       "              'C': <property at 0x159b56d4c70>,\n",
       "              'f': <property at 0x159b56d54e0>,\n",
       "              'impedence': <property at 0x159b56d4630>,\n",
       "              'phase': <property at 0x159b56d53f0>,\n",
       "              'power_factor': <property at 0x159b56d4950>,\n",
       "              'current': <function __main__.RLC.current(self, voltage)>,\n",
       "              '__repr__': <function __main__.RLC.__repr__(self)>,\n",
       "              '__str__': <function __main__.RLC.__str__(self)>,\n",
       "              '__dict__': <attribute '__dict__' of 'RLC' objects>,\n",
       "              '__weakref__': <attribute '__weakref__' of 'RLC' objects>})"
      ]
     },
     "execution_count": 35,
     "metadata": {},
     "output_type": "execute_result"
    }
   ],
   "source": [
    "vars(RLC)"
   ]
  },
  {
   "cell_type": "code",
   "execution_count": 37,
   "id": "9aaeb017",
   "metadata": {},
   "outputs": [
    {
     "data": {
      "text/plain": [
       "{'_R': 2, '_L': 3, '_C': 7, 'frequency': 5}"
      ]
     },
     "execution_count": 37,
     "metadata": {},
     "output_type": "execute_result"
    }
   ],
   "source": [
    "inst_1.__dict__"
   ]
  },
  {
   "cell_type": "code",
   "execution_count": 39,
   "id": "b3b609e5",
   "metadata": {},
   "outputs": [
    {
     "data": {
      "text/plain": [
       "{'_R': 6, '_L': 9, '_C': 8, 'frequency': 7}"
      ]
     },
     "execution_count": 39,
     "metadata": {},
     "output_type": "execute_result"
    }
   ],
   "source": [
    "inst_2.__dict__"
   ]
  },
  {
   "cell_type": "code",
   "execution_count": 41,
   "id": "fdb36f67",
   "metadata": {},
   "outputs": [
    {
     "name": "stdout",
     "output_type": "stream",
     "text": [
      "Help on class RLC in module __main__:\n",
      "\n",
      "class RLC(builtins.object)\n",
      " |  RLC(R, L, C, frequency)\n",
      " |\n",
      " |  class show a circuit\n",
      " |\n",
      " |  Methods defined here:\n",
      " |\n",
      " |  __init__(self, R, L, C, frequency)\n",
      " |      init has 4 instances\n",
      " |\n",
      " |  __repr__(self)\n",
      " |      repr for programmer\n",
      " |\n",
      " |  __str__(self)\n",
      " |      str for coder\n",
      " |\n",
      " |  current(self, voltage)\n",
      " |      this is instance method\n",
      " |\n",
      " |  ----------------------------------------------------------------------\n",
      " |  Readonly properties defined here:\n",
      " |\n",
      " |  impedence\n",
      " |      impedence is property method\n",
      " |\n",
      " |  phase\n",
      " |      phase is property method\n",
      " |\n",
      " |  power_factor\n",
      " |      p.f is property method\n",
      " |\n",
      " |  ----------------------------------------------------------------------\n",
      " |  Data descriptors defined here:\n",
      " |\n",
      " |  C\n",
      " |\n",
      " |  L\n",
      " |\n",
      " |  R\n",
      " |\n",
      " |  __dict__\n",
      " |      dictionary for instance variables\n",
      " |\n",
      " |  __weakref__\n",
      " |      list of weak references to the object\n",
      " |\n",
      " |  f\n",
      "\n"
     ]
    }
   ],
   "source": [
    "help(RLC)"
   ]
  },
  {
   "cell_type": "code",
   "execution_count": 43,
   "id": "d30f8c43",
   "metadata": {},
   "outputs": [
    {
     "name": "stdout",
     "output_type": "stream",
     "text": [
      "class show a circuit\n"
     ]
    }
   ],
   "source": [
    "print(RLC.__doc__)"
   ]
  },
  {
   "cell_type": "code",
   "execution_count": 45,
   "id": "eb90f7db",
   "metadata": {},
   "outputs": [
    {
     "name": "stdout",
     "output_type": "stream",
     "text": [
      "init has 4 instances\n"
     ]
    }
   ],
   "source": [
    "print(RLC.__init__.__doc__)"
   ]
  },
  {
   "cell_type": "code",
   "execution_count": 47,
   "id": "575d6a60",
   "metadata": {},
   "outputs": [
    {
     "name": "stdout",
     "output_type": "stream",
     "text": [
      "None\n"
     ]
    }
   ],
   "source": [
    "print(RLC.R.__doc__)"
   ]
  },
  {
   "cell_type": "code",
   "execution_count": 49,
   "id": "dfd4e61d",
   "metadata": {},
   "outputs": [
    {
     "name": "stdout",
     "output_type": "stream",
     "text": [
      "None\n"
     ]
    }
   ],
   "source": [
    "print(RLC.L.__doc__)"
   ]
  },
  {
   "cell_type": "code",
   "execution_count": 51,
   "id": "bb14ec22",
   "metadata": {},
   "outputs": [
    {
     "name": "stdout",
     "output_type": "stream",
     "text": [
      "None\n"
     ]
    }
   ],
   "source": [
    "print(RLC.C.__doc__)"
   ]
  },
  {
   "cell_type": "code",
   "execution_count": 55,
   "id": "967c7e96",
   "metadata": {},
   "outputs": [
    {
     "name": "stdout",
     "output_type": "stream",
     "text": [
      "None\n"
     ]
    }
   ],
   "source": [
    "print(RLC.f.__doc__)"
   ]
  },
  {
   "cell_type": "code",
   "execution_count": 57,
   "id": "e6be01b2",
   "metadata": {},
   "outputs": [
    {
     "name": "stdout",
     "output_type": "stream",
     "text": [
      "impedence is property method\n"
     ]
    }
   ],
   "source": [
    "print(RLC.impedence.__doc__)"
   ]
  },
  {
   "cell_type": "code",
   "execution_count": 59,
   "id": "8a67af03",
   "metadata": {},
   "outputs": [
    {
     "name": "stdout",
     "output_type": "stream",
     "text": [
      "phase is property method\n"
     ]
    }
   ],
   "source": [
    "print(RLC.phase.__doc__)"
   ]
  },
  {
   "cell_type": "code",
   "execution_count": 61,
   "id": "5d01eaf3",
   "metadata": {},
   "outputs": [
    {
     "name": "stdout",
     "output_type": "stream",
     "text": [
      "p.f is property method\n"
     ]
    }
   ],
   "source": [
    "print(RLC.power_factor.__doc__)"
   ]
  },
  {
   "cell_type": "code",
   "execution_count": 63,
   "id": "7f6ef103",
   "metadata": {},
   "outputs": [
    {
     "name": "stdout",
     "output_type": "stream",
     "text": [
      "repr for programmer\n"
     ]
    }
   ],
   "source": [
    "print(RLC.__repr__.__doc__)"
   ]
  },
  {
   "cell_type": "code",
   "execution_count": 65,
   "id": "7d0d837a",
   "metadata": {},
   "outputs": [
    {
     "name": "stdout",
     "output_type": "stream",
     "text": [
      "str for coder\n"
     ]
    }
   ],
   "source": [
    "print(RLC.__str__.__doc__)"
   ]
  },
  {
   "cell_type": "code",
   "execution_count": 67,
   "id": "1c425a87",
   "metadata": {},
   "outputs": [],
   "source": [
    "class RLC:\n",
    "    \"\"\"class show a circuit\"\"\"\n",
    "    def __init__(self,R=0,L=0,C=0,frequency=0):\n",
    "        \"\"\"init has 4 instances\"\"\"        \n",
    "        self.R=R\n",
    "        self.L=L\n",
    "        self.C=C\n",
    "        self.frequency=frequency"
   ]
  },
  {
   "cell_type": "code",
   "execution_count": 69,
   "id": "459de5af",
   "metadata": {},
   "outputs": [],
   "source": [
    "y=RLC()"
   ]
  },
  {
   "cell_type": "code",
   "execution_count": 71,
   "id": "c500f41e",
   "metadata": {},
   "outputs": [
    {
     "data": {
      "text/plain": [
       "0"
      ]
     },
     "execution_count": 71,
     "metadata": {},
     "output_type": "execute_result"
    }
   ],
   "source": [
    "y.R"
   ]
  },
  {
   "cell_type": "markdown",
   "id": "5fce07a4",
   "metadata": {},
   "source": [
    "# 4. Square: A four-sided polygon (quadrilateral) with all sides of equal length and all angles 90 degrees."
   ]
  },
  {
   "cell_type": "code",
   "execution_count": 93,
   "id": "fe726d33",
   "metadata": {},
   "outputs": [],
   "source": [
    "class square:\n",
    "    def __init__(self,side_length):\n",
    "        self._side_length=side_length\n",
    "    @property\n",
    "    def side_length(self):\n",
    "        return f\"hhhhhh\"\n",
    "    @side_length.setter\n",
    "    def side_length(self,value):\n",
    "        self._side_length=value\n",
    "    @property\n",
    "    def area(self):\n",
    "        area=self._side_length**2\n",
    "        return area\n",
    "    @property\n",
    "    def peremeter(self):\n",
    "        peremeter=4*side_length\n",
    "        return peremeter\n",
    "    def __repr__(self):\n",
    "        return f\"s={self.square}\"\n",
    "    def __str__(self):\n",
    "        return f\" square has 4 sides\"\n",
    "    "
   ]
  },
  {
   "cell_type": "code",
   "execution_count": 95,
   "id": "a3b82e5d",
   "metadata": {},
   "outputs": [],
   "source": [
    "s=square(3)"
   ]
  },
  {
   "cell_type": "code",
   "execution_count": 97,
   "id": "bff6d1a4",
   "metadata": {},
   "outputs": [
    {
     "name": "stdout",
     "output_type": "stream",
     "text": [
      " square has 4 sides\n"
     ]
    }
   ],
   "source": [
    "print(s)"
   ]
  },
  {
   "cell_type": "code",
   "execution_count": 99,
   "id": "f09f9de2",
   "metadata": {},
   "outputs": [
    {
     "data": {
      "text/plain": [
       "{'_side_length': 3}"
      ]
     },
     "execution_count": 99,
     "metadata": {},
     "output_type": "execute_result"
    }
   ],
   "source": [
    "s.__dict__"
   ]
  },
  {
   "cell_type": "raw",
   "id": "b4c1e639",
   "metadata": {},
   "source": [
    "square.__dict__"
   ]
  },
  {
   "cell_type": "code",
   "execution_count": 101,
   "id": "e6177e82",
   "metadata": {},
   "outputs": [
    {
     "data": {
      "text/plain": [
       "mappingproxy({'__module__': '__main__',\n",
       "              '__init__': <function __main__.square.__init__(self, side_length)>,\n",
       "              'side_length': <property at 0x159b5ebe2f0>,\n",
       "              'area': <property at 0x159b5ebe340>,\n",
       "              'peremeter': <property at 0x159b5ebe390>,\n",
       "              '__repr__': <function __main__.square.__repr__(self)>,\n",
       "              '__str__': <function __main__.square.__str__(self)>,\n",
       "              '__dict__': <attribute '__dict__' of 'square' objects>,\n",
       "              '__weakref__': <attribute '__weakref__' of 'square' objects>,\n",
       "              '__doc__': None})"
      ]
     },
     "execution_count": 101,
     "metadata": {},
     "output_type": "execute_result"
    }
   ],
   "source": [
    "vars(square)"
   ]
  },
  {
   "cell_type": "code",
   "execution_count": 103,
   "id": "bc0a01e4",
   "metadata": {},
   "outputs": [
    {
     "name": "stdout",
     "output_type": "stream",
     "text": [
      "Help on class square in module __main__:\n",
      "\n",
      "class square(builtins.object)\n",
      " |  square(side_length)\n",
      " |\n",
      " |  Methods defined here:\n",
      " |\n",
      " |  __init__(self, side_length)\n",
      " |      Initialize self.  See help(type(self)) for accurate signature.\n",
      " |\n",
      " |  __repr__(self)\n",
      " |      Return repr(self).\n",
      " |\n",
      " |  __str__(self)\n",
      " |      Return str(self).\n",
      " |\n",
      " |  ----------------------------------------------------------------------\n",
      " |  Readonly properties defined here:\n",
      " |\n",
      " |  area\n",
      " |\n",
      " |  peremeter\n",
      " |\n",
      " |  ----------------------------------------------------------------------\n",
      " |  Data descriptors defined here:\n",
      " |\n",
      " |  __dict__\n",
      " |      dictionary for instance variables\n",
      " |\n",
      " |  __weakref__\n",
      " |      list of weak references to the object\n",
      " |\n",
      " |  side_length\n",
      "\n"
     ]
    }
   ],
   "source": [
    "help(square)"
   ]
  },
  {
   "cell_type": "code",
   "execution_count": 110,
   "id": "5dd58aed",
   "metadata": {},
   "outputs": [],
   "source": [
    "class rectangle:\n",
    "    def __init__(self,width,height):\n",
    "        self._width=width\n",
    "        self._height=height\n",
    "    @property\n",
    "    def width(self):\n",
    "        return f\"fffffffff\"\n",
    "    @width.setter\n",
    "    def width(self,value):\n",
    "        self.width=value\n",
    "        return f\"fkkggfl\"\n",
    "    @property\n",
    "    def height(self):\n",
    "        return f\"fffffffff\"\n",
    "    @height.setter\n",
    "    def height(self):\n",
    "        return f\"hhhhhhhhhhhhhh\"\n",
    "    @property\n",
    "    def area(self):\n",
    "        area=width*height\n",
    "        return f\"ffhijkjd\"\n",
    "    @property\n",
    "    def peremeter(self):\n",
    "        peremeter=2*(self.width+self.height)\n",
    "        return f\"eree\"\n",
    "    def __repr__(self):\n",
    "        return f\"ljjl\"\n",
    "    def __str__(self):\n",
    "        return f\"sikfjig\""
   ]
  },
  {
   "cell_type": "code",
   "execution_count": 112,
   "id": "2326aa90",
   "metadata": {},
   "outputs": [],
   "source": [
    "r=rectangle(4,3)"
   ]
  },
  {
   "cell_type": "code",
   "execution_count": 114,
   "id": "69230aca",
   "metadata": {},
   "outputs": [
    {
     "data": {
      "text/plain": [
       "ljjl"
      ]
     },
     "execution_count": 114,
     "metadata": {},
     "output_type": "execute_result"
    }
   ],
   "source": [
    "r"
   ]
  },
  {
   "cell_type": "code",
   "execution_count": 116,
   "id": "d98ef870",
   "metadata": {},
   "outputs": [
    {
     "name": "stdout",
     "output_type": "stream",
     "text": [
      "sikfjig\n"
     ]
    }
   ],
   "source": [
    "print(r)"
   ]
  },
  {
   "cell_type": "code",
   "execution_count": 118,
   "id": "ce7ec074",
   "metadata": {},
   "outputs": [
    {
     "data": {
      "text/plain": [
       "{'_width': 4, '_height': 3}"
      ]
     },
     "execution_count": 118,
     "metadata": {},
     "output_type": "execute_result"
    }
   ],
   "source": [
    "r.__dict__"
   ]
  },
  {
   "cell_type": "code",
   "execution_count": 120,
   "id": "95dbf4c0",
   "metadata": {},
   "outputs": [
    {
     "data": {
      "text/plain": [
       "mappingproxy({'__module__': '__main__',\n",
       "              '__init__': <function __main__.rectangle.__init__(self, width, height)>,\n",
       "              'width': <property at 0x159b5fc1ad0>,\n",
       "              'height': <property at 0x159b5fc0d10>,\n",
       "              'area': <property at 0x159b5fc1300>,\n",
       "              'peremeter': <property at 0x159b5fc0d60>,\n",
       "              '__repr__': <function __main__.rectangle.__repr__(self)>,\n",
       "              '__str__': <function __main__.rectangle.__str__(self)>,\n",
       "              '__dict__': <attribute '__dict__' of 'rectangle' objects>,\n",
       "              '__weakref__': <attribute '__weakref__' of 'rectangle' objects>,\n",
       "              '__doc__': None})"
      ]
     },
     "execution_count": 120,
     "metadata": {},
     "output_type": "execute_result"
    }
   ],
   "source": [
    "rectangle.__dict__"
   ]
  },
  {
   "cell_type": "code",
   "execution_count": 122,
   "id": "e0be9d9d",
   "metadata": {},
   "outputs": [
    {
     "data": {
      "text/plain": [
       "mappingproxy({'__module__': '__main__',\n",
       "              '__init__': <function __main__.rectangle.__init__(self, width, height)>,\n",
       "              'width': <property at 0x159b5fc1ad0>,\n",
       "              'height': <property at 0x159b5fc0d10>,\n",
       "              'area': <property at 0x159b5fc1300>,\n",
       "              'peremeter': <property at 0x159b5fc0d60>,\n",
       "              '__repr__': <function __main__.rectangle.__repr__(self)>,\n",
       "              '__str__': <function __main__.rectangle.__str__(self)>,\n",
       "              '__dict__': <attribute '__dict__' of 'rectangle' objects>,\n",
       "              '__weakref__': <attribute '__weakref__' of 'rectangle' objects>,\n",
       "              '__doc__': None})"
      ]
     },
     "execution_count": 122,
     "metadata": {},
     "output_type": "execute_result"
    }
   ],
   "source": [
    "vars(rectangle)"
   ]
  },
  {
   "cell_type": "code",
   "execution_count": 124,
   "id": "472c5237",
   "metadata": {},
   "outputs": [
    {
     "name": "stdout",
     "output_type": "stream",
     "text": [
      "Help on class rectangle in module __main__:\n",
      "\n",
      "class rectangle(builtins.object)\n",
      " |  rectangle(width, height)\n",
      " |\n",
      " |  Methods defined here:\n",
      " |\n",
      " |  __init__(self, width, height)\n",
      " |      Initialize self.  See help(type(self)) for accurate signature.\n",
      " |\n",
      " |  __repr__(self)\n",
      " |      Return repr(self).\n",
      " |\n",
      " |  __str__(self)\n",
      " |      Return str(self).\n",
      " |\n",
      " |  ----------------------------------------------------------------------\n",
      " |  Readonly properties defined here:\n",
      " |\n",
      " |  area\n",
      " |\n",
      " |  peremeter\n",
      " |\n",
      " |  ----------------------------------------------------------------------\n",
      " |  Data descriptors defined here:\n",
      " |\n",
      " |  __dict__\n",
      " |      dictionary for instance variables\n",
      " |\n",
      " |  __weakref__\n",
      " |      list of weak references to the object\n",
      " |\n",
      " |  height\n",
      " |\n",
      " |  width\n",
      "\n"
     ]
    }
   ],
   "source": [
    "help(rectangle)"
   ]
  },
  {
   "cell_type": "code",
   "execution_count": null,
   "id": "cad2a70c",
   "metadata": {},
   "outputs": [],
   "source": []
  },
  {
   "cell_type": "code",
   "execution_count": null,
   "id": "2a9bf905-270c-4396-83ee-d641efb6a3e4",
   "metadata": {},
   "outputs": [],
   "source": []
  }
 ],
 "metadata": {
  "kernelspec": {
   "display_name": "Python 3 (ipykernel)",
   "language": "python",
   "name": "python3"
  },
  "language_info": {
   "codemirror_mode": {
    "name": "ipython",
    "version": 3
   },
   "file_extension": ".py",
   "mimetype": "text/x-python",
   "name": "python",
   "nbconvert_exporter": "python",
   "pygments_lexer": "ipython3",
   "version": "3.12.7"
  }
 },
 "nbformat": 4,
 "nbformat_minor": 5
}
