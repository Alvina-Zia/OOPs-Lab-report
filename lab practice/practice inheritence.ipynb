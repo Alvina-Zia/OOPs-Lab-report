{
 "cells": [
  {
   "cell_type": "markdown",
   "id": "5271b515-dfa1-40ba-b781-a1be3bc4ddf7",
   "metadata": {},
   "source": [
    "<h2 align=\"center\"><b><i><u>Name: Alvina Zia</u></i></b></h2 align=\"center\">\n",
    "<h2 align=\"center\"><b><i><u>Reg no: 23jzele0504</u></i></b></h2 align=\"center\">\n",
    "<h2 align=\"center\"><b><i><u>Semester: 3rd(section A)</u></i></b></h2 align=\"center\">\n",
    "<h2 align=\"center\"><b><i><u>Subject: OOPs & Data Structure</u></i></b></h2 align=\"center\">\n",
    "<h2 align=\"center\"><b><i><u>practice</u></i></b></h2 align=\"center\">\n",
    "<h2 align=\"center\"><b><i><u>Submitted to: Sir Irshad-ullah</u></i></b></h2 align=\"center\">"
   ]
  },
  {
   "cell_type": "code",
   "execution_count": 1,
   "id": "167b5716-840b-4567-998e-5c83b67eba50",
   "metadata": {},
   "outputs": [],
   "source": [
    "class square:\n",
    "    def __init__(self,side):\n",
    "        self.side=side\n",
    "    def area(self):\n",
    "        return self.side**2\n",
    "    def paremeter(self):\n",
    "        return 4*self.side"
   ]
  },
  {
   "cell_type": "code",
   "execution_count": 3,
   "id": "1e64a44e-d006-4684-87bf-bc21db4991f1",
   "metadata": {},
   "outputs": [],
   "source": [
    "class cube(square):\n",
    "    def __init__(self,side):\n",
    "        super().__init__(side)\n",
    "    def volume(self):\n",
    "        sqr=super().area()\n",
    "        return sqr*self.side\n",
    "    def surface_area(self):\n",
    "        a=super().area()\n",
    "        return a*6"
   ]
  },
  {
   "cell_type": "code",
   "execution_count": 4,
   "id": "6fefd7dc-3e2f-44b8-aa8b-b124387c7754",
   "metadata": {},
   "outputs": [],
   "source": [
    "c=cube(3)"
   ]
  },
  {
   "cell_type": "code",
   "execution_count": 7,
   "id": "f2043a58-c5ba-4761-9f5c-79c7aedbff63",
   "metadata": {},
   "outputs": [
    {
     "data": {
      "text/plain": [
       "54"
      ]
     },
     "execution_count": 7,
     "metadata": {},
     "output_type": "execute_result"
    }
   ],
   "source": [
    "c.surface_area()"
   ]
  },
  {
   "cell_type": "code",
   "execution_count": 14,
   "id": "2dadc461-0222-4ea9-9259-cd4831efbb4d",
   "metadata": {},
   "outputs": [
    {
     "data": {
      "text/plain": [
       "27"
      ]
     },
     "execution_count": 14,
     "metadata": {},
     "output_type": "execute_result"
    }
   ],
   "source": [
    "c.volume()"
   ]
  },
  {
   "cell_type": "code",
   "execution_count": null,
   "id": "5f1fde0c-12cc-491a-bb5c-eb8b5abca033",
   "metadata": {},
   "outputs": [],
   "source": []
  },
  {
   "cell_type": "code",
   "execution_count": null,
   "id": "05563a3b-0dd2-4331-bfe4-e8d5b4c77e96",
   "metadata": {},
   "outputs": [],
   "source": []
  },
  {
   "cell_type": "code",
   "execution_count": null,
   "id": "1f9118f3-ef59-401d-802d-7e8502b8631c",
   "metadata": {},
   "outputs": [],
   "source": []
  }
 ],
 "metadata": {
  "kernelspec": {
   "display_name": "Python 3 (ipykernel)",
   "language": "python",
   "name": "python3"
  },
  "language_info": {
   "codemirror_mode": {
    "name": "ipython",
    "version": 3
   },
   "file_extension": ".py",
   "mimetype": "text/x-python",
   "name": "python",
   "nbconvert_exporter": "python",
   "pygments_lexer": "ipython3",
   "version": "3.12.7"
  }
 },
 "nbformat": 4,
 "nbformat_minor": 5
}
