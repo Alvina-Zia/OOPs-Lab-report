{
 "cells": [
  {
   "cell_type": "markdown",
   "id": "d189af72-f039-4c72-9cc9-9268a199bc3f",
   "metadata": {},
   "source": [
    "<h2 align=\"center\"><b><i><u>Name: Alvina Zia</u></i></b></h2 align=\"center\">\n",
    "<h2 align=\"center\"><b><i><u>Reg no: 23jzele0504</u></i></b></h2 align=\"center\">\n",
    "<h2 align=\"center\"><b><i><u>Semester: 3rd(section A)</u></i></b></h2 align=\"center\">\n",
    "<h2 align=\"center\"><b><i><u>Subject: OOPs & Data Structure</u></i></b></h2 align=\"center\">\n",
    "<h2 align=\"center\"><b><i><u>practice RLC</u></i></b></h2 align=\"center\">\n",
    "<h2 align=\"center\"><b><i><u>Submitted to: Sir Irshad-ullah</u></i></b></h2 align=\"center\">"
   ]
  },
  {
   "cell_type": "markdown",
   "id": "56f04796",
   "metadata": {},
   "source": [
    "# 3. Define a class RLC for a series RLC circuit. Your class must have the appropriate __init__ method. "
   ]
  },
  {
   "cell_type": "code",
   "execution_count": 12,
   "id": "c8ae209c",
   "metadata": {},
   "outputs": [],
   "source": [
    "class RLC:\n",
    "    \"\"\"class show a circuit\"\"\"\n",
    "    def __init__(self,R,L,C,frequency):\n",
    "        \"\"\"init has 4 instances\"\"\"        \n",
    "        self._R=R\n",
    "        self._L=L\n",
    "        self._C=C\n",
    "        self.frequency=frequency\n",
    "    @property\n",
    "    def R(self):\n",
    "        return f\"ddddddddddd\"\n",
    "    @R.setter\n",
    "    def R(self,value):\n",
    "        self.R=value\n",
    "        return f\"gggggggg\"\n",
    "    @property\n",
    "    def L(self):\n",
    "        return f\"ddddddddddd\"\n",
    "    @L.setter\n",
    "    def L(self,value):\n",
    "        self.L=value\n",
    "        return f\"gggggggg\"\n",
    "    @property\n",
    "    def C(self):\n",
    "        return f\"ddddddddddd\"\n",
    "    @C.setter\n",
    "    def C(self,value):\n",
    "        self.C=value\n",
    "        return f\"gggggggg\"\n",
    "    @property\n",
    "    def f(self):\n",
    "        return f\"ddddddddddd\"\n",
    "    @f.setter\n",
    "    def f(self,value):\n",
    "        self.f=value\n",
    "        return f\"gggggggg\"\n",
    "    @property\n",
    "    def impedence(self):\n",
    "        \"\"\"impedence is property method\"\"\"\n",
    "        angular_frequency=2*math.pi*self.frequency\n",
    "        reactance=angular_frequency*(self.L-self.C)\n",
    "        return math.sqrt(self.R**2 + reactance**2)\n",
    "    @property\n",
    "    def phase(self):\n",
    "        \"\"\"phase is property method\"\"\"\n",
    "        angular_frequency=2*math.pi*self.frequency\n",
    "        reactance=angular_frequency*(self.L-self.C)\n",
    "        return math.atan(reactance/self.resistance)\n",
    "    @property\n",
    "    def power_factor(self):\n",
    "        \"\"\"p.f is property method\"\"\"\n",
    "        return math.cos(self.phase)\n",
    "    def current(self,voltage):\n",
    "        \"\"\"this is instance method\"\"\"\n",
    "        current=voltage/self.impedence\n",
    "    def __repr__(self):\n",
    "        \"\"\"repr for programmer\"\"\"\n",
    "        return f\"RLC circuit has three instances\"\n",
    "    def __str__(self):\n",
    "        \"\"\"str for coder\"\"\"\n",
    "        return f\"RLC circuit has three instances\""
   ]
  },
  {
   "cell_type": "code",
   "execution_count": 14,
   "id": "38bdffb4",
   "metadata": {},
   "outputs": [],
   "source": [
    "inst_1=RLC(2,3,7,5)"
   ]
  },
  {
   "cell_type": "code",
   "execution_count": 16,
   "id": "53aa73dd",
   "metadata": {},
   "outputs": [],
   "source": [
    "inst_2=RLC(6,9,8,7)"
   ]
  },
  {
   "cell_type": "code",
   "execution_count": 18,
   "id": "f56fd0e1",
   "metadata": {},
   "outputs": [
    {
     "name": "stdout",
     "output_type": "stream",
     "text": [
      "RLC circuit has three instances\n"
     ]
    }
   ],
   "source": [
    "print(inst_1)"
   ]
  },
  {
   "cell_type": "code",
   "execution_count": 20,
   "id": "e3499bd4",
   "metadata": {},
   "outputs": [
    {
     "name": "stdout",
     "output_type": "stream",
     "text": [
      "RLC circuit has three instances\n"
     ]
    }
   ],
   "source": [
    "print(inst_2)"
   ]
  },
  {
   "cell_type": "code",
   "execution_count": 22,
   "id": "0b071ce8",
   "metadata": {},
   "outputs": [
    {
     "data": {
      "text/plain": [
       "mappingproxy({'__module__': '__main__',\n",
       "              '__doc__': 'class show a circuit',\n",
       "              '__init__': <function __main__.RLC.__init__(self, R, L, C, frequency)>,\n",
       "              'R': <property at 0x1f9450921b0>,\n",
       "              'L': <property at 0x1f945092200>,\n",
       "              'C': <property at 0x1f945092250>,\n",
       "              'f': <property at 0x1f9450922a0>,\n",
       "              'impedence': <property at 0x1f945093330>,\n",
       "              'phase': <property at 0x1f945092070>,\n",
       "              'power_factor': <property at 0x1f9450922f0>,\n",
       "              'current': <function __main__.RLC.current(self, voltage)>,\n",
       "              '__repr__': <function __main__.RLC.__repr__(self)>,\n",
       "              '__str__': <function __main__.RLC.__str__(self)>,\n",
       "              '__dict__': <attribute '__dict__' of 'RLC' objects>,\n",
       "              '__weakref__': <attribute '__weakref__' of 'RLC' objects>})"
      ]
     },
     "execution_count": 22,
     "metadata": {},
     "output_type": "execute_result"
    }
   ],
   "source": [
    "RLC.__dict__"
   ]
  },
  {
   "cell_type": "code",
   "execution_count": 24,
   "id": "931d0c1c",
   "metadata": {},
   "outputs": [
    {
     "data": {
      "text/plain": [
       "mappingproxy({'__module__': '__main__',\n",
       "              '__doc__': 'class show a circuit',\n",
       "              '__init__': <function __main__.RLC.__init__(self, R, L, C, frequency)>,\n",
       "              'R': <property at 0x1f9450921b0>,\n",
       "              'L': <property at 0x1f945092200>,\n",
       "              'C': <property at 0x1f945092250>,\n",
       "              'f': <property at 0x1f9450922a0>,\n",
       "              'impedence': <property at 0x1f945093330>,\n",
       "              'phase': <property at 0x1f945092070>,\n",
       "              'power_factor': <property at 0x1f9450922f0>,\n",
       "              'current': <function __main__.RLC.current(self, voltage)>,\n",
       "              '__repr__': <function __main__.RLC.__repr__(self)>,\n",
       "              '__str__': <function __main__.RLC.__str__(self)>,\n",
       "              '__dict__': <attribute '__dict__' of 'RLC' objects>,\n",
       "              '__weakref__': <attribute '__weakref__' of 'RLC' objects>})"
      ]
     },
     "execution_count": 24,
     "metadata": {},
     "output_type": "execute_result"
    }
   ],
   "source": [
    "vars(RLC)"
   ]
  },
  {
   "cell_type": "code",
   "execution_count": 26,
   "id": "4a2d0abb",
   "metadata": {},
   "outputs": [
    {
     "data": {
      "text/plain": [
       "{'_R': 2, '_L': 3, '_C': 7, 'frequency': 5}"
      ]
     },
     "execution_count": 26,
     "metadata": {},
     "output_type": "execute_result"
    }
   ],
   "source": [
    "inst_1.__dict__"
   ]
  },
  {
   "cell_type": "code",
   "execution_count": 28,
   "id": "74805d98",
   "metadata": {},
   "outputs": [
    {
     "data": {
      "text/plain": [
       "{'_R': 6, '_L': 9, '_C': 8, 'frequency': 7}"
      ]
     },
     "execution_count": 28,
     "metadata": {},
     "output_type": "execute_result"
    }
   ],
   "source": [
    "inst_2.__dict__"
   ]
  },
  {
   "cell_type": "code",
   "execution_count": 30,
   "id": "f005a51d",
   "metadata": {},
   "outputs": [
    {
     "name": "stdout",
     "output_type": "stream",
     "text": [
      "Help on class RLC in module __main__:\n",
      "\n",
      "class RLC(builtins.object)\n",
      " |  RLC(R, L, C, frequency)\n",
      " |\n",
      " |  class show a circuit\n",
      " |\n",
      " |  Methods defined here:\n",
      " |\n",
      " |  __init__(self, R, L, C, frequency)\n",
      " |      init has 4 instances\n",
      " |\n",
      " |  __repr__(self)\n",
      " |      repr for programmer\n",
      " |\n",
      " |  __str__(self)\n",
      " |      str for coder\n",
      " |\n",
      " |  current(self, voltage)\n",
      " |      this is instance method\n",
      " |\n",
      " |  ----------------------------------------------------------------------\n",
      " |  Readonly properties defined here:\n",
      " |\n",
      " |  impedence\n",
      " |      impedence is property method\n",
      " |\n",
      " |  phase\n",
      " |      phase is property method\n",
      " |\n",
      " |  power_factor\n",
      " |      p.f is property method\n",
      " |\n",
      " |  ----------------------------------------------------------------------\n",
      " |  Data descriptors defined here:\n",
      " |\n",
      " |  C\n",
      " |\n",
      " |  L\n",
      " |\n",
      " |  R\n",
      " |\n",
      " |  __dict__\n",
      " |      dictionary for instance variables\n",
      " |\n",
      " |  __weakref__\n",
      " |      list of weak references to the object\n",
      " |\n",
      " |  f\n",
      "\n"
     ]
    }
   ],
   "source": [
    "help(RLC)"
   ]
  },
  {
   "cell_type": "code",
   "execution_count": 32,
   "id": "0159614b",
   "metadata": {},
   "outputs": [
    {
     "name": "stdout",
     "output_type": "stream",
     "text": [
      "class show a circuit\n"
     ]
    }
   ],
   "source": [
    "print(RLC.__doc__)"
   ]
  },
  {
   "cell_type": "code",
   "execution_count": 34,
   "id": "be51915b",
   "metadata": {},
   "outputs": [
    {
     "name": "stdout",
     "output_type": "stream",
     "text": [
      "init has 4 instances\n"
     ]
    }
   ],
   "source": [
    "print(RLC.__init__.__doc__)"
   ]
  },
  {
   "cell_type": "code",
   "execution_count": 36,
   "id": "78636729",
   "metadata": {},
   "outputs": [
    {
     "name": "stdout",
     "output_type": "stream",
     "text": [
      "None\n"
     ]
    }
   ],
   "source": [
    "print(RLC.R.__doc__)"
   ]
  },
  {
   "cell_type": "code",
   "execution_count": 38,
   "id": "3690cb97",
   "metadata": {},
   "outputs": [
    {
     "name": "stdout",
     "output_type": "stream",
     "text": [
      "None\n"
     ]
    }
   ],
   "source": [
    "print(RLC.L.__doc__)"
   ]
  },
  {
   "cell_type": "code",
   "execution_count": 40,
   "id": "2c007527",
   "metadata": {},
   "outputs": [
    {
     "name": "stdout",
     "output_type": "stream",
     "text": [
      "None\n"
     ]
    }
   ],
   "source": [
    "print(RLC.C.__doc__)"
   ]
  },
  {
   "cell_type": "code",
   "execution_count": 46,
   "id": "e717314b",
   "metadata": {},
   "outputs": [
    {
     "name": "stdout",
     "output_type": "stream",
     "text": [
      "None\n"
     ]
    }
   ],
   "source": [
    "print(RLC.f.__doc__)"
   ]
  },
  {
   "cell_type": "code",
   "execution_count": 48,
   "id": "24ebb39b",
   "metadata": {},
   "outputs": [
    {
     "name": "stdout",
     "output_type": "stream",
     "text": [
      "impedence is property method\n"
     ]
    }
   ],
   "source": [
    "print(RLC.impedence.__doc__)"
   ]
  },
  {
   "cell_type": "code",
   "execution_count": 50,
   "id": "513ee97c",
   "metadata": {},
   "outputs": [
    {
     "name": "stdout",
     "output_type": "stream",
     "text": [
      "phase is property method\n"
     ]
    }
   ],
   "source": [
    "print(RLC.phase.__doc__)"
   ]
  },
  {
   "cell_type": "code",
   "execution_count": 52,
   "id": "d2d10333",
   "metadata": {},
   "outputs": [
    {
     "name": "stdout",
     "output_type": "stream",
     "text": [
      "p.f is property method\n"
     ]
    }
   ],
   "source": [
    "print(RLC.power_factor.__doc__)"
   ]
  },
  {
   "cell_type": "code",
   "execution_count": 54,
   "id": "a3900fe8",
   "metadata": {},
   "outputs": [
    {
     "name": "stdout",
     "output_type": "stream",
     "text": [
      "repr for programmer\n"
     ]
    }
   ],
   "source": [
    "print(RLC.__repr__.__doc__)"
   ]
  },
  {
   "cell_type": "code",
   "execution_count": 56,
   "id": "7e08099b",
   "metadata": {},
   "outputs": [
    {
     "name": "stdout",
     "output_type": "stream",
     "text": [
      "str for coder\n"
     ]
    }
   ],
   "source": [
    "print(RLC.__str__.__doc__)"
   ]
  },
  {
   "cell_type": "code",
   "execution_count": 58,
   "id": "e663bf7e",
   "metadata": {},
   "outputs": [],
   "source": [
    "class RLC:\n",
    "    \"\"\"class show a circuit\"\"\"\n",
    "    def __init__(self,R=0,L=0,C=0,frequency=0):\n",
    "        \"\"\"init has 4 instances\"\"\"        \n",
    "        self.R=R\n",
    "        self.L=L\n",
    "        self.C=C\n",
    "        self.frequency=frequency"
   ]
  },
  {
   "cell_type": "code",
   "execution_count": 60,
   "id": "338cf43d",
   "metadata": {},
   "outputs": [],
   "source": [
    "y=RLC()"
   ]
  },
  {
   "cell_type": "code",
   "execution_count": null,
   "id": "b7e6e0de",
   "metadata": {},
   "outputs": [],
   "source": []
  },
  {
   "cell_type": "code",
   "execution_count": null,
   "id": "e1e90fba-4158-427d-acb6-594644c25751",
   "metadata": {},
   "outputs": [],
   "source": []
  }
 ],
 "metadata": {
  "kernelspec": {
   "display_name": "Python 3 (ipykernel)",
   "language": "python",
   "name": "python3"
  },
  "language_info": {
   "codemirror_mode": {
    "name": "ipython",
    "version": 3
   },
   "file_extension": ".py",
   "mimetype": "text/x-python",
   "name": "python",
   "nbconvert_exporter": "python",
   "pygments_lexer": "ipython3",
   "version": "3.12.7"
  }
 },
 "nbformat": 4,
 "nbformat_minor": 5
}
