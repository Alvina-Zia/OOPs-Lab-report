{
 "cells": [
  {
   "cell_type": "markdown",
   "id": "f5148c9b-1a5a-4061-b45c-e12254a1f0a3",
   "metadata": {},
   "source": [
    "<h2 align=\"center\"><b><i><u>Name: Alvina Zia</u></i></b></h2 align=\"center\">\n",
    "<h2 align=\"center\"><b><i><u>Reg no: 23jzele0504</u></i></b></h2 align=\"center\">\n",
    "<h2 align=\"center\"><b><i><u>Semester: 3rd(section A)</u></i></b></h2 align=\"center\">\n",
    "<h2 align=\"center\"><b><i><u>Subject: OOPs & Data Structure</u></i></b></h2 align=\"center\">\n",
    "<h2 align=\"center\"><b><i><u>practice basic data type</u></i></b></h2 align=\"center\">\n",
    "<h2 align=\"center\"><b><i><u>Submitted to: Sir Irshad-ullah</u></i></b></h2 align=\"center\">"
   ]
  },
  {
   "cell_type": "markdown",
   "id": "9ca2ff28-768d-4a4a-89cc-3a39898c12d6",
   "metadata": {},
   "source": [
    "# integers:"
   ]
  },
  {
   "cell_type": "code",
   "execution_count": 72,
   "id": "bdad8aad-44a4-433c-a821-3ec643e34808",
   "metadata": {},
   "outputs": [
    {
     "data": {
      "text/plain": [
       "53"
      ]
     },
     "execution_count": 72,
     "metadata": {},
     "output_type": "execute_result"
    }
   ],
   "source": [
    "53"
   ]
  },
  {
   "cell_type": "code",
   "execution_count": 74,
   "id": "b1ade7e1-f16a-44e8-ad60-167277633bb0",
   "metadata": {},
   "outputs": [
    {
     "data": {
      "text/plain": [
       "-53"
      ]
     },
     "execution_count": 74,
     "metadata": {},
     "output_type": "execute_result"
    }
   ],
   "source": [
    "-53"
   ]
  },
  {
   "cell_type": "code",
   "execution_count": 76,
   "id": "86e8cc1c-713a-4665-afa8-a8ec01d796d6",
   "metadata": {},
   "outputs": [
    {
     "data": {
      "text/plain": [
       "'53'"
      ]
     },
     "execution_count": 76,
     "metadata": {},
     "output_type": "execute_result"
    }
   ],
   "source": [
    "\"53\""
   ]
  },
  {
   "cell_type": "code",
   "execution_count": 78,
   "id": "c5c4fec8-dfd8-4af8-b177-a483e61cf937",
   "metadata": {},
   "outputs": [
    {
     "data": {
      "text/plain": [
       "int"
      ]
     },
     "execution_count": 78,
     "metadata": {},
     "output_type": "execute_result"
    }
   ],
   "source": [
    "type(53)"
   ]
  },
  {
   "cell_type": "code",
   "execution_count": 80,
   "id": "e361dfd3-5bd6-48f5-9d30-08c3827dabf8",
   "metadata": {},
   "outputs": [
    {
     "data": {
      "text/plain": [
       "(53, 1)"
      ]
     },
     "execution_count": 80,
     "metadata": {},
     "output_type": "execute_result"
    }
   ],
   "source": [
    "(53).as_integer_ratio()"
   ]
  },
  {
   "cell_type": "code",
   "execution_count": 82,
   "id": "14fa3dff-3202-4140-9915-b589ae21792e",
   "metadata": {},
   "outputs": [
    {
     "data": {
      "text/plain": [
       "True"
      ]
     },
     "execution_count": 82,
     "metadata": {},
     "output_type": "execute_result"
    }
   ],
   "source": [
    "(53).is_integer()"
   ]
  },
  {
   "cell_type": "code",
   "execution_count": 84,
   "id": "00519140-1387-4602-b923-36b4b6dd64f2",
   "metadata": {},
   "outputs": [
    {
     "data": {
      "text/plain": [
       "4"
      ]
     },
     "execution_count": 84,
     "metadata": {},
     "output_type": "execute_result"
    }
   ],
   "source": [
    "(53).bit_count()"
   ]
  },
  {
   "cell_type": "code",
   "execution_count": 86,
   "id": "5ca8f87e-8b4e-4fda-925e-d54f8f222b13",
   "metadata": {},
   "outputs": [
    {
     "data": {
      "text/plain": [
       "6"
      ]
     },
     "execution_count": 86,
     "metadata": {},
     "output_type": "execute_result"
    }
   ],
   "source": [
    "(53).bit_length()"
   ]
  },
  {
   "cell_type": "code",
   "execution_count": 88,
   "id": "c4cc77d3-e8dd-4c2a-b562-d6faf23f6415",
   "metadata": {},
   "outputs": [
    {
     "data": {
      "text/plain": [
       "b'5'"
      ]
     },
     "execution_count": 88,
     "metadata": {},
     "output_type": "execute_result"
    }
   ],
   "source": [
    "(53).to_bytes()"
   ]
  },
  {
   "cell_type": "code",
   "execution_count": 90,
   "id": "a8c13e24-8753-42e2-945e-a930d90f6695",
   "metadata": {},
   "outputs": [
    {
     "data": {
      "text/plain": [
       "3"
      ]
     },
     "execution_count": 90,
     "metadata": {},
     "output_type": "execute_result"
    }
   ],
   "source": [
    "0b11"
   ]
  },
  {
   "cell_type": "code",
   "execution_count": 92,
   "id": "6f81d001-1f89-469d-a7e8-55825e431996",
   "metadata": {},
   "outputs": [
    {
     "data": {
      "text/plain": [
       "5"
      ]
     },
     "execution_count": 92,
     "metadata": {},
     "output_type": "execute_result"
    }
   ],
   "source": [
    "0b101"
   ]
  },
  {
   "cell_type": "code",
   "execution_count": 94,
   "id": "7cc2afbc-e86e-48a2-b619-f4b5aa3caff9",
   "metadata": {},
   "outputs": [
    {
     "data": {
      "text/plain": [
       "37"
      ]
     },
     "execution_count": 94,
     "metadata": {},
     "output_type": "execute_result"
    }
   ],
   "source": [
    "0o45"
   ]
  },
  {
   "cell_type": "code",
   "execution_count": 96,
   "id": "c1305af0-8019-4a5d-9887-2c255f97d275",
   "metadata": {},
   "outputs": [
    {
     "data": {
      "text/plain": [
       "19"
      ]
     },
     "execution_count": 96,
     "metadata": {},
     "output_type": "execute_result"
    }
   ],
   "source": [
    "0o23"
   ]
  },
  {
   "cell_type": "code",
   "execution_count": 98,
   "id": "e9755b64-918a-4310-87d4-247628dbac89",
   "metadata": {},
   "outputs": [
    {
     "data": {
      "text/plain": [
       "69"
      ]
     },
     "execution_count": 98,
     "metadata": {},
     "output_type": "execute_result"
    }
   ],
   "source": [
    "0x45"
   ]
  },
  {
   "cell_type": "code",
   "execution_count": 100,
   "id": "b9a47e2b-7a19-4133-babb-b3c6365fa00f",
   "metadata": {},
   "outputs": [
    {
     "data": {
      "text/plain": [
       "35"
      ]
     },
     "execution_count": 100,
     "metadata": {},
     "output_type": "execute_result"
    }
   ],
   "source": [
    "0x23"
   ]
  },
  {
   "cell_type": "markdown",
   "id": "651f34cd-6f29-436c-9247-a76f7ebf5ac4",
   "metadata": {},
   "source": [
    "# floating point:"
   ]
  },
  {
   "cell_type": "code",
   "execution_count": 104,
   "id": "456d3a1a-0a26-4947-b60e-fe3997e2bfca",
   "metadata": {},
   "outputs": [
    {
     "data": {
      "text/plain": [
       "8.9"
      ]
     },
     "execution_count": 104,
     "metadata": {},
     "output_type": "execute_result"
    }
   ],
   "source": [
    "8.9"
   ]
  },
  {
   "cell_type": "code",
   "execution_count": 107,
   "id": "261620ff-c8fb-4ce0-b71b-012177bdbf28",
   "metadata": {},
   "outputs": [
    {
     "data": {
      "text/plain": [
       "-8.9"
      ]
     },
     "execution_count": 107,
     "metadata": {},
     "output_type": "execute_result"
    }
   ],
   "source": [
    "-8.9"
   ]
  },
  {
   "cell_type": "code",
   "execution_count": 109,
   "id": "3a390472-5814-4ae2-8911-a435ce82f2b0",
   "metadata": {},
   "outputs": [
    {
     "data": {
      "text/plain": [
       "'8.9'"
      ]
     },
     "execution_count": 109,
     "metadata": {},
     "output_type": "execute_result"
    }
   ],
   "source": [
    "\"8.9\""
   ]
  },
  {
   "cell_type": "code",
   "execution_count": 111,
   "id": "4f3128b9-7f89-4c7d-9d95-b7b66e3b51f8",
   "metadata": {},
   "outputs": [
    {
     "data": {
      "text/plain": [
       "float"
      ]
     },
     "execution_count": 111,
     "metadata": {},
     "output_type": "execute_result"
    }
   ],
   "source": [
    "type(8.9)"
   ]
  },
  {
   "cell_type": "code",
   "execution_count": 113,
   "id": "3d94f088-9b5d-4c43-b1c7-0422705f2fd7",
   "metadata": {},
   "outputs": [
    {
     "data": {
      "text/plain": [
       "(7656119366529843, 2251799813685248)"
      ]
     },
     "execution_count": 113,
     "metadata": {},
     "output_type": "execute_result"
    }
   ],
   "source": [
    "(3.4).as_integer_ratio()"
   ]
  },
  {
   "cell_type": "code",
   "execution_count": 115,
   "id": "0a150922-567f-4e65-a425-b73ff12cb426",
   "metadata": {},
   "outputs": [
    {
     "data": {
      "text/plain": [
       "False"
      ]
     },
     "execution_count": 115,
     "metadata": {},
     "output_type": "execute_result"
    }
   ],
   "source": [
    "(3.4).is_integer()"
   ]
  },
  {
   "cell_type": "code",
   "execution_count": 117,
   "id": "7c21764f-97cc-41e0-9c82-466d7ef6e730",
   "metadata": {},
   "outputs": [
    {
     "data": {
      "text/plain": [
       "'0x1.b333333333333p+1'"
      ]
     },
     "execution_count": 117,
     "metadata": {},
     "output_type": "execute_result"
    }
   ],
   "source": [
    "(3.4).hex()"
   ]
  },
  {
   "cell_type": "code",
   "execution_count": 121,
   "id": "bdd1d436-3325-441c-9655-aa4f5689c868",
   "metadata": {},
   "outputs": [
    {
     "data": {
      "text/plain": [
       "3.4"
      ]
     },
     "execution_count": 121,
     "metadata": {},
     "output_type": "execute_result"
    }
   ],
   "source": [
    "float.fromhex(\"0x1.b333333333333p+1\")"
   ]
  },
  {
   "cell_type": "markdown",
   "id": "dbe85fe2-8ef7-457c-b230-29ba7449477b",
   "metadata": {},
   "source": [
    "# built in function:"
   ]
  },
  {
   "cell_type": "code",
   "execution_count": 124,
   "id": "c4fcb54a-f05c-481a-809d-39c2e11a496f",
   "metadata": {},
   "outputs": [
    {
     "data": {
      "text/plain": [
       "0.0"
      ]
     },
     "execution_count": 124,
     "metadata": {},
     "output_type": "execute_result"
    }
   ],
   "source": [
    "float()"
   ]
  },
  {
   "cell_type": "code",
   "execution_count": 126,
   "id": "cd7dad36-bce0-4ba3-b8e6-92dd87ef10cd",
   "metadata": {},
   "outputs": [
    {
     "data": {
      "text/plain": [
       "32.0"
      ]
     },
     "execution_count": 126,
     "metadata": {},
     "output_type": "execute_result"
    }
   ],
   "source": [
    "float(32)"
   ]
  },
  {
   "cell_type": "code",
   "execution_count": 128,
   "id": "08f50360-c343-4000-9ad2-342834d14f4c",
   "metadata": {},
   "outputs": [
    {
     "data": {
      "text/plain": [
       "32.0"
      ]
     },
     "execution_count": 128,
     "metadata": {},
     "output_type": "execute_result"
    }
   ],
   "source": [
    "float(\"32\")"
   ]
  },
  {
   "cell_type": "code",
   "execution_count": 130,
   "id": "0521b709-1e12-4e34-b76c-d3a30e06c146",
   "metadata": {},
   "outputs": [
    {
     "ename": "ValueError",
     "evalue": "could not convert string to float: 'one'",
     "output_type": "error",
     "traceback": [
      "\u001b[1;31m---------------------------------------------------------------------------\u001b[0m",
      "\u001b[1;31mValueError\u001b[0m                                Traceback (most recent call last)",
      "Cell \u001b[1;32mIn[130], line 1\u001b[0m\n\u001b[1;32m----> 1\u001b[0m \u001b[38;5;28mfloat\u001b[39m(\u001b[38;5;124m\"\u001b[39m\u001b[38;5;124mone\u001b[39m\u001b[38;5;124m\"\u001b[39m)\n",
      "\u001b[1;31mValueError\u001b[0m: could not convert string to float: 'one'"
     ]
    }
   ],
   "source": [
    "float(\"one\")"
   ]
  },
  {
   "cell_type": "markdown",
   "id": "49711905-3d54-4391-b91e-f960dd69614b",
   "metadata": {},
   "source": [
    "# complex no:"
   ]
  },
  {
   "cell_type": "code",
   "execution_count": 133,
   "id": "638fdb93-7ecc-4c58-a419-f24b1c802b82",
   "metadata": {},
   "outputs": [
    {
     "data": {
      "text/plain": [
       "(3+2j)"
      ]
     },
     "execution_count": 133,
     "metadata": {},
     "output_type": "execute_result"
    }
   ],
   "source": [
    "3+2j"
   ]
  },
  {
   "cell_type": "code",
   "execution_count": 135,
   "id": "7d1c6484-0fcb-41ba-8ab1-c13705486986",
   "metadata": {},
   "outputs": [
    {
     "data": {
      "text/plain": [
       "complex"
      ]
     },
     "execution_count": 135,
     "metadata": {},
     "output_type": "execute_result"
    }
   ],
   "source": [
    "type(3+2j)"
   ]
  },
  {
   "cell_type": "code",
   "execution_count": 141,
   "id": "ff73025a-adcd-4e19-afe2-5cee0e4059da",
   "metadata": {},
   "outputs": [
    {
     "data": {
      "text/plain": [
       "(2+1j)"
      ]
     },
     "execution_count": 141,
     "metadata": {},
     "output_type": "execute_result"
    }
   ],
   "source": [
    "2+1j # j must have a no"
   ]
  },
  {
   "cell_type": "code",
   "execution_count": 143,
   "id": "4d565b8c-f21f-4fef-9865-f3a084c1765e",
   "metadata": {},
   "outputs": [
    {
     "ename": "NameError",
     "evalue": "name 'j' is not defined",
     "output_type": "error",
     "traceback": [
      "\u001b[1;31m---------------------------------------------------------------------------\u001b[0m",
      "\u001b[1;31mNameError\u001b[0m                                 Traceback (most recent call last)",
      "Cell \u001b[1;32mIn[143], line 1\u001b[0m\n\u001b[1;32m----> 1\u001b[0m \u001b[38;5;241m2\u001b[39m\u001b[38;5;241m+\u001b[39mj\n",
      "\u001b[1;31mNameError\u001b[0m: name 'j' is not defined"
     ]
    }
   ],
   "source": [
    "2+j"
   ]
  },
  {
   "cell_type": "code",
   "execution_count": 145,
   "id": "59666275-8e4b-4a77-83bd-602102ab13a7",
   "metadata": {},
   "outputs": [
    {
     "data": {
      "text/plain": [
       "(2-3j)"
      ]
     },
     "execution_count": 145,
     "metadata": {},
     "output_type": "execute_result"
    }
   ],
   "source": [
    "n=2+3j\n",
    "n.conjugate()"
   ]
  },
  {
   "cell_type": "code",
   "execution_count": 147,
   "id": "10fc5fb7-7797-4d5a-b6f1-b44e8528fd1d",
   "metadata": {},
   "outputs": [
    {
     "data": {
      "text/plain": [
       "0j"
      ]
     },
     "execution_count": 147,
     "metadata": {},
     "output_type": "execute_result"
    }
   ],
   "source": [
    "complex()"
   ]
  },
  {
   "cell_type": "code",
   "execution_count": 149,
   "id": "05951cde-56bb-4c25-803a-cc89f12f5532",
   "metadata": {},
   "outputs": [
    {
     "data": {
      "text/plain": [
       "(2+4j)"
      ]
     },
     "execution_count": 149,
     "metadata": {},
     "output_type": "execute_result"
    }
   ],
   "source": [
    "complex(2,4)"
   ]
  },
  {
   "cell_type": "code",
   "execution_count": 151,
   "id": "a458e079-7fbf-4be0-abff-0e9b555f4d9d",
   "metadata": {},
   "outputs": [
    {
     "data": {
      "text/plain": [
       "(2+0j)"
      ]
     },
     "execution_count": 151,
     "metadata": {},
     "output_type": "execute_result"
    }
   ],
   "source": [
    "complex(2)"
   ]
  },
  {
   "cell_type": "code",
   "execution_count": 153,
   "id": "22c233f7-a820-4ef2-a600-26b9a0e8f5a2",
   "metadata": {},
   "outputs": [
    {
     "data": {
      "text/plain": [
       "(2+3j)"
      ]
     },
     "execution_count": 153,
     "metadata": {},
     "output_type": "execute_result"
    }
   ],
   "source": [
    "complex(\"2+3j\")"
   ]
  },
  {
   "cell_type": "markdown",
   "id": "1e2b2ff0-1af1-4e5a-b259-63d3e23369de",
   "metadata": {},
   "source": [
    "# string and character:"
   ]
  },
  {
   "cell_type": "code",
   "execution_count": 156,
   "id": "1853adfb-1bde-493a-b976-95d7ea32bbd6",
   "metadata": {},
   "outputs": [
    {
     "data": {
      "text/plain": [
       "str"
      ]
     },
     "execution_count": 156,
     "metadata": {},
     "output_type": "execute_result"
    }
   ],
   "source": [
    "type(\"hello world\")"
   ]
  },
  {
   "cell_type": "code",
   "execution_count": 162,
   "id": "3b0fccfd-9aff-4e9d-b3ca-bdf26ffed759",
   "metadata": {},
   "outputs": [
    {
     "data": {
      "text/plain": [
       "'hello world'"
      ]
     },
     "execution_count": 162,
     "metadata": {},
     "output_type": "execute_result"
    }
   ],
   "source": [
    "\"hello world\""
   ]
  },
  {
   "cell_type": "code",
   "execution_count": 164,
   "id": "2adf8c37-7977-4807-b2ae-81bc07354ff5",
   "metadata": {},
   "outputs": [
    {
     "name": "stdout",
     "output_type": "stream",
     "text": [
      "i am alvina\n"
     ]
    }
   ],
   "source": [
    "print(\"i am alvina\")"
   ]
  },
  {
   "cell_type": "code",
   "execution_count": 166,
   "id": "d645175c-7848-478c-8ce8-99c5e0abdd79",
   "metadata": {},
   "outputs": [
    {
     "name": "stdout",
     "output_type": "stream",
     "text": [
      "i am alvin\n"
     ]
    }
   ],
   "source": [
    "print('i am alvin')"
   ]
  },
  {
   "cell_type": "code",
   "execution_count": 170,
   "id": "7a08572d-546e-4c7d-968e-86c4645d2c0f",
   "metadata": {},
   "outputs": [
    {
     "data": {
      "text/plain": [
       "0"
      ]
     },
     "execution_count": 170,
     "metadata": {},
     "output_type": "execute_result"
    }
   ],
   "source": [
    "len(\"\")"
   ]
  },
  {
   "cell_type": "code",
   "execution_count": 172,
   "id": "e07565ac-b4e9-4dd4-8550-34f7cccb15fb",
   "metadata": {},
   "outputs": [
    {
     "data": {
      "text/plain": [
       "2"
      ]
     },
     "execution_count": 172,
     "metadata": {},
     "output_type": "execute_result"
    }
   ],
   "source": [
    "len(\"90\")"
   ]
  },
  {
   "cell_type": "code",
   "execution_count": 176,
   "id": "ede0622c-4131-49ca-9e95-5ea40b88317a",
   "metadata": {},
   "outputs": [
    {
     "data": {
      "text/plain": [
       "1"
      ]
     },
     "execution_count": 176,
     "metadata": {},
     "output_type": "execute_result"
    }
   ],
   "source": [
    "len(\"9\")"
   ]
  },
  {
   "cell_type": "code",
   "execution_count": 178,
   "id": "1e566416-eb5c-49cc-9733-8bcffec2bb4b",
   "metadata": {},
   "outputs": [
    {
     "data": {
      "text/plain": [
       "'A triple-quoted string in a single line'"
      ]
     },
     "execution_count": 178,
     "metadata": {},
     "output_type": "execute_result"
    }
   ],
   "source": [
    "\"\"\"A triple-quoted string in a single line\"\"\""
   ]
  },
  {
   "cell_type": "code",
   "execution_count": 180,
   "id": "894cb963-7be2-45b3-aacf-956a12936187",
   "metadata": {},
   "outputs": [
    {
     "data": {
      "text/plain": [
       "'A triple-quoted string in a single line'"
      ]
     },
     "execution_count": 180,
     "metadata": {},
     "output_type": "execute_result"
    }
   ],
   "source": [
    "'A triple-quoted string in a single line'"
   ]
  },
  {
   "cell_type": "code",
   "execution_count": 182,
   "id": "a9477e55-3327-40f9-83ba-2a6e76f329cd",
   "metadata": {},
   "outputs": [
    {
     "data": {
      "text/plain": [
       "'A triple-quoted string\\nthat spans across multiple\\nlines'"
      ]
     },
     "execution_count": 182,
     "metadata": {},
     "output_type": "execute_result"
    }
   ],
   "source": [
    "\"\"\"A triple-quoted string\n",
    "... that spans across multiple\n",
    "... lines\"\"\""
   ]
  },
  {
   "cell_type": "code",
   "execution_count": 184,
   "id": "3f2fdef7-72a6-4fd6-9d19-b67de5492554",
   "metadata": {},
   "outputs": [
    {
     "ename": "SyntaxError",
     "evalue": "unmatched ')' (3510640641.py, line 1)",
     "output_type": "error",
     "traceback": [
      "\u001b[1;36m  Cell \u001b[1;32mIn[184], line 1\u001b[1;36m\u001b[0m\n\u001b[1;33m    'This string contains a single quote (') character'\u001b[0m\n\u001b[1;37m                                           ^\u001b[0m\n\u001b[1;31mSyntaxError\u001b[0m\u001b[1;31m:\u001b[0m unmatched ')'\n"
     ]
    }
   ],
   "source": [
    "'This string contains a single quote (') character'"
   ]
  },
  {
   "cell_type": "code",
   "execution_count": 196,
   "id": "b4d14acc-794a-4747-ab09-ffa8988108d6",
   "metadata": {},
   "outputs": [
    {
     "data": {
      "text/plain": [
       "\"This string contains a single quote (') character\""
      ]
     },
     "execution_count": 196,
     "metadata": {},
     "output_type": "execute_result"
    }
   ],
   "source": [
    "\"This string contains a single quote (') character\""
   ]
  },
  {
   "cell_type": "code",
   "execution_count": 198,
   "id": "308737c1-35b6-4a6e-ade7-807af8e388d7",
   "metadata": {},
   "outputs": [
    {
     "data": {
      "text/plain": [
       "'This string contains a double quote (\") character'"
      ]
     },
     "execution_count": 198,
     "metadata": {},
     "output_type": "execute_result"
    }
   ],
   "source": [
    " 'This string contains a double quote (\") character'"
   ]
  },
  {
   "cell_type": "code",
   "execution_count": 200,
   "id": "4aba450f-3571-4809-b1ee-40d8ec9af9af",
   "metadata": {},
   "outputs": [
    {
     "data": {
      "text/plain": [
       "\"This string contains a single quote (') character\""
      ]
     },
     "execution_count": 200,
     "metadata": {},
     "output_type": "execute_result"
    }
   ],
   "source": [
    " 'This string contains a single quote (\\') character'"
   ]
  },
  {
   "cell_type": "code",
   "execution_count": 208,
   "id": "3a91a92f-9ba9-4401-bb84-49b6431bf7d5",
   "metadata": {},
   "outputs": [
    {
     "data": {
      "text/plain": [
       "'hii alvin!'"
      ]
     },
     "execution_count": 208,
     "metadata": {},
     "output_type": "execute_result"
    }
   ],
   "source": [
    "\"hii\\\n",
    " alvin\\\n",
    "!\""
   ]
  },
  {
   "cell_type": "code",
   "execution_count": 5,
   "id": "64051062-7bdb-4e7b-8fa5-de4f8f60ca60",
   "metadata": {},
   "outputs": [
    {
     "name": "stderr",
     "output_type": "stream",
     "text": [
      "<>:1: SyntaxWarning: invalid escape sequence '\\)'\n",
      "<>:1: SyntaxWarning: invalid escape sequence '\\)'\n",
      "C:\\Users\\DELL\\AppData\\Local\\Temp\\ipykernel_7904\\3965426804.py:1: SyntaxWarning: invalid escape sequence '\\)'\n",
      "  \"This string contains a backslash (\\) character\"\n"
     ]
    },
    {
     "data": {
      "text/plain": [
       "'This string contains a backslash (\\\\) character'"
      ]
     },
     "execution_count": 5,
     "metadata": {},
     "output_type": "execute_result"
    }
   ],
   "source": [
    " \"This string contains a backslash (\\) character\""
   ]
  },
  {
   "cell_type": "code",
   "execution_count": 3,
   "id": "6d92dbff-fc44-481e-b1b2-9627d0f954d9",
   "metadata": {},
   "outputs": [
    {
     "ename": "SyntaxError",
     "evalue": "unterminated string literal (detected at line 1) (3108796934.py, line 1)",
     "output_type": "error",
     "traceback": [
      "\u001b[1;36m  Cell \u001b[1;32mIn[3], line 1\u001b[1;36m\u001b[0m\n\u001b[1;33m    \"In this string, the backslash should be at the end \\\"\u001b[0m\n\u001b[1;37m    ^\u001b[0m\n\u001b[1;31mSyntaxError\u001b[0m\u001b[1;31m:\u001b[0m unterminated string literal (detected at line 1)\n"
     ]
    }
   ],
   "source": [
    " \"In this string, the backslash should be at the end \\\""
   ]
  },
  {
   "cell_type": "code",
   "execution_count": 7,
   "id": "c5b535b8-0fea-4738-b803-0e37abb44fb3",
   "metadata": {},
   "outputs": [
    {
     "data": {
      "text/plain": [
       "'In this string, the backslash should be at the end \\\\'"
      ]
     },
     "execution_count": 7,
     "metadata": {},
     "output_type": "execute_result"
    }
   ],
   "source": [
    " \"In this string, the backslash should be at the end \\\\\""
   ]
  },
  {
   "cell_type": "code",
   "execution_count": 9,
   "id": "cd5faebf-f0a3-4eb0-ac4a-c54ab585dbb3",
   "metadata": {},
   "outputs": [
    {
     "name": "stdout",
     "output_type": "stream",
     "text": [
      "In this string, the backslash should be at the end \\\n"
     ]
    }
   ],
   "source": [
    " print(\"In this string, the backslash should be at the end \\\\\")"
   ]
  },
  {
   "cell_type": "code",
   "execution_count": 11,
   "id": "af01d0e8-a02c-4585-998e-12007570f0b3",
   "metadata": {},
   "outputs": [
    {
     "name": "stdout",
     "output_type": "stream",
     "text": [
      "Before\tAfter\n"
     ]
    }
   ],
   "source": [
    " print(\"Before\\tAfter\")"
   ]
  },
  {
   "cell_type": "code",
   "execution_count": 13,
   "id": "3f66195a-0dd9-4df3-a37b-3ebaf0f94998",
   "metadata": {},
   "outputs": [
    {
     "name": "stdout",
     "output_type": "stream",
     "text": [
      "a\tb\n"
     ]
    }
   ],
   "source": [
    " print(\"a\\tb\")"
   ]
  },
  {
   "cell_type": "code",
   "execution_count": 15,
   "id": "bd24a785-e5ea-48fa-86d4-9643e8272b52",
   "metadata": {},
   "outputs": [
    {
     "name": "stdout",
     "output_type": "stream",
     "text": [
      "a\n",
      "b\n"
     ]
    }
   ],
   "source": [
    "print(\"a\\nb\")"
   ]
  },
  {
   "cell_type": "code",
   "execution_count": 17,
   "id": "523c2878-5171-4552-8366-5bac4f575bc7",
   "metadata": {},
   "outputs": [
    {
     "name": "stdout",
     "output_type": "stream",
     "text": [
      "a\n"
     ]
    }
   ],
   "source": [
    " print(\"\\141\")\n"
   ]
  },
  {
   "cell_type": "code",
   "execution_count": 19,
   "id": "65d80e02-a68e-4f8e-a821-89d5bf9095af",
   "metadata": {},
   "outputs": [
    {
     "name": "stdout",
     "output_type": "stream",
     "text": [
      "a\n"
     ]
    }
   ],
   "source": [
    "print(\"\\x61\")\n"
   ]
  },
  {
   "cell_type": "code",
   "execution_count": 21,
   "id": "df0580b8-df8e-4dc8-90d1-d9f9da0f8094",
   "metadata": {},
   "outputs": [
    {
     "name": "stdout",
     "output_type": "stream",
     "text": [
      "→\n"
     ]
    }
   ],
   "source": [
    " print(\"\\N{rightwards arrow}\")"
   ]
  },
  {
   "cell_type": "markdown",
   "id": "28ea5050-3e88-49e3-a0e0-ffca328a2d32",
   "metadata": {},
   "source": [
    "# raw string literals:"
   ]
  },
  {
   "cell_type": "code",
   "execution_count": 24,
   "id": "a9d226d8-4981-4709-a614-08e108ffb81a",
   "metadata": {},
   "outputs": [
    {
     "name": "stdout",
     "output_type": "stream",
     "text": [
      "Before\tAfter\n"
     ]
    }
   ],
   "source": [
    " print(\"Before\\tAfter\") # Regular string\n"
   ]
  },
  {
   "cell_type": "code",
   "execution_count": 26,
   "id": "7cf29d75-37ba-4c3a-9e6f-5566f44033ca",
   "metadata": {},
   "outputs": [
    {
     "name": "stdout",
     "output_type": "stream",
     "text": [
      "Before\\tAfter\n"
     ]
    }
   ],
   "source": [
    " print(r\"Before\\tAfter\") # Raw string"
   ]
  },
  {
   "cell_type": "markdown",
   "id": "c18bdda8-5ba4-4dd1-85e4-e96e60f67698",
   "metadata": {},
   "source": [
    "# F-String Literals:"
   ]
  },
  {
   "cell_type": "code",
   "execution_count": 29,
   "id": "dcf633c1-a99b-4ec9-a095-0dfae3acff10",
   "metadata": {},
   "outputs": [],
   "source": [
    " name = \"Jane\"\n"
   ]
  },
  {
   "cell_type": "code",
   "execution_count": 31,
   "id": "88c02ccb-652b-4c7a-99c8-66bfac679393",
   "metadata": {},
   "outputs": [
    {
     "data": {
      "text/plain": [
       "'Hello, Jane!'"
      ]
     },
     "execution_count": 31,
     "metadata": {},
     "output_type": "execute_result"
    }
   ],
   "source": [
    " f\"Hello, {name}!\""
   ]
  },
  {
   "cell_type": "code",
   "execution_count": 33,
   "id": "920257ab-7701-4656-996e-620acf30a078",
   "metadata": {},
   "outputs": [],
   "source": [
    " income = 1234.1234"
   ]
  },
  {
   "cell_type": "code",
   "execution_count": 35,
   "id": "37258e55-913c-49d6-bd16-22d003f2702e",
   "metadata": {},
   "outputs": [
    {
     "data": {
      "text/plain": [
       "'Income: $1234.12'"
      ]
     },
     "execution_count": 35,
     "metadata": {},
     "output_type": "execute_result"
    }
   ],
   "source": [
    " f\"Income: ${income:.2f}\""
   ]
  },
  {
   "cell_type": "markdown",
   "id": "62eeacbe-5f3a-43e0-a9f8-948b3a8e41c9",
   "metadata": {},
   "source": [
    "# string methods:"
   ]
  },
  {
   "cell_type": "code",
   "execution_count": 40,
   "id": "07e4d7d4-b0c8-4c69-af87-c319ca17dc63",
   "metadata": {},
   "outputs": [
    {
     "data": {
      "text/plain": [
       "'Beautiful is better than ugly'"
      ]
     },
     "execution_count": 40,
     "metadata": {},
     "output_type": "execute_result"
    }
   ],
   "source": [
    " \"beautiful is better than ugly\".capitalize()"
   ]
  },
  {
   "cell_type": "code",
   "execution_count": 42,
   "id": "a98beef7-32d5-4ed6-b565-87eb12b22f88",
   "metadata": {},
   "outputs": [
    {
     "data": {
      "text/plain": [
       "'Hello, Jane!'"
      ]
     },
     "execution_count": 42,
     "metadata": {},
     "output_type": "execute_result"
    }
   ],
   "source": [
    " name = \"Jane\"\n",
    ">>> \"Hello, {0}!\".format(name)"
   ]
  },
  {
   "cell_type": "code",
   "execution_count": 44,
   "id": "52b3cd2e-8a35-4bdc-bf0a-9b90654a6c38",
   "metadata": {},
   "outputs": [
    {
     "data": {
      "text/plain": [
       "'Now is better than never'"
      ]
     },
     "execution_count": 44,
     "metadata": {},
     "output_type": "execute_result"
    }
   ],
   "source": [
    " \" \".join([\"Now\", \"is\", \"better\", \"than\", \"never\"])"
   ]
  },
  {
   "cell_type": "code",
   "execution_count": 46,
   "id": "1598f16e-6bba-4b06-b68d-996b3cfa91a4",
   "metadata": {},
   "outputs": [
    {
     "data": {
      "text/plain": [
       "'Header'"
      ]
     },
     "execution_count": 46,
     "metadata": {},
     "output_type": "execute_result"
    }
   ],
   "source": [
    " \"====Header====\".strip(\"=\")\n"
   ]
  },
  {
   "cell_type": "code",
   "execution_count": 48,
   "id": "c4898c1a-4bd4-41d4-8e17-55bf773ce5ee",
   "metadata": {},
   "outputs": [
    {
     "data": {
      "text/plain": [
       "'Tail---'"
      ]
     },
     "execution_count": 48,
     "metadata": {},
     "output_type": "execute_result"
    }
   ],
   "source": [
    "\"---Tail---\".removeprefix(\"---\")"
   ]
  },
  {
   "cell_type": "code",
   "execution_count": 50,
   "id": "a7261937-a1c3-4914-871f-636a70e5a3c3",
   "metadata": {},
   "outputs": [
    {
     "data": {
      "text/plain": [
       "'---Head'"
      ]
     },
     "execution_count": 50,
     "metadata": {},
     "output_type": "execute_result"
    }
   ],
   "source": [
    " \"---Head---\".removesuffix(\"---\")\n"
   ]
  },
  {
   "cell_type": "code",
   "execution_count": 52,
   "id": "262c053e-7b22-4342-b394-403d66e6c550",
   "metadata": {},
   "outputs": [
    {
     "data": {
      "text/plain": [
       "'Explicit Is Better Than Implicit'"
      ]
     },
     "execution_count": 52,
     "metadata": {},
     "output_type": "execute_result"
    }
   ],
   "source": [
    "\"Explicit is BETTER than implicit\".title()\n"
   ]
  },
  {
   "cell_type": "code",
   "execution_count": 54,
   "id": "ce2b2943-c668-483c-a442-47d7fe8c80b5",
   "metadata": {},
   "outputs": [
    {
     "data": {
      "text/plain": [
       "'SIMPLE IS BETTER THAN COMPLEX'"
      ]
     },
     "execution_count": 54,
     "metadata": {},
     "output_type": "execute_result"
    }
   ],
   "source": [
    " \"Simple is better than complex\".upper()"
   ]
  },
  {
   "cell_type": "code",
   "execution_count": 58,
   "id": "df05ec38-c085-49e0-b1a7-db1f0d465c38",
   "metadata": {},
   "outputs": [
    {
     "name": "stdout",
     "output_type": "stream",
     "text": [
      "It's a Python file\n"
     ]
    }
   ],
   "source": [
    "filename = \"main.py\"\n",
    "if filename.endswith(\".py\"):\n",
    "    print(\"It's a Python file\")"
   ]
  },
  {
   "cell_type": "code",
   "execution_count": 66,
   "id": "57d64d70-e671-4da4-af8b-5911e4f52597",
   "metadata": {},
   "outputs": [
    {
     "data": {
      "text/plain": [
       "True"
      ]
     },
     "execution_count": 66,
     "metadata": {},
     "output_type": "execute_result"
    }
   ],
   "source": [
    "\"123abc\".isalnum()"
   ]
  },
  {
   "cell_type": "code",
   "execution_count": 74,
   "id": "7ab4c59b-5c03-4767-8a30-5acf54312d6a",
   "metadata": {},
   "outputs": [
    {
     "data": {
      "text/plain": [
       "True"
      ]
     },
     "execution_count": 74,
     "metadata": {},
     "output_type": "execute_result"
    }
   ],
   "source": [
    "\"198753\".isalnum()"
   ]
  },
  {
   "cell_type": "code",
   "execution_count": 70,
   "id": "8fb177b3-39c6-4a25-85fb-aef6a8d438e0",
   "metadata": {},
   "outputs": [
    {
     "data": {
      "text/plain": [
       "False"
      ]
     },
     "execution_count": 70,
     "metadata": {},
     "output_type": "execute_result"
    }
   ],
   "source": [
    " \"123abc\".isalpha()"
   ]
  },
  {
   "cell_type": "code",
   "execution_count": 72,
   "id": "01e27590-b596-4502-a5cd-b948572161ae",
   "metadata": {},
   "outputs": [
    {
     "data": {
      "text/plain": [
       "True"
      ]
     },
     "execution_count": 72,
     "metadata": {},
     "output_type": "execute_result"
    }
   ],
   "source": [
    "\"asd\".isalpha()"
   ]
  },
  {
   "cell_type": "code",
   "execution_count": 76,
   "id": "1ae23400-fb4d-486f-8e3b-228478d99e39",
   "metadata": {},
   "outputs": [
    {
     "data": {
      "text/plain": [
       "True"
      ]
     },
     "execution_count": 76,
     "metadata": {},
     "output_type": "execute_result"
    }
   ],
   "source": [
    " \"123456\".isdigit()"
   ]
  },
  {
   "cell_type": "code",
   "execution_count": 78,
   "id": "50422fb6-867e-45f8-98f2-d11d894d6148",
   "metadata": {},
   "outputs": [
    {
     "data": {
      "text/plain": [
       "True"
      ]
     },
     "execution_count": 78,
     "metadata": {},
     "output_type": "execute_result"
    }
   ],
   "source": [
    " \"abcdf\".islower()"
   ]
  },
  {
   "cell_type": "code",
   "execution_count": 80,
   "id": "df0d19af-a858-42f0-a1b5-d177560c64ce",
   "metadata": {},
   "outputs": [
    {
     "data": {
      "text/plain": [
       "10"
      ]
     },
     "execution_count": 80,
     "metadata": {},
     "output_type": "execute_result"
    }
   ],
   "source": [
    " len(\"Pythonista\")"
   ]
  },
  {
   "cell_type": "code",
   "execution_count": 82,
   "id": "acee4538-bec2-411c-83c2-4ea9846b6975",
   "metadata": {},
   "outputs": [
    {
     "data": {
      "text/plain": [
       "bytes"
      ]
     },
     "execution_count": 82,
     "metadata": {},
     "output_type": "execute_result"
    }
   ],
   "source": [
    " type(b\"This is a bytes literal\")"
   ]
  },
  {
   "cell_type": "code",
   "execution_count": 84,
   "id": "ce0e3796-dbdd-47aa-a955-17117963f64c",
   "metadata": {},
   "outputs": [
    {
     "data": {
      "text/plain": [
       "bytearray"
      ]
     },
     "execution_count": 84,
     "metadata": {},
     "output_type": "execute_result"
    }
   ],
   "source": [
    " type(bytearray(b\"Form bytes\"))\n"
   ]
  },
  {
   "cell_type": "markdown",
   "id": "29380502-ceab-4917-8b5f-b766b2ef531c",
   "metadata": {},
   "source": [
    "# Boolean:"
   ]
  },
  {
   "cell_type": "code",
   "execution_count": 87,
   "id": "3fd847a1-130f-4a2e-a0c4-028f016f2829",
   "metadata": {},
   "outputs": [
    {
     "data": {
      "text/plain": [
       "bool"
      ]
     },
     "execution_count": 87,
     "metadata": {},
     "output_type": "execute_result"
    }
   ],
   "source": [
    "type(True)"
   ]
  },
  {
   "cell_type": "code",
   "execution_count": 91,
   "id": "fc32c00f-5d22-4f7c-b720-699d8d0dfc12",
   "metadata": {},
   "outputs": [
    {
     "data": {
      "text/plain": [
       "bool"
      ]
     },
     "execution_count": 91,
     "metadata": {},
     "output_type": "execute_result"
    }
   ],
   "source": [
    "type(False)"
   ]
  },
  {
   "cell_type": "code",
   "execution_count": 93,
   "id": "6e73b2c1-1974-473b-81d0-ae56cb5be198",
   "metadata": {},
   "outputs": [
    {
     "data": {
      "text/plain": [
       "2"
      ]
     },
     "execution_count": 93,
     "metadata": {},
     "output_type": "execute_result"
    }
   ],
   "source": [
    " True + True"
   ]
  },
  {
   "cell_type": "code",
   "execution_count": 95,
   "id": "a8ebb5d7-3251-43a1-8fc6-0c4b84e276ce",
   "metadata": {},
   "outputs": [
    {
     "data": {
      "text/plain": [
       "True"
      ]
     },
     "execution_count": 95,
     "metadata": {},
     "output_type": "execute_result"
    }
   ],
   "source": [
    " True\n"
   ]
  },
  {
   "cell_type": "code",
   "execution_count": 97,
   "id": "4520b87a-2dba-482a-8067-74270c66995f",
   "metadata": {},
   "outputs": [
    {
     "data": {
      "text/plain": [
       "False"
      ]
     },
     "execution_count": 97,
     "metadata": {},
     "output_type": "execute_result"
    }
   ],
   "source": [
    "False"
   ]
  },
  {
   "cell_type": "code",
   "execution_count": 99,
   "id": "54bad315-76bd-42c6-bfdb-807208901bd6",
   "metadata": {},
   "outputs": [
    {
     "data": {
      "text/plain": [
       "False"
      ]
     },
     "execution_count": 99,
     "metadata": {},
     "output_type": "execute_result"
    }
   ],
   "source": [
    "bool(0)"
   ]
  },
  {
   "cell_type": "code",
   "execution_count": 101,
   "id": "80946451-3c52-48a8-9789-99275a5fc0e7",
   "metadata": {},
   "outputs": [
    {
     "data": {
      "text/plain": [
       "False"
      ]
     },
     "execution_count": 101,
     "metadata": {},
     "output_type": "execute_result"
    }
   ],
   "source": [
    "bool()"
   ]
  },
  {
   "cell_type": "code",
   "execution_count": 103,
   "id": "43e4d5b8-3c0e-4293-b5d8-74ea17f21cb5",
   "metadata": {},
   "outputs": [
    {
     "data": {
      "text/plain": [
       "True"
      ]
     },
     "execution_count": 103,
     "metadata": {},
     "output_type": "execute_result"
    }
   ],
   "source": [
    "bool(34)"
   ]
  },
  {
   "cell_type": "code",
   "execution_count": 105,
   "id": "6bef2b52-92f1-4dfd-b4ba-98ec9e4385dc",
   "metadata": {},
   "outputs": [
    {
     "data": {
      "text/plain": [
       "False"
      ]
     },
     "execution_count": 105,
     "metadata": {},
     "output_type": "execute_result"
    }
   ],
   "source": [
    "bool(\"\")"
   ]
  },
  {
   "cell_type": "code",
   "execution_count": 107,
   "id": "04b0f16c-5e27-4c8d-91b2-f761f6243c32",
   "metadata": {},
   "outputs": [
    {
     "data": {
      "text/plain": [
       "True"
      ]
     },
     "execution_count": 107,
     "metadata": {},
     "output_type": "execute_result"
    }
   ],
   "source": [
    "bool(\"hello\")"
   ]
  },
  {
   "cell_type": "code",
   "execution_count": 109,
   "id": "29fbfe14-73bb-4647-b13e-63357546b1fa",
   "metadata": {},
   "outputs": [
    {
     "data": {
      "text/plain": [
       "True"
      ]
     },
     "execution_count": 109,
     "metadata": {},
     "output_type": "execute_result"
    }
   ],
   "source": [
    "bool([1, 2, 3])"
   ]
  },
  {
   "cell_type": "code",
   "execution_count": 111,
   "id": "eefc959d-6c64-45f9-830b-692a405ba3d4",
   "metadata": {},
   "outputs": [],
   "source": [
    "class dog:\n",
    "    def __init__(self,name):\n",
    "        self.name=name"
   ]
  },
  {
   "cell_type": "code",
   "execution_count": 113,
   "id": "7e1f1a55-fbc2-4451-866d-91f6d1134763",
   "metadata": {},
   "outputs": [],
   "source": [
    "d=dog(\"mossi\")"
   ]
  },
  {
   "cell_type": "code",
   "execution_count": 115,
   "id": "608ce30d-9e86-4d0c-8d89-9dbeaaf6c7e5",
   "metadata": {},
   "outputs": [
    {
     "data": {
      "text/plain": [
       "True"
      ]
     },
     "execution_count": 115,
     "metadata": {},
     "output_type": "execute_result"
    }
   ],
   "source": [
    "bool(dog)"
   ]
  },
  {
   "cell_type": "code",
   "execution_count": null,
   "id": "5559fc73-bece-47d3-971d-5898f9462f83",
   "metadata": {},
   "outputs": [],
   "source": []
  }
 ],
 "metadata": {
  "kernelspec": {
   "display_name": "Python 3 (ipykernel)",
   "language": "python",
   "name": "python3"
  },
  "language_info": {
   "codemirror_mode": {
    "name": "ipython",
    "version": 3
   },
   "file_extension": ".py",
   "mimetype": "text/x-python",
   "name": "python",
   "nbconvert_exporter": "python",
   "pygments_lexer": "ipython3",
   "version": "3.12.7"
  }
 },
 "nbformat": 4,
 "nbformat_minor": 5
}
