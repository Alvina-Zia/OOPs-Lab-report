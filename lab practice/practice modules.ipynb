{
 "cells": [
  {
   "cell_type": "markdown",
   "id": "61c73998-6ad7-45f9-ab11-3320b063d8b7",
   "metadata": {},
   "source": [
    "<h2 align=\"center\"><b><i><u>Name: Alvina Zia</u></i></b></h2 align=\"center\">\n",
    "<h2 align=\"center\"><b><i><u>Reg no: 23jzele0504</u></i></b></h2 align=\"center\">\n",
    "<h2 align=\"center\"><b><i><u>Semester: 3rd(section A)</u></i></b></h2 align=\"center\">\n",
    "<h2 align=\"center\"><b><i><u>Subject: OOPs & Data Structure</u></i></b></h2 align=\"center\">\n",
    "<h2 align=\"center\"><b><i><u>practice modules</u></i></b></h2 align=\"center\">\n",
    "<h2 align=\"center\"><b><i><u>Submitted to: Sir Irshad-ullah</u></i></b></h2 align=\"center\">"
   ]
  },
  {
   "cell_type": "code",
   "execution_count": 1,
   "id": "cbe59bc1-1c7c-433f-8eb4-a5240191440b",
   "metadata": {},
   "outputs": [],
   "source": [
    "import os\n",
    "os.chdir(r'C:\\Users\\DELL\\Desktop\\UET\\3 semester\\OOPS lab\\inheritence')"
   ]
  },
  {
   "cell_type": "code",
   "execution_count": 3,
   "id": "81d0942e-0077-4fff-9614-64602139ec03",
   "metadata": {},
   "outputs": [],
   "source": [
    "import hr"
   ]
  },
  {
   "cell_type": "code",
   "execution_count": 4,
   "id": "fbee2f9c-e99e-42d7-8da7-7f2a2f0a27f7",
   "metadata": {},
   "outputs": [],
   "source": [
    "from hr import PayrollSystem"
   ]
  },
  {
   "cell_type": "code",
   "execution_count": 5,
   "id": "17f39c00-1e93-474a-ae43-580a149ff11e",
   "metadata": {},
   "outputs": [],
   "source": [
    "import employees"
   ]
  },
  {
   "cell_type": "code",
   "execution_count": 6,
   "id": "70343e8a-e658-42c9-a2e7-b962b9e06c02",
   "metadata": {},
   "outputs": [],
   "source": [
    "from employees import SalaryEmployee"
   ]
  },
  {
   "cell_type": "code",
   "execution_count": 7,
   "id": "c21e32a9-93d1-47e6-b8e4-a166e8382bcc",
   "metadata": {},
   "outputs": [],
   "source": [
    "x= SalaryEmployee(5,\"aina\",30000)"
   ]
  },
  {
   "cell_type": "code",
   "execution_count": 13,
   "id": "a3032291-cd73-4d10-838d-863326582f1a",
   "metadata": {},
   "outputs": [
    {
     "data": {
      "text/plain": [
       "30000"
      ]
     },
     "execution_count": 13,
     "metadata": {},
     "output_type": "execute_result"
    }
   ],
   "source": [
    "x.calculate_payroll()"
   ]
  },
  {
   "cell_type": "code",
   "execution_count": 14,
   "id": "17ce3e90-e759-4b57-bc38-238d4b222ac4",
   "metadata": {},
   "outputs": [
    {
     "data": {
      "text/plain": [
       "30000"
      ]
     },
     "execution_count": 14,
     "metadata": {},
     "output_type": "execute_result"
    }
   ],
   "source": [
    "x.weekly_salary"
   ]
  },
  {
   "cell_type": "code",
   "execution_count": 17,
   "id": "65cc269c-baa0-4c57-ba06-2557f3fc015a",
   "metadata": {},
   "outputs": [
    {
     "data": {
      "text/plain": [
       "'aina'"
      ]
     },
     "execution_count": 17,
     "metadata": {},
     "output_type": "execute_result"
    }
   ],
   "source": [
    "x.name"
   ]
  },
  {
   "cell_type": "code",
   "execution_count": 19,
   "id": "17aa4911-d10b-42f6-a00a-0a471f739dba",
   "metadata": {},
   "outputs": [],
   "source": [
    "from employees import HourlyEmployee"
   ]
  },
  {
   "cell_type": "code",
   "execution_count": 21,
   "id": "5898fefb-6387-4f54-94a4-409a057894be",
   "metadata": {},
   "outputs": [],
   "source": [
    "f= HourlyEmployee(2,\"akm\",34,3456)"
   ]
  },
  {
   "cell_type": "code",
   "execution_count": null,
   "id": "196f5bb9-aa50-4d1c-8205-a188e81a78df",
   "metadata": {},
   "outputs": [],
   "source": []
  },
  {
   "cell_type": "code",
   "execution_count": null,
   "id": "a1ac11e3-7136-452a-90ea-da6fb052562d",
   "metadata": {},
   "outputs": [],
   "source": []
  }
 ],
 "metadata": {
  "kernelspec": {
   "display_name": "Python 3 (ipykernel)",
   "language": "python",
   "name": "python3"
  },
  "language_info": {
   "codemirror_mode": {
    "name": "ipython",
    "version": 3
   },
   "file_extension": ".py",
   "mimetype": "text/x-python",
   "name": "python",
   "nbconvert_exporter": "python",
   "pygments_lexer": "ipython3",
   "version": "3.12.7"
  }
 },
 "nbformat": 4,
 "nbformat_minor": 5
}
