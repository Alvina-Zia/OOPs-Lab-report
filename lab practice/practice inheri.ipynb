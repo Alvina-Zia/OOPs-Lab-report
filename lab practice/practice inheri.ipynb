{
 "cells": [
  {
   "cell_type": "markdown",
   "id": "b7c3cb66-607e-43e7-b3cf-5d6d36d4a2d3",
   "metadata": {},
   "source": [
    "<h2 align=\"center\"><b><i><u>Name: Alvina Zia</u></i></b></h2 align=\"center\">\n",
    "<h2 align=\"center\"><b><i><u>Reg no: 23jzele0504</u></i></b></h2 align=\"center\">\n",
    "<h2 align=\"center\"><b><i><u>Semester: 3rd(section A)</u></i></b></h2 align=\"center\">\n",
    "<h2 align=\"center\"><b><i><u>Subject: OOPs & Data Structure</u></i></b></h2 align=\"center\">\n",
    "<h2 align=\"center\"><b><i><u>practice inheritence</u></i></b></h2 align=\"center\">\n",
    "<h2 align=\"center\"><b><i><u>Submitted to: Sir Irshad-ullah</u></i></b></h2 align=\"center\">"
   ]
  },
  {
   "cell_type": "code",
   "execution_count": 1,
   "id": "6b319176-cf84-45b2-b30d-9289d4895847",
   "metadata": {},
   "outputs": [],
   "source": [
    "class square:\n",
    "    def __init__(self,side):\n",
    "        self.side=side\n",
    "    def area(self):\n",
    "        return self.side**2\n",
    "    def perimeter(self):\n",
    "        return 4*self.side"
   ]
  },
  {
   "cell_type": "code",
   "execution_count": 3,
   "id": "624d4642-caa3-4e5c-9970-84e8a370326f",
   "metadata": {},
   "outputs": [],
   "source": [
    "class cube(square):\n",
    "    def __init__(self,side):\n",
    "        super().__init__(side)\n",
    "    def volume(self):\n",
    "        v=super().area()\n",
    "        return v * self.side\n",
    "    def surface_area(self):\n",
    "        c=super().area()\n",
    "        return 6*c"
   ]
  },
  {
   "cell_type": "code",
   "execution_count": 4,
   "id": "9189438d-678c-41de-b14b-1d238d36817f",
   "metadata": {},
   "outputs": [],
   "source": [
    "c= cube(2)"
   ]
  },
  {
   "cell_type": "code",
   "execution_count": 5,
   "id": "e0568657-b12c-4ffb-9531-c54877b50ec6",
   "metadata": {},
   "outputs": [
    {
     "data": {
      "text/plain": [
       "24"
      ]
     },
     "execution_count": 5,
     "metadata": {},
     "output_type": "execute_result"
    }
   ],
   "source": [
    "c.surface_area()"
   ]
  },
  {
   "cell_type": "code",
   "execution_count": 9,
   "id": "8da52fbc-144b-4404-a93a-39e99fbd371a",
   "metadata": {},
   "outputs": [
    {
     "data": {
      "text/plain": [
       "8"
      ]
     },
     "execution_count": 9,
     "metadata": {},
     "output_type": "execute_result"
    }
   ],
   "source": [
    "c.volume()"
   ]
  },
  {
   "cell_type": "code",
   "execution_count": null,
   "id": "bada3d5c-e6de-4708-90cd-511892c2d81a",
   "metadata": {},
   "outputs": [],
   "source": []
  },
  {
   "cell_type": "markdown",
   "id": "5e77f562-ef9a-4eb7-b6a1-815aa955e0ee",
   "metadata": {},
   "source": [
    "## Problem 2:\n",
    "### a.\tTake the example of the rectangle class in the last lab and inherit a square class.  \n",
    "### b.\tCreate two instances of the square class and call the instance methods.\n"
   ]
  },
  {
   "cell_type": "code",
   "execution_count": 13,
   "id": "a93e3faa-5850-4d84-980f-f5b7a12ecb7e",
   "metadata": {},
   "outputs": [],
   "source": [
    "class Rectangle:\n",
    "    def __init__(self, L, W):\n",
    "        self._L = L\n",
    "        self._W = W\n",
    "        \n",
    "    def area(self):\n",
    "        return self._L * self._W\n",
    "\n",
    "    def perimeter(self):\n",
    "        return 2 * (self._L + self._W)"
   ]
  },
  {
   "cell_type": "code",
   "execution_count": 15,
   "id": "5cf29e40-2e8c-4f15-a3a7-9936518eb38d",
   "metadata": {},
   "outputs": [],
   "source": [
    "class Square(Rectangle):\n",
    "    def __init__(self, L,W):\n",
    "        super().__init__(L,W) \n",
    "        \n",
    "    def area(self):\n",
    "        area=super().area()\n",
    "        return area\n",
    "\n",
    "    def perimeter(self):\n",
    "        perimeter=super().area()\n",
    "        return perimeter*2"
   ]
  },
  {
   "cell_type": "code",
   "execution_count": 17,
   "id": "5e8fb993-c27a-42a0-a3c6-9b88c0d989c3",
   "metadata": {},
   "outputs": [],
   "source": [
    "sqr=Square(2,2)"
   ]
  },
  {
   "cell_type": "code",
   "execution_count": 19,
   "id": "6a17db0d-e7a3-4700-a40c-caa46e9a2706",
   "metadata": {},
   "outputs": [
    {
     "data": {
      "text/plain": [
       "4"
      ]
     },
     "execution_count": 19,
     "metadata": {},
     "output_type": "execute_result"
    }
   ],
   "source": [
    "sqr.area()"
   ]
  },
  {
   "cell_type": "code",
   "execution_count": 21,
   "id": "36682bcd-eab3-40d9-82fc-a4829c52b84c",
   "metadata": {},
   "outputs": [
    {
     "data": {
      "text/plain": [
       "8"
      ]
     },
     "execution_count": 21,
     "metadata": {},
     "output_type": "execute_result"
    }
   ],
   "source": [
    "sqr.perimeter()"
   ]
  },
  {
   "cell_type": "code",
   "execution_count": 23,
   "id": "6b8163d0-38a3-44fd-aad5-fa817b56d0c9",
   "metadata": {},
   "outputs": [],
   "source": [
    "sq1 = square(2)"
   ]
  },
  {
   "cell_type": "code",
   "execution_count": 25,
   "id": "30e4af7e-67d7-480a-94e4-12ee1cd27873",
   "metadata": {},
   "outputs": [
    {
     "data": {
      "text/plain": [
       "4"
      ]
     },
     "execution_count": 25,
     "metadata": {},
     "output_type": "execute_result"
    }
   ],
   "source": [
    "sq1.area()"
   ]
  },
  {
   "cell_type": "code",
   "execution_count": 27,
   "id": "64281487-306f-4b67-a4cf-f03ba8b6f057",
   "metadata": {},
   "outputs": [
    {
     "data": {
      "text/plain": [
       "8"
      ]
     },
     "execution_count": 27,
     "metadata": {},
     "output_type": "execute_result"
    }
   ],
   "source": [
    "sq1.perimeter()"
   ]
  },
  {
   "cell_type": "code",
   "execution_count": 35,
   "id": "686ae871-cb0e-4b57-9d9f-df19c101f320",
   "metadata": {},
   "outputs": [],
   "source": [
    "sq2 = square(5)"
   ]
  },
  {
   "cell_type": "code",
   "execution_count": 37,
   "id": "736e8ea6-c7a1-47fa-8624-5aa5a8e1bc24",
   "metadata": {},
   "outputs": [
    {
     "data": {
      "text/plain": [
       "25"
      ]
     },
     "execution_count": 37,
     "metadata": {},
     "output_type": "execute_result"
    }
   ],
   "source": [
    "sq2.area()"
   ]
  },
  {
   "cell_type": "code",
   "execution_count": 39,
   "id": "0a5677fb-17aa-4845-bb3c-9a0de9c35232",
   "metadata": {},
   "outputs": [
    {
     "data": {
      "text/plain": [
       "20"
      ]
     },
     "execution_count": 39,
     "metadata": {},
     "output_type": "execute_result"
    }
   ],
   "source": [
    "sq2.perimeter()"
   ]
  },
  {
   "cell_type": "code",
   "execution_count": 43,
   "id": "5fc185c8-95b7-422d-aa66-15600c0c88f1",
   "metadata": {},
   "outputs": [],
   "source": [
    "obj = Rectangle(2,3)"
   ]
  },
  {
   "cell_type": "code",
   "execution_count": 45,
   "id": "72c4c1a4-6081-4ef1-b68d-72bdee5bf800",
   "metadata": {},
   "outputs": [
    {
     "data": {
      "text/plain": [
       "6"
      ]
     },
     "execution_count": 45,
     "metadata": {},
     "output_type": "execute_result"
    }
   ],
   "source": [
    "obj.area()"
   ]
  },
  {
   "cell_type": "code",
   "execution_count": 47,
   "id": "6c6ddddc-5a55-4737-9bc1-f8a34ae19a27",
   "metadata": {},
   "outputs": [
    {
     "data": {
      "text/plain": [
       "10"
      ]
     },
     "execution_count": 47,
     "metadata": {},
     "output_type": "execute_result"
    }
   ],
   "source": [
    "obj.perimeter()"
   ]
  },
  {
   "cell_type": "code",
   "execution_count": null,
   "id": "ddf141b6-c32f-4707-b3d1-6a0fa8e82075",
   "metadata": {},
   "outputs": [],
   "source": []
  }
 ],
 "metadata": {
  "kernelspec": {
   "display_name": "Python 3 (ipykernel)",
   "language": "python",
   "name": "python3"
  },
  "language_info": {
   "codemirror_mode": {
    "name": "ipython",
    "version": 3
   },
   "file_extension": ".py",
   "mimetype": "text/x-python",
   "name": "python",
   "nbconvert_exporter": "python",
   "pygments_lexer": "ipython3",
   "version": "3.12.7"
  }
 },
 "nbformat": 4,
 "nbformat_minor": 5
}
