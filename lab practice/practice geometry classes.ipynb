{
 "cells": [
  {
   "cell_type": "markdown",
   "id": "d305760e-2eb4-48e4-98d7-8b0f275269c6",
   "metadata": {},
   "source": [
    "<h2 align=\"center\"><b><i><u>Name: Alvina Zia</u></i></b></h2 align=\"center\">\n",
    "<h2 align=\"center\"><b><i><u>Reg no: 23jzele0504</u></i></b></h2 align=\"center\">\n",
    "<h2 align=\"center\"><b><i><u>Semester: 3rd(section A)</u></i></b></h2 align=\"center\">\n",
    "<h2 align=\"center\"><b><i><u>Subject: OOPs & Data Structure</u></i></b></h2 align=\"center\">\n",
    "<h2 align=\"center\"><b><i><u>practice geometry</u></i></b></h2 align=\"center\">\n",
    "<h2 align=\"center\"><b><i><u>Submitted to: Sir Irshad-ullah</u></i></b></h2 align=\"center\">"
   ]
  },
  {
   "cell_type": "code",
   "execution_count": 1,
   "id": "d3391909",
   "metadata": {},
   "outputs": [],
   "source": [
    "import math\n",
    "class point:\n",
    "    \"\"\"Represents a point in two-dimensional geometric \n",
    "    coordinates\n",
    "    Parameters\n",
    "    ----------\n",
    "    x : float\n",
    "    y : float\n",
    "    \"\"\"\n",
    "    def __init__(self, x: float, y: float)->None:\n",
    "        self.x = x\n",
    "        self.y = y\n",
    "    def distance(self, p2)->float:\n",
    "        return math.sqrt((self.x-p2.x)**2 + (self.y-p2.y)**2)\n",
    "    def calculate(self):\n",
    "        print (f\" x={self.x},y={self.y}\")"
   ]
  },
  {
   "cell_type": "code",
   "execution_count": 3,
   "id": "58e19422",
   "metadata": {},
   "outputs": [],
   "source": [
    "p1=point(3.8,9.0)"
   ]
  },
  {
   "cell_type": "code",
   "execution_count": 5,
   "id": "f33e0ffd",
   "metadata": {},
   "outputs": [],
   "source": [
    "p2=point(4.3,2.7)"
   ]
  },
  {
   "cell_type": "code",
   "execution_count": 7,
   "id": "45650c1e",
   "metadata": {},
   "outputs": [
    {
     "name": "stdout",
     "output_type": "stream",
     "text": [
      "<__main__.point object at 0x000001A4FFB42E40>\n"
     ]
    }
   ],
   "source": [
    "print(p1)"
   ]
  },
  {
   "cell_type": "code",
   "execution_count": 9,
   "id": "4e392974",
   "metadata": {},
   "outputs": [
    {
     "name": "stdout",
     "output_type": "stream",
     "text": [
      "<__main__.point object at 0x000001A4FF3BF920>\n"
     ]
    }
   ],
   "source": [
    "print(p2)"
   ]
  },
  {
   "cell_type": "code",
   "execution_count": 11,
   "id": "30c6e1c3",
   "metadata": {},
   "outputs": [
    {
     "name": "stdout",
     "output_type": "stream",
     "text": [
      "x=3.8,y=9.0\n"
     ]
    }
   ],
   "source": [
    "print(f\"x={p1.x},y={p1.y}\")"
   ]
  },
  {
   "cell_type": "code",
   "execution_count": 13,
   "id": "8f4d50df",
   "metadata": {},
   "outputs": [
    {
     "name": "stdout",
     "output_type": "stream",
     "text": [
      " x=3.8,y=9.0\n"
     ]
    }
   ],
   "source": [
    "p1.calculate()"
   ]
  },
  {
   "cell_type": "code",
   "execution_count": 15,
   "id": "a876358a",
   "metadata": {},
   "outputs": [
    {
     "name": "stdout",
     "output_type": "stream",
     "text": [
      " x=4.3,y=2.7\n"
     ]
    }
   ],
   "source": [
    "p2.calculate()"
   ]
  },
  {
   "cell_type": "code",
   "execution_count": 27,
   "id": "fadd1ed5",
   "metadata": {},
   "outputs": [
    {
     "data": {
      "text/plain": [
       "6.319810123729984"
      ]
     },
     "execution_count": 27,
     "metadata": {},
     "output_type": "execute_result"
    }
   ],
   "source": [
    "p1.distance(p2)"
   ]
  },
  {
   "cell_type": "code",
   "execution_count": 29,
   "id": "9af83691",
   "metadata": {},
   "outputs": [],
   "source": [
    "kirk = [\"James Kirk\", 34, \"Captain\", 2265]\n",
    "spock = [\"Spock\", 35, \"Science Officer\", 2254]\n",
    "mccoy = [\"Leonard McCoy\", \"Chief Medical Officer\", 2266]"
   ]
  },
  {
   "cell_type": "code",
   "execution_count": 31,
   "id": "4cbf1257",
   "metadata": {},
   "outputs": [
    {
     "name": "stdout",
     "output_type": "stream",
     "text": [
      "James Kirk\n"
     ]
    }
   ],
   "source": [
    "print(kirk[0])"
   ]
  },
  {
   "cell_type": "code",
   "execution_count": 33,
   "id": "fb08bef2",
   "metadata": {},
   "outputs": [
    {
     "name": "stdout",
     "output_type": "stream",
     "text": [
      "Chief Medical Officer\n"
     ]
    }
   ],
   "source": [
    "print(mccoy[1])"
   ]
  },
  {
   "cell_type": "code",
   "execution_count": 35,
   "id": "457518da",
   "metadata": {},
   "outputs": [],
   "source": [
    "class myfirstclass:\n",
    "    pass"
   ]
  },
  {
   "cell_type": "code",
   "execution_count": 37,
   "id": "2f37300d",
   "metadata": {},
   "outputs": [],
   "source": [
    "FC1=myfirstclass()"
   ]
  },
  {
   "cell_type": "code",
   "execution_count": 39,
   "id": "b509189c",
   "metadata": {},
   "outputs": [],
   "source": [
    "FC2=myfirstclass()"
   ]
  },
  {
   "cell_type": "code",
   "execution_count": 41,
   "id": "5c8a371d",
   "metadata": {},
   "outputs": [
    {
     "name": "stdout",
     "output_type": "stream",
     "text": [
      "2\n"
     ]
    }
   ],
   "source": [
    "if FC1 is FC2:\n",
    "    print(f\"1\")\n",
    "else:\n",
    "    print(f\"2\")"
   ]
  },
  {
   "cell_type": "code",
   "execution_count": 43,
   "id": "aa697685",
   "metadata": {},
   "outputs": [
    {
     "name": "stdout",
     "output_type": "stream",
     "text": [
      "2\n"
     ]
    }
   ],
   "source": [
    "if FC1 is FC2:\n",
    "    print(f\"1\")\n",
    "else:\n",
    "    print(f\"2\")"
   ]
  },
  {
   "cell_type": "code",
   "execution_count": 45,
   "id": "51f227b6",
   "metadata": {},
   "outputs": [
    {
     "name": "stdout",
     "output_type": "stream",
     "text": [
      "<__main__.myfirstclass object at 0x000001A4FE6EB080>\n"
     ]
    }
   ],
   "source": [
    "print(FC1)"
   ]
  },
  {
   "cell_type": "code",
   "execution_count": 47,
   "id": "1a8f00d3",
   "metadata": {},
   "outputs": [
    {
     "name": "stdout",
     "output_type": "stream",
     "text": [
      "<__main__.myfirstclass object at 0x000001A4FFC2A990>\n"
     ]
    }
   ],
   "source": [
    "print(FC2)"
   ]
  },
  {
   "cell_type": "code",
   "execution_count": 49,
   "id": "7215879b",
   "metadata": {},
   "outputs": [],
   "source": [
    "class point:\n",
    "    def __init__(self,x,y):\n",
    "        self.x=x\n",
    "        self.y=y\n",
    "    def distance(self,p):\n",
    "        return math.sqrt ((self.x-p.x)**2+(self.y-p.y)**2)\n",
    "    def display(self):\n",
    "        return (self.x,self.y)\n",
    "    def locate(self):\n",
    "        return f\"point is located at {self.x} and {self.y}\"\n",
    "    def king(self):\n",
    "        print(f\"the coordinates are x={self.x},y={self.y}\")"
   ]
  },
  {
   "cell_type": "code",
   "execution_count": 51,
   "id": "fdbed8db",
   "metadata": {},
   "outputs": [],
   "source": [
    "p1=point(2,3)"
   ]
  },
  {
   "cell_type": "code",
   "execution_count": 53,
   "id": "bcd79839",
   "metadata": {},
   "outputs": [],
   "source": [
    "p2=point(4,6)"
   ]
  },
  {
   "cell_type": "code",
   "execution_count": 55,
   "id": "8dec168f",
   "metadata": {},
   "outputs": [
    {
     "name": "stdout",
     "output_type": "stream",
     "text": [
      "<__main__.point object at 0x000001A4FE6C7C80>\n"
     ]
    }
   ],
   "source": [
    "print(p1)"
   ]
  },
  {
   "cell_type": "code",
   "execution_count": 57,
   "id": "f1c47050",
   "metadata": {},
   "outputs": [
    {
     "name": "stdout",
     "output_type": "stream",
     "text": [
      "<__main__.point object at 0x000001A4FF3FC800>\n"
     ]
    }
   ],
   "source": [
    "print(p2)"
   ]
  },
  {
   "cell_type": "code",
   "execution_count": 59,
   "id": "f21887f2",
   "metadata": {},
   "outputs": [
    {
     "data": {
      "text/plain": [
       "'point is located at 2 and 3'"
      ]
     },
     "execution_count": 59,
     "metadata": {},
     "output_type": "execute_result"
    }
   ],
   "source": [
    "p1.locate()"
   ]
  },
  {
   "cell_type": "code",
   "execution_count": 61,
   "id": "bf60a539",
   "metadata": {},
   "outputs": [
    {
     "name": "stdout",
     "output_type": "stream",
     "text": [
      "x=2,y=3\n"
     ]
    }
   ],
   "source": [
    "print(f\"x={p1.x},y={p1.y}\")"
   ]
  },
  {
   "cell_type": "code",
   "execution_count": 63,
   "id": "3a1b4c7d",
   "metadata": {},
   "outputs": [
    {
     "name": "stdout",
     "output_type": "stream",
     "text": [
      "the coordinates are x=2,y=3\n"
     ]
    }
   ],
   "source": [
    "p1.king()"
   ]
  },
  {
   "cell_type": "code",
   "execution_count": 65,
   "id": "db779081",
   "metadata": {},
   "outputs": [
    {
     "name": "stdout",
     "output_type": "stream",
     "text": [
      "the coordinates are x=4,y=6\n"
     ]
    }
   ],
   "source": [
    "p2.king()"
   ]
  },
  {
   "cell_type": "code",
   "execution_count": 67,
   "id": "d333b06d",
   "metadata": {},
   "outputs": [
    {
     "data": {
      "text/plain": [
       "3.605551275463989"
      ]
     },
     "execution_count": 67,
     "metadata": {},
     "output_type": "execute_result"
    }
   ],
   "source": [
    "p1.distance(p2)"
   ]
  },
  {
   "cell_type": "code",
   "execution_count": 69,
   "id": "52e6e014",
   "metadata": {},
   "outputs": [
    {
     "data": {
      "text/plain": [
       "mappingproxy({'__module__': '__main__',\n",
       "              '__init__': <function __main__.point.__init__(self, x, y)>,\n",
       "              'distance': <function __main__.point.distance(self, p)>,\n",
       "              'display': <function __main__.point.display(self)>,\n",
       "              'locate': <function __main__.point.locate(self)>,\n",
       "              'king': <function __main__.point.king(self)>,\n",
       "              '__dict__': <attribute '__dict__' of 'point' objects>,\n",
       "              '__weakref__': <attribute '__weakref__' of 'point' objects>,\n",
       "              '__doc__': None})"
      ]
     },
     "execution_count": 69,
     "metadata": {},
     "output_type": "execute_result"
    }
   ],
   "source": [
    "point.__dict__"
   ]
  },
  {
   "cell_type": "code",
   "execution_count": 71,
   "id": "fca15da3",
   "metadata": {},
   "outputs": [
    {
     "data": {
      "text/plain": [
       "{'x': 2, 'y': 3}"
      ]
     },
     "execution_count": 71,
     "metadata": {},
     "output_type": "execute_result"
    }
   ],
   "source": [
    "p1.__dict__"
   ]
  },
  {
   "cell_type": "code",
   "execution_count": 73,
   "id": "5e117b9a",
   "metadata": {},
   "outputs": [
    {
     "name": "stdout",
     "output_type": "stream",
     "text": [
      "Help on class point in module __main__:\n",
      "\n",
      "class point(builtins.object)\n",
      " |  point(x, y)\n",
      " |\n",
      " |  Methods defined here:\n",
      " |\n",
      " |  __init__(self, x, y)\n",
      " |      Initialize self.  See help(type(self)) for accurate signature.\n",
      " |\n",
      " |  display(self)\n",
      " |\n",
      " |  distance(self, p)\n",
      " |\n",
      " |  king(self)\n",
      " |\n",
      " |  locate(self)\n",
      " |\n",
      " |  ----------------------------------------------------------------------\n",
      " |  Data descriptors defined here:\n",
      " |\n",
      " |  __dict__\n",
      " |      dictionary for instance variables\n",
      " |\n",
      " |  __weakref__\n",
      " |      list of weak references to the object\n",
      "\n"
     ]
    }
   ],
   "source": [
    "help(point)"
   ]
  },
  {
   "cell_type": "code",
   "execution_count": 75,
   "id": "3f2e9a17",
   "metadata": {},
   "outputs": [],
   "source": [
    "class point:\n",
    "    def __init__(self,x=9,y=6):\n",
    "        self.x=x\n",
    "        self.y=y\n",
    "    def distance(self,p):\n",
    "        return math.sqrt ((self.x-p.x)**2+(self.y-p.y)**2)\n",
    "    def display(self):\n",
    "        return (self.x,self.y)\n",
    "    def locate(self):\n",
    "        return f\"point is located at {self.x} and {self.y}\"\n",
    "    def king(self):\n",
    "        print(f\"the coordinates are x={self.x},y={self.y}\")"
   ]
  },
  {
   "cell_type": "code",
   "execution_count": 77,
   "id": "cda23562",
   "metadata": {},
   "outputs": [],
   "source": [
    "p1=point(3,5)"
   ]
  },
  {
   "cell_type": "code",
   "execution_count": 79,
   "id": "5fd3e39c",
   "metadata": {},
   "outputs": [
    {
     "name": "stdout",
     "output_type": "stream",
     "text": [
      "x=3,y=5\n"
     ]
    }
   ],
   "source": [
    "print(f\"x={p1.x},y={p1.y}\")"
   ]
  },
  {
   "cell_type": "code",
   "execution_count": 81,
   "id": "36c80f46",
   "metadata": {},
   "outputs": [
    {
     "name": "stdout",
     "output_type": "stream",
     "text": [
      "(3, 5)\n"
     ]
    }
   ],
   "source": [
    "print(f\"{p1.display()}\")"
   ]
  },
  {
   "cell_type": "code",
   "execution_count": 83,
   "id": "b927bd9f",
   "metadata": {},
   "outputs": [],
   "source": [
    "p2=point(4)"
   ]
  },
  {
   "cell_type": "code",
   "execution_count": 85,
   "id": "639bf5ba",
   "metadata": {},
   "outputs": [
    {
     "name": "stdout",
     "output_type": "stream",
     "text": [
      "(4, 6)\n"
     ]
    }
   ],
   "source": [
    "print(f\"{p2.display()}\")"
   ]
  },
  {
   "cell_type": "code",
   "execution_count": 87,
   "id": "8a9c17f0",
   "metadata": {},
   "outputs": [],
   "source": [
    "p3=point()"
   ]
  },
  {
   "cell_type": "code",
   "execution_count": 89,
   "id": "6272252b",
   "metadata": {},
   "outputs": [
    {
     "name": "stdout",
     "output_type": "stream",
     "text": [
      "(9, 6)\n"
     ]
    }
   ],
   "source": [
    "print(f\"{p3.display()}\")"
   ]
  },
  {
   "cell_type": "code",
   "execution_count": 99,
   "id": "09c507b8",
   "metadata": {},
   "outputs": [],
   "source": [
    "class circle:\n",
    "    def __init__(self,radius):\n",
    "        self._radius=radius\n",
    "    def __repr__(self):\n",
    "        return f\"circle(radius={self._radius})\"\n",
    "    def __str__(self):\n",
    "        return f\"raius is {self._radius}\"\n",
    "    @property\n",
    "    def radius(self):\n",
    "        return f\"radius of circle is {self.radius}\"\n",
    "    @radius.setter\n",
    "    def radius(self,value):\n",
    "        self._radius=value\n",
    "    @property\n",
    "    def area(self):\n",
    "        return math.pi*{self.radius}**2\n",
    "    @property\n",
    "    def circumference(self):\n",
    "        return 2*math.pi*{self.radius}\n",
    "    @property\n",
    "    def diameter(self):\n",
    "        return 2*{self.radius}\n",
    "    def volume(self,height):\n",
    "        return math.pi*{self.radius}**2*height\n",
    "        "
   ]
  },
  {
   "cell_type": "code",
   "execution_count": 101,
   "id": "e819d728",
   "metadata": {},
   "outputs": [],
   "source": [
    "inst_1=circle(2)"
   ]
  },
  {
   "cell_type": "code",
   "execution_count": 103,
   "id": "10290b90",
   "metadata": {},
   "outputs": [],
   "source": [
    "inst_2=circle(3)"
   ]
  },
  {
   "cell_type": "code",
   "execution_count": 105,
   "id": "50a45e43",
   "metadata": {},
   "outputs": [
    {
     "name": "stdout",
     "output_type": "stream",
     "text": [
      "raius is 2\n"
     ]
    }
   ],
   "source": [
    "print(inst_1)"
   ]
  },
  {
   "cell_type": "code",
   "execution_count": null,
   "id": "9c739ef4",
   "metadata": {},
   "outputs": [],
   "source": []
  },
  {
   "cell_type": "code",
   "execution_count": null,
   "id": "0e10ac6d-78a0-4b4a-9217-148fc1591309",
   "metadata": {},
   "outputs": [],
   "source": []
  }
 ],
 "metadata": {
  "kernelspec": {
   "display_name": "Python 3 (ipykernel)",
   "language": "python",
   "name": "python3"
  },
  "language_info": {
   "codemirror_mode": {
    "name": "ipython",
    "version": 3
   },
   "file_extension": ".py",
   "mimetype": "text/x-python",
   "name": "python",
   "nbconvert_exporter": "python",
   "pygments_lexer": "ipython3",
   "version": "3.12.7"
  }
 },
 "nbformat": 4,
 "nbformat_minor": 5
}
