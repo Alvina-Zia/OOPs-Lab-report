{
 "cells": [
  {
   "cell_type": "markdown",
   "id": "82850472-36f8-445d-aadf-43235c60b3e2",
   "metadata": {},
   "source": [
    "<h2 align=\"center\"><b><i><u>Name: Alvina Zia</u></i></b></h2 align=\"center\">\n",
    "<h2 align=\"center\"><b><i><u>Reg no: 23jzele0504</u></i></b></h2 align=\"center\">\n",
    "<h2 align=\"center\"><b><i><u>Semester: 3rd(section A)</u></i></b></h2 align=\"center\">\n",
    "<h2 align=\"center\"><b><i><u>Subject: OOPs & Data Structure</u></i></b></h2 align=\"center\">\n",
    "<h2 align=\"center\"><b><i><u>Practice Modules & Packages</u></i></b></h2 align=\"center\">\n",
    "<h2 align=\"center\"><b><i><u>Submitted to: Sir Irshad-ullah</u></i></b></h2 align=\"center\">"
   ]
  },
  {
   "cell_type": "markdown",
   "id": "93c312fe-cd77-4198-b92b-8c60d4130e03",
   "metadata": {},
   "source": [
    "***"
   ]
  },
  {
   "cell_type": "code",
   "execution_count": 3,
   "id": "43d72e05-e7a6-4267-884f-af328920188c",
   "metadata": {},
   "outputs": [],
   "source": [
    "import os\n",
    "os.chdir(r'C:\\Users\\DELL\\Desktop\\UET\\3 semester\\oops demo & library\\pkg')"
   ]
  },
  {
   "cell_type": "code",
   "execution_count": 9,
   "id": "0bbe27d3-753c-4f46-949e-62f494b0a33b",
   "metadata": {},
   "outputs": [],
   "source": [
    "import hr"
   ]
  },
  {
   "cell_type": "code",
   "execution_count": 11,
   "id": "a512fc3b-0dcf-40da-a421-1499bbd482eb",
   "metadata": {},
   "outputs": [],
   "source": [
    "import employees"
   ]
  },
  {
   "cell_type": "code",
   "execution_count": 13,
   "id": "bab6b4a1-3cdd-4e89-a8e0-68899529ed80",
   "metadata": {},
   "outputs": [],
   "source": [
    "from employees import SalaryEmployee"
   ]
  },
  {
   "cell_type": "code",
   "execution_count": 14,
   "id": "344303a1-b96b-4359-9b3a-8d1adf69021c",
   "metadata": {},
   "outputs": [],
   "source": [
    "s=SalaryEmployee(3,\"ali\",40)"
   ]
  },
  {
   "cell_type": "code",
   "execution_count": 15,
   "id": "e86aa7ed-9dd0-45ff-bde4-fcbe0e71ea8f",
   "metadata": {},
   "outputs": [
    {
     "data": {
      "text/plain": [
       "40"
      ]
     },
     "execution_count": 15,
     "metadata": {},
     "output_type": "execute_result"
    }
   ],
   "source": [
    "s.calculate_payroll()"
   ]
  },
  {
   "cell_type": "code",
   "execution_count": 16,
   "id": "6f767b69-be8a-417d-9106-90b74c2edc9c",
   "metadata": {},
   "outputs": [
    {
     "data": {
      "text/plain": [
       "40"
      ]
     },
     "execution_count": 16,
     "metadata": {},
     "output_type": "execute_result"
    }
   ],
   "source": [
    "s.weekly_salary"
   ]
  },
  {
   "cell_type": "code",
   "execution_count": 17,
   "id": "4a1c8446-1e7f-4760-85f3-efbfe4be10fd",
   "metadata": {},
   "outputs": [],
   "source": [
    "from employees import HourlyEmployee"
   ]
  },
  {
   "cell_type": "code",
   "execution_count": 18,
   "id": "4f356ea7-7cc4-4d03-afc5-521547c83ad9",
   "metadata": {},
   "outputs": [],
   "source": [
    "h=HourlyEmployee(3,\"ali\",4,60)"
   ]
  },
  {
   "cell_type": "code",
   "execution_count": 19,
   "id": "29281c9c-2d42-491e-a902-58c9b00d1f31",
   "metadata": {},
   "outputs": [
    {
     "data": {
      "text/plain": [
       "4"
      ]
     },
     "execution_count": 19,
     "metadata": {},
     "output_type": "execute_result"
    }
   ],
   "source": [
    "h.hours_worked"
   ]
  },
  {
   "cell_type": "code",
   "execution_count": 20,
   "id": "9521814f-c7b5-4c79-a786-94a5826e16c5",
   "metadata": {},
   "outputs": [
    {
     "data": {
      "text/plain": [
       "60"
      ]
     },
     "execution_count": 20,
     "metadata": {},
     "output_type": "execute_result"
    }
   ],
   "source": [
    "h.hourly_rate"
   ]
  },
  {
   "cell_type": "code",
   "execution_count": 21,
   "id": "aec75543-bd74-4b51-b14a-b79afc514b98",
   "metadata": {},
   "outputs": [
    {
     "data": {
      "text/plain": [
       "240"
      ]
     },
     "execution_count": 21,
     "metadata": {},
     "output_type": "execute_result"
    }
   ],
   "source": [
    "h.calculate_payroll()"
   ]
  },
  {
   "cell_type": "code",
   "execution_count": 22,
   "id": "c36399dc-3a8b-432c-90dd-97c3bb9cb900",
   "metadata": {},
   "outputs": [],
   "source": [
    "from employees import CommissionEmployee"
   ]
  },
  {
   "cell_type": "code",
   "execution_count": 23,
   "id": "196f2cdb-1f98-4cd3-96dc-18444b880354",
   "metadata": {},
   "outputs": [],
   "source": [
    "c=CommissionEmployee(4,\"ali\",60,5)"
   ]
  },
  {
   "cell_type": "code",
   "execution_count": 24,
   "id": "a565c7b9-6513-4cd1-bd82-af3cea24b3d3",
   "metadata": {},
   "outputs": [
    {
     "data": {
      "text/plain": [
       "5"
      ]
     },
     "execution_count": 24,
     "metadata": {},
     "output_type": "execute_result"
    }
   ],
   "source": [
    "c.commission"
   ]
  },
  {
   "cell_type": "code",
   "execution_count": 25,
   "id": "ebdd6bcf-dfa9-44b9-bc4f-432043c0db83",
   "metadata": {},
   "outputs": [
    {
     "data": {
      "text/plain": [
       "65"
      ]
     },
     "execution_count": 25,
     "metadata": {},
     "output_type": "execute_result"
    }
   ],
   "source": [
    "c.calculate_payroll()"
   ]
  },
  {
   "cell_type": "code",
   "execution_count": 26,
   "id": "659f8b44-e6ac-404e-a4c5-778515f844ac",
   "metadata": {},
   "outputs": [],
   "source": [
    "from employees import Manager"
   ]
  },
  {
   "cell_type": "code",
   "execution_count": 27,
   "id": "83f76854-15d0-4d90-b22d-027f39300764",
   "metadata": {},
   "outputs": [],
   "source": [
    "m=Manager(3,\"ali\",40)"
   ]
  },
  {
   "cell_type": "code",
   "execution_count": 61,
   "id": "d5137dde-e83b-4a5b-9308-687591bd9f62",
   "metadata": {},
   "outputs": [
    {
     "name": "stdout",
     "output_type": "stream",
     "text": [
      "ali screams and yells for 8 hours.\n"
     ]
    }
   ],
   "source": [
    "m.work(8)"
   ]
  },
  {
   "cell_type": "code",
   "execution_count": null,
   "id": "07b8f5bf-b866-41ea-9e1e-176b6213adaa",
   "metadata": {},
   "outputs": [],
   "source": []
  }
 ],
 "metadata": {
  "kernelspec": {
   "display_name": "Python 3 (ipykernel)",
   "language": "python",
   "name": "python3"
  },
  "language_info": {
   "codemirror_mode": {
    "name": "ipython",
    "version": 3
   },
   "file_extension": ".py",
   "mimetype": "text/x-python",
   "name": "python",
   "nbconvert_exporter": "python",
   "pygments_lexer": "ipython3",
   "version": "3.12.7"
  }
 },
 "nbformat": 4,
 "nbformat_minor": 5
}
